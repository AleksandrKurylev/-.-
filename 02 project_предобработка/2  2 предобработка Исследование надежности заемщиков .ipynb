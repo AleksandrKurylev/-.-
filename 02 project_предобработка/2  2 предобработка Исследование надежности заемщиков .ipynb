{
 "cells": [
  {
   "cell_type": "markdown",
   "id": "ca9c570f",
   "metadata": {
    "deletable": false,
    "editable": false,
    "id": "c81daeeb"
   },
   "source": [
    "# Исследование надежности заемщиков\n"
   ]
  },
  {
   "cell_type": "markdown",
   "id": "fc9cd49a",
   "metadata": {
    "deletable": false,
    "editable": false,
    "id": "827c20bf"
   },
   "source": [
    "Во второй части проекта вы выполните шаги 3 и 4. Их вручную проверит ревьюер.\n",
    "Чтобы вам не пришлось писать код заново для шагов 1 и 2, мы добавили авторские решения в ячейки с кодом. \n",
    "\n"
   ]
  },
  {
   "cell_type": "markdown",
   "id": "92460864",
   "metadata": {
    "deletable": false,
    "editable": false,
    "id": "744d7639"
   },
   "source": [
    "## Откройте таблицу и изучите общую информацию о данных"
   ]
  },
  {
   "cell_type": "markdown",
   "id": "7cf22390",
   "metadata": {
    "deletable": false,
    "editable": false,
    "id": "e7a14c31"
   },
   "source": [
    "**Задание 1. Импортируйте библиотеку pandas. Считайте данные из csv-файла в датафрейм и сохраните в переменную `data`. Путь к файлу:**\n",
    "\n",
    "`/datasets/data.csv`"
   ]
  },
  {
   "cell_type": "code",
   "execution_count": 1,
   "id": "912f67ef",
   "metadata": {
    "deletable": false,
    "id": "7bcf75c9"
   },
   "outputs": [],
   "source": [
    "import pandas as pd\n",
    "\n",
    "try:\n",
    "    data = pd.read_csv('/datasets/data.csv')\n",
    "except:\n",
    "    data = pd.read_csv('https://code.s3.yandex.net/datasets/data.csv')"
   ]
  },
  {
   "cell_type": "markdown",
   "id": "7f5b1b53",
   "metadata": {
    "deletable": false,
    "editable": false,
    "id": "b8038fe3"
   },
   "source": [
    "**Задание 2. Выведите первые 20 строчек датафрейма `data` на экран.**"
   ]
  },
  {
   "cell_type": "code",
   "execution_count": 2,
   "id": "b41632f4",
   "metadata": {
    "deletable": false,
    "id": "2a7cab99",
    "outputId": "1a8f3ef2-d323-4ec2-ddf7-89670b5944c4"
   },
   "outputs": [
    {
     "data": {
      "text/html": [
       "<div>\n",
       "<style scoped>\n",
       "    .dataframe tbody tr th:only-of-type {\n",
       "        vertical-align: middle;\n",
       "    }\n",
       "\n",
       "    .dataframe tbody tr th {\n",
       "        vertical-align: top;\n",
       "    }\n",
       "\n",
       "    .dataframe thead th {\n",
       "        text-align: right;\n",
       "    }\n",
       "</style>\n",
       "<table border=\"1\" class=\"dataframe\">\n",
       "  <thead>\n",
       "    <tr style=\"text-align: right;\">\n",
       "      <th></th>\n",
       "      <th>children</th>\n",
       "      <th>days_employed</th>\n",
       "      <th>dob_years</th>\n",
       "      <th>education</th>\n",
       "      <th>education_id</th>\n",
       "      <th>family_status</th>\n",
       "      <th>family_status_id</th>\n",
       "      <th>gender</th>\n",
       "      <th>income_type</th>\n",
       "      <th>debt</th>\n",
       "      <th>total_income</th>\n",
       "      <th>purpose</th>\n",
       "    </tr>\n",
       "  </thead>\n",
       "  <tbody>\n",
       "    <tr>\n",
       "      <th>0</th>\n",
       "      <td>1</td>\n",
       "      <td>-8437.673028</td>\n",
       "      <td>42</td>\n",
       "      <td>высшее</td>\n",
       "      <td>0</td>\n",
       "      <td>женат / замужем</td>\n",
       "      <td>0</td>\n",
       "      <td>F</td>\n",
       "      <td>сотрудник</td>\n",
       "      <td>0</td>\n",
       "      <td>253875.639453</td>\n",
       "      <td>покупка жилья</td>\n",
       "    </tr>\n",
       "    <tr>\n",
       "      <th>1</th>\n",
       "      <td>1</td>\n",
       "      <td>-4024.803754</td>\n",
       "      <td>36</td>\n",
       "      <td>среднее</td>\n",
       "      <td>1</td>\n",
       "      <td>женат / замужем</td>\n",
       "      <td>0</td>\n",
       "      <td>F</td>\n",
       "      <td>сотрудник</td>\n",
       "      <td>0</td>\n",
       "      <td>112080.014102</td>\n",
       "      <td>приобретение автомобиля</td>\n",
       "    </tr>\n",
       "    <tr>\n",
       "      <th>2</th>\n",
       "      <td>0</td>\n",
       "      <td>-5623.422610</td>\n",
       "      <td>33</td>\n",
       "      <td>Среднее</td>\n",
       "      <td>1</td>\n",
       "      <td>женат / замужем</td>\n",
       "      <td>0</td>\n",
       "      <td>M</td>\n",
       "      <td>сотрудник</td>\n",
       "      <td>0</td>\n",
       "      <td>145885.952297</td>\n",
       "      <td>покупка жилья</td>\n",
       "    </tr>\n",
       "    <tr>\n",
       "      <th>3</th>\n",
       "      <td>3</td>\n",
       "      <td>-4124.747207</td>\n",
       "      <td>32</td>\n",
       "      <td>среднее</td>\n",
       "      <td>1</td>\n",
       "      <td>женат / замужем</td>\n",
       "      <td>0</td>\n",
       "      <td>M</td>\n",
       "      <td>сотрудник</td>\n",
       "      <td>0</td>\n",
       "      <td>267628.550329</td>\n",
       "      <td>дополнительное образование</td>\n",
       "    </tr>\n",
       "    <tr>\n",
       "      <th>4</th>\n",
       "      <td>0</td>\n",
       "      <td>340266.072047</td>\n",
       "      <td>53</td>\n",
       "      <td>среднее</td>\n",
       "      <td>1</td>\n",
       "      <td>гражданский брак</td>\n",
       "      <td>1</td>\n",
       "      <td>F</td>\n",
       "      <td>пенсионер</td>\n",
       "      <td>0</td>\n",
       "      <td>158616.077870</td>\n",
       "      <td>сыграть свадьбу</td>\n",
       "    </tr>\n",
       "    <tr>\n",
       "      <th>5</th>\n",
       "      <td>0</td>\n",
       "      <td>-926.185831</td>\n",
       "      <td>27</td>\n",
       "      <td>высшее</td>\n",
       "      <td>0</td>\n",
       "      <td>гражданский брак</td>\n",
       "      <td>1</td>\n",
       "      <td>M</td>\n",
       "      <td>компаньон</td>\n",
       "      <td>0</td>\n",
       "      <td>255763.565419</td>\n",
       "      <td>покупка жилья</td>\n",
       "    </tr>\n",
       "    <tr>\n",
       "      <th>6</th>\n",
       "      <td>0</td>\n",
       "      <td>-2879.202052</td>\n",
       "      <td>43</td>\n",
       "      <td>высшее</td>\n",
       "      <td>0</td>\n",
       "      <td>женат / замужем</td>\n",
       "      <td>0</td>\n",
       "      <td>F</td>\n",
       "      <td>компаньон</td>\n",
       "      <td>0</td>\n",
       "      <td>240525.971920</td>\n",
       "      <td>операции с жильем</td>\n",
       "    </tr>\n",
       "    <tr>\n",
       "      <th>7</th>\n",
       "      <td>0</td>\n",
       "      <td>-152.779569</td>\n",
       "      <td>50</td>\n",
       "      <td>СРЕДНЕЕ</td>\n",
       "      <td>1</td>\n",
       "      <td>женат / замужем</td>\n",
       "      <td>0</td>\n",
       "      <td>M</td>\n",
       "      <td>сотрудник</td>\n",
       "      <td>0</td>\n",
       "      <td>135823.934197</td>\n",
       "      <td>образование</td>\n",
       "    </tr>\n",
       "    <tr>\n",
       "      <th>8</th>\n",
       "      <td>2</td>\n",
       "      <td>-6929.865299</td>\n",
       "      <td>35</td>\n",
       "      <td>ВЫСШЕЕ</td>\n",
       "      <td>0</td>\n",
       "      <td>гражданский брак</td>\n",
       "      <td>1</td>\n",
       "      <td>F</td>\n",
       "      <td>сотрудник</td>\n",
       "      <td>0</td>\n",
       "      <td>95856.832424</td>\n",
       "      <td>на проведение свадьбы</td>\n",
       "    </tr>\n",
       "    <tr>\n",
       "      <th>9</th>\n",
       "      <td>0</td>\n",
       "      <td>-2188.756445</td>\n",
       "      <td>41</td>\n",
       "      <td>среднее</td>\n",
       "      <td>1</td>\n",
       "      <td>женат / замужем</td>\n",
       "      <td>0</td>\n",
       "      <td>M</td>\n",
       "      <td>сотрудник</td>\n",
       "      <td>0</td>\n",
       "      <td>144425.938277</td>\n",
       "      <td>покупка жилья для семьи</td>\n",
       "    </tr>\n",
       "    <tr>\n",
       "      <th>10</th>\n",
       "      <td>2</td>\n",
       "      <td>-4171.483647</td>\n",
       "      <td>36</td>\n",
       "      <td>высшее</td>\n",
       "      <td>0</td>\n",
       "      <td>женат / замужем</td>\n",
       "      <td>0</td>\n",
       "      <td>M</td>\n",
       "      <td>компаньон</td>\n",
       "      <td>0</td>\n",
       "      <td>113943.491460</td>\n",
       "      <td>покупка недвижимости</td>\n",
       "    </tr>\n",
       "    <tr>\n",
       "      <th>11</th>\n",
       "      <td>0</td>\n",
       "      <td>-792.701887</td>\n",
       "      <td>40</td>\n",
       "      <td>среднее</td>\n",
       "      <td>1</td>\n",
       "      <td>женат / замужем</td>\n",
       "      <td>0</td>\n",
       "      <td>F</td>\n",
       "      <td>сотрудник</td>\n",
       "      <td>0</td>\n",
       "      <td>77069.234271</td>\n",
       "      <td>покупка коммерческой недвижимости</td>\n",
       "    </tr>\n",
       "    <tr>\n",
       "      <th>12</th>\n",
       "      <td>0</td>\n",
       "      <td>NaN</td>\n",
       "      <td>65</td>\n",
       "      <td>среднее</td>\n",
       "      <td>1</td>\n",
       "      <td>гражданский брак</td>\n",
       "      <td>1</td>\n",
       "      <td>M</td>\n",
       "      <td>пенсионер</td>\n",
       "      <td>0</td>\n",
       "      <td>NaN</td>\n",
       "      <td>сыграть свадьбу</td>\n",
       "    </tr>\n",
       "    <tr>\n",
       "      <th>13</th>\n",
       "      <td>0</td>\n",
       "      <td>-1846.641941</td>\n",
       "      <td>54</td>\n",
       "      <td>неоконченное высшее</td>\n",
       "      <td>2</td>\n",
       "      <td>женат / замужем</td>\n",
       "      <td>0</td>\n",
       "      <td>F</td>\n",
       "      <td>сотрудник</td>\n",
       "      <td>0</td>\n",
       "      <td>130458.228857</td>\n",
       "      <td>приобретение автомобиля</td>\n",
       "    </tr>\n",
       "    <tr>\n",
       "      <th>14</th>\n",
       "      <td>0</td>\n",
       "      <td>-1844.956182</td>\n",
       "      <td>56</td>\n",
       "      <td>высшее</td>\n",
       "      <td>0</td>\n",
       "      <td>гражданский брак</td>\n",
       "      <td>1</td>\n",
       "      <td>F</td>\n",
       "      <td>компаньон</td>\n",
       "      <td>1</td>\n",
       "      <td>165127.911772</td>\n",
       "      <td>покупка жилой недвижимости</td>\n",
       "    </tr>\n",
       "    <tr>\n",
       "      <th>15</th>\n",
       "      <td>1</td>\n",
       "      <td>-972.364419</td>\n",
       "      <td>26</td>\n",
       "      <td>среднее</td>\n",
       "      <td>1</td>\n",
       "      <td>женат / замужем</td>\n",
       "      <td>0</td>\n",
       "      <td>F</td>\n",
       "      <td>сотрудник</td>\n",
       "      <td>0</td>\n",
       "      <td>116820.904450</td>\n",
       "      <td>строительство собственной недвижимости</td>\n",
       "    </tr>\n",
       "    <tr>\n",
       "      <th>16</th>\n",
       "      <td>0</td>\n",
       "      <td>-1719.934226</td>\n",
       "      <td>35</td>\n",
       "      <td>среднее</td>\n",
       "      <td>1</td>\n",
       "      <td>женат / замужем</td>\n",
       "      <td>0</td>\n",
       "      <td>F</td>\n",
       "      <td>сотрудник</td>\n",
       "      <td>0</td>\n",
       "      <td>289202.704229</td>\n",
       "      <td>недвижимость</td>\n",
       "    </tr>\n",
       "    <tr>\n",
       "      <th>17</th>\n",
       "      <td>0</td>\n",
       "      <td>-2369.999720</td>\n",
       "      <td>33</td>\n",
       "      <td>высшее</td>\n",
       "      <td>0</td>\n",
       "      <td>гражданский брак</td>\n",
       "      <td>1</td>\n",
       "      <td>M</td>\n",
       "      <td>сотрудник</td>\n",
       "      <td>0</td>\n",
       "      <td>90410.586745</td>\n",
       "      <td>строительство недвижимости</td>\n",
       "    </tr>\n",
       "    <tr>\n",
       "      <th>18</th>\n",
       "      <td>0</td>\n",
       "      <td>400281.136913</td>\n",
       "      <td>53</td>\n",
       "      <td>среднее</td>\n",
       "      <td>1</td>\n",
       "      <td>вдовец / вдова</td>\n",
       "      <td>2</td>\n",
       "      <td>F</td>\n",
       "      <td>пенсионер</td>\n",
       "      <td>0</td>\n",
       "      <td>56823.777243</td>\n",
       "      <td>на покупку подержанного автомобиля</td>\n",
       "    </tr>\n",
       "    <tr>\n",
       "      <th>19</th>\n",
       "      <td>0</td>\n",
       "      <td>-10038.818549</td>\n",
       "      <td>48</td>\n",
       "      <td>СРЕДНЕЕ</td>\n",
       "      <td>1</td>\n",
       "      <td>в разводе</td>\n",
       "      <td>3</td>\n",
       "      <td>F</td>\n",
       "      <td>сотрудник</td>\n",
       "      <td>0</td>\n",
       "      <td>242831.107982</td>\n",
       "      <td>на покупку своего автомобиля</td>\n",
       "    </tr>\n",
       "  </tbody>\n",
       "</table>\n",
       "</div>"
      ],
      "text/plain": [
       "    children  days_employed  dob_years            education  education_id  \\\n",
       "0          1   -8437.673028         42               высшее             0   \n",
       "1          1   -4024.803754         36              среднее             1   \n",
       "2          0   -5623.422610         33              Среднее             1   \n",
       "3          3   -4124.747207         32              среднее             1   \n",
       "4          0  340266.072047         53              среднее             1   \n",
       "5          0    -926.185831         27               высшее             0   \n",
       "6          0   -2879.202052         43               высшее             0   \n",
       "7          0    -152.779569         50              СРЕДНЕЕ             1   \n",
       "8          2   -6929.865299         35               ВЫСШЕЕ             0   \n",
       "9          0   -2188.756445         41              среднее             1   \n",
       "10         2   -4171.483647         36               высшее             0   \n",
       "11         0    -792.701887         40              среднее             1   \n",
       "12         0            NaN         65              среднее             1   \n",
       "13         0   -1846.641941         54  неоконченное высшее             2   \n",
       "14         0   -1844.956182         56               высшее             0   \n",
       "15         1    -972.364419         26              среднее             1   \n",
       "16         0   -1719.934226         35              среднее             1   \n",
       "17         0   -2369.999720         33               высшее             0   \n",
       "18         0  400281.136913         53              среднее             1   \n",
       "19         0  -10038.818549         48              СРЕДНЕЕ             1   \n",
       "\n",
       "       family_status  family_status_id gender income_type  debt  \\\n",
       "0    женат / замужем                 0      F   сотрудник     0   \n",
       "1    женат / замужем                 0      F   сотрудник     0   \n",
       "2    женат / замужем                 0      M   сотрудник     0   \n",
       "3    женат / замужем                 0      M   сотрудник     0   \n",
       "4   гражданский брак                 1      F   пенсионер     0   \n",
       "5   гражданский брак                 1      M   компаньон     0   \n",
       "6    женат / замужем                 0      F   компаньон     0   \n",
       "7    женат / замужем                 0      M   сотрудник     0   \n",
       "8   гражданский брак                 1      F   сотрудник     0   \n",
       "9    женат / замужем                 0      M   сотрудник     0   \n",
       "10   женат / замужем                 0      M   компаньон     0   \n",
       "11   женат / замужем                 0      F   сотрудник     0   \n",
       "12  гражданский брак                 1      M   пенсионер     0   \n",
       "13   женат / замужем                 0      F   сотрудник     0   \n",
       "14  гражданский брак                 1      F   компаньон     1   \n",
       "15   женат / замужем                 0      F   сотрудник     0   \n",
       "16   женат / замужем                 0      F   сотрудник     0   \n",
       "17  гражданский брак                 1      M   сотрудник     0   \n",
       "18    вдовец / вдова                 2      F   пенсионер     0   \n",
       "19         в разводе                 3      F   сотрудник     0   \n",
       "\n",
       "     total_income                                 purpose  \n",
       "0   253875.639453                           покупка жилья  \n",
       "1   112080.014102                 приобретение автомобиля  \n",
       "2   145885.952297                           покупка жилья  \n",
       "3   267628.550329              дополнительное образование  \n",
       "4   158616.077870                         сыграть свадьбу  \n",
       "5   255763.565419                           покупка жилья  \n",
       "6   240525.971920                       операции с жильем  \n",
       "7   135823.934197                             образование  \n",
       "8    95856.832424                   на проведение свадьбы  \n",
       "9   144425.938277                 покупка жилья для семьи  \n",
       "10  113943.491460                    покупка недвижимости  \n",
       "11   77069.234271       покупка коммерческой недвижимости  \n",
       "12            NaN                         сыграть свадьбу  \n",
       "13  130458.228857                 приобретение автомобиля  \n",
       "14  165127.911772              покупка жилой недвижимости  \n",
       "15  116820.904450  строительство собственной недвижимости  \n",
       "16  289202.704229                            недвижимость  \n",
       "17   90410.586745              строительство недвижимости  \n",
       "18   56823.777243      на покупку подержанного автомобиля  \n",
       "19  242831.107982            на покупку своего автомобиля  "
      ]
     },
     "execution_count": 2,
     "metadata": {},
     "output_type": "execute_result"
    }
   ],
   "source": [
    "data.head(20)"
   ]
  },
  {
   "cell_type": "markdown",
   "id": "de47ccb4",
   "metadata": {
    "deletable": false,
    "editable": false,
    "id": "1c12e233"
   },
   "source": [
    "**Задание 3. Выведите основную информацию о датафрейме с помощью метода `info()`.**"
   ]
  },
  {
   "cell_type": "code",
   "execution_count": 3,
   "id": "9e936f4c",
   "metadata": {
    "deletable": false,
    "id": "2b757bca",
    "outputId": "15376089-8dad-46c9-b520-c05248d43158"
   },
   "outputs": [
    {
     "name": "stdout",
     "output_type": "stream",
     "text": [
      "<class 'pandas.core.frame.DataFrame'>\n",
      "RangeIndex: 21525 entries, 0 to 21524\n",
      "Data columns (total 12 columns):\n",
      " #   Column            Non-Null Count  Dtype  \n",
      "---  ------            --------------  -----  \n",
      " 0   children          21525 non-null  int64  \n",
      " 1   days_employed     19351 non-null  float64\n",
      " 2   dob_years         21525 non-null  int64  \n",
      " 3   education         21525 non-null  object \n",
      " 4   education_id      21525 non-null  int64  \n",
      " 5   family_status     21525 non-null  object \n",
      " 6   family_status_id  21525 non-null  int64  \n",
      " 7   gender            21525 non-null  object \n",
      " 8   income_type       21525 non-null  object \n",
      " 9   debt              21525 non-null  int64  \n",
      " 10  total_income      19351 non-null  float64\n",
      " 11  purpose           21525 non-null  object \n",
      "dtypes: float64(2), int64(5), object(5)\n",
      "memory usage: 2.0+ MB\n"
     ]
    }
   ],
   "source": [
    "data.info()"
   ]
  },
  {
   "cell_type": "markdown",
   "id": "b799a40f",
   "metadata": {
    "deletable": false,
    "editable": false,
    "id": "333ec665"
   },
   "source": [
    "## Предобработка данных"
   ]
  },
  {
   "cell_type": "markdown",
   "id": "9bbf5556",
   "metadata": {
    "deletable": false,
    "editable": false,
    "id": "02d92d53"
   },
   "source": [
    "### Удаление пропусков"
   ]
  },
  {
   "cell_type": "markdown",
   "id": "41739b2d",
   "metadata": {
    "deletable": false,
    "editable": false,
    "id": "cd84967c"
   },
   "source": [
    "**Задание 4. Выведите количество пропущенных значений для каждого столбца. Используйте комбинацию двух методов.**"
   ]
  },
  {
   "cell_type": "code",
   "execution_count": 4,
   "id": "416914af",
   "metadata": {
    "deletable": false,
    "id": "7f9b2309",
    "outputId": "81f4d817-781c-465c-ed15-91ce4446810d"
   },
   "outputs": [
    {
     "data": {
      "text/plain": [
       "children               0\n",
       "days_employed       2174\n",
       "dob_years              0\n",
       "education              0\n",
       "education_id           0\n",
       "family_status          0\n",
       "family_status_id       0\n",
       "gender                 0\n",
       "income_type            0\n",
       "debt                   0\n",
       "total_income        2174\n",
       "purpose                0\n",
       "dtype: int64"
      ]
     },
     "execution_count": 4,
     "metadata": {},
     "output_type": "execute_result"
    }
   ],
   "source": [
    "data.isna().sum()"
   ]
  },
  {
   "cell_type": "markdown",
   "id": "233a60c0",
   "metadata": {
    "deletable": false,
    "editable": false,
    "id": "db86e27b"
   },
   "source": [
    "**Задание 5. В двух столбцах есть пропущенные значения. Один из них — `days_employed`. Пропуски в этом столбце вы обработаете на следующем этапе. Другой столбец с пропущенными значениями — `total_income` — хранит данные о доходах. На сумму дохода сильнее всего влияет тип занятости, поэтому заполнить пропуски в этом столбце нужно медианным значением по каждому типу из столбца `income_type`. Например, у человека с типом занятости `сотрудник` пропуск в столбце `total_income` должен быть заполнен медианным доходом среди всех записей с тем же типом.**"
   ]
  },
  {
   "cell_type": "code",
   "execution_count": 5,
   "id": "ee21fbba",
   "metadata": {
    "deletable": false,
    "id": "42006a93"
   },
   "outputs": [],
   "source": [
    "for t in data['income_type'].unique():\n",
    "    data.loc[(data['income_type'] == t) & (data['total_income'].isna()), 'total_income'] = \\\n",
    "    data.loc[(data['income_type'] == t), 'total_income'].median()"
   ]
  },
  {
   "cell_type": "markdown",
   "id": "e0e719a7",
   "metadata": {
    "deletable": false,
    "editable": false,
    "id": "89da5ece"
   },
   "source": [
    "### Обработка аномальных значений"
   ]
  },
  {
   "cell_type": "markdown",
   "id": "9e603c6a",
   "metadata": {
    "deletable": false,
    "editable": false,
    "id": "57964554"
   },
   "source": [
    "**Задание 6. В данных могут встречаться артефакты (аномалии) — значения, которые не отражают действительность и появились по какой-то ошибке. таким артефактом будет отрицательное количество дней трудового стажа в столбце `days_employed`. Для реальных данных это нормально. Обработайте значения в этом столбце: замените все отрицательные значения положительными с помощью метода `abs()`.**"
   ]
  },
  {
   "cell_type": "code",
   "execution_count": 6,
   "id": "4d282b93",
   "metadata": {
    "deletable": false,
    "id": "f6f055bf"
   },
   "outputs": [],
   "source": [
    "data['days_employed'] = data['days_employed'].abs()"
   ]
  },
  {
   "cell_type": "markdown",
   "id": "70cd24e1",
   "metadata": {
    "deletable": false,
    "editable": false,
    "id": "6107dd2f"
   },
   "source": [
    "**Задание 7. Для каждого типа занятости выведите медианное значение трудового стажа `days_employed` в днях.**"
   ]
  },
  {
   "cell_type": "code",
   "execution_count": 7,
   "id": "79c879b1",
   "metadata": {
    "deletable": false,
    "id": "85a5faf6",
    "outputId": "801ef80e-522b-4668-f34e-565af7432bcf"
   },
   "outputs": [
    {
     "data": {
      "text/plain": [
       "income_type\n",
       "безработный        366413.652744\n",
       "в декрете            3296.759962\n",
       "госслужащий          2689.368353\n",
       "компаньон            1547.382223\n",
       "пенсионер          365213.306266\n",
       "предприниматель       520.848083\n",
       "сотрудник            1574.202821\n",
       "студент               578.751554\n",
       "Name: days_employed, dtype: float64"
      ]
     },
     "execution_count": 7,
     "metadata": {},
     "output_type": "execute_result"
    }
   ],
   "source": [
    "data.groupby('income_type')['days_employed'].agg('median')"
   ]
  },
  {
   "cell_type": "markdown",
   "id": "49be42d4",
   "metadata": {
    "deletable": false,
    "editable": false,
    "id": "38d1a030"
   },
   "source": [
    "У двух типов (безработные и пенсионеры) получатся аномально большие значения. Исправить такие значения сложно, поэтому оставьте их как есть. Тем более этот столбец не понадобится вам для исследования."
   ]
  },
  {
   "cell_type": "markdown",
   "id": "a2caa656",
   "metadata": {
    "deletable": false,
    "editable": false,
    "id": "d8a9f147"
   },
   "source": [
    "**Задание 8. Выведите перечень уникальных значений столбца `children`.**"
   ]
  },
  {
   "cell_type": "code",
   "execution_count": 8,
   "id": "b243367e",
   "metadata": {
    "deletable": false,
    "id": "ef5056eb",
    "outputId": "6975b15c-7f95-4697-d16d-a0c79b657b03"
   },
   "outputs": [
    {
     "data": {
      "text/plain": [
       "array([ 1,  0,  3,  2, -1,  4, 20,  5])"
      ]
     },
     "execution_count": 8,
     "metadata": {},
     "output_type": "execute_result"
    }
   ],
   "source": [
    "data['children'].unique()"
   ]
  },
  {
   "cell_type": "markdown",
   "id": "97032b07",
   "metadata": {
    "deletable": false,
    "editable": false,
    "id": "40b9ebf2"
   },
   "source": [
    "**Задание 9. В столбце `children` есть два аномальных значения. Удалите строки, в которых встречаются такие аномальные значения из датафрейма `data`.**"
   ]
  },
  {
   "cell_type": "code",
   "execution_count": 9,
   "id": "f334ceb2",
   "metadata": {
    "deletable": false,
    "id": "3ff9801d"
   },
   "outputs": [],
   "source": [
    "data = data[(data['children'] != -1) & (data['children'] != 20)]"
   ]
  },
  {
   "cell_type": "markdown",
   "id": "1bed9a06",
   "metadata": {
    "deletable": false,
    "editable": false,
    "id": "bbc4d0ce"
   },
   "source": [
    "**Задание 10. Ещё раз выведите перечень уникальных значений столбца `children`, чтобы убедиться, что артефакты удалены.**"
   ]
  },
  {
   "cell_type": "code",
   "execution_count": 10,
   "id": "11623400",
   "metadata": {
    "deletable": false,
    "id": "ad4fa8b7",
    "outputId": "b2097101-d49d-44d9-901b-32a65c9463d1"
   },
   "outputs": [
    {
     "data": {
      "text/plain": [
       "array([1, 0, 3, 2, 4, 5])"
      ]
     },
     "execution_count": 10,
     "metadata": {},
     "output_type": "execute_result"
    }
   ],
   "source": [
    "data['children'].unique()"
   ]
  },
  {
   "cell_type": "markdown",
   "id": "69276072",
   "metadata": {
    "deletable": false,
    "editable": false,
    "id": "75440b63"
   },
   "source": [
    "### Удаление пропусков (продолжение)"
   ]
  },
  {
   "cell_type": "markdown",
   "id": "88e7cd90",
   "metadata": {
    "deletable": false,
    "editable": false,
    "id": "f4ea573f"
   },
   "source": [
    "**Задание 11. Заполните пропуски в столбце `days_employed` медианными значениями по каждого типа занятости `income_type`.**"
   ]
  },
  {
   "cell_type": "code",
   "execution_count": 11,
   "id": "5f3779f6",
   "metadata": {
    "deletable": false,
    "id": "af6b1a7e"
   },
   "outputs": [],
   "source": [
    "for t in data['income_type'].unique():\n",
    "    data.loc[(data['income_type'] == t) & (data['days_employed'].isna()), 'days_employed'] = \\\n",
    "    data.loc[(data['income_type'] == t), 'days_employed'].median()"
   ]
  },
  {
   "cell_type": "markdown",
   "id": "6f767e0a",
   "metadata": {
    "deletable": false,
    "editable": false,
    "id": "2753f40d"
   },
   "source": [
    "**Задание 12. Убедитесь, что все пропуски заполнены. Проверьте себя и ещё раз выведите количество пропущенных значений для каждого столбца с помощью двух методов.**"
   ]
  },
  {
   "cell_type": "code",
   "execution_count": 12,
   "id": "013a67e2",
   "metadata": {
    "deletable": false,
    "id": "55f78bc2",
    "outputId": "8da1e4e1-358e-4e87-98c9-f261bce0a7b2"
   },
   "outputs": [
    {
     "data": {
      "text/plain": [
       "children            0\n",
       "days_employed       0\n",
       "dob_years           0\n",
       "education           0\n",
       "education_id        0\n",
       "family_status       0\n",
       "family_status_id    0\n",
       "gender              0\n",
       "income_type         0\n",
       "debt                0\n",
       "total_income        0\n",
       "purpose             0\n",
       "dtype: int64"
      ]
     },
     "execution_count": 12,
     "metadata": {},
     "output_type": "execute_result"
    }
   ],
   "source": [
    "data.isna().sum()"
   ]
  },
  {
   "cell_type": "markdown",
   "id": "36bfe8b7",
   "metadata": {
    "deletable": false,
    "editable": false,
    "id": "ddc81e43"
   },
   "source": [
    "### Изменение типов данных"
   ]
  },
  {
   "cell_type": "markdown",
   "id": "ceefbbf4",
   "metadata": {
    "deletable": false,
    "editable": false,
    "id": "42d19d24"
   },
   "source": [
    "**Задание 13. Замените вещественный тип данных в столбце `total_income` на целочисленный с помощью метода `astype()`.**"
   ]
  },
  {
   "cell_type": "code",
   "execution_count": 13,
   "id": "1fc1f539",
   "metadata": {
    "deletable": false,
    "id": "920b65ad"
   },
   "outputs": [],
   "source": [
    "data['total_income'] = data['total_income'].astype(int)"
   ]
  },
  {
   "cell_type": "markdown",
   "id": "477423e6",
   "metadata": {
    "deletable": false,
    "editable": false,
    "id": "80c420ba"
   },
   "source": [
    "### Обработка дубликатов"
   ]
  },
  {
   "cell_type": "markdown",
   "id": "992251f3",
   "metadata": {
    "deletable": false,
    "editable": false
   },
   "source": [
    "**Задание 14. Обработайте неявные дубликаты в столбце `education`. В этом столбце есть одни и те же значения, но записанные по-разному: с использованием заглавных и строчных букв. Приведите их к нижнему регистру. Проверьте остальные столбцы.**"
   ]
  },
  {
   "cell_type": "code",
   "execution_count": 14,
   "id": "3745b031",
   "metadata": {
    "deletable": false
   },
   "outputs": [],
   "source": [
    "data['education'] = data['education'].str.lower()"
   ]
  },
  {
   "cell_type": "markdown",
   "id": "786da170",
   "metadata": {
    "deletable": false,
    "editable": false,
    "id": "dc587695"
   },
   "source": [
    "**Задание 15. Выведите на экран количество строк-дубликатов в данных. Если такие строки присутствуют, удалите их.**"
   ]
  },
  {
   "cell_type": "code",
   "execution_count": 15,
   "id": "909f2d6f",
   "metadata": {
    "deletable": false,
    "id": "3ee445e4",
    "outputId": "9684deba-1934-42d1-99e1-cda61740f822"
   },
   "outputs": [
    {
     "data": {
      "text/plain": [
       "71"
      ]
     },
     "execution_count": 15,
     "metadata": {},
     "output_type": "execute_result"
    }
   ],
   "source": [
    "data.duplicated().sum()"
   ]
  },
  {
   "cell_type": "code",
   "execution_count": 16,
   "id": "be05a57b",
   "metadata": {
    "deletable": false,
    "id": "8575fe05"
   },
   "outputs": [],
   "source": [
    "data = data.drop_duplicates()"
   ]
  },
  {
   "cell_type": "markdown",
   "id": "69f2b2fd",
   "metadata": {
    "deletable": false,
    "editable": false,
    "id": "9904cf55"
   },
   "source": [
    "### Категоризация данных"
   ]
  },
  {
   "cell_type": "markdown",
   "id": "92f9a5c3",
   "metadata": {
    "deletable": false,
    "editable": false,
    "id": "72fcc8a2"
   },
   "source": [
    "**Задание 16. На основании диапазонов, указанных ниже, создайте в датафрейме `data` столбец `total_income_category` с категориями:**\n",
    "\n",
    "- 0–30000 — `'E'`;\n",
    "- 30001–50000 — `'D'`;\n",
    "- 50001–200000 — `'C'`;\n",
    "- 200001–1000000 — `'B'`;\n",
    "- 1000001 и выше — `'A'`.\n",
    "\n",
    "\n",
    "**Например, кредитополучателю с доходом 25000 нужно назначить категорию `'E'`, а клиенту, получающему 235000, — `'B'`. Используйте собственную функцию с именем `categorize_income()` и метод `apply()`.**"
   ]
  },
  {
   "cell_type": "code",
   "execution_count": 17,
   "id": "25e3ef4c",
   "metadata": {
    "deletable": false,
    "id": "e1771346"
   },
   "outputs": [],
   "source": [
    "def categorize_income(income):\n",
    "    try:\n",
    "        if 0 <= income <= 30000:\n",
    "            return 'E'\n",
    "        elif 30001 <= income <= 50000:\n",
    "            return 'D'\n",
    "        elif 50001 <= income <= 200000:\n",
    "            return 'C'\n",
    "        elif 200001 <= income <= 1000000:\n",
    "            return 'B'\n",
    "        elif income >= 1000001:\n",
    "            return 'A'\n",
    "    except:\n",
    "        pass"
   ]
  },
  {
   "cell_type": "code",
   "execution_count": 18,
   "id": "d030185a",
   "metadata": {
    "deletable": false,
    "id": "d5f3586d"
   },
   "outputs": [],
   "source": [
    "data['total_income_category'] = data['total_income'].apply(categorize_income)"
   ]
  },
  {
   "cell_type": "markdown",
   "id": "d76aa1d7",
   "metadata": {
    "deletable": false,
    "editable": false,
    "id": "dde49b5c"
   },
   "source": [
    "**Задание 17. Выведите на экран перечень уникальных целей взятия кредита из столбца `purpose`.**"
   ]
  },
  {
   "cell_type": "code",
   "execution_count": 19,
   "id": "12d49212",
   "metadata": {
    "deletable": false,
    "id": "f67ce9b3",
    "outputId": "673c12d9-7d7e-4ae0-9812-c622c89dd244"
   },
   "outputs": [
    {
     "data": {
      "text/plain": [
       "array(['покупка жилья', 'приобретение автомобиля',\n",
       "       'дополнительное образование', 'сыграть свадьбу',\n",
       "       'операции с жильем', 'образование', 'на проведение свадьбы',\n",
       "       'покупка жилья для семьи', 'покупка недвижимости',\n",
       "       'покупка коммерческой недвижимости', 'покупка жилой недвижимости',\n",
       "       'строительство собственной недвижимости', 'недвижимость',\n",
       "       'строительство недвижимости', 'на покупку подержанного автомобиля',\n",
       "       'на покупку своего автомобиля',\n",
       "       'операции с коммерческой недвижимостью',\n",
       "       'строительство жилой недвижимости', 'жилье',\n",
       "       'операции со своей недвижимостью', 'автомобили',\n",
       "       'заняться образованием', 'сделка с подержанным автомобилем',\n",
       "       'получение образования', 'автомобиль', 'свадьба',\n",
       "       'получение дополнительного образования', 'покупка своего жилья',\n",
       "       'операции с недвижимостью', 'получение высшего образования',\n",
       "       'свой автомобиль', 'сделка с автомобилем',\n",
       "       'профильное образование', 'высшее образование',\n",
       "       'покупка жилья для сдачи', 'на покупку автомобиля', 'ремонт жилью',\n",
       "       'заняться высшим образованием'], dtype=object)"
      ]
     },
     "execution_count": 19,
     "metadata": {},
     "output_type": "execute_result"
    }
   ],
   "source": [
    "data['purpose'].unique()"
   ]
  },
  {
   "cell_type": "markdown",
   "id": "cdd1fecc",
   "metadata": {
    "deletable": false,
    "editable": false,
    "id": "85d0aef0"
   },
   "source": [
    "**Задание 18. Создайте функцию, которая на основании данных из столбца `purpose` сформирует новый столбец `purpose_category`, в который войдут следующие категории:**\n",
    "\n",
    "- `'операции с автомобилем'`,\n",
    "- `'операции с недвижимостью'`,\n",
    "- `'проведение свадьбы'`,\n",
    "- `'получение образования'`.\n",
    "\n",
    "**Например, если в столбце `purpose` находится подстрока `'на покупку автомобиля'`, то в столбце `purpose_category` должна появиться строка `'операции с автомобилем'`.**\n",
    "\n",
    "**Используйте собственную функцию с именем `categorize_purpose()` и метод `apply()`. Изучите данные в столбце `purpose` и определите, какие подстроки помогут вам правильно определить категорию.**"
   ]
  },
  {
   "cell_type": "code",
   "execution_count": 20,
   "id": "540730fb",
   "metadata": {
    "deletable": false,
    "id": "e149fab4"
   },
   "outputs": [],
   "source": [
    "def categorize_purpose(row):\n",
    "    try:\n",
    "        if 'автом' in row:\n",
    "            return 'операции с автомобилем'\n",
    "        elif 'жил' in row or 'недвиж' in row:\n",
    "            return 'операции с недвижимостью'\n",
    "        elif 'свад' in row:\n",
    "            return 'проведение свадьбы'\n",
    "        elif 'образов' in row:\n",
    "            return 'получение образования'\n",
    "    except:\n",
    "        return 'нет категории'"
   ]
  },
  {
   "cell_type": "code",
   "execution_count": 21,
   "id": "8ca52233",
   "metadata": {
    "deletable": false,
    "id": "bf36e69b"
   },
   "outputs": [],
   "source": [
    "data['purpose_category'] = data['purpose'].apply(categorize_purpose)"
   ]
  },
  {
   "cell_type": "markdown",
   "id": "a758b9d4",
   "metadata": {
    "deletable": false,
    "editable": false,
    "id": "09b242bf"
   },
   "source": [
    "### Шаг 3. Исследуйте данные и ответьте на вопросы"
   ]
  },
  {
   "cell_type": "markdown",
   "id": "5a30f8c9",
   "metadata": {
    "deletable": false,
    "editable": false,
    "id": "c5d66278"
   },
   "source": [
    "#### 3.1 Есть ли зависимость между количеством детей и возвратом кредита в срок?"
   ]
  },
  {
   "cell_type": "code",
   "execution_count": 22,
   "id": "762b7a28",
   "metadata": {
    "deletable": false,
    "id": "2cacfc4a"
   },
   "outputs": [
    {
     "data": {
      "text/html": [
       "<div>\n",
       "<style scoped>\n",
       "    .dataframe tbody tr th:only-of-type {\n",
       "        vertical-align: middle;\n",
       "    }\n",
       "\n",
       "    .dataframe tbody tr th {\n",
       "        vertical-align: top;\n",
       "    }\n",
       "\n",
       "    .dataframe thead th {\n",
       "        text-align: right;\n",
       "    }\n",
       "</style>\n",
       "<table border=\"1\" class=\"dataframe\">\n",
       "  <thead>\n",
       "    <tr style=\"text-align: right;\">\n",
       "      <th></th>\n",
       "      <th>children</th>\n",
       "      <th>days_employed</th>\n",
       "      <th>dob_years</th>\n",
       "      <th>education</th>\n",
       "      <th>education_id</th>\n",
       "      <th>family_status</th>\n",
       "      <th>family_status_id</th>\n",
       "      <th>gender</th>\n",
       "      <th>income_type</th>\n",
       "      <th>debt</th>\n",
       "      <th>total_income</th>\n",
       "      <th>purpose</th>\n",
       "      <th>total_income_category</th>\n",
       "      <th>purpose_category</th>\n",
       "    </tr>\n",
       "  </thead>\n",
       "  <tbody>\n",
       "    <tr>\n",
       "      <th>0</th>\n",
       "      <td>1</td>\n",
       "      <td>8437.673028</td>\n",
       "      <td>42</td>\n",
       "      <td>высшее</td>\n",
       "      <td>0</td>\n",
       "      <td>женат / замужем</td>\n",
       "      <td>0</td>\n",
       "      <td>F</td>\n",
       "      <td>сотрудник</td>\n",
       "      <td>0</td>\n",
       "      <td>253875</td>\n",
       "      <td>покупка жилья</td>\n",
       "      <td>B</td>\n",
       "      <td>операции с недвижимостью</td>\n",
       "    </tr>\n",
       "    <tr>\n",
       "      <th>1</th>\n",
       "      <td>1</td>\n",
       "      <td>4024.803754</td>\n",
       "      <td>36</td>\n",
       "      <td>среднее</td>\n",
       "      <td>1</td>\n",
       "      <td>женат / замужем</td>\n",
       "      <td>0</td>\n",
       "      <td>F</td>\n",
       "      <td>сотрудник</td>\n",
       "      <td>0</td>\n",
       "      <td>112080</td>\n",
       "      <td>приобретение автомобиля</td>\n",
       "      <td>C</td>\n",
       "      <td>операции с автомобилем</td>\n",
       "    </tr>\n",
       "    <tr>\n",
       "      <th>2</th>\n",
       "      <td>0</td>\n",
       "      <td>5623.422610</td>\n",
       "      <td>33</td>\n",
       "      <td>среднее</td>\n",
       "      <td>1</td>\n",
       "      <td>женат / замужем</td>\n",
       "      <td>0</td>\n",
       "      <td>M</td>\n",
       "      <td>сотрудник</td>\n",
       "      <td>0</td>\n",
       "      <td>145885</td>\n",
       "      <td>покупка жилья</td>\n",
       "      <td>C</td>\n",
       "      <td>операции с недвижимостью</td>\n",
       "    </tr>\n",
       "    <tr>\n",
       "      <th>3</th>\n",
       "      <td>3</td>\n",
       "      <td>4124.747207</td>\n",
       "      <td>32</td>\n",
       "      <td>среднее</td>\n",
       "      <td>1</td>\n",
       "      <td>женат / замужем</td>\n",
       "      <td>0</td>\n",
       "      <td>M</td>\n",
       "      <td>сотрудник</td>\n",
       "      <td>0</td>\n",
       "      <td>267628</td>\n",
       "      <td>дополнительное образование</td>\n",
       "      <td>B</td>\n",
       "      <td>получение образования</td>\n",
       "    </tr>\n",
       "    <tr>\n",
       "      <th>4</th>\n",
       "      <td>0</td>\n",
       "      <td>340266.072047</td>\n",
       "      <td>53</td>\n",
       "      <td>среднее</td>\n",
       "      <td>1</td>\n",
       "      <td>гражданский брак</td>\n",
       "      <td>1</td>\n",
       "      <td>F</td>\n",
       "      <td>пенсионер</td>\n",
       "      <td>0</td>\n",
       "      <td>158616</td>\n",
       "      <td>сыграть свадьбу</td>\n",
       "      <td>C</td>\n",
       "      <td>проведение свадьбы</td>\n",
       "    </tr>\n",
       "    <tr>\n",
       "      <th>...</th>\n",
       "      <td>...</td>\n",
       "      <td>...</td>\n",
       "      <td>...</td>\n",
       "      <td>...</td>\n",
       "      <td>...</td>\n",
       "      <td>...</td>\n",
       "      <td>...</td>\n",
       "      <td>...</td>\n",
       "      <td>...</td>\n",
       "      <td>...</td>\n",
       "      <td>...</td>\n",
       "      <td>...</td>\n",
       "      <td>...</td>\n",
       "      <td>...</td>\n",
       "    </tr>\n",
       "    <tr>\n",
       "      <th>21520</th>\n",
       "      <td>1</td>\n",
       "      <td>4529.316663</td>\n",
       "      <td>43</td>\n",
       "      <td>среднее</td>\n",
       "      <td>1</td>\n",
       "      <td>гражданский брак</td>\n",
       "      <td>1</td>\n",
       "      <td>F</td>\n",
       "      <td>компаньон</td>\n",
       "      <td>0</td>\n",
       "      <td>224791</td>\n",
       "      <td>операции с жильем</td>\n",
       "      <td>B</td>\n",
       "      <td>операции с недвижимостью</td>\n",
       "    </tr>\n",
       "    <tr>\n",
       "      <th>21521</th>\n",
       "      <td>0</td>\n",
       "      <td>343937.404131</td>\n",
       "      <td>67</td>\n",
       "      <td>среднее</td>\n",
       "      <td>1</td>\n",
       "      <td>женат / замужем</td>\n",
       "      <td>0</td>\n",
       "      <td>F</td>\n",
       "      <td>пенсионер</td>\n",
       "      <td>0</td>\n",
       "      <td>155999</td>\n",
       "      <td>сделка с автомобилем</td>\n",
       "      <td>C</td>\n",
       "      <td>операции с автомобилем</td>\n",
       "    </tr>\n",
       "    <tr>\n",
       "      <th>21522</th>\n",
       "      <td>1</td>\n",
       "      <td>2113.346888</td>\n",
       "      <td>38</td>\n",
       "      <td>среднее</td>\n",
       "      <td>1</td>\n",
       "      <td>гражданский брак</td>\n",
       "      <td>1</td>\n",
       "      <td>M</td>\n",
       "      <td>сотрудник</td>\n",
       "      <td>1</td>\n",
       "      <td>89672</td>\n",
       "      <td>недвижимость</td>\n",
       "      <td>C</td>\n",
       "      <td>операции с недвижимостью</td>\n",
       "    </tr>\n",
       "    <tr>\n",
       "      <th>21523</th>\n",
       "      <td>3</td>\n",
       "      <td>3112.481705</td>\n",
       "      <td>38</td>\n",
       "      <td>среднее</td>\n",
       "      <td>1</td>\n",
       "      <td>женат / замужем</td>\n",
       "      <td>0</td>\n",
       "      <td>M</td>\n",
       "      <td>сотрудник</td>\n",
       "      <td>1</td>\n",
       "      <td>244093</td>\n",
       "      <td>на покупку своего автомобиля</td>\n",
       "      <td>B</td>\n",
       "      <td>операции с автомобилем</td>\n",
       "    </tr>\n",
       "    <tr>\n",
       "      <th>21524</th>\n",
       "      <td>2</td>\n",
       "      <td>1984.507589</td>\n",
       "      <td>40</td>\n",
       "      <td>среднее</td>\n",
       "      <td>1</td>\n",
       "      <td>женат / замужем</td>\n",
       "      <td>0</td>\n",
       "      <td>F</td>\n",
       "      <td>сотрудник</td>\n",
       "      <td>0</td>\n",
       "      <td>82047</td>\n",
       "      <td>на покупку автомобиля</td>\n",
       "      <td>C</td>\n",
       "      <td>операции с автомобилем</td>\n",
       "    </tr>\n",
       "  </tbody>\n",
       "</table>\n",
       "<p>21331 rows × 14 columns</p>\n",
       "</div>"
      ],
      "text/plain": [
       "       children  days_employed  dob_years education  education_id  \\\n",
       "0             1    8437.673028         42    высшее             0   \n",
       "1             1    4024.803754         36   среднее             1   \n",
       "2             0    5623.422610         33   среднее             1   \n",
       "3             3    4124.747207         32   среднее             1   \n",
       "4             0  340266.072047         53   среднее             1   \n",
       "...         ...            ...        ...       ...           ...   \n",
       "21520         1    4529.316663         43   среднее             1   \n",
       "21521         0  343937.404131         67   среднее             1   \n",
       "21522         1    2113.346888         38   среднее             1   \n",
       "21523         3    3112.481705         38   среднее             1   \n",
       "21524         2    1984.507589         40   среднее             1   \n",
       "\n",
       "          family_status  family_status_id gender income_type  debt  \\\n",
       "0       женат / замужем                 0      F   сотрудник     0   \n",
       "1       женат / замужем                 0      F   сотрудник     0   \n",
       "2       женат / замужем                 0      M   сотрудник     0   \n",
       "3       женат / замужем                 0      M   сотрудник     0   \n",
       "4      гражданский брак                 1      F   пенсионер     0   \n",
       "...                 ...               ...    ...         ...   ...   \n",
       "21520  гражданский брак                 1      F   компаньон     0   \n",
       "21521   женат / замужем                 0      F   пенсионер     0   \n",
       "21522  гражданский брак                 1      M   сотрудник     1   \n",
       "21523   женат / замужем                 0      M   сотрудник     1   \n",
       "21524   женат / замужем                 0      F   сотрудник     0   \n",
       "\n",
       "       total_income                       purpose total_income_category  \\\n",
       "0            253875                 покупка жилья                     B   \n",
       "1            112080       приобретение автомобиля                     C   \n",
       "2            145885                 покупка жилья                     C   \n",
       "3            267628    дополнительное образование                     B   \n",
       "4            158616               сыграть свадьбу                     C   \n",
       "...             ...                           ...                   ...   \n",
       "21520        224791             операции с жильем                     B   \n",
       "21521        155999          сделка с автомобилем                     C   \n",
       "21522         89672                  недвижимость                     C   \n",
       "21523        244093  на покупку своего автомобиля                     B   \n",
       "21524         82047         на покупку автомобиля                     C   \n",
       "\n",
       "               purpose_category  \n",
       "0      операции с недвижимостью  \n",
       "1        операции с автомобилем  \n",
       "2      операции с недвижимостью  \n",
       "3         получение образования  \n",
       "4            проведение свадьбы  \n",
       "...                         ...  \n",
       "21520  операции с недвижимостью  \n",
       "21521    операции с автомобилем  \n",
       "21522  операции с недвижимостью  \n",
       "21523    операции с автомобилем  \n",
       "21524    операции с автомобилем  \n",
       "\n",
       "[21331 rows x 14 columns]"
      ]
     },
     "execution_count": 22,
     "metadata": {},
     "output_type": "execute_result"
    }
   ],
   "source": [
    "data"
   ]
  },
  {
   "cell_type": "code",
   "execution_count": 23,
   "id": "b0b48f8c",
   "metadata": {},
   "outputs": [
    {
     "data": {
      "text/html": [
       "<div>\n",
       "<style scoped>\n",
       "    .dataframe tbody tr th:only-of-type {\n",
       "        vertical-align: middle;\n",
       "    }\n",
       "\n",
       "    .dataframe tbody tr th {\n",
       "        vertical-align: top;\n",
       "    }\n",
       "\n",
       "    .dataframe thead th {\n",
       "        text-align: right;\n",
       "    }\n",
       "</style>\n",
       "<table border=\"1\" class=\"dataframe\">\n",
       "  <thead>\n",
       "    <tr style=\"text-align: right;\">\n",
       "      <th></th>\n",
       "      <th>count</th>\n",
       "      <th>mean</th>\n",
       "    </tr>\n",
       "    <tr>\n",
       "      <th>children</th>\n",
       "      <th></th>\n",
       "      <th></th>\n",
       "    </tr>\n",
       "  </thead>\n",
       "  <tbody>\n",
       "    <tr>\n",
       "      <th>5</th>\n",
       "      <td>9</td>\n",
       "      <td>0.000000</td>\n",
       "    </tr>\n",
       "    <tr>\n",
       "      <th>0</th>\n",
       "      <td>14091</td>\n",
       "      <td>0.075438</td>\n",
       "    </tr>\n",
       "    <tr>\n",
       "      <th>3</th>\n",
       "      <td>330</td>\n",
       "      <td>0.081818</td>\n",
       "    </tr>\n",
       "    <tr>\n",
       "      <th>1</th>\n",
       "      <td>4808</td>\n",
       "      <td>0.092346</td>\n",
       "    </tr>\n",
       "    <tr>\n",
       "      <th>2</th>\n",
       "      <td>2052</td>\n",
       "      <td>0.094542</td>\n",
       "    </tr>\n",
       "    <tr>\n",
       "      <th>4</th>\n",
       "      <td>41</td>\n",
       "      <td>0.097561</td>\n",
       "    </tr>\n",
       "  </tbody>\n",
       "</table>\n",
       "</div>"
      ],
      "text/plain": [
       "          count      mean\n",
       "children                 \n",
       "5             9  0.000000\n",
       "0         14091  0.075438\n",
       "3           330  0.081818\n",
       "1          4808  0.092346\n",
       "2          2052  0.094542\n",
       "4            41  0.097561"
      ]
     },
     "execution_count": 23,
     "metadata": {},
     "output_type": "execute_result"
    }
   ],
   "source": [
    "agg_func = {'debt' : ['count', 'mean']}\n",
    "data.groupby(['children']).agg(agg_func)['debt'].sort_values('mean')\n"
   ]
  },
  {
   "cell_type": "markdown",
   "id": "4e688168",
   "metadata": {
    "deletable": false,
    "id": "3a6b99ec"
   },
   "source": [
    "**Вывод:** "
   ]
  },
  {
   "cell_type": "markdown",
   "id": "fabaac05",
   "metadata": {},
   "source": [
    "Гипотеза: \"Есть зависимость между количеством детей и возвратом кредита в срок\".\n",
    "Подтверждается частично. Нет значительных различий в доле просрочек. Полное отсутствие просрочек у заемщиков имеющих 5 детей\n",
    "непоказательно, ввиду очень малого количества заемщиков такого вида.\n",
    "Но при отсутствие детей у заемщика, просрочек ~ на 2% меньше. Что при столь большой выборке говорит о выявленном тренде      "
   ]
  },
  {
   "cell_type": "markdown",
   "id": "9ca3b76d",
   "metadata": {
    "deletable": false,
    "editable": false,
    "id": "97be82ca"
   },
   "source": [
    "#### 3.2 Есть ли зависимость между семейным положением и возвратом кредита в срок?"
   ]
  },
  {
   "cell_type": "code",
   "execution_count": 24,
   "id": "a021c0c0",
   "metadata": {
    "deletable": false,
    "id": "dc3f7ee8",
    "scrolled": true
   },
   "outputs": [
    {
     "data": {
      "text/html": [
       "<div>\n",
       "<style scoped>\n",
       "    .dataframe tbody tr th:only-of-type {\n",
       "        vertical-align: middle;\n",
       "    }\n",
       "\n",
       "    .dataframe tbody tr th {\n",
       "        vertical-align: top;\n",
       "    }\n",
       "\n",
       "    .dataframe thead th {\n",
       "        text-align: right;\n",
       "    }\n",
       "</style>\n",
       "<table border=\"1\" class=\"dataframe\">\n",
       "  <thead>\n",
       "    <tr style=\"text-align: right;\">\n",
       "      <th></th>\n",
       "      <th>count</th>\n",
       "      <th>mean</th>\n",
       "    </tr>\n",
       "    <tr>\n",
       "      <th>family_status</th>\n",
       "      <th></th>\n",
       "      <th></th>\n",
       "    </tr>\n",
       "  </thead>\n",
       "  <tbody>\n",
       "    <tr>\n",
       "      <th>вдовец / вдова</th>\n",
       "      <td>951</td>\n",
       "      <td>0.066246</td>\n",
       "    </tr>\n",
       "    <tr>\n",
       "      <th>в разводе</th>\n",
       "      <td>1189</td>\n",
       "      <td>0.070648</td>\n",
       "    </tr>\n",
       "    <tr>\n",
       "      <th>женат / замужем</th>\n",
       "      <td>12261</td>\n",
       "      <td>0.075606</td>\n",
       "    </tr>\n",
       "    <tr>\n",
       "      <th>гражданский брак</th>\n",
       "      <td>4134</td>\n",
       "      <td>0.093130</td>\n",
       "    </tr>\n",
       "    <tr>\n",
       "      <th>Не женат / не замужем</th>\n",
       "      <td>2796</td>\n",
       "      <td>0.097639</td>\n",
       "    </tr>\n",
       "  </tbody>\n",
       "</table>\n",
       "</div>"
      ],
      "text/plain": [
       "                       count      mean\n",
       "family_status                         \n",
       "вдовец / вдова           951  0.066246\n",
       "в разводе               1189  0.070648\n",
       "женат / замужем        12261  0.075606\n",
       "гражданский брак        4134  0.093130\n",
       "Не женат / не замужем   2796  0.097639"
      ]
     },
     "execution_count": 24,
     "metadata": {},
     "output_type": "execute_result"
    }
   ],
   "source": [
    "agg_func = {'debt' : ['count', 'mean']}\n",
    "b =data.groupby('family_status').agg(agg_func)\n",
    "b = b['debt']\n",
    "b.sort_values('mean')"
   ]
  },
  {
   "cell_type": "code",
   "execution_count": 43,
   "id": "27646c2a",
   "metadata": {},
   "outputs": [
    {
     "data": {
      "text/html": [
       "<div>\n",
       "<style scoped>\n",
       "    .dataframe tbody tr th:only-of-type {\n",
       "        vertical-align: middle;\n",
       "    }\n",
       "\n",
       "    .dataframe tbody tr th {\n",
       "        vertical-align: top;\n",
       "    }\n",
       "\n",
       "    .dataframe thead tr th {\n",
       "        text-align: left;\n",
       "    }\n",
       "\n",
       "    .dataframe thead tr:last-of-type th {\n",
       "        text-align: right;\n",
       "    }\n",
       "</style>\n",
       "<table border=\"1\" class=\"dataframe\">\n",
       "  <thead>\n",
       "    <tr>\n",
       "      <th></th>\n",
       "      <th>mean</th>\n",
       "      <th>count</th>\n",
       "    </tr>\n",
       "    <tr>\n",
       "      <th></th>\n",
       "      <th>debt</th>\n",
       "      <th>debt</th>\n",
       "    </tr>\n",
       "    <tr>\n",
       "      <th>family_status</th>\n",
       "      <th></th>\n",
       "      <th></th>\n",
       "    </tr>\n",
       "  </thead>\n",
       "  <tbody>\n",
       "    <tr>\n",
       "      <th>Не женат / не замужем</th>\n",
       "      <td>0.097639</td>\n",
       "      <td>2796</td>\n",
       "    </tr>\n",
       "    <tr>\n",
       "      <th>в разводе</th>\n",
       "      <td>0.070648</td>\n",
       "      <td>1189</td>\n",
       "    </tr>\n",
       "    <tr>\n",
       "      <th>вдовец / вдова</th>\n",
       "      <td>0.066246</td>\n",
       "      <td>951</td>\n",
       "    </tr>\n",
       "    <tr>\n",
       "      <th>гражданский брак</th>\n",
       "      <td>0.093130</td>\n",
       "      <td>4134</td>\n",
       "    </tr>\n",
       "    <tr>\n",
       "      <th>женат / замужем</th>\n",
       "      <td>0.075606</td>\n",
       "      <td>12261</td>\n",
       "    </tr>\n",
       "  </tbody>\n",
       "</table>\n",
       "</div>"
      ],
      "text/plain": [
       "                           mean  count\n",
       "                           debt   debt\n",
       "family_status                         \n",
       "Не женат / не замужем  0.097639   2796\n",
       "в разводе              0.070648   1189\n",
       "вдовец / вдова         0.066246    951\n",
       "гражданский брак       0.093130   4134\n",
       "женат / замужем        0.075606  12261"
      ]
     },
     "execution_count": 43,
     "metadata": {},
     "output_type": "execute_result"
    }
   ],
   "source": [
    "data.pivot_table('debt' , index = ['family_status'], aggfunc = ['mean', 'count'])\n"
   ]
  },
  {
   "cell_type": "markdown",
   "id": "26abf09c",
   "metadata": {
    "deletable": false,
    "id": "1cef7837"
   },
   "source": [
    "**Вывод:** "
   ]
  },
  {
   "cell_type": "markdown",
   "id": "cf14a7f7",
   "metadata": {},
   "source": [
    "Наиболее многочисленная группа показывает средние показатели просрочек по платежам.\n",
    "Условно можно предположить, что «холостяки» и лица в «гражданском браке» допускают больше просрочек,\n",
    "хотя и незначительно (на 1,5-2% больше)\n"
   ]
  },
  {
   "cell_type": "markdown",
   "id": "bb0f1034",
   "metadata": {
    "deletable": false,
    "editable": false,
    "id": "1e8b2fca"
   },
   "source": [
    "#### 3.3 Есть ли зависимость между уровнем дохода и возвратом кредита в срок?"
   ]
  },
  {
   "cell_type": "code",
   "execution_count": 35,
   "id": "31b7b45f",
   "metadata": {
    "deletable": false,
    "id": "cd7e3720"
   },
   "outputs": [
    {
     "data": {
      "text/html": [
       "<div>\n",
       "<style scoped>\n",
       "    .dataframe tbody tr th:only-of-type {\n",
       "        vertical-align: middle;\n",
       "    }\n",
       "\n",
       "    .dataframe tbody tr th {\n",
       "        vertical-align: top;\n",
       "    }\n",
       "\n",
       "    .dataframe thead th {\n",
       "        text-align: right;\n",
       "    }\n",
       "</style>\n",
       "<table border=\"1\" class=\"dataframe\">\n",
       "  <thead>\n",
       "    <tr style=\"text-align: right;\">\n",
       "      <th></th>\n",
       "      <th>count</th>\n",
       "      <th>mean</th>\n",
       "    </tr>\n",
       "    <tr>\n",
       "      <th>total_income_category</th>\n",
       "      <th></th>\n",
       "      <th></th>\n",
       "    </tr>\n",
       "  </thead>\n",
       "  <tbody>\n",
       "    <tr>\n",
       "      <th>D</th>\n",
       "      <td>349</td>\n",
       "      <td>0.060172</td>\n",
       "    </tr>\n",
       "    <tr>\n",
       "      <th>B</th>\n",
       "      <td>5014</td>\n",
       "      <td>0.070602</td>\n",
       "    </tr>\n",
       "    <tr>\n",
       "      <th>A</th>\n",
       "      <td>25</td>\n",
       "      <td>0.080000</td>\n",
       "    </tr>\n",
       "    <tr>\n",
       "      <th>C</th>\n",
       "      <td>15921</td>\n",
       "      <td>0.084982</td>\n",
       "    </tr>\n",
       "    <tr>\n",
       "      <th>E</th>\n",
       "      <td>22</td>\n",
       "      <td>0.090909</td>\n",
       "    </tr>\n",
       "  </tbody>\n",
       "</table>\n",
       "</div>"
      ],
      "text/plain": [
       "                       count      mean\n",
       "total_income_category                 \n",
       "D                        349  0.060172\n",
       "B                       5014  0.070602\n",
       "A                         25  0.080000\n",
       "C                      15921  0.084982\n",
       "E                         22  0.090909"
      ]
     },
     "execution_count": 35,
     "metadata": {},
     "output_type": "execute_result"
    }
   ],
   "source": [
    "#data.groupby('total_income_category')['debt'].mean().sort_values()\n",
    "data.groupby('total_income_category')['debt'].agg(['count', 'mean'], as_index=False).sort_values(by='mean')\n"
   ]
  },
  {
   "cell_type": "markdown",
   "id": "f34c38e4",
   "metadata": {
    "deletable": false,
    "id": "e8593def"
   },
   "source": [
    "**Вывод:** "
   ]
  },
  {
   "cell_type": "markdown",
   "id": "c3c868fc",
   "metadata": {},
   "source": [
    "Лица с крайне низким доходом допускают самый большое кол-во просрочек.\n",
    "А наилучшие показатели показывают граждане со средним доходом, что вероятно говорит о более ответственном отношении к финансовым вопросам"
   ]
  },
  {
   "cell_type": "markdown",
   "id": "1229721c",
   "metadata": {},
   "source": [
    "V1 \n",
    "Выборка представительна только по группам С и В. При этом заемщики с более высоким доходом имеют меньше просрочек (на 1,5%). \n",
    "Результаты исследования были бы более показательны при равномерном распределении заемщиков по группам."
   ]
  },
  {
   "cell_type": "markdown",
   "id": "f7bf5d41",
   "metadata": {
    "deletable": false,
    "editable": false,
    "id": "99ecbd1f"
   },
   "source": [
    "#### 3.4 Как разные цели кредита влияют на его возврат в срок?"
   ]
  },
  {
   "cell_type": "code",
   "execution_count": 36,
   "id": "77e77ff3",
   "metadata": {
    "deletable": false,
    "id": "2b687290"
   },
   "outputs": [
    {
     "data": {
      "text/html": [
       "<div>\n",
       "<style scoped>\n",
       "    .dataframe tbody tr th:only-of-type {\n",
       "        vertical-align: middle;\n",
       "    }\n",
       "\n",
       "    .dataframe tbody tr th {\n",
       "        vertical-align: top;\n",
       "    }\n",
       "\n",
       "    .dataframe thead th {\n",
       "        text-align: right;\n",
       "    }\n",
       "</style>\n",
       "<table border=\"1\" class=\"dataframe\">\n",
       "  <thead>\n",
       "    <tr style=\"text-align: right;\">\n",
       "      <th></th>\n",
       "      <th>count</th>\n",
       "      <th>mean</th>\n",
       "    </tr>\n",
       "    <tr>\n",
       "      <th>purpose_category</th>\n",
       "      <th></th>\n",
       "      <th></th>\n",
       "    </tr>\n",
       "  </thead>\n",
       "  <tbody>\n",
       "    <tr>\n",
       "      <th>операции с недвижимостью</th>\n",
       "      <td>10751</td>\n",
       "      <td>0.072551</td>\n",
       "    </tr>\n",
       "    <tr>\n",
       "      <th>проведение свадьбы</th>\n",
       "      <td>2313</td>\n",
       "      <td>0.079118</td>\n",
       "    </tr>\n",
       "    <tr>\n",
       "      <th>получение образования</th>\n",
       "      <td>3988</td>\n",
       "      <td>0.092528</td>\n",
       "    </tr>\n",
       "    <tr>\n",
       "      <th>операции с автомобилем</th>\n",
       "      <td>4279</td>\n",
       "      <td>0.093480</td>\n",
       "    </tr>\n",
       "  </tbody>\n",
       "</table>\n",
       "</div>"
      ],
      "text/plain": [
       "                          count      mean\n",
       "purpose_category                         \n",
       "операции с недвижимостью  10751  0.072551\n",
       "проведение свадьбы         2313  0.079118\n",
       "получение образования      3988  0.092528\n",
       "операции с автомобилем     4279  0.093480"
      ]
     },
     "execution_count": 36,
     "metadata": {},
     "output_type": "execute_result"
    }
   ],
   "source": [
    "agg_func = {'debt' : ['count', 'mean']}\n",
    "data.groupby('purpose_category').agg(agg_func)['debt'].sort_values('mean')"
   ]
  },
  {
   "cell_type": "markdown",
   "id": "cec384de",
   "metadata": {
    "deletable": false,
    "id": "b4bb2ce6"
   },
   "source": [
    "**Вывод:** "
   ]
  },
  {
   "cell_type": "markdown",
   "id": "2e8e7d9a",
   "metadata": {},
   "source": [
    "По своей многочисленности и минимальным кол-вам просрочек,\n",
    "операции с недвижимостью являются приоритетным видом кредитования"
   ]
  },
  {
   "cell_type": "markdown",
   "id": "3597b388",
   "metadata": {
    "deletable": false,
    "editable": false,
    "id": "09c3ac4c"
   },
   "source": [
    "#### 3.5 Приведите возможные причины появления пропусков в исходных данных."
   ]
  },
  {
   "cell_type": "markdown",
   "id": "c585a383",
   "metadata": {
    "deletable": false,
    "id": "9da2ceda"
   },
   "source": [
    "*Ответ:* "
   ]
  },
  {
   "cell_type": "markdown",
   "id": "6c530d28",
   "metadata": {},
   "source": [
    "Традиционными причинами, приводящими к появлению пропусков, являются:\n",
    "    - невозможность их получения или обработки; \n",
    "    - искажение или сокрытие информации;\n",
    "    - всевозможные поломки технического оборудования;\n",
    "    - природные явления;\n",
    "    - экономические причины и т.д."
   ]
  },
  {
   "cell_type": "markdown",
   "id": "250ae324",
   "metadata": {
    "deletable": false,
    "editable": false,
    "id": "7b0487d6"
   },
   "source": [
    "#### 3.6 Объясните, почему заполнить пропуски медианным значением — лучшее решение для количественных переменных."
   ]
  },
  {
   "cell_type": "markdown",
   "id": "05ce732c",
   "metadata": {
    "deletable": false,
    "id": "7ecf2b8e"
   },
   "source": [
    "*Ответ:* "
   ]
  },
  {
   "cell_type": "markdown",
   "id": "ff1549cd",
   "metadata": {},
   "source": [
    " Заполнить пропуски медианным значением корректно по причине появления аномальных (нетипичных) для данной выборки значений, которые могут сильно исказить среднее. После удаление аномальных значений показатель среднего и медиального сближаются"
   ]
  },
  {
   "cell_type": "markdown",
   "id": "96b1c3f1",
   "metadata": {
    "deletable": false,
    "editable": false,
    "id": "6db5255a"
   },
   "source": [
    "### Шаг 4: общий вывод."
   ]
  },
  {
   "cell_type": "markdown",
   "id": "7432b74f",
   "metadata": {
    "deletable": false,
    "id": "bad65432"
   },
   "source": [
    "Напишите ваш общий вывод."
   ]
  },
  {
   "cell_type": "markdown",
   "id": "380d05b2",
   "metadata": {},
   "source": [
    "В целом результат исследования не показывает ярких отличий по надежности заемщиков, тем не менее можно выделить крайние по показателям:\n",
    "Наиболее надежная - отсутствие детей; в разводе, вдовец/вдова; средний доход; операции с недвижимостью.\n",
    "Наименее надежная - имеют четверых детей, при этом не состоят в браке, да ёщё и с крайне низким доходом, мечтающие купить автомобиль."
   ]
  },
  {
   "cell_type": "markdown",
   "id": "b29034cd",
   "metadata": {},
   "source": [
    "V1\n",
    "Основные выводы по исследованию:\n",
    "Тренды выражены не очень ярко, что вызвано неравномерным распределением заемщиков по категориям.\n",
    "Рекомендуемые признаки группировки:\n",
    "Кол-во детей   -  / 0 / 1 / 2, / 3 и более/\n",
    "Семейное положение в целом подтвердило гипотезу и выявило новые категории – / холостяки / гражданский брак / семейные / лица, побывавшие в браке /\n",
    "Уровень дохода. Выборка крайне нерепрезентативна. В результате можно рассматривать только две группы. Если разделить на категории основываясь на общей конъектуре лиц, берущих кредиты, более равномерно то зависимость просрочек от дохода будет подтверждена в нескольких группах.  А так на результат возможно оказано влияние других факторов. Поэтому гипотеза зависимости просрочек от других факторов требует дополнительных проверок.\n",
    "В целом, ввиду не очень ярких трендов, необходимо сформулировать дополнительные гипотезы. За основу разработки новых гипотез необходимо взять присутствие аномальных значений и не вписывающиеся в тренд показатели. Что даст возможность построения более точной модели определения надежности потенциальных заемщиков.\n"
   ]
  },
  {
   "cell_type": "code",
   "execution_count": null,
   "id": "689f199b",
   "metadata": {},
   "outputs": [],
   "source": []
  }
 ],
 "metadata": {
  "ExecuteTimeLog": [
   {
    "duration": 46,
    "start_time": "2022-11-12T14:33:41.927Z"
   },
   {
    "duration": 463,
    "start_time": "2022-11-12T14:33:51.129Z"
   },
   {
    "duration": 19,
    "start_time": "2022-11-12T14:33:51.594Z"
   },
   {
    "duration": 13,
    "start_time": "2022-11-12T14:33:51.614Z"
   },
   {
    "duration": 10,
    "start_time": "2022-11-12T14:33:51.629Z"
   },
   {
    "duration": 32,
    "start_time": "2022-11-12T14:33:51.640Z"
   },
   {
    "duration": 3,
    "start_time": "2022-11-12T14:33:51.673Z"
   },
   {
    "duration": 12,
    "start_time": "2022-11-12T14:33:51.677Z"
   },
   {
    "duration": 13,
    "start_time": "2022-11-12T14:33:51.690Z"
   },
   {
    "duration": 11,
    "start_time": "2022-11-12T14:33:51.704Z"
   },
   {
    "duration": 13,
    "start_time": "2022-11-12T14:33:51.717Z"
   },
   {
    "duration": 42,
    "start_time": "2022-11-12T14:33:51.731Z"
   },
   {
    "duration": 9,
    "start_time": "2022-11-12T14:33:51.774Z"
   },
   {
    "duration": 8,
    "start_time": "2022-11-12T14:33:51.785Z"
   },
   {
    "duration": 14,
    "start_time": "2022-11-12T14:33:51.794Z"
   },
   {
    "duration": 27,
    "start_time": "2022-11-12T14:33:51.809Z"
   },
   {
    "duration": 16,
    "start_time": "2022-11-12T14:33:51.837Z"
   },
   {
    "duration": 3,
    "start_time": "2022-11-12T14:33:51.854Z"
   },
   {
    "duration": 12,
    "start_time": "2022-11-12T14:33:51.858Z"
   },
   {
    "duration": 5,
    "start_time": "2022-11-12T14:33:51.872Z"
   },
   {
    "duration": 5,
    "start_time": "2022-11-12T14:33:51.878Z"
   },
   {
    "duration": 12,
    "start_time": "2022-11-12T14:33:51.884Z"
   },
   {
    "duration": 35,
    "start_time": "2022-11-12T14:33:51.897Z"
   },
   {
    "duration": 3,
    "start_time": "2022-11-12T14:33:51.934Z"
   },
   {
    "duration": 9,
    "start_time": "2022-11-12T14:33:51.938Z"
   },
   {
    "duration": 6,
    "start_time": "2022-11-12T14:33:51.948Z"
   },
   {
    "duration": 51,
    "start_time": "2022-11-13T10:42:19.618Z"
   },
   {
    "duration": 689,
    "start_time": "2022-11-13T10:42:32.194Z"
   },
   {
    "duration": 20,
    "start_time": "2022-11-13T10:42:32.884Z"
   },
   {
    "duration": 13,
    "start_time": "2022-11-13T10:42:32.905Z"
   },
   {
    "duration": 8,
    "start_time": "2022-11-13T10:42:32.920Z"
   },
   {
    "duration": 42,
    "start_time": "2022-11-13T10:42:32.929Z"
   },
   {
    "duration": 4,
    "start_time": "2022-11-13T10:42:32.972Z"
   },
   {
    "duration": 9,
    "start_time": "2022-11-13T10:42:32.978Z"
   },
   {
    "duration": 3,
    "start_time": "2022-11-13T10:42:32.988Z"
   },
   {
    "duration": 7,
    "start_time": "2022-11-13T10:42:32.993Z"
   },
   {
    "duration": 3,
    "start_time": "2022-11-13T10:42:33.004Z"
   },
   {
    "duration": 31,
    "start_time": "2022-11-13T10:42:33.008Z"
   },
   {
    "duration": 32,
    "start_time": "2022-11-13T10:42:33.041Z"
   },
   {
    "duration": 4,
    "start_time": "2022-11-13T10:42:33.075Z"
   },
   {
    "duration": 11,
    "start_time": "2022-11-13T10:42:33.081Z"
   },
   {
    "duration": 17,
    "start_time": "2022-11-13T10:42:33.093Z"
   },
   {
    "duration": 15,
    "start_time": "2022-11-13T10:42:33.112Z"
   },
   {
    "duration": 4,
    "start_time": "2022-11-13T10:42:33.128Z"
   },
   {
    "duration": 39,
    "start_time": "2022-11-13T10:42:33.134Z"
   },
   {
    "duration": 6,
    "start_time": "2022-11-13T10:42:33.174Z"
   },
   {
    "duration": 5,
    "start_time": "2022-11-13T10:42:33.182Z"
   },
   {
    "duration": 12,
    "start_time": "2022-11-13T10:42:33.188Z"
   },
   {
    "duration": 17,
    "start_time": "2022-11-13T10:42:33.201Z"
   },
   {
    "duration": 3,
    "start_time": "2022-11-13T10:42:33.220Z"
   },
   {
    "duration": 4,
    "start_time": "2022-11-13T10:42:33.225Z"
   },
   {
    "duration": 31,
    "start_time": "2022-11-13T10:42:33.230Z"
   },
   {
    "duration": 14,
    "start_time": "2022-11-13T10:42:33.262Z"
   },
   {
    "duration": 3,
    "start_time": "2022-11-13T10:43:11.104Z"
   },
   {
    "duration": 5,
    "start_time": "2022-11-13T10:43:22.152Z"
   },
   {
    "duration": 6,
    "start_time": "2022-11-13T10:43:58.992Z"
   },
   {
    "duration": 7,
    "start_time": "2022-11-13T10:45:09.885Z"
   },
   {
    "duration": 71,
    "start_time": "2022-11-13T10:45:31.341Z"
   },
   {
    "duration": 22,
    "start_time": "2022-11-13T10:49:22.956Z"
   },
   {
    "duration": 6,
    "start_time": "2022-11-13T10:49:58.389Z"
   },
   {
    "duration": 10,
    "start_time": "2022-11-13T10:55:39.015Z"
   },
   {
    "duration": 10,
    "start_time": "2022-11-13T10:56:37.285Z"
   },
   {
    "duration": 112,
    "start_time": "2022-11-13T10:57:32.013Z"
   },
   {
    "duration": 112,
    "start_time": "2022-11-13T10:59:49.391Z"
   },
   {
    "duration": 119,
    "start_time": "2022-11-13T11:00:01.071Z"
   },
   {
    "duration": 17,
    "start_time": "2022-11-13T11:04:52.168Z"
   },
   {
    "duration": 13,
    "start_time": "2022-11-13T11:05:10.674Z"
   },
   {
    "duration": 13,
    "start_time": "2022-11-13T11:05:28.965Z"
   },
   {
    "duration": 43,
    "start_time": "2022-11-13T11:06:19.981Z"
   },
   {
    "duration": 7,
    "start_time": "2022-11-13T11:06:39.899Z"
   },
   {
    "duration": 12,
    "start_time": "2022-11-13T11:06:57.302Z"
   },
   {
    "duration": 7,
    "start_time": "2022-11-13T11:07:29.639Z"
   },
   {
    "duration": 7,
    "start_time": "2022-11-13T11:40:36.172Z"
   },
   {
    "duration": 7,
    "start_time": "2022-11-13T11:41:09.035Z"
   },
   {
    "duration": 750,
    "start_time": "2022-11-13T11:44:09.534Z"
   },
   {
    "duration": 842,
    "start_time": "2022-11-13T11:44:44.030Z"
   },
   {
    "duration": 7,
    "start_time": "2022-11-13T11:45:58.197Z"
   },
   {
    "duration": 8,
    "start_time": "2022-11-13T11:46:40.318Z"
   },
   {
    "duration": 7,
    "start_time": "2022-11-13T11:47:58.810Z"
   },
   {
    "duration": 6,
    "start_time": "2022-11-13T11:48:35.706Z"
   },
   {
    "duration": 26,
    "start_time": "2022-11-13T11:49:40.670Z"
   },
   {
    "duration": 23,
    "start_time": "2022-11-13T11:49:58.602Z"
   },
   {
    "duration": 13,
    "start_time": "2022-11-13T11:50:07.834Z"
   },
   {
    "duration": 8,
    "start_time": "2022-11-13T11:50:34.798Z"
   },
   {
    "duration": 6,
    "start_time": "2022-11-13T12:12:42.535Z"
   },
   {
    "duration": 6,
    "start_time": "2022-11-13T12:13:17.122Z"
   },
   {
    "duration": 5,
    "start_time": "2022-11-13T12:13:33.354Z"
   },
   {
    "duration": 8,
    "start_time": "2022-11-13T12:14:14.146Z"
   },
   {
    "duration": 6,
    "start_time": "2022-11-13T12:17:00.115Z"
   },
   {
    "duration": 224,
    "start_time": "2022-11-13T12:18:02.558Z"
   },
   {
    "duration": 8,
    "start_time": "2022-11-13T12:19:01.085Z"
   },
   {
    "duration": 7,
    "start_time": "2022-11-13T12:19:26.084Z"
   },
   {
    "duration": 8,
    "start_time": "2022-11-13T12:20:39.685Z"
   },
   {
    "duration": 6,
    "start_time": "2022-11-13T12:20:54.392Z"
   },
   {
    "duration": 11,
    "start_time": "2022-11-13T12:26:16.833Z"
   },
   {
    "duration": 21,
    "start_time": "2022-11-13T12:27:33.125Z"
   },
   {
    "duration": 11,
    "start_time": "2022-11-13T12:27:43.025Z"
   },
   {
    "duration": 8,
    "start_time": "2022-11-13T14:33:56.616Z"
   },
   {
    "duration": 17,
    "start_time": "2022-11-13T14:34:53.296Z"
   },
   {
    "duration": 15,
    "start_time": "2022-11-13T14:37:03.890Z"
   },
   {
    "duration": 13,
    "start_time": "2022-11-13T14:37:13.441Z"
   },
   {
    "duration": 14,
    "start_time": "2022-11-13T14:40:18.714Z"
   },
   {
    "duration": 12,
    "start_time": "2022-11-13T14:41:25.455Z"
   },
   {
    "duration": 16,
    "start_time": "2022-11-13T14:41:57.560Z"
   },
   {
    "duration": 711,
    "start_time": "2022-11-13T14:42:14.027Z"
   },
   {
    "duration": 31,
    "start_time": "2022-11-13T14:42:14.741Z"
   },
   {
    "duration": 24,
    "start_time": "2022-11-13T14:42:14.774Z"
   },
   {
    "duration": 25,
    "start_time": "2022-11-13T14:42:14.801Z"
   },
   {
    "duration": 68,
    "start_time": "2022-11-13T14:42:14.828Z"
   },
   {
    "duration": 5,
    "start_time": "2022-11-13T14:42:14.901Z"
   },
   {
    "duration": 28,
    "start_time": "2022-11-13T14:42:14.908Z"
   },
   {
    "duration": 5,
    "start_time": "2022-11-13T14:42:14.938Z"
   },
   {
    "duration": 16,
    "start_time": "2022-11-13T14:42:14.945Z"
   },
   {
    "duration": 6,
    "start_time": "2022-11-13T14:42:14.966Z"
   },
   {
    "duration": 44,
    "start_time": "2022-11-13T14:42:14.974Z"
   },
   {
    "duration": 16,
    "start_time": "2022-11-13T14:42:15.020Z"
   },
   {
    "duration": 23,
    "start_time": "2022-11-13T14:42:15.037Z"
   },
   {
    "duration": 15,
    "start_time": "2022-11-13T14:42:15.062Z"
   },
   {
    "duration": 33,
    "start_time": "2022-11-13T14:42:15.078Z"
   },
   {
    "duration": 27,
    "start_time": "2022-11-13T14:42:15.114Z"
   },
   {
    "duration": 17,
    "start_time": "2022-11-13T14:42:15.143Z"
   },
   {
    "duration": 22,
    "start_time": "2022-11-13T14:42:15.163Z"
   },
   {
    "duration": 17,
    "start_time": "2022-11-13T14:42:15.187Z"
   },
   {
    "duration": 9,
    "start_time": "2022-11-13T14:42:15.206Z"
   },
   {
    "duration": 14,
    "start_time": "2022-11-13T14:42:15.217Z"
   },
   {
    "duration": 32,
    "start_time": "2022-11-13T14:42:15.233Z"
   },
   {
    "duration": 20,
    "start_time": "2022-11-13T14:42:15.267Z"
   },
   {
    "duration": 5,
    "start_time": "2022-11-13T14:42:15.289Z"
   },
   {
    "duration": 0,
    "start_time": "2022-11-13T14:42:15.296Z"
   },
   {
    "duration": 0,
    "start_time": "2022-11-13T14:42:15.298Z"
   },
   {
    "duration": 0,
    "start_time": "2022-11-13T14:42:15.300Z"
   },
   {
    "duration": 68,
    "start_time": "2022-11-13T14:42:21.798Z"
   },
   {
    "duration": 14,
    "start_time": "2022-11-13T14:42:48.042Z"
   },
   {
    "duration": 14,
    "start_time": "2022-11-13T14:43:27.542Z"
   },
   {
    "duration": 47,
    "start_time": "2022-11-13T14:44:02.679Z"
   },
   {
    "duration": 13,
    "start_time": "2022-11-13T14:44:25.217Z"
   },
   {
    "duration": 12,
    "start_time": "2022-11-13T14:44:37.872Z"
   },
   {
    "duration": 7,
    "start_time": "2022-11-13T14:54:57.815Z"
   },
   {
    "duration": 17,
    "start_time": "2022-11-13T14:55:07.340Z"
   },
   {
    "duration": 25,
    "start_time": "2022-11-13T14:55:42.041Z"
   },
   {
    "duration": 17,
    "start_time": "2022-11-13T14:55:52.999Z"
   },
   {
    "duration": 16,
    "start_time": "2022-11-13T14:56:13.817Z"
   },
   {
    "duration": 16,
    "start_time": "2022-11-13T14:56:27.371Z"
   },
   {
    "duration": 14,
    "start_time": "2022-11-13T14:56:53.618Z"
   },
   {
    "duration": 16,
    "start_time": "2022-11-13T15:31:32.139Z"
   },
   {
    "duration": 7,
    "start_time": "2022-11-13T15:33:16.836Z"
   },
   {
    "duration": 14,
    "start_time": "2022-11-13T15:33:26.487Z"
   },
   {
    "duration": 13,
    "start_time": "2022-11-13T15:44:04.361Z"
   },
   {
    "duration": 14,
    "start_time": "2022-11-13T15:45:11.203Z"
   },
   {
    "duration": 12,
    "start_time": "2022-11-13T16:42:31.693Z"
   },
   {
    "duration": 12,
    "start_time": "2022-11-13T16:42:57.332Z"
   },
   {
    "duration": 13,
    "start_time": "2022-11-13T16:45:28.921Z"
   },
   {
    "duration": 13,
    "start_time": "2022-11-13T16:46:16.588Z"
   },
   {
    "duration": 12,
    "start_time": "2022-11-13T16:46:26.565Z"
   },
   {
    "duration": 13,
    "start_time": "2022-11-13T16:53:18.646Z"
   },
   {
    "duration": 10,
    "start_time": "2022-11-13T16:53:51.658Z"
   },
   {
    "duration": 11,
    "start_time": "2022-11-13T16:54:05.598Z"
   },
   {
    "duration": 31,
    "start_time": "2022-11-13T16:57:27.469Z"
   },
   {
    "duration": 27,
    "start_time": "2022-11-13T16:57:58.661Z"
   },
   {
    "duration": 12,
    "start_time": "2022-11-13T17:11:49.773Z"
   },
   {
    "duration": 16,
    "start_time": "2022-11-13T17:16:15.915Z"
   },
   {
    "duration": 13,
    "start_time": "2022-11-13T17:17:18.055Z"
   },
   {
    "duration": 12,
    "start_time": "2022-11-13T17:17:38.079Z"
   },
   {
    "duration": 11,
    "start_time": "2022-11-13T17:17:50.839Z"
   },
   {
    "duration": 836,
    "start_time": "2022-11-13T18:33:01.565Z"
   },
   {
    "duration": 12,
    "start_time": "2022-11-13T18:37:43.863Z"
   },
   {
    "duration": 651,
    "start_time": "2022-11-13T18:38:25.875Z"
   },
   {
    "duration": 583,
    "start_time": "2022-11-13T18:38:37.118Z"
   },
   {
    "duration": 21,
    "start_time": "2022-11-13T18:38:37.703Z"
   },
   {
    "duration": 15,
    "start_time": "2022-11-13T18:38:37.726Z"
   },
   {
    "duration": 17,
    "start_time": "2022-11-13T18:38:37.743Z"
   },
   {
    "duration": 35,
    "start_time": "2022-11-13T18:38:37.763Z"
   },
   {
    "duration": 4,
    "start_time": "2022-11-13T18:38:37.799Z"
   },
   {
    "duration": 10,
    "start_time": "2022-11-13T18:38:37.805Z"
   },
   {
    "duration": 16,
    "start_time": "2022-11-13T18:38:37.817Z"
   },
   {
    "duration": 51,
    "start_time": "2022-11-13T18:38:37.834Z"
   },
   {
    "duration": 29,
    "start_time": "2022-11-13T18:38:37.886Z"
   },
   {
    "duration": 57,
    "start_time": "2022-11-13T18:38:37.917Z"
   },
   {
    "duration": 10,
    "start_time": "2022-11-13T18:38:37.976Z"
   },
   {
    "duration": 6,
    "start_time": "2022-11-13T18:38:37.988Z"
   },
   {
    "duration": 13,
    "start_time": "2022-11-13T18:38:37.997Z"
   },
   {
    "duration": 22,
    "start_time": "2022-11-13T18:38:38.012Z"
   },
   {
    "duration": 33,
    "start_time": "2022-11-13T18:38:38.036Z"
   },
   {
    "duration": 4,
    "start_time": "2022-11-13T18:38:38.070Z"
   },
   {
    "duration": 17,
    "start_time": "2022-11-13T18:38:38.076Z"
   },
   {
    "duration": 16,
    "start_time": "2022-11-13T18:38:38.095Z"
   },
   {
    "duration": 7,
    "start_time": "2022-11-13T18:38:38.113Z"
   },
   {
    "duration": 14,
    "start_time": "2022-11-13T18:38:38.121Z"
   },
   {
    "duration": 25,
    "start_time": "2022-11-13T18:38:38.136Z"
   },
   {
    "duration": 13,
    "start_time": "2022-11-13T18:38:38.163Z"
   },
   {
    "duration": 11,
    "start_time": "2022-11-13T18:38:38.177Z"
   },
   {
    "duration": 16,
    "start_time": "2022-11-13T18:38:38.189Z"
   },
   {
    "duration": 789,
    "start_time": "2022-11-13T18:38:38.206Z"
   },
   {
    "duration": 0,
    "start_time": "2022-11-13T18:38:38.996Z"
   },
   {
    "duration": 0,
    "start_time": "2022-11-13T18:38:38.997Z"
   },
   {
    "duration": 729,
    "start_time": "2022-11-13T18:39:10.104Z"
   },
   {
    "duration": 14,
    "start_time": "2022-11-13T18:39:22.068Z"
   },
   {
    "duration": 11,
    "start_time": "2022-11-13T18:40:08.447Z"
   },
   {
    "duration": 10,
    "start_time": "2022-11-13T18:40:23.640Z"
   },
   {
    "duration": 11,
    "start_time": "2022-11-13T18:40:50.898Z"
   },
   {
    "duration": 10,
    "start_time": "2022-11-13T18:42:28.155Z"
   },
   {
    "duration": 14,
    "start_time": "2022-11-13T18:42:55.475Z"
   },
   {
    "duration": 13,
    "start_time": "2022-11-13T18:43:39.847Z"
   },
   {
    "duration": 11,
    "start_time": "2022-11-13T18:44:29.901Z"
   },
   {
    "duration": 12,
    "start_time": "2022-11-13T18:44:50.380Z"
   },
   {
    "duration": 12,
    "start_time": "2022-11-13T18:45:09.591Z"
   },
   {
    "duration": 13,
    "start_time": "2022-11-13T18:45:32.715Z"
   },
   {
    "duration": 46,
    "start_time": "2022-11-13T18:45:58.393Z"
   },
   {
    "duration": 43,
    "start_time": "2022-11-13T18:46:12.089Z"
   },
   {
    "duration": 11,
    "start_time": "2022-11-13T18:48:27.311Z"
   },
   {
    "duration": 12,
    "start_time": "2022-11-13T18:48:45.338Z"
   },
   {
    "duration": 13,
    "start_time": "2022-11-13T18:49:09.956Z"
   },
   {
    "duration": 7,
    "start_time": "2022-11-13T18:49:57.121Z"
   },
   {
    "duration": 7,
    "start_time": "2022-11-13T18:52:51.361Z"
   },
   {
    "duration": 10,
    "start_time": "2022-11-13T18:53:04.970Z"
   },
   {
    "duration": 10,
    "start_time": "2022-11-13T18:53:25.582Z"
   },
   {
    "duration": 10,
    "start_time": "2022-11-13T18:54:00.631Z"
   },
   {
    "duration": 8,
    "start_time": "2022-11-13T19:04:07.194Z"
   },
   {
    "duration": 7,
    "start_time": "2022-11-13T19:05:29.258Z"
   },
   {
    "duration": 13,
    "start_time": "2022-11-13T19:06:37.399Z"
   },
   {
    "duration": 15,
    "start_time": "2022-11-13T19:06:49.130Z"
   },
   {
    "duration": 5,
    "start_time": "2022-11-13T19:07:37.258Z"
   },
   {
    "duration": 7,
    "start_time": "2022-11-13T19:07:44.909Z"
   },
   {
    "duration": 15,
    "start_time": "2022-11-13T19:08:40.752Z"
   },
   {
    "duration": 16,
    "start_time": "2022-11-13T19:09:04.284Z"
   },
   {
    "duration": 13,
    "start_time": "2022-11-13T19:09:16.936Z"
   },
   {
    "duration": 14,
    "start_time": "2022-11-13T19:10:29.613Z"
   },
   {
    "duration": 13,
    "start_time": "2022-11-13T19:17:01.656Z"
   },
   {
    "duration": 12,
    "start_time": "2022-11-13T19:17:23.131Z"
   },
   {
    "duration": 13,
    "start_time": "2022-11-13T19:18:04.998Z"
   },
   {
    "duration": 61,
    "start_time": "2022-11-13T19:21:06.854Z"
   },
   {
    "duration": 69,
    "start_time": "2022-11-13T19:21:23.739Z"
   },
   {
    "duration": 12,
    "start_time": "2022-11-13T19:22:03.795Z"
   },
   {
    "duration": 12,
    "start_time": "2022-11-13T19:22:19.206Z"
   },
   {
    "duration": 50,
    "start_time": "2022-11-13T19:22:31.331Z"
   },
   {
    "duration": 15,
    "start_time": "2022-11-13T19:23:32.677Z"
   },
   {
    "duration": 8,
    "start_time": "2022-11-13T19:24:54.496Z"
   },
   {
    "duration": 16,
    "start_time": "2022-11-13T19:27:13.542Z"
   },
   {
    "duration": 11,
    "start_time": "2022-11-13T19:27:35.828Z"
   },
   {
    "duration": 13,
    "start_time": "2022-11-13T19:28:24.534Z"
   },
   {
    "duration": 19,
    "start_time": "2022-11-13T19:28:52.028Z"
   },
   {
    "duration": 50,
    "start_time": "2022-11-13T19:31:14.530Z"
   },
   {
    "duration": 14,
    "start_time": "2022-11-13T19:31:31.808Z"
   },
   {
    "duration": 22,
    "start_time": "2022-11-13T19:32:53.636Z"
   },
   {
    "duration": 17,
    "start_time": "2022-11-13T19:33:44.800Z"
   },
   {
    "duration": 19,
    "start_time": "2022-11-13T19:34:59.475Z"
   },
   {
    "duration": 17,
    "start_time": "2022-11-13T19:35:06.695Z"
   },
   {
    "duration": 15,
    "start_time": "2022-11-13T19:35:52.485Z"
   },
   {
    "duration": 655,
    "start_time": "2022-11-13T19:37:58.169Z"
   },
   {
    "duration": 22,
    "start_time": "2022-11-13T19:38:23.320Z"
   },
   {
    "duration": 24,
    "start_time": "2022-11-13T19:39:11.877Z"
   },
   {
    "duration": 26,
    "start_time": "2022-11-13T19:39:30.318Z"
   },
   {
    "duration": 32,
    "start_time": "2022-11-13T19:39:44.655Z"
   },
   {
    "duration": 464,
    "start_time": "2022-11-13T20:02:51.266Z"
   },
   {
    "duration": 21,
    "start_time": "2022-11-13T20:02:51.732Z"
   },
   {
    "duration": 21,
    "start_time": "2022-11-13T20:02:51.755Z"
   },
   {
    "duration": 9,
    "start_time": "2022-11-13T20:02:51.778Z"
   },
   {
    "duration": 35,
    "start_time": "2022-11-13T20:02:51.788Z"
   },
   {
    "duration": 4,
    "start_time": "2022-11-13T20:02:51.825Z"
   },
   {
    "duration": 30,
    "start_time": "2022-11-13T20:02:51.831Z"
   },
   {
    "duration": 5,
    "start_time": "2022-11-13T20:02:51.863Z"
   },
   {
    "duration": 11,
    "start_time": "2022-11-13T20:02:51.870Z"
   },
   {
    "duration": 10,
    "start_time": "2022-11-13T20:02:51.885Z"
   },
   {
    "duration": 45,
    "start_time": "2022-11-13T20:02:51.897Z"
   },
   {
    "duration": 11,
    "start_time": "2022-11-13T20:02:51.959Z"
   },
   {
    "duration": 4,
    "start_time": "2022-11-13T20:02:51.972Z"
   },
   {
    "duration": 14,
    "start_time": "2022-11-13T20:02:51.978Z"
   },
   {
    "duration": 31,
    "start_time": "2022-11-13T20:02:51.994Z"
   },
   {
    "duration": 49,
    "start_time": "2022-11-13T20:02:52.027Z"
   },
   {
    "duration": 5,
    "start_time": "2022-11-13T20:02:52.077Z"
   },
   {
    "duration": 29,
    "start_time": "2022-11-13T20:02:52.083Z"
   },
   {
    "duration": 6,
    "start_time": "2022-11-13T20:02:52.114Z"
   },
   {
    "duration": 6,
    "start_time": "2022-11-13T20:02:52.121Z"
   },
   {
    "duration": 10,
    "start_time": "2022-11-13T20:02:52.129Z"
   },
   {
    "duration": 31,
    "start_time": "2022-11-13T20:02:52.141Z"
   },
   {
    "duration": 11,
    "start_time": "2022-11-13T20:02:52.174Z"
   },
   {
    "duration": 12,
    "start_time": "2022-11-13T20:02:52.186Z"
   },
   {
    "duration": 33,
    "start_time": "2022-11-13T20:02:52.199Z"
   },
   {
    "duration": 45,
    "start_time": "2022-11-13T20:02:52.234Z"
   },
   {
    "duration": 0,
    "start_time": "2022-11-13T20:02:52.281Z"
   },
   {
    "duration": 0,
    "start_time": "2022-11-13T20:02:52.283Z"
   },
   {
    "duration": 0,
    "start_time": "2022-11-13T20:02:52.285Z"
   },
   {
    "duration": 0,
    "start_time": "2022-11-13T20:02:52.286Z"
   },
   {
    "duration": 7,
    "start_time": "2022-11-13T20:05:49.673Z"
   },
   {
    "duration": 13,
    "start_time": "2022-11-13T20:05:53.114Z"
   },
   {
    "duration": 46,
    "start_time": "2022-11-14T06:40:00.878Z"
   },
   {
    "duration": 735,
    "start_time": "2022-11-14T06:40:09.607Z"
   },
   {
    "duration": 26,
    "start_time": "2022-11-14T06:40:10.346Z"
   },
   {
    "duration": 15,
    "start_time": "2022-11-14T06:40:10.373Z"
   },
   {
    "duration": 9,
    "start_time": "2022-11-14T06:40:10.389Z"
   },
   {
    "duration": 56,
    "start_time": "2022-11-14T06:40:10.400Z"
   },
   {
    "duration": 4,
    "start_time": "2022-11-14T06:40:10.458Z"
   },
   {
    "duration": 10,
    "start_time": "2022-11-14T06:40:10.464Z"
   },
   {
    "duration": 4,
    "start_time": "2022-11-14T06:40:10.476Z"
   },
   {
    "duration": 11,
    "start_time": "2022-11-14T06:40:10.481Z"
   },
   {
    "duration": 4,
    "start_time": "2022-11-14T06:40:10.494Z"
   },
   {
    "duration": 66,
    "start_time": "2022-11-14T06:40:10.500Z"
   },
   {
    "duration": 9,
    "start_time": "2022-11-14T06:40:10.567Z"
   },
   {
    "duration": 7,
    "start_time": "2022-11-14T06:40:10.577Z"
   },
   {
    "duration": 11,
    "start_time": "2022-11-14T06:40:10.586Z"
   },
   {
    "duration": 38,
    "start_time": "2022-11-14T06:40:10.598Z"
   },
   {
    "duration": 18,
    "start_time": "2022-11-14T06:40:10.639Z"
   },
   {
    "duration": 3,
    "start_time": "2022-11-14T06:40:10.659Z"
   },
   {
    "duration": 12,
    "start_time": "2022-11-14T06:40:10.664Z"
   },
   {
    "duration": 5,
    "start_time": "2022-11-14T06:40:10.678Z"
   },
   {
    "duration": 5,
    "start_time": "2022-11-14T06:40:10.684Z"
   },
   {
    "duration": 13,
    "start_time": "2022-11-14T06:40:10.690Z"
   },
   {
    "duration": 45,
    "start_time": "2022-11-14T06:40:10.704Z"
   },
   {
    "duration": 17,
    "start_time": "2022-11-14T06:40:10.751Z"
   },
   {
    "duration": 12,
    "start_time": "2022-11-14T06:40:10.770Z"
   },
   {
    "duration": 54,
    "start_time": "2022-11-14T06:40:10.784Z"
   },
   {
    "duration": 68,
    "start_time": "2022-11-14T06:40:10.840Z"
   },
   {
    "duration": 0,
    "start_time": "2022-11-14T06:40:10.910Z"
   },
   {
    "duration": 7,
    "start_time": "2022-11-14T06:41:44.389Z"
   },
   {
    "duration": 7,
    "start_time": "2022-11-14T06:42:37.687Z"
   },
   {
    "duration": 11,
    "start_time": "2022-11-14T06:48:13.008Z"
   },
   {
    "duration": 11,
    "start_time": "2022-11-14T06:48:36.558Z"
   },
   {
    "duration": 15,
    "start_time": "2022-11-14T06:48:44.440Z"
   },
   {
    "duration": 12,
    "start_time": "2022-11-14T06:49:19.598Z"
   },
   {
    "duration": 12,
    "start_time": "2022-11-14T06:49:44.788Z"
   },
   {
    "duration": 13,
    "start_time": "2022-11-14T06:50:28.248Z"
   },
   {
    "duration": 16,
    "start_time": "2022-11-14T06:50:36.549Z"
   },
   {
    "duration": 13,
    "start_time": "2022-11-14T06:53:04.468Z"
   },
   {
    "duration": 9,
    "start_time": "2022-11-14T07:45:53.903Z"
   },
   {
    "duration": 60,
    "start_time": "2022-11-14T07:46:10.638Z"
   },
   {
    "duration": 89,
    "start_time": "2022-11-14T07:46:23.809Z"
   },
   {
    "duration": 42,
    "start_time": "2022-11-14T07:46:50.449Z"
   },
   {
    "duration": 44,
    "start_time": "2022-11-14T07:47:22.738Z"
   },
   {
    "duration": 45,
    "start_time": "2022-11-14T07:47:31.568Z"
   },
   {
    "duration": 21,
    "start_time": "2022-11-14T07:47:43.263Z"
   }
  ],
  "colab": {
   "name": "dpp_template_part2.ipynb",
   "provenance": []
  },
  "kernelspec": {
   "display_name": "Python 3 (ipykernel)",
   "language": "python",
   "name": "python3"
  },
  "language_info": {
   "codemirror_mode": {
    "name": "ipython",
    "version": 3
   },
   "file_extension": ".py",
   "mimetype": "text/x-python",
   "name": "python",
   "nbconvert_exporter": "python",
   "pygments_lexer": "ipython3",
   "version": "3.11.4"
  },
  "toc": {
   "base_numbering": 1,
   "nav_menu": {},
   "number_sections": true,
   "sideBar": true,
   "skip_h1_title": true,
   "title_cell": "Table of Contents",
   "title_sidebar": "Contents",
   "toc_cell": false,
   "toc_position": {},
   "toc_section_display": true,
   "toc_window_display": false
  }
 },
 "nbformat": 4,
 "nbformat_minor": 5
}
