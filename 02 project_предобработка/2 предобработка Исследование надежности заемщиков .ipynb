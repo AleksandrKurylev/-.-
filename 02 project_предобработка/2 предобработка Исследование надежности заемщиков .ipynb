{
 "cells": [
  {
   "cell_type": "markdown",
   "id": "c81daeeb",
   "metadata": {
    "deletable": false,
    "editable": false,
    "id": "c81daeeb"
   },
   "source": [
    "# Исследование надежности заемщиков"
   ]
  },
  {
   "cell_type": "markdown",
   "id": "-G3EJWzf62s6",
   "metadata": {
    "deletable": false,
    "editable": false,
    "id": "-G3EJWzf62s6"
   },
   "source": [
    "Это первая часть проекта, она будет проверена автоматически. Вторую часть проверит ревьюер. "
   ]
  },
  {
   "cell_type": "markdown",
   "id": "744d7639",
   "metadata": {
    "deletable": false,
    "editable": false,
    "id": "744d7639"
   },
   "source": [
    "## Откройте таблицу и изучите общую информацию о данных"
   ]
  },
  {
   "cell_type": "markdown",
   "id": "e7a14c31",
   "metadata": {
    "deletable": false,
    "editable": false,
    "id": "e7a14c31",
    "tags": [
     "start_task"
    ]
   },
   "source": [
    "**Задание 1. Импортируйте библиотеку pandas. Считайте данные из csv-файла в датафрейм и сохраните в переменную `data`. Путь к файлу:**\n",
    "\n",
    "`/datasets/data.csv`"
   ]
  },
  {
   "cell_type": "code",
   "execution_count": 1,
   "id": "7bcf75c9",
   "metadata": {
    "id": "7bcf75c9"
   },
   "outputs": [],
   "source": [
    "import pandas as pd\n",
    "# импортируйте библиотеку pandas"
   ]
  },
  {
   "cell_type": "code",
   "execution_count": 2,
   "id": "4d240ee2",
   "metadata": {
    "id": "4d240ee2"
   },
   "outputs": [],
   "source": [
    "data = pd.read_csv('/datasets/data.csv')\n",
    "# прочитайте csv-файл\n",
    "#data['education'] = data['education'].str.lower()\n",
    "#data.duplicated().sum()"
   ]
  },
  {
   "cell_type": "markdown",
   "id": "b8038fe3",
   "metadata": {
    "deletable": false,
    "editable": false,
    "id": "b8038fe3",
    "tags": [
     "start_task"
    ]
   },
   "source": [
    "**Задание 2. Выведите первые 20 строчек датафрейма `data` на экран.**"
   ]
  },
  {
   "cell_type": "code",
   "execution_count": 3,
   "id": "2a7cab99",
   "metadata": {
    "id": "2a7cab99"
   },
   "outputs": [],
   "source": [
    "# ваш код здесь\n",
    "#print(data.head(20))"
   ]
  },
  {
   "cell_type": "markdown",
   "id": "1c12e233",
   "metadata": {
    "deletable": false,
    "editable": false,
    "id": "1c12e233",
    "tags": [
     "start_task"
    ]
   },
   "source": [
    "**Задание 3. Выведите основную информацию о датафрейме с помощью метода `info()`.**"
   ]
  },
  {
   "cell_type": "code",
   "execution_count": 4,
   "id": "2b757bca",
   "metadata": {
    "id": "2b757bca"
   },
   "outputs": [
    {
     "name": "stdout",
     "output_type": "stream",
     "text": [
      "<class 'pandas.core.frame.DataFrame'>\n",
      "RangeIndex: 21525 entries, 0 to 21524\n",
      "Data columns (total 12 columns):\n",
      " #   Column            Non-Null Count  Dtype  \n",
      "---  ------            --------------  -----  \n",
      " 0   children          21525 non-null  int64  \n",
      " 1   days_employed     19351 non-null  float64\n",
      " 2   dob_years         21525 non-null  int64  \n",
      " 3   education         21525 non-null  object \n",
      " 4   education_id      21525 non-null  int64  \n",
      " 5   family_status     21525 non-null  object \n",
      " 6   family_status_id  21525 non-null  int64  \n",
      " 7   gender            21525 non-null  object \n",
      " 8   income_type       21525 non-null  object \n",
      " 9   debt              21525 non-null  int64  \n",
      " 10  total_income      19351 non-null  float64\n",
      " 11  purpose           21525 non-null  object \n",
      "dtypes: float64(2), int64(5), object(5)\n",
      "memory usage: 2.0+ MB\n"
     ]
    }
   ],
   "source": [
    "data.info()# ваш код здесь"
   ]
  },
  {
   "cell_type": "markdown",
   "id": "333ec665",
   "metadata": {
    "deletable": false,
    "editable": false,
    "id": "333ec665"
   },
   "source": [
    "## Предобработка данных"
   ]
  },
  {
   "cell_type": "markdown",
   "id": "02d92d53",
   "metadata": {
    "deletable": false,
    "editable": false,
    "id": "02d92d53"
   },
   "source": [
    "### Удаление пропусков"
   ]
  },
  {
   "cell_type": "markdown",
   "id": "cd84967c",
   "metadata": {
    "deletable": false,
    "editable": false,
    "id": "cd84967c",
    "tags": [
     "start_task"
    ]
   },
   "source": [
    "**Задание 4. Выведите количество пропущенных значений для каждого столбца. Используйте комбинацию двух методов.**"
   ]
  },
  {
   "cell_type": "code",
   "execution_count": 5,
   "id": "7f9b2309",
   "metadata": {
    "id": "7f9b2309"
   },
   "outputs": [
    {
     "data": {
      "text/plain": [
       "children               0\n",
       "days_employed       2174\n",
       "dob_years              0\n",
       "education              0\n",
       "education_id           0\n",
       "family_status          0\n",
       "family_status_id       0\n",
       "gender                 0\n",
       "income_type            0\n",
       "debt                   0\n",
       "total_income        2174\n",
       "purpose                0\n",
       "dtype: int64"
      ]
     },
     "execution_count": 5,
     "metadata": {},
     "output_type": "execute_result"
    }
   ],
   "source": [
    "data.isna().sum()\n",
    "#data['education'] = data['education'].str.lower()\n",
    "#data.duplicated().sum() "
   ]
  },
  {
   "cell_type": "markdown",
   "id": "db86e27b",
   "metadata": {
    "deletable": false,
    "editable": false,
    "id": "db86e27b",
    "tags": [
     "start_task"
    ]
   },
   "source": [
    "**Задание 5. В двух столбцах есть пропущенные значения. Один из них — `days_employed`. Пропуски в этом столбце вы обработаете на следующем этапе. Другой столбец с пропущенными значениями — `total_income` — хранит данные о доходах. На сумму дохода сильнее всего влияет тип занятости, поэтому заполнить пропуски в этом столбце нужно медианным значением по каждому типу из столбца `income_type`. Например, у человека с типом занятости `сотрудник` пропуск в столбце `total_income` должен быть заполнен медианным доходом среди всех записей с тем же типом.**"
   ]
  },
  {
   "cell_type": "code",
   "execution_count": 6,
   "id": "42006a93",
   "metadata": {
    "id": "42006a93",
    "scrolled": true
   },
   "outputs": [],
   "source": [
    "#medians = data.groupby('income_type')['total_income'].median()\n",
    "for a in data['income_type'].unique() :\n",
    "    data.loc[data['total_income'].isna() & (a == data['income_type']), 'total_income'] = \\\n",
    "    data.loc[(data['income_type'] == a), 'total_income'].median()\n",
    "#data['education'] = data['education'].str.lower()\n",
    "#data.duplicated().sum()  "
   ]
  },
  {
   "cell_type": "markdown",
   "id": "89da5ece",
   "metadata": {
    "deletable": false,
    "editable": false,
    "id": "89da5ece"
   },
   "source": [
    "### Обработка аномальных значений"
   ]
  },
  {
   "cell_type": "markdown",
   "id": "57964554",
   "metadata": {
    "deletable": false,
    "editable": false,
    "id": "57964554",
    "tags": [
     "start_task"
    ]
   },
   "source": [
    "**Задание 6. В данных могут встречаться артефакты (аномалии) — значения, которые не отражают действительность и появились по какой-то ошибке. Таким артефактом будет отрицательное количество дней трудового стажа в столбце `days_employed`. Для реальных данных это нормально. Обработайте значения в этом столбце: замените все отрицательные значения положительными с помощью метода `abs()`.**"
   ]
  },
  {
   "cell_type": "code",
   "execution_count": 7,
   "id": "f6f055bf",
   "metadata": {
    "id": "f6f055bf"
   },
   "outputs": [],
   "source": [
    "data['days_employed'] = data['days_employed'].abs()"
   ]
  },
  {
   "cell_type": "markdown",
   "id": "6107dd2f",
   "metadata": {
    "deletable": false,
    "editable": false,
    "id": "6107dd2f",
    "tags": [
     "start_task"
    ]
   },
   "source": [
    "**Задание 7. Для каждого типа занятости выведите медианное значение трудового стажа `days_employed` в днях.**"
   ]
  },
  {
   "cell_type": "code",
   "execution_count": 8,
   "id": "85a5faf6",
   "metadata": {
    "id": "85a5faf6"
   },
   "outputs": [
    {
     "data": {
      "text/plain": [
       "income_type\n",
       "безработный        366413.652744\n",
       "в декрете            3296.759962\n",
       "госслужащий          2689.368353\n",
       "компаньон            1547.382223\n",
       "пенсионер          365213.306266\n",
       "предприниматель       520.848083\n",
       "сотрудник            1574.202821\n",
       "студент               578.751554\n",
       "Name: days_employed, dtype: float64"
      ]
     },
     "execution_count": 8,
     "metadata": {},
     "output_type": "execute_result"
    }
   ],
   "source": [
    "data.groupby('income_type')['days_employed'].median()\n"
   ]
  },
  {
   "cell_type": "markdown",
   "id": "38d1a030",
   "metadata": {
    "deletable": false,
    "editable": false,
    "id": "38d1a030"
   },
   "source": [
    "У двух типов (безработные и пенсионеры) получатся аномально большие значения. Исправить такие значения сложно, поэтому оставьте их как есть. Тем более этот столбец не понадобится вам для исследования."
   ]
  },
  {
   "cell_type": "markdown",
   "id": "d8a9f147",
   "metadata": {
    "deletable": false,
    "editable": false,
    "id": "d8a9f147",
    "tags": [
     "start_task"
    ]
   },
   "source": [
    "**Задание 8. Выведите перечень уникальных значений столбца `children`.**"
   ]
  },
  {
   "cell_type": "code",
   "execution_count": 9,
   "id": "ef5056eb",
   "metadata": {
    "id": "ef5056eb"
   },
   "outputs": [
    {
     "data": {
      "text/plain": [
       "array([ 1,  0,  3,  2, -1,  4, 20,  5])"
      ]
     },
     "execution_count": 9,
     "metadata": {},
     "output_type": "execute_result"
    }
   ],
   "source": [
    "data['children'].unique()"
   ]
  },
  {
   "cell_type": "markdown",
   "id": "40b9ebf2",
   "metadata": {
    "deletable": false,
    "editable": false,
    "id": "40b9ebf2",
    "tags": [
     "start_task"
    ]
   },
   "source": [
    "**Задание 9. В столбце `children` есть два аномальных значения. Удалите строки, в которых встречаются такие аномальные значения из датафрейма `data`.**"
   ]
  },
  {
   "cell_type": "code",
   "execution_count": 10,
   "id": "3ff9801d",
   "metadata": {
    "id": "3ff9801d"
   },
   "outputs": [],
   "source": [
    "#data = data[(data['children'] == 20)]\n",
    "#data[(data['children'] == -1)] = 0\n",
    "data = data[(data.children !=20) & (data.children !=-1)] "
   ]
  },
  {
   "cell_type": "markdown",
   "id": "bbc4d0ce",
   "metadata": {
    "deletable": false,
    "editable": false,
    "id": "bbc4d0ce",
    "tags": [
     "start_task"
    ]
   },
   "source": [
    "**Задание 10. Ещё раз выведите перечень уникальных значений столбца `children`, чтобы убедиться, что артефакты удалены.**"
   ]
  },
  {
   "cell_type": "code",
   "execution_count": 11,
   "id": "ad4fa8b7",
   "metadata": {
    "id": "ad4fa8b7"
   },
   "outputs": [
    {
     "data": {
      "text/plain": [
       "array([1, 0, 3, 2, 4, 5])"
      ]
     },
     "execution_count": 11,
     "metadata": {},
     "output_type": "execute_result"
    }
   ],
   "source": [
    "data['children'].unique()"
   ]
  },
  {
   "cell_type": "markdown",
   "id": "75440b63",
   "metadata": {
    "deletable": false,
    "editable": false,
    "id": "75440b63"
   },
   "source": [
    "### Удаление пропусков (продолжение)"
   ]
  },
  {
   "cell_type": "markdown",
   "id": "f4ea573f",
   "metadata": {
    "deletable": false,
    "editable": false,
    "id": "f4ea573f",
    "tags": [
     "start_task"
    ]
   },
   "source": [
    "**Задание 11. Заполните пропуски в столбце `days_employed` медианными значениями по каждому типу занятости `income_type`.**"
   ]
  },
  {
   "cell_type": "code",
   "execution_count": 12,
   "id": "af6b1a7e",
   "metadata": {
    "id": "af6b1a7e"
   },
   "outputs": [],
   "source": [
    "for a in data['income_type'].unique():\n",
    "    data.loc[data['days_employed'].isna() & (data['income_type'] == a), 'days_employed'] = data.loc[(data['income_type'] == a), 'days_employed'].median()\n",
    "#data[['income_type', 'days_employed']].head(25)\n"
   ]
  },
  {
   "cell_type": "markdown",
   "id": "2753f40d",
   "metadata": {
    "deletable": false,
    "editable": false,
    "id": "2753f40d",
    "tags": [
     "start_task"
    ]
   },
   "source": [
    "**Задание 12. Убедитесь, что все пропуски заполнены. Проверьте себя и ещё раз выведите количество пропущенных значений для каждого столбца с помощью двух методов.**"
   ]
  },
  {
   "cell_type": "code",
   "execution_count": 13,
   "id": "55f78bc2",
   "metadata": {
    "id": "55f78bc2"
   },
   "outputs": [
    {
     "data": {
      "text/plain": [
       "children            0\n",
       "days_employed       0\n",
       "dob_years           0\n",
       "education           0\n",
       "education_id        0\n",
       "family_status       0\n",
       "family_status_id    0\n",
       "gender              0\n",
       "income_type         0\n",
       "debt                0\n",
       "total_income        0\n",
       "purpose             0\n",
       "dtype: int64"
      ]
     },
     "execution_count": 13,
     "metadata": {},
     "output_type": "execute_result"
    }
   ],
   "source": [
    "data.isna().sum()"
   ]
  },
  {
   "cell_type": "markdown",
   "id": "ddc81e43",
   "metadata": {
    "deletable": false,
    "editable": false,
    "id": "ddc81e43"
   },
   "source": [
    "### Изменение типов данных"
   ]
  },
  {
   "cell_type": "markdown",
   "id": "42d19d24",
   "metadata": {
    "deletable": false,
    "editable": false,
    "id": "42d19d24",
    "tags": [
     "start_task"
    ]
   },
   "source": [
    "**Задание 13. Замените вещественный тип данных в столбце `total_income` на целочисленный с помощью метода `astype()`.**"
   ]
  },
  {
   "cell_type": "code",
   "execution_count": 14,
   "id": "920b65ad",
   "metadata": {
    "id": "920b65ad"
   },
   "outputs": [],
   "source": [
    "data['total_income'] = data['total_income'].astype(int)\n"
   ]
  },
  {
   "cell_type": "markdown",
   "id": "80c420ba",
   "metadata": {
    "deletable": false,
    "editable": false,
    "id": "80c420ba"
   },
   "source": [
    "### Обработка дубликатов"
   ]
  },
  {
   "cell_type": "markdown",
   "id": "dc587695",
   "metadata": {
    "deletable": false,
    "editable": false,
    "id": "dc587695",
    "tags": [
     "start_task"
    ]
   },
   "source": [
    "**Задание 14. Выведите на экран количество строк-дубликатов в данных. Если такие строки присутствуют, удалите их.**"
   ]
  },
  {
   "cell_type": "code",
   "execution_count": 15,
   "id": "3ee445e4",
   "metadata": {
    "id": "3ee445e4"
   },
   "outputs": [],
   "source": [
    "data['education'] = data['education'].str.lower()\n",
    "#data.duplicated().sum()\n",
    "# посчитайте дубликаты\n"
   ]
  },
  {
   "cell_type": "code",
   "execution_count": 16,
   "id": "8575fe05",
   "metadata": {
    "id": "8575fe05"
   },
   "outputs": [],
   "source": [
    "data.duplicated().sum()\n",
    "data = data.drop_duplicates()\n",
    "# удалите дубликаты\n",
    "#data.duplicated().sum()\n"
   ]
  },
  {
   "cell_type": "markdown",
   "id": "9771a76c",
   "metadata": {
    "deletable": false,
    "editable": false,
    "id": "9771a76c",
    "tags": [
     "start_task"
    ]
   },
   "source": [
    "**Задание 15. Обработайте неявные дубликаты в столбце `education`. В этом столбце есть одни и те же значения, но записанные по-разному: с использованием заглавных и строчных букв. Приведите их к нижнему регистру.**"
   ]
  },
  {
   "cell_type": "code",
   "execution_count": 17,
   "id": "a9f8e2bf",
   "metadata": {
    "id": "a9f8e2bf"
   },
   "outputs": [],
   "source": [
    "data = data.drop_duplicates()\n",
    "#data.duplicated().sum()"
   ]
  },
  {
   "cell_type": "markdown",
   "id": "9904cf55",
   "metadata": {
    "deletable": false,
    "editable": false,
    "id": "9904cf55"
   },
   "source": [
    "### Категоризация данных"
   ]
  },
  {
   "cell_type": "markdown",
   "id": "72fcc8a2",
   "metadata": {
    "deletable": false,
    "editable": false,
    "id": "72fcc8a2",
    "tags": [
     "start_task"
    ]
   },
   "source": [
    "**Задание 16. На основании диапазонов, указанных ниже, создайте в датафрейме `data` столбец `total_income_category` с категориями:**\n",
    "\n",
    "- 0–30000 — `'E'`;\n",
    "- 30001–50000 — `'D'`;\n",
    "- 50001–200000 — `'C'`;\n",
    "- 200001–1000000 — `'B'`;\n",
    "- 1000001 и выше — `'A'`.\n",
    "\n",
    "\n",
    "**Например, кредитополучателю с доходом 25000 нужно назначить категорию `'E'`, а клиенту, получающему 235000, — `'B'`. Используйте собственную функцию с именем `categorize_income()` и метод `apply()`.**"
   ]
  },
  {
   "cell_type": "code",
   "execution_count": 18,
   "id": "e1771346",
   "metadata": {
    "id": "e1771346"
   },
   "outputs": [],
   "source": [
    "# создайте функцию categorize_income()\n",
    "def categorize_income(rew):\n",
    "    if rew < 30001:\n",
    "        return 'E'\n",
    "    if 30000 < rew < 50001:\n",
    "        return 'D'\n",
    "    if 50000 < rew < 200001:\n",
    "        return 'C'\n",
    "    if 200000 < rew < 1000001:\n",
    "        return 'B'\n",
    "    return 'A'\n",
    "       "
   ]
  },
  {
   "cell_type": "code",
   "execution_count": 19,
   "id": "d5f3586d",
   "metadata": {
    "id": "d5f3586d"
   },
   "outputs": [],
   "source": [
    "# примените функцию методом apply()\n",
    "data['total_income_category'] = data['total_income'].apply(categorize_income)\n",
    "#data['total_income_category']"
   ]
  },
  {
   "cell_type": "markdown",
   "id": "dde49b5c",
   "metadata": {
    "deletable": false,
    "editable": false,
    "id": "dde49b5c",
    "tags": [
     "start_task"
    ]
   },
   "source": [
    "**Задание 17. Выведите на экран перечень уникальных целей взятия кредита из столбца `purpose`.**"
   ]
  },
  {
   "cell_type": "code",
   "execution_count": 20,
   "id": "f67ce9b3",
   "metadata": {
    "id": "f67ce9b3"
   },
   "outputs": [
    {
     "data": {
      "text/plain": [
       "array(['покупка жилья', 'приобретение автомобиля',\n",
       "       'дополнительное образование', 'сыграть свадьбу',\n",
       "       'операции с жильем', 'образование', 'на проведение свадьбы',\n",
       "       'покупка жилья для семьи', 'покупка недвижимости',\n",
       "       'покупка коммерческой недвижимости', 'покупка жилой недвижимости',\n",
       "       'строительство собственной недвижимости', 'недвижимость',\n",
       "       'строительство недвижимости', 'на покупку подержанного автомобиля',\n",
       "       'на покупку своего автомобиля',\n",
       "       'операции с коммерческой недвижимостью',\n",
       "       'строительство жилой недвижимости', 'жилье',\n",
       "       'операции со своей недвижимостью', 'автомобили',\n",
       "       'заняться образованием', 'сделка с подержанным автомобилем',\n",
       "       'получение образования', 'автомобиль', 'свадьба',\n",
       "       'получение дополнительного образования', 'покупка своего жилья',\n",
       "       'операции с недвижимостью', 'получение высшего образования',\n",
       "       'свой автомобиль', 'сделка с автомобилем',\n",
       "       'профильное образование', 'высшее образование',\n",
       "       'покупка жилья для сдачи', 'на покупку автомобиля', 'ремонт жилью',\n",
       "       'заняться высшим образованием'], dtype=object)"
      ]
     },
     "execution_count": 20,
     "metadata": {},
     "output_type": "execute_result"
    }
   ],
   "source": [
    "# ваш код здесь\n",
    "data['purpose'].unique()"
   ]
  },
  {
   "cell_type": "markdown",
   "id": "85d0aef0",
   "metadata": {
    "deletable": false,
    "editable": false,
    "id": "85d0aef0",
    "tags": [
     "start_task"
    ]
   },
   "source": [
    "**Задание 18. Создайте функцию, которая на основании данных из столбца `purpose` сформирует новый столбец `purpose_category`, в который войдут следующие категории:**\n",
    "\n",
    "- `'операции с автомобилем'`,\n",
    "- `'операции с недвижимостью'`,\n",
    "- `'проведение свадьбы'`,\n",
    "- `'получение образования'`.\n",
    "\n",
    "**Например, если в столбце `purpose` находится подстрока `'на покупку автомобиля'`, то в столбце `purpose_category` должна появиться строка `'операции с автомобилем'`.**\n",
    "\n",
    "**Используйте собственную функцию с именем `categorize_purpose()` и метод `apply()`. Изучите данные в столбце `purpose` и определите, какие подстроки помогут вам правильно определить категорию.**"
   ]
  },
  {
   "cell_type": "code",
   "execution_count": 21,
   "id": "e149fab4",
   "metadata": {
    "id": "e149fab4"
   },
   "outputs": [],
   "source": [
    "# создайте функцию categorize_purpose()\n",
    "\n",
    "def categorize_purpose(row):\n",
    "    if 'автомобил' in row:\n",
    "        return 'операции с автомобилем'\n",
    "    if 'жил' in row or 'недвиж' in row:\n",
    "        return 'операции с недвижимостью'\n",
    "    if 'свад' in row:\n",
    "        return 'проведение свадьбы'\n",
    "    if 'образован' in row:\n",
    "        return 'получение образования'"
   ]
  },
  {
   "cell_type": "code",
   "execution_count": 22,
   "id": "bf36e69b",
   "metadata": {
    "id": "bf36e69b"
   },
   "outputs": [],
   "source": [
    "# примените функцию методом apply()\n",
    "data['purpose_category'] = data['purpose'].apply(categorize_purpose)\n"
   ]
  },
  {
   "cell_type": "code",
   "execution_count": null,
   "id": "1a42aad1",
   "metadata": {},
   "outputs": [],
   "source": []
  },
  {
   "cell_type": "code",
   "execution_count": null,
   "id": "2aa5ca00",
   "metadata": {},
   "outputs": [],
   "source": []
  }
 ],
 "metadata": {
  "ExecuteTimeLog": [
   {
    "duration": 39,
    "start_time": "2022-11-06T15:57:35.226Z"
   },
   {
    "duration": 5,
    "start_time": "2022-11-06T15:57:55.701Z"
   },
   {
    "duration": 5,
    "start_time": "2022-11-06T15:58:18.800Z"
   },
   {
    "duration": 319,
    "start_time": "2022-11-06T15:58:34.561Z"
   },
   {
    "duration": 134,
    "start_time": "2022-11-06T15:58:37.333Z"
   },
   {
    "duration": 9,
    "start_time": "2022-11-06T15:58:40.926Z"
   },
   {
    "duration": 14,
    "start_time": "2022-11-06T15:59:10.726Z"
   },
   {
    "duration": 44,
    "start_time": "2022-11-06T22:06:53.879Z"
   },
   {
    "duration": 368,
    "start_time": "2022-11-06T22:07:30.524Z"
   },
   {
    "duration": 291,
    "start_time": "2022-11-06T22:07:30.894Z"
   },
   {
    "duration": 12,
    "start_time": "2022-11-06T22:07:31.187Z"
   },
   {
    "duration": 46,
    "start_time": "2022-11-06T22:07:31.200Z"
   },
   {
    "duration": 43,
    "start_time": "2022-11-06T22:07:31.248Z"
   },
   {
    "duration": 21,
    "start_time": "2022-11-06T22:07:31.292Z"
   },
   {
    "duration": 27,
    "start_time": "2022-11-06T22:07:31.315Z"
   },
   {
    "duration": 29,
    "start_time": "2022-11-06T22:07:31.343Z"
   },
   {
    "duration": 45,
    "start_time": "2022-11-06T22:07:31.374Z"
   },
   {
    "duration": 25,
    "start_time": "2022-11-06T22:07:31.420Z"
   },
   {
    "duration": 36,
    "start_time": "2022-11-06T22:07:31.447Z"
   },
   {
    "duration": 13,
    "start_time": "2022-11-06T22:07:31.484Z"
   },
   {
    "duration": 33,
    "start_time": "2022-11-06T22:07:31.499Z"
   },
   {
    "duration": 26,
    "start_time": "2022-11-06T22:07:31.535Z"
   },
   {
    "duration": 22,
    "start_time": "2022-11-06T22:07:31.563Z"
   },
   {
    "duration": 36,
    "start_time": "2022-11-06T22:07:31.586Z"
   },
   {
    "duration": 36,
    "start_time": "2022-11-06T22:07:31.623Z"
   },
   {
    "duration": 31,
    "start_time": "2022-11-06T22:07:31.660Z"
   },
   {
    "duration": 28,
    "start_time": "2022-11-06T22:07:31.693Z"
   },
   {
    "duration": 29,
    "start_time": "2022-11-06T22:07:31.723Z"
   },
   {
    "duration": 24,
    "start_time": "2022-11-06T22:07:31.754Z"
   },
   {
    "duration": 22,
    "start_time": "2022-11-06T22:07:31.780Z"
   },
   {
    "duration": 9,
    "start_time": "2022-11-06T22:08:25.581Z"
   },
   {
    "duration": 7,
    "start_time": "2022-11-06T22:19:44.182Z"
   },
   {
    "duration": 5,
    "start_time": "2022-11-06T22:21:17.601Z"
   },
   {
    "duration": 6,
    "start_time": "2022-11-06T22:21:23.701Z"
   },
   {
    "duration": 8,
    "start_time": "2022-11-06T22:21:28.873Z"
   },
   {
    "duration": 10,
    "start_time": "2022-11-06T22:23:00.017Z"
   },
   {
    "duration": 15,
    "start_time": "2022-11-06T22:24:23.999Z"
   },
   {
    "duration": 10,
    "start_time": "2022-11-06T22:25:48.222Z"
   },
   {
    "duration": 376,
    "start_time": "2022-11-06T22:34:38.188Z"
   },
   {
    "duration": 86,
    "start_time": "2022-11-06T22:34:38.566Z"
   },
   {
    "duration": 9,
    "start_time": "2022-11-06T22:34:38.654Z"
   },
   {
    "duration": 19,
    "start_time": "2022-11-06T22:34:38.665Z"
   },
   {
    "duration": 16,
    "start_time": "2022-11-06T22:34:38.685Z"
   },
   {
    "duration": 9,
    "start_time": "2022-11-06T22:34:38.702Z"
   },
   {
    "duration": 3,
    "start_time": "2022-11-06T22:34:38.712Z"
   },
   {
    "duration": 6,
    "start_time": "2022-11-06T22:34:38.717Z"
   },
   {
    "duration": 7,
    "start_time": "2022-11-06T22:34:38.725Z"
   },
   {
    "duration": 6,
    "start_time": "2022-11-06T22:34:38.734Z"
   },
   {
    "duration": 6,
    "start_time": "2022-11-06T22:34:38.742Z"
   },
   {
    "duration": 30,
    "start_time": "2022-11-06T22:34:38.750Z"
   },
   {
    "duration": 8,
    "start_time": "2022-11-06T22:34:38.782Z"
   },
   {
    "duration": 8,
    "start_time": "2022-11-06T22:34:38.792Z"
   },
   {
    "duration": 8,
    "start_time": "2022-11-06T22:34:38.801Z"
   },
   {
    "duration": 5,
    "start_time": "2022-11-06T22:34:38.811Z"
   },
   {
    "duration": 8,
    "start_time": "2022-11-06T22:34:38.817Z"
   },
   {
    "duration": 8,
    "start_time": "2022-11-06T22:34:38.826Z"
   },
   {
    "duration": 9,
    "start_time": "2022-11-06T22:34:38.835Z"
   },
   {
    "duration": 11,
    "start_time": "2022-11-06T22:34:38.846Z"
   },
   {
    "duration": 7,
    "start_time": "2022-11-06T22:34:38.858Z"
   },
   {
    "duration": 11,
    "start_time": "2022-11-06T22:34:38.866Z"
   },
   {
    "duration": 687,
    "start_time": "2022-11-06T22:36:53.571Z"
   },
   {
    "duration": 601,
    "start_time": "2022-11-06T22:37:34.298Z"
   },
   {
    "duration": 50,
    "start_time": "2022-11-06T22:38:05.119Z"
   },
   {
    "duration": 386,
    "start_time": "2022-11-06T22:38:40.430Z"
   },
   {
    "duration": 71,
    "start_time": "2022-11-06T22:38:40.819Z"
   },
   {
    "duration": 12,
    "start_time": "2022-11-06T22:38:40.892Z"
   },
   {
    "duration": 17,
    "start_time": "2022-11-06T22:38:40.906Z"
   },
   {
    "duration": 15,
    "start_time": "2022-11-06T22:38:40.924Z"
   },
   {
    "duration": 703,
    "start_time": "2022-11-06T22:38:40.941Z"
   },
   {
    "duration": 0,
    "start_time": "2022-11-06T22:38:41.646Z"
   },
   {
    "duration": 0,
    "start_time": "2022-11-06T22:38:41.647Z"
   },
   {
    "duration": 0,
    "start_time": "2022-11-06T22:38:41.648Z"
   },
   {
    "duration": 0,
    "start_time": "2022-11-06T22:38:41.649Z"
   },
   {
    "duration": 0,
    "start_time": "2022-11-06T22:38:41.650Z"
   },
   {
    "duration": 0,
    "start_time": "2022-11-06T22:38:41.651Z"
   },
   {
    "duration": 1,
    "start_time": "2022-11-06T22:38:41.652Z"
   },
   {
    "duration": 0,
    "start_time": "2022-11-06T22:38:41.654Z"
   },
   {
    "duration": 0,
    "start_time": "2022-11-06T22:38:41.655Z"
   },
   {
    "duration": 0,
    "start_time": "2022-11-06T22:38:41.657Z"
   },
   {
    "duration": 0,
    "start_time": "2022-11-06T22:38:41.658Z"
   },
   {
    "duration": 0,
    "start_time": "2022-11-06T22:38:41.659Z"
   },
   {
    "duration": 0,
    "start_time": "2022-11-06T22:38:41.661Z"
   },
   {
    "duration": 0,
    "start_time": "2022-11-06T22:38:41.662Z"
   },
   {
    "duration": 0,
    "start_time": "2022-11-06T22:38:41.663Z"
   },
   {
    "duration": 0,
    "start_time": "2022-11-06T22:38:41.665Z"
   },
   {
    "duration": 653,
    "start_time": "2022-11-06T22:38:52.031Z"
   },
   {
    "duration": 615,
    "start_time": "2022-11-06T22:41:32.891Z"
   },
   {
    "duration": 652,
    "start_time": "2022-11-06T22:41:48.678Z"
   },
   {
    "duration": 5,
    "start_time": "2022-11-06T23:09:08.990Z"
   },
   {
    "duration": 5,
    "start_time": "2022-11-06T23:09:12.950Z"
   },
   {
    "duration": 8,
    "start_time": "2022-11-06T23:09:24.651Z"
   },
   {
    "duration": 48,
    "start_time": "2022-11-07T22:18:12.778Z"
   },
   {
    "duration": 391,
    "start_time": "2022-11-07T22:18:46.969Z"
   },
   {
    "duration": 284,
    "start_time": "2022-11-07T22:18:47.362Z"
   },
   {
    "duration": 8,
    "start_time": "2022-11-07T22:18:47.648Z"
   },
   {
    "duration": 18,
    "start_time": "2022-11-07T22:18:47.658Z"
   },
   {
    "duration": 13,
    "start_time": "2022-11-07T22:18:47.678Z"
   },
   {
    "duration": 89,
    "start_time": "2022-11-07T22:18:47.692Z"
   },
   {
    "duration": 0,
    "start_time": "2022-11-07T22:18:47.783Z"
   },
   {
    "duration": 0,
    "start_time": "2022-11-07T22:18:47.784Z"
   },
   {
    "duration": 0,
    "start_time": "2022-11-07T22:18:47.785Z"
   },
   {
    "duration": 0,
    "start_time": "2022-11-07T22:18:47.786Z"
   },
   {
    "duration": 0,
    "start_time": "2022-11-07T22:18:47.787Z"
   },
   {
    "duration": 0,
    "start_time": "2022-11-07T22:18:47.788Z"
   },
   {
    "duration": 0,
    "start_time": "2022-11-07T22:18:47.789Z"
   },
   {
    "duration": 0,
    "start_time": "2022-11-07T22:18:47.790Z"
   },
   {
    "duration": 0,
    "start_time": "2022-11-07T22:18:47.791Z"
   },
   {
    "duration": 0,
    "start_time": "2022-11-07T22:18:47.792Z"
   },
   {
    "duration": 0,
    "start_time": "2022-11-07T22:18:47.794Z"
   },
   {
    "duration": 0,
    "start_time": "2022-11-07T22:18:47.796Z"
   },
   {
    "duration": 0,
    "start_time": "2022-11-07T22:18:47.797Z"
   },
   {
    "duration": 0,
    "start_time": "2022-11-07T22:18:47.798Z"
   },
   {
    "duration": 0,
    "start_time": "2022-11-07T22:18:47.799Z"
   },
   {
    "duration": 0,
    "start_time": "2022-11-07T22:18:47.801Z"
   },
   {
    "duration": 8,
    "start_time": "2022-11-07T22:19:54.283Z"
   },
   {
    "duration": 21,
    "start_time": "2022-11-07T22:20:28.519Z"
   },
   {
    "duration": 23,
    "start_time": "2022-11-07T22:26:02.194Z"
   },
   {
    "duration": 49,
    "start_time": "2022-11-09T11:29:18.176Z"
   },
   {
    "duration": 414,
    "start_time": "2022-11-09T11:29:41.024Z"
   },
   {
    "duration": 277,
    "start_time": "2022-11-09T11:29:41.440Z"
   },
   {
    "duration": 10,
    "start_time": "2022-11-09T11:29:41.719Z"
   },
   {
    "duration": 15,
    "start_time": "2022-11-09T11:29:41.731Z"
   },
   {
    "duration": 14,
    "start_time": "2022-11-09T11:29:41.748Z"
   },
   {
    "duration": 95,
    "start_time": "2022-11-09T11:29:41.763Z"
   },
   {
    "duration": 0,
    "start_time": "2022-11-09T11:29:41.860Z"
   },
   {
    "duration": 0,
    "start_time": "2022-11-09T11:29:41.861Z"
   },
   {
    "duration": 0,
    "start_time": "2022-11-09T11:29:41.862Z"
   },
   {
    "duration": 0,
    "start_time": "2022-11-09T11:29:41.863Z"
   },
   {
    "duration": 0,
    "start_time": "2022-11-09T11:29:41.864Z"
   },
   {
    "duration": 0,
    "start_time": "2022-11-09T11:29:41.865Z"
   },
   {
    "duration": 0,
    "start_time": "2022-11-09T11:29:41.865Z"
   },
   {
    "duration": 0,
    "start_time": "2022-11-09T11:29:41.868Z"
   },
   {
    "duration": 0,
    "start_time": "2022-11-09T11:29:41.869Z"
   },
   {
    "duration": 0,
    "start_time": "2022-11-09T11:29:41.870Z"
   },
   {
    "duration": 0,
    "start_time": "2022-11-09T11:29:41.871Z"
   },
   {
    "duration": 0,
    "start_time": "2022-11-09T11:29:41.872Z"
   },
   {
    "duration": 0,
    "start_time": "2022-11-09T11:29:41.873Z"
   },
   {
    "duration": 0,
    "start_time": "2022-11-09T11:29:41.874Z"
   },
   {
    "duration": 0,
    "start_time": "2022-11-09T11:29:41.875Z"
   },
   {
    "duration": 0,
    "start_time": "2022-11-09T11:29:41.876Z"
   },
   {
    "duration": 24,
    "start_time": "2022-11-09T11:29:56.112Z"
   },
   {
    "duration": 48,
    "start_time": "2022-11-09T11:30:31.437Z"
   },
   {
    "duration": 43,
    "start_time": "2022-11-09T11:31:02.166Z"
   },
   {
    "duration": 6,
    "start_time": "2022-11-09T11:31:12.591Z"
   },
   {
    "duration": 5,
    "start_time": "2022-11-09T11:31:39.270Z"
   },
   {
    "duration": 3,
    "start_time": "2022-11-09T11:31:47.384Z"
   },
   {
    "duration": 5,
    "start_time": "2022-11-09T11:31:54.138Z"
   },
   {
    "duration": 9,
    "start_time": "2022-11-09T11:33:30.895Z"
   },
   {
    "duration": 8,
    "start_time": "2022-11-09T11:37:30.023Z"
   },
   {
    "duration": 5,
    "start_time": "2022-11-09T11:37:34.905Z"
   },
   {
    "duration": 4,
    "start_time": "2022-11-09T11:37:56.113Z"
   },
   {
    "duration": 49,
    "start_time": "2022-11-09T11:38:10.755Z"
   },
   {
    "duration": 8,
    "start_time": "2022-11-09T11:38:19.745Z"
   },
   {
    "duration": 80,
    "start_time": "2022-11-09T11:39:24.638Z"
   },
   {
    "duration": 49,
    "start_time": "2022-11-09T11:39:33.416Z"
   },
   {
    "duration": 7,
    "start_time": "2022-11-09T11:39:55.024Z"
   },
   {
    "duration": 10,
    "start_time": "2022-11-09T11:40:54.601Z"
   },
   {
    "duration": 7,
    "start_time": "2022-11-09T11:41:06.171Z"
   },
   {
    "duration": 10,
    "start_time": "2022-11-09T11:41:35.087Z"
   },
   {
    "duration": 7,
    "start_time": "2022-11-09T11:42:26.551Z"
   },
   {
    "duration": 6,
    "start_time": "2022-11-09T11:42:31.202Z"
   },
   {
    "duration": 4,
    "start_time": "2022-11-09T11:49:23.089Z"
   },
   {
    "duration": 14,
    "start_time": "2022-11-09T11:49:52.372Z"
   },
   {
    "duration": 23,
    "start_time": "2022-11-09T11:50:11.132Z"
   },
   {
    "duration": 34,
    "start_time": "2022-11-09T11:50:42.130Z"
   },
   {
    "duration": 25,
    "start_time": "2022-11-09T11:52:03.948Z"
   },
   {
    "duration": 29,
    "start_time": "2022-11-09T11:52:57.838Z"
   },
   {
    "duration": 1115,
    "start_time": "2022-11-09T11:53:10.069Z"
   },
   {
    "duration": 26,
    "start_time": "2022-11-09T11:53:47.005Z"
   },
   {
    "duration": 1309,
    "start_time": "2022-11-09T11:54:11.079Z"
   },
   {
    "duration": 41,
    "start_time": "2022-11-09T11:54:31.739Z"
   },
   {
    "duration": 4,
    "start_time": "2022-11-09T12:05:26.417Z"
   },
   {
    "duration": 7,
    "start_time": "2022-11-09T12:07:28.846Z"
   },
   {
    "duration": 10,
    "start_time": "2022-11-09T12:07:39.574Z"
   },
   {
    "duration": 7,
    "start_time": "2022-11-09T12:11:19.228Z"
   },
   {
    "duration": 4,
    "start_time": "2022-11-09T12:13:01.923Z"
   },
   {
    "duration": 7,
    "start_time": "2022-11-09T12:16:18.926Z"
   },
   {
    "duration": 6,
    "start_time": "2022-11-09T12:16:40.383Z"
   },
   {
    "duration": 7,
    "start_time": "2022-11-09T12:16:53.962Z"
   },
   {
    "duration": 12,
    "start_time": "2022-11-09T12:18:15.089Z"
   },
   {
    "duration": 92,
    "start_time": "2022-11-09T12:25:33.946Z"
   },
   {
    "duration": 340,
    "start_time": "2022-11-09T12:26:59.861Z"
   },
   {
    "duration": 446,
    "start_time": "2022-11-09T12:29:54.519Z"
   },
   {
    "duration": 78,
    "start_time": "2022-11-09T12:29:54.968Z"
   },
   {
    "duration": 14,
    "start_time": "2022-11-09T12:29:55.049Z"
   },
   {
    "duration": 39,
    "start_time": "2022-11-09T12:29:55.065Z"
   },
   {
    "duration": 20,
    "start_time": "2022-11-09T12:29:55.105Z"
   },
   {
    "duration": 47,
    "start_time": "2022-11-09T12:29:55.126Z"
   },
   {
    "duration": 3,
    "start_time": "2022-11-09T12:29:55.175Z"
   },
   {
    "duration": 36,
    "start_time": "2022-11-09T12:29:55.180Z"
   },
   {
    "duration": 36,
    "start_time": "2022-11-09T12:29:55.218Z"
   },
   {
    "duration": 39,
    "start_time": "2022-11-09T12:29:55.257Z"
   },
   {
    "duration": 18,
    "start_time": "2022-11-09T12:29:55.297Z"
   },
   {
    "duration": 141,
    "start_time": "2022-11-09T12:29:55.317Z"
   },
   {
    "duration": 2,
    "start_time": "2022-11-09T12:29:55.460Z"
   },
   {
    "duration": 23,
    "start_time": "2022-11-09T12:29:55.463Z"
   },
   {
    "duration": 15,
    "start_time": "2022-11-09T12:29:55.488Z"
   },
   {
    "duration": 16,
    "start_time": "2022-11-09T12:29:55.504Z"
   },
   {
    "duration": 38,
    "start_time": "2022-11-09T12:29:55.522Z"
   },
   {
    "duration": 18,
    "start_time": "2022-11-09T12:29:55.562Z"
   },
   {
    "duration": 18,
    "start_time": "2022-11-09T12:29:55.582Z"
   },
   {
    "duration": 17,
    "start_time": "2022-11-09T12:29:55.602Z"
   },
   {
    "duration": 28,
    "start_time": "2022-11-09T12:29:55.621Z"
   },
   {
    "duration": 19,
    "start_time": "2022-11-09T12:29:55.652Z"
   },
   {
    "duration": 335,
    "start_time": "2022-11-09T12:30:49.336Z"
   },
   {
    "duration": 345,
    "start_time": "2022-11-09T12:31:41.625Z"
   },
   {
    "duration": 319,
    "start_time": "2022-11-09T13:04:58.552Z"
   },
   {
    "duration": 10,
    "start_time": "2022-11-09T13:12:44.068Z"
   },
   {
    "duration": 6,
    "start_time": "2022-11-09T13:14:15.867Z"
   },
   {
    "duration": 4,
    "start_time": "2022-11-09T13:15:38.087Z"
   },
   {
    "duration": 360,
    "start_time": "2022-11-11T21:30:44.080Z"
   },
   {
    "duration": 73,
    "start_time": "2022-11-11T21:30:44.442Z"
   },
   {
    "duration": 10,
    "start_time": "2022-11-11T21:30:44.517Z"
   },
   {
    "duration": 22,
    "start_time": "2022-11-11T21:30:44.529Z"
   },
   {
    "duration": 14,
    "start_time": "2022-11-11T21:30:44.553Z"
   },
   {
    "duration": 27,
    "start_time": "2022-11-11T21:30:44.568Z"
   },
   {
    "duration": 4,
    "start_time": "2022-11-11T21:30:44.597Z"
   },
   {
    "duration": 15,
    "start_time": "2022-11-11T21:30:44.602Z"
   },
   {
    "duration": 16,
    "start_time": "2022-11-11T21:30:44.618Z"
   },
   {
    "duration": 16,
    "start_time": "2022-11-11T21:30:44.636Z"
   },
   {
    "duration": 5,
    "start_time": "2022-11-11T21:30:44.653Z"
   },
   {
    "duration": 45,
    "start_time": "2022-11-11T21:30:44.659Z"
   },
   {
    "duration": 9,
    "start_time": "2022-11-11T21:30:44.706Z"
   },
   {
    "duration": 17,
    "start_time": "2022-11-11T21:30:44.717Z"
   },
   {
    "duration": 6,
    "start_time": "2022-11-11T21:30:44.735Z"
   },
   {
    "duration": 10,
    "start_time": "2022-11-11T21:30:44.742Z"
   },
   {
    "duration": 6,
    "start_time": "2022-11-11T21:30:44.753Z"
   },
   {
    "duration": 5,
    "start_time": "2022-11-11T21:30:44.760Z"
   },
   {
    "duration": 5,
    "start_time": "2022-11-11T21:30:44.766Z"
   },
   {
    "duration": 4,
    "start_time": "2022-11-11T21:30:44.773Z"
   },
   {
    "duration": 5,
    "start_time": "2022-11-11T21:30:44.778Z"
   },
   {
    "duration": 4,
    "start_time": "2022-11-11T21:30:44.784Z"
   },
   {
    "duration": 28,
    "start_time": "2022-11-11T21:36:19.563Z"
   },
   {
    "duration": 24,
    "start_time": "2022-11-11T21:36:35.852Z"
   },
   {
    "duration": 15,
    "start_time": "2022-11-11T21:37:21.544Z"
   },
   {
    "duration": 25,
    "start_time": "2022-11-11T21:49:49.182Z"
   },
   {
    "duration": 11,
    "start_time": "2022-11-11T21:51:09.120Z"
   },
   {
    "duration": 16,
    "start_time": "2022-11-11T21:51:12.034Z"
   },
   {
    "duration": 26,
    "start_time": "2022-11-11T21:51:33.361Z"
   },
   {
    "duration": 117,
    "start_time": "2022-11-11T21:53:16.790Z"
   },
   {
    "duration": 56,
    "start_time": "2022-11-11T21:53:54.282Z"
   },
   {
    "duration": 397,
    "start_time": "2022-11-11T21:54:01.053Z"
   },
   {
    "duration": 83,
    "start_time": "2022-11-11T21:54:06.045Z"
   },
   {
    "duration": 10,
    "start_time": "2022-11-11T21:54:12.373Z"
   },
   {
    "duration": 15,
    "start_time": "2022-11-11T21:54:23.548Z"
   },
   {
    "duration": 15,
    "start_time": "2022-11-11T21:54:30.587Z"
   },
   {
    "duration": 24,
    "start_time": "2022-11-11T21:54:48.750Z"
   },
   {
    "duration": 27,
    "start_time": "2022-11-11T22:31:34.231Z"
   },
   {
    "duration": 41,
    "start_time": "2022-11-11T22:32:57.727Z"
   },
   {
    "duration": 24,
    "start_time": "2022-11-11T22:33:00.036Z"
   },
   {
    "duration": 35,
    "start_time": "2022-11-11T22:42:22.529Z"
   },
   {
    "duration": 387,
    "start_time": "2022-11-11T22:42:40.177Z"
   },
   {
    "duration": 77,
    "start_time": "2022-11-11T22:42:40.566Z"
   },
   {
    "duration": 16,
    "start_time": "2022-11-11T22:42:40.645Z"
   },
   {
    "duration": 16,
    "start_time": "2022-11-11T22:42:40.663Z"
   },
   {
    "duration": 17,
    "start_time": "2022-11-11T22:42:40.682Z"
   },
   {
    "duration": 96,
    "start_time": "2022-11-11T22:42:40.702Z"
   },
   {
    "duration": 0,
    "start_time": "2022-11-11T22:42:40.800Z"
   },
   {
    "duration": 0,
    "start_time": "2022-11-11T22:42:40.802Z"
   },
   {
    "duration": 0,
    "start_time": "2022-11-11T22:42:40.803Z"
   },
   {
    "duration": 0,
    "start_time": "2022-11-11T22:42:40.804Z"
   },
   {
    "duration": 0,
    "start_time": "2022-11-11T22:42:40.806Z"
   },
   {
    "duration": 0,
    "start_time": "2022-11-11T22:42:40.807Z"
   },
   {
    "duration": 0,
    "start_time": "2022-11-11T22:42:40.808Z"
   },
   {
    "duration": 0,
    "start_time": "2022-11-11T22:42:40.809Z"
   },
   {
    "duration": 0,
    "start_time": "2022-11-11T22:42:40.833Z"
   },
   {
    "duration": 0,
    "start_time": "2022-11-11T22:42:40.835Z"
   },
   {
    "duration": 0,
    "start_time": "2022-11-11T22:42:40.836Z"
   },
   {
    "duration": 0,
    "start_time": "2022-11-11T22:42:40.837Z"
   },
   {
    "duration": 0,
    "start_time": "2022-11-11T22:42:40.839Z"
   },
   {
    "duration": 0,
    "start_time": "2022-11-11T22:42:40.840Z"
   },
   {
    "duration": 0,
    "start_time": "2022-11-11T22:42:40.841Z"
   },
   {
    "duration": 0,
    "start_time": "2022-11-11T22:42:40.842Z"
   },
   {
    "duration": 11,
    "start_time": "2022-11-11T22:43:48.774Z"
   },
   {
    "duration": 48,
    "start_time": "2022-11-11T22:45:32.097Z"
   },
   {
    "duration": 41,
    "start_time": "2022-11-11T22:45:58.640Z"
   },
   {
    "duration": 40,
    "start_time": "2022-11-11T22:49:38.718Z"
   },
   {
    "duration": 16,
    "start_time": "2022-11-11T22:49:50.636Z"
   },
   {
    "duration": 48,
    "start_time": "2022-11-11T22:50:56.950Z"
   },
   {
    "duration": 682,
    "start_time": "2022-11-11T22:51:04.437Z"
   },
   {
    "duration": 843,
    "start_time": "2022-11-11T22:51:28.196Z"
   },
   {
    "duration": 12,
    "start_time": "2022-11-12T00:15:48.726Z"
   },
   {
    "duration": 36,
    "start_time": "2022-11-12T00:16:04.511Z"
   },
   {
    "duration": 28,
    "start_time": "2022-11-12T00:16:31.474Z"
   },
   {
    "duration": 94,
    "start_time": "2022-11-12T00:18:05.224Z"
   },
   {
    "duration": 86,
    "start_time": "2022-11-12T00:18:13.984Z"
   },
   {
    "duration": 40,
    "start_time": "2022-11-12T00:21:10.676Z"
   },
   {
    "duration": 28,
    "start_time": "2022-11-12T00:21:40.545Z"
   },
   {
    "duration": 372,
    "start_time": "2022-11-12T00:21:55.665Z"
   },
   {
    "duration": 76,
    "start_time": "2022-11-12T00:21:56.039Z"
   },
   {
    "duration": 10,
    "start_time": "2022-11-12T00:21:56.116Z"
   },
   {
    "duration": 28,
    "start_time": "2022-11-12T00:21:56.128Z"
   },
   {
    "duration": 13,
    "start_time": "2022-11-12T00:21:56.157Z"
   },
   {
    "duration": 39,
    "start_time": "2022-11-12T00:21:56.172Z"
   },
   {
    "duration": 4,
    "start_time": "2022-11-12T00:21:56.213Z"
   },
   {
    "duration": 38,
    "start_time": "2022-11-12T00:21:56.218Z"
   },
   {
    "duration": 13,
    "start_time": "2022-11-12T00:21:56.258Z"
   },
   {
    "duration": 25,
    "start_time": "2022-11-12T00:21:56.274Z"
   },
   {
    "duration": 6,
    "start_time": "2022-11-12T00:21:56.301Z"
   },
   {
    "duration": 57,
    "start_time": "2022-11-12T00:21:56.310Z"
   },
   {
    "duration": 10,
    "start_time": "2022-11-12T00:21:56.368Z"
   },
   {
    "duration": 7,
    "start_time": "2022-11-12T00:21:56.379Z"
   },
   {
    "duration": 31,
    "start_time": "2022-11-12T00:21:56.387Z"
   },
   {
    "duration": 33,
    "start_time": "2022-11-12T00:21:56.420Z"
   },
   {
    "duration": 3,
    "start_time": "2022-11-12T00:21:56.454Z"
   },
   {
    "duration": 10,
    "start_time": "2022-11-12T00:21:56.458Z"
   },
   {
    "duration": 12,
    "start_time": "2022-11-12T00:21:56.470Z"
   },
   {
    "duration": 6,
    "start_time": "2022-11-12T00:21:56.484Z"
   },
   {
    "duration": 8,
    "start_time": "2022-11-12T00:21:56.491Z"
   },
   {
    "duration": 11,
    "start_time": "2022-11-12T00:21:56.500Z"
   },
   {
    "duration": 364,
    "start_time": "2022-11-12T00:22:34.194Z"
   },
   {
    "duration": 75,
    "start_time": "2022-11-12T00:22:34.560Z"
   },
   {
    "duration": 10,
    "start_time": "2022-11-12T00:22:34.636Z"
   },
   {
    "duration": 19,
    "start_time": "2022-11-12T00:22:34.648Z"
   },
   {
    "duration": 15,
    "start_time": "2022-11-12T00:22:34.669Z"
   },
   {
    "duration": 55,
    "start_time": "2022-11-12T00:22:34.685Z"
   },
   {
    "duration": 3,
    "start_time": "2022-11-12T00:22:34.742Z"
   },
   {
    "duration": 10,
    "start_time": "2022-11-12T00:22:34.747Z"
   },
   {
    "duration": 4,
    "start_time": "2022-11-12T00:22:34.759Z"
   },
   {
    "duration": 14,
    "start_time": "2022-11-12T00:22:34.765Z"
   },
   {
    "duration": 4,
    "start_time": "2022-11-12T00:22:34.780Z"
   },
   {
    "duration": 59,
    "start_time": "2022-11-12T00:22:34.785Z"
   },
   {
    "duration": 10,
    "start_time": "2022-11-12T00:22:34.845Z"
   },
   {
    "duration": 11,
    "start_time": "2022-11-12T00:22:34.857Z"
   },
   {
    "duration": 33,
    "start_time": "2022-11-12T00:22:34.869Z"
   },
   {
    "duration": 36,
    "start_time": "2022-11-12T00:22:34.904Z"
   },
   {
    "duration": 2,
    "start_time": "2022-11-12T00:22:34.942Z"
   },
   {
    "duration": 6,
    "start_time": "2022-11-12T00:22:34.946Z"
   },
   {
    "duration": 19,
    "start_time": "2022-11-12T00:22:34.954Z"
   },
   {
    "duration": 5,
    "start_time": "2022-11-12T00:22:34.975Z"
   },
   {
    "duration": 6,
    "start_time": "2022-11-12T00:22:34.981Z"
   },
   {
    "duration": 5,
    "start_time": "2022-11-12T00:22:34.989Z"
   },
   {
    "duration": 98,
    "start_time": "2022-11-12T00:23:34.588Z"
   },
   {
    "duration": 44,
    "start_time": "2022-11-12T00:23:58.951Z"
   },
   {
    "duration": 375,
    "start_time": "2022-11-12T00:24:04.595Z"
   },
   {
    "duration": 102,
    "start_time": "2022-11-12T00:24:04.971Z"
   },
   {
    "duration": 10,
    "start_time": "2022-11-12T00:24:05.075Z"
   },
   {
    "duration": 20,
    "start_time": "2022-11-12T00:24:05.086Z"
   },
   {
    "duration": 10,
    "start_time": "2022-11-12T00:24:05.108Z"
   },
   {
    "duration": 45,
    "start_time": "2022-11-12T00:24:05.119Z"
   },
   {
    "duration": 4,
    "start_time": "2022-11-12T00:24:05.165Z"
   },
   {
    "duration": 10,
    "start_time": "2022-11-12T00:24:05.170Z"
   },
   {
    "duration": 10,
    "start_time": "2022-11-12T00:24:05.182Z"
   },
   {
    "duration": 18,
    "start_time": "2022-11-12T00:24:05.195Z"
   },
   {
    "duration": 4,
    "start_time": "2022-11-12T00:24:05.215Z"
   },
   {
    "duration": 38,
    "start_time": "2022-11-12T00:24:05.232Z"
   },
   {
    "duration": 10,
    "start_time": "2022-11-12T00:24:05.271Z"
   },
   {
    "duration": 11,
    "start_time": "2022-11-12T00:24:05.283Z"
   },
   {
    "duration": 43,
    "start_time": "2022-11-12T00:24:05.295Z"
   },
   {
    "duration": 28,
    "start_time": "2022-11-12T00:24:05.340Z"
   },
   {
    "duration": 3,
    "start_time": "2022-11-12T00:24:05.369Z"
   },
   {
    "duration": 15,
    "start_time": "2022-11-12T00:24:05.373Z"
   },
   {
    "duration": 8,
    "start_time": "2022-11-12T00:24:05.390Z"
   },
   {
    "duration": 7,
    "start_time": "2022-11-12T00:24:05.400Z"
   },
   {
    "duration": 6,
    "start_time": "2022-11-12T00:24:05.408Z"
   },
   {
    "duration": 15,
    "start_time": "2022-11-12T00:24:05.415Z"
   },
   {
    "duration": 122,
    "start_time": "2022-11-12T00:24:51.898Z"
   },
   {
    "duration": 113,
    "start_time": "2022-11-12T00:25:04.355Z"
   },
   {
    "duration": 121,
    "start_time": "2022-11-12T00:25:21.035Z"
   },
   {
    "duration": 20,
    "start_time": "2022-11-12T00:25:33.493Z"
   },
   {
    "duration": 127,
    "start_time": "2022-11-12T00:25:48.943Z"
   },
   {
    "duration": 15,
    "start_time": "2022-11-12T00:27:54.870Z"
   },
   {
    "duration": 95,
    "start_time": "2022-11-12T00:28:15.460Z"
   },
   {
    "duration": 43,
    "start_time": "2022-11-12T00:29:35.190Z"
   },
   {
    "duration": 68,
    "start_time": "2022-11-12T00:30:09.131Z"
   },
   {
    "duration": 13,
    "start_time": "2022-11-12T00:30:46.990Z"
   },
   {
    "duration": 374,
    "start_time": "2022-11-12T00:31:13.493Z"
   },
   {
    "duration": 76,
    "start_time": "2022-11-12T00:31:13.869Z"
   },
   {
    "duration": 10,
    "start_time": "2022-11-12T00:31:13.947Z"
   },
   {
    "duration": 17,
    "start_time": "2022-11-12T00:31:13.959Z"
   },
   {
    "duration": 14,
    "start_time": "2022-11-12T00:31:13.978Z"
   },
   {
    "duration": 57,
    "start_time": "2022-11-12T00:31:13.994Z"
   },
   {
    "duration": 4,
    "start_time": "2022-11-12T00:31:14.053Z"
   },
   {
    "duration": 11,
    "start_time": "2022-11-12T00:31:14.059Z"
   },
   {
    "duration": 5,
    "start_time": "2022-11-12T00:31:14.072Z"
   },
   {
    "duration": 15,
    "start_time": "2022-11-12T00:31:14.080Z"
   },
   {
    "duration": 5,
    "start_time": "2022-11-12T00:31:14.097Z"
   },
   {
    "duration": 66,
    "start_time": "2022-11-12T00:31:14.104Z"
   },
   {
    "duration": 9,
    "start_time": "2022-11-12T00:31:14.172Z"
   },
   {
    "duration": 3,
    "start_time": "2022-11-12T00:31:14.183Z"
   },
   {
    "duration": 45,
    "start_time": "2022-11-12T00:31:14.188Z"
   },
   {
    "duration": 28,
    "start_time": "2022-11-12T00:31:14.235Z"
   },
   {
    "duration": 2,
    "start_time": "2022-11-12T00:31:14.264Z"
   },
   {
    "duration": 6,
    "start_time": "2022-11-12T00:31:14.268Z"
   },
   {
    "duration": 7,
    "start_time": "2022-11-12T00:31:14.276Z"
   },
   {
    "duration": 9,
    "start_time": "2022-11-12T00:31:14.284Z"
   },
   {
    "duration": 5,
    "start_time": "2022-11-12T00:31:14.295Z"
   },
   {
    "duration": 7,
    "start_time": "2022-11-12T00:31:14.301Z"
   },
   {
    "duration": 25,
    "start_time": "2022-11-12T00:31:52.348Z"
   },
   {
    "duration": 22,
    "start_time": "2022-11-12T00:32:04.269Z"
   },
   {
    "duration": 431,
    "start_time": "2022-11-12T00:32:24.313Z"
   },
   {
    "duration": 76,
    "start_time": "2022-11-12T00:32:24.746Z"
   },
   {
    "duration": 11,
    "start_time": "2022-11-12T00:32:24.824Z"
   },
   {
    "duration": 20,
    "start_time": "2022-11-12T00:32:24.837Z"
   },
   {
    "duration": 15,
    "start_time": "2022-11-12T00:32:24.858Z"
   },
   {
    "duration": 36,
    "start_time": "2022-11-12T00:32:24.874Z"
   },
   {
    "duration": 4,
    "start_time": "2022-11-12T00:32:24.911Z"
   },
   {
    "duration": 30,
    "start_time": "2022-11-12T00:32:24.916Z"
   },
   {
    "duration": 5,
    "start_time": "2022-11-12T00:32:24.947Z"
   },
   {
    "duration": 18,
    "start_time": "2022-11-12T00:32:24.954Z"
   },
   {
    "duration": 5,
    "start_time": "2022-11-12T00:32:24.973Z"
   },
   {
    "duration": 55,
    "start_time": "2022-11-12T00:32:24.979Z"
   },
   {
    "duration": 10,
    "start_time": "2022-11-12T00:32:25.036Z"
   },
   {
    "duration": 30,
    "start_time": "2022-11-12T00:32:25.047Z"
   },
   {
    "duration": 24,
    "start_time": "2022-11-12T00:32:25.078Z"
   },
   {
    "duration": 48,
    "start_time": "2022-11-12T00:32:25.104Z"
   },
   {
    "duration": 3,
    "start_time": "2022-11-12T00:32:25.153Z"
   },
   {
    "duration": 7,
    "start_time": "2022-11-12T00:32:25.157Z"
   },
   {
    "duration": 7,
    "start_time": "2022-11-12T00:32:25.165Z"
   },
   {
    "duration": 5,
    "start_time": "2022-11-12T00:32:25.173Z"
   },
   {
    "duration": 4,
    "start_time": "2022-11-12T00:32:25.180Z"
   },
   {
    "duration": 6,
    "start_time": "2022-11-12T00:32:25.186Z"
   },
   {
    "duration": 3,
    "start_time": "2022-11-12T00:32:55.289Z"
   },
   {
    "duration": 28,
    "start_time": "2022-11-12T00:32:58.673Z"
   },
   {
    "duration": 23,
    "start_time": "2022-11-12T00:33:03.337Z"
   },
   {
    "duration": 14,
    "start_time": "2022-11-12T00:33:11.779Z"
   },
   {
    "duration": 38,
    "start_time": "2022-11-12T00:33:25.170Z"
   },
   {
    "duration": 400,
    "start_time": "2022-11-12T00:33:31.345Z"
   },
   {
    "duration": 77,
    "start_time": "2022-11-12T00:33:31.747Z"
   },
   {
    "duration": 10,
    "start_time": "2022-11-12T00:33:31.826Z"
   },
   {
    "duration": 27,
    "start_time": "2022-11-12T00:33:31.838Z"
   },
   {
    "duration": 17,
    "start_time": "2022-11-12T00:33:31.867Z"
   },
   {
    "duration": 34,
    "start_time": "2022-11-12T00:33:31.886Z"
   },
   {
    "duration": 4,
    "start_time": "2022-11-12T00:33:31.922Z"
   },
   {
    "duration": 30,
    "start_time": "2022-11-12T00:33:31.927Z"
   },
   {
    "duration": 7,
    "start_time": "2022-11-12T00:33:31.959Z"
   },
   {
    "duration": 20,
    "start_time": "2022-11-12T00:33:31.968Z"
   },
   {
    "duration": 63,
    "start_time": "2022-11-12T00:33:31.990Z"
   },
   {
    "duration": 50,
    "start_time": "2022-11-12T00:33:32.054Z"
   },
   {
    "duration": 10,
    "start_time": "2022-11-12T00:33:32.106Z"
   },
   {
    "duration": 62,
    "start_time": "2022-11-12T00:33:32.117Z"
   },
   {
    "duration": 57,
    "start_time": "2022-11-12T00:33:32.180Z"
   },
   {
    "duration": 22,
    "start_time": "2022-11-12T00:33:32.239Z"
   },
   {
    "duration": 13,
    "start_time": "2022-11-12T00:33:32.263Z"
   },
   {
    "duration": 21,
    "start_time": "2022-11-12T00:33:32.278Z"
   },
   {
    "duration": 26,
    "start_time": "2022-11-12T00:33:32.301Z"
   },
   {
    "duration": 20,
    "start_time": "2022-11-12T00:33:32.328Z"
   },
   {
    "duration": 15,
    "start_time": "2022-11-12T00:33:32.350Z"
   },
   {
    "duration": 33,
    "start_time": "2022-11-12T00:33:32.367Z"
   },
   {
    "duration": 25,
    "start_time": "2022-11-12T00:33:51.542Z"
   },
   {
    "duration": 49,
    "start_time": "2022-11-12T00:34:12.262Z"
   },
   {
    "duration": 420,
    "start_time": "2022-11-12T00:34:24.421Z"
   },
   {
    "duration": 76,
    "start_time": "2022-11-12T00:34:24.843Z"
   },
   {
    "duration": 10,
    "start_time": "2022-11-12T00:34:24.921Z"
   },
   {
    "duration": 18,
    "start_time": "2022-11-12T00:34:24.933Z"
   },
   {
    "duration": 15,
    "start_time": "2022-11-12T00:34:24.953Z"
   },
   {
    "duration": 35,
    "start_time": "2022-11-12T00:34:24.970Z"
   },
   {
    "duration": 27,
    "start_time": "2022-11-12T00:34:25.007Z"
   },
   {
    "duration": 16,
    "start_time": "2022-11-12T00:34:25.036Z"
   },
   {
    "duration": 4,
    "start_time": "2022-11-12T00:34:25.054Z"
   },
   {
    "duration": 15,
    "start_time": "2022-11-12T00:34:25.060Z"
   },
   {
    "duration": 4,
    "start_time": "2022-11-12T00:34:25.076Z"
   },
   {
    "duration": 60,
    "start_time": "2022-11-12T00:34:25.082Z"
   },
   {
    "duration": 10,
    "start_time": "2022-11-12T00:34:25.144Z"
   },
   {
    "duration": 27,
    "start_time": "2022-11-12T00:34:25.155Z"
   },
   {
    "duration": 22,
    "start_time": "2022-11-12T00:34:25.184Z"
   },
   {
    "duration": 14,
    "start_time": "2022-11-12T00:34:25.232Z"
   },
   {
    "duration": 2,
    "start_time": "2022-11-12T00:34:25.248Z"
   },
   {
    "duration": 9,
    "start_time": "2022-11-12T00:34:25.252Z"
   },
   {
    "duration": 6,
    "start_time": "2022-11-12T00:34:25.262Z"
   },
   {
    "duration": 16,
    "start_time": "2022-11-12T00:34:25.269Z"
   },
   {
    "duration": 6,
    "start_time": "2022-11-12T00:34:25.286Z"
   },
   {
    "duration": 4,
    "start_time": "2022-11-12T00:34:25.293Z"
   },
   {
    "duration": 47,
    "start_time": "2022-11-12T00:34:50.079Z"
   },
   {
    "duration": 391,
    "start_time": "2022-11-12T00:34:57.354Z"
   },
   {
    "duration": 85,
    "start_time": "2022-11-12T00:34:57.747Z"
   },
   {
    "duration": 10,
    "start_time": "2022-11-12T00:34:57.834Z"
   },
   {
    "duration": 16,
    "start_time": "2022-11-12T00:34:57.846Z"
   },
   {
    "duration": 14,
    "start_time": "2022-11-12T00:34:57.864Z"
   },
   {
    "duration": 55,
    "start_time": "2022-11-12T00:34:57.880Z"
   },
   {
    "duration": 4,
    "start_time": "2022-11-12T00:34:57.937Z"
   },
   {
    "duration": 16,
    "start_time": "2022-11-12T00:34:57.942Z"
   },
   {
    "duration": 4,
    "start_time": "2022-11-12T00:34:57.959Z"
   },
   {
    "duration": 24,
    "start_time": "2022-11-12T00:34:57.966Z"
   },
   {
    "duration": 8,
    "start_time": "2022-11-12T00:34:57.992Z"
   },
   {
    "duration": 42,
    "start_time": "2022-11-12T00:34:58.002Z"
   },
   {
    "duration": 10,
    "start_time": "2022-11-12T00:34:58.046Z"
   },
   {
    "duration": 11,
    "start_time": "2022-11-12T00:34:58.058Z"
   },
   {
    "duration": 28,
    "start_time": "2022-11-12T00:34:58.070Z"
   },
   {
    "duration": 15,
    "start_time": "2022-11-12T00:34:58.100Z"
   },
   {
    "duration": 16,
    "start_time": "2022-11-12T00:34:58.117Z"
   },
   {
    "duration": 7,
    "start_time": "2022-11-12T00:34:58.134Z"
   },
   {
    "duration": 8,
    "start_time": "2022-11-12T00:34:58.142Z"
   },
   {
    "duration": 6,
    "start_time": "2022-11-12T00:34:58.152Z"
   },
   {
    "duration": 14,
    "start_time": "2022-11-12T00:34:58.160Z"
   },
   {
    "duration": 16,
    "start_time": "2022-11-12T00:34:58.176Z"
   },
   {
    "duration": 58,
    "start_time": "2022-11-12T00:35:27.875Z"
   },
   {
    "duration": 379,
    "start_time": "2022-11-12T00:35:34.658Z"
   },
   {
    "duration": 76,
    "start_time": "2022-11-12T00:35:35.039Z"
   },
   {
    "duration": 10,
    "start_time": "2022-11-12T00:35:35.117Z"
   },
   {
    "duration": 20,
    "start_time": "2022-11-12T00:35:35.128Z"
   },
   {
    "duration": 14,
    "start_time": "2022-11-12T00:35:35.150Z"
   },
   {
    "duration": 37,
    "start_time": "2022-11-12T00:35:35.166Z"
   },
   {
    "duration": 4,
    "start_time": "2022-11-12T00:35:35.204Z"
   },
   {
    "duration": 23,
    "start_time": "2022-11-12T00:35:35.210Z"
   },
   {
    "duration": 11,
    "start_time": "2022-11-12T00:35:35.235Z"
   },
   {
    "duration": 18,
    "start_time": "2022-11-12T00:35:35.248Z"
   },
   {
    "duration": 13,
    "start_time": "2022-11-12T00:35:35.268Z"
   },
   {
    "duration": 73,
    "start_time": "2022-11-12T00:35:35.283Z"
   },
   {
    "duration": 10,
    "start_time": "2022-11-12T00:35:35.358Z"
   },
   {
    "duration": 6,
    "start_time": "2022-11-12T00:35:35.371Z"
   },
   {
    "duration": 29,
    "start_time": "2022-11-12T00:35:35.379Z"
   },
   {
    "duration": 29,
    "start_time": "2022-11-12T00:35:35.410Z"
   },
   {
    "duration": 6,
    "start_time": "2022-11-12T00:35:35.440Z"
   },
   {
    "duration": 8,
    "start_time": "2022-11-12T00:35:35.447Z"
   },
   {
    "duration": 10,
    "start_time": "2022-11-12T00:35:35.457Z"
   },
   {
    "duration": 5,
    "start_time": "2022-11-12T00:35:35.468Z"
   },
   {
    "duration": 5,
    "start_time": "2022-11-12T00:35:35.474Z"
   },
   {
    "duration": 6,
    "start_time": "2022-11-12T00:35:35.480Z"
   },
   {
    "duration": 38,
    "start_time": "2022-11-12T00:35:48.666Z"
   },
   {
    "duration": 27,
    "start_time": "2022-11-12T00:36:49.963Z"
   },
   {
    "duration": 428,
    "start_time": "2022-11-12T00:37:04.448Z"
   },
   {
    "duration": 77,
    "start_time": "2022-11-12T00:37:04.879Z"
   },
   {
    "duration": 2,
    "start_time": "2022-11-12T00:37:04.959Z"
   },
   {
    "duration": 20,
    "start_time": "2022-11-12T00:37:04.964Z"
   },
   {
    "duration": 16,
    "start_time": "2022-11-12T00:37:04.986Z"
   },
   {
    "duration": 41,
    "start_time": "2022-11-12T00:37:05.004Z"
   },
   {
    "duration": 31,
    "start_time": "2022-11-12T00:37:05.046Z"
   },
   {
    "duration": 18,
    "start_time": "2022-11-12T00:37:05.079Z"
   },
   {
    "duration": 27,
    "start_time": "2022-11-12T00:37:05.098Z"
   },
   {
    "duration": 41,
    "start_time": "2022-11-12T00:37:05.128Z"
   },
   {
    "duration": 6,
    "start_time": "2022-11-12T00:37:05.171Z"
   },
   {
    "duration": 79,
    "start_time": "2022-11-12T00:37:05.178Z"
   },
   {
    "duration": 10,
    "start_time": "2022-11-12T00:37:05.259Z"
   },
   {
    "duration": 8,
    "start_time": "2022-11-12T00:37:05.270Z"
   },
   {
    "duration": 30,
    "start_time": "2022-11-12T00:37:05.280Z"
   },
   {
    "duration": 24,
    "start_time": "2022-11-12T00:37:05.311Z"
   },
   {
    "duration": 2,
    "start_time": "2022-11-12T00:37:05.337Z"
   },
   {
    "duration": 7,
    "start_time": "2022-11-12T00:37:05.341Z"
   },
   {
    "duration": 9,
    "start_time": "2022-11-12T00:37:05.350Z"
   },
   {
    "duration": 11,
    "start_time": "2022-11-12T00:37:05.360Z"
   },
   {
    "duration": 10,
    "start_time": "2022-11-12T00:37:05.373Z"
   },
   {
    "duration": 11,
    "start_time": "2022-11-12T00:37:05.384Z"
   },
   {
    "duration": 41,
    "start_time": "2022-11-12T00:37:44.431Z"
   },
   {
    "duration": 400,
    "start_time": "2022-11-12T00:37:50.035Z"
   },
   {
    "duration": 80,
    "start_time": "2022-11-12T00:37:50.437Z"
   },
   {
    "duration": 3,
    "start_time": "2022-11-12T00:37:50.519Z"
   },
   {
    "duration": 20,
    "start_time": "2022-11-12T00:37:50.524Z"
   },
   {
    "duration": 17,
    "start_time": "2022-11-12T00:37:50.545Z"
   },
   {
    "duration": 35,
    "start_time": "2022-11-12T00:37:50.564Z"
   },
   {
    "duration": 4,
    "start_time": "2022-11-12T00:37:50.601Z"
   },
   {
    "duration": 27,
    "start_time": "2022-11-12T00:37:50.607Z"
   },
   {
    "duration": 4,
    "start_time": "2022-11-12T00:37:50.636Z"
   },
   {
    "duration": 41,
    "start_time": "2022-11-12T00:37:50.643Z"
   },
   {
    "duration": 5,
    "start_time": "2022-11-12T00:37:50.686Z"
   },
   {
    "duration": 97,
    "start_time": "2022-11-12T00:37:50.693Z"
   },
   {
    "duration": 13,
    "start_time": "2022-11-12T00:37:50.792Z"
   },
   {
    "duration": 21,
    "start_time": "2022-11-12T00:37:50.807Z"
   },
   {
    "duration": 38,
    "start_time": "2022-11-12T00:37:50.830Z"
   },
   {
    "duration": 15,
    "start_time": "2022-11-12T00:37:50.869Z"
   },
   {
    "duration": 3,
    "start_time": "2022-11-12T00:37:50.885Z"
   },
   {
    "duration": 21,
    "start_time": "2022-11-12T00:37:50.889Z"
   },
   {
    "duration": 17,
    "start_time": "2022-11-12T00:37:50.912Z"
   },
   {
    "duration": 6,
    "start_time": "2022-11-12T00:37:50.931Z"
   },
   {
    "duration": 15,
    "start_time": "2022-11-12T00:37:50.939Z"
   },
   {
    "duration": 15,
    "start_time": "2022-11-12T00:37:50.956Z"
   },
   {
    "duration": 11,
    "start_time": "2022-11-12T00:38:56.440Z"
   },
   {
    "duration": 423,
    "start_time": "2022-11-12T00:39:10.804Z"
   },
   {
    "duration": 79,
    "start_time": "2022-11-12T00:39:12.868Z"
   },
   {
    "duration": 3,
    "start_time": "2022-11-12T00:39:15.880Z"
   },
   {
    "duration": 16,
    "start_time": "2022-11-12T00:39:28.740Z"
   },
   {
    "duration": 15,
    "start_time": "2022-11-12T00:39:36.459Z"
   },
   {
    "duration": 34,
    "start_time": "2022-11-12T00:39:48.804Z"
   },
   {
    "duration": 4,
    "start_time": "2022-11-12T00:40:04.872Z"
   },
   {
    "duration": 8,
    "start_time": "2022-11-12T00:40:25.128Z"
   },
   {
    "duration": 4,
    "start_time": "2022-11-12T00:40:34.888Z"
   },
   {
    "duration": 11,
    "start_time": "2022-11-12T00:40:39.320Z"
   },
   {
    "duration": 4,
    "start_time": "2022-11-12T00:40:45.145Z"
   },
   {
    "duration": 60,
    "start_time": "2022-11-12T00:40:50.094Z"
   },
   {
    "duration": 49,
    "start_time": "2022-11-12T00:42:31.357Z"
   },
   {
    "duration": 433,
    "start_time": "2022-11-12T00:42:48.314Z"
   },
   {
    "duration": 74,
    "start_time": "2022-11-12T00:42:48.749Z"
   },
   {
    "duration": 2,
    "start_time": "2022-11-12T00:42:48.825Z"
   },
   {
    "duration": 18,
    "start_time": "2022-11-12T00:42:48.829Z"
   },
   {
    "duration": 14,
    "start_time": "2022-11-12T00:42:48.849Z"
   },
   {
    "duration": 33,
    "start_time": "2022-11-12T00:42:48.864Z"
   },
   {
    "duration": 4,
    "start_time": "2022-11-12T00:42:48.898Z"
   },
   {
    "duration": 13,
    "start_time": "2022-11-12T00:42:48.903Z"
   },
   {
    "duration": 4,
    "start_time": "2022-11-12T00:42:48.932Z"
   },
   {
    "duration": 13,
    "start_time": "2022-11-12T00:42:48.939Z"
   },
   {
    "duration": 5,
    "start_time": "2022-11-12T00:42:48.953Z"
   },
   {
    "duration": 36,
    "start_time": "2022-11-12T00:42:48.960Z"
   },
   {
    "duration": 35,
    "start_time": "2022-11-12T00:42:48.998Z"
   },
   {
    "duration": 4,
    "start_time": "2022-11-12T00:42:49.035Z"
   },
   {
    "duration": 28,
    "start_time": "2022-11-12T00:42:49.040Z"
   },
   {
    "duration": 14,
    "start_time": "2022-11-12T00:42:49.069Z"
   },
   {
    "duration": 2,
    "start_time": "2022-11-12T00:42:49.084Z"
   },
   {
    "duration": 6,
    "start_time": "2022-11-12T00:42:49.088Z"
   },
   {
    "duration": 5,
    "start_time": "2022-11-12T00:42:49.096Z"
   },
   {
    "duration": 30,
    "start_time": "2022-11-12T00:42:49.102Z"
   },
   {
    "duration": 2,
    "start_time": "2022-11-12T00:42:49.134Z"
   },
   {
    "duration": 5,
    "start_time": "2022-11-12T00:42:49.138Z"
   },
   {
    "duration": 25,
    "start_time": "2022-11-12T00:43:07.973Z"
   },
   {
    "duration": 14,
    "start_time": "2022-11-12T00:43:09.901Z"
   },
   {
    "duration": 377,
    "start_time": "2022-11-12T00:44:37.557Z"
   },
   {
    "duration": 76,
    "start_time": "2022-11-12T00:44:37.936Z"
   },
   {
    "duration": 2,
    "start_time": "2022-11-12T00:44:38.014Z"
   },
   {
    "duration": 29,
    "start_time": "2022-11-12T00:44:38.018Z"
   },
   {
    "duration": 15,
    "start_time": "2022-11-12T00:44:38.048Z"
   },
   {
    "duration": 34,
    "start_time": "2022-11-12T00:44:38.064Z"
   },
   {
    "duration": 4,
    "start_time": "2022-11-12T00:44:38.099Z"
   },
   {
    "duration": 29,
    "start_time": "2022-11-12T00:44:38.104Z"
   },
   {
    "duration": 4,
    "start_time": "2022-11-12T00:44:38.135Z"
   },
   {
    "duration": 14,
    "start_time": "2022-11-12T00:44:38.141Z"
   },
   {
    "duration": 5,
    "start_time": "2022-11-12T00:44:38.157Z"
   },
   {
    "duration": 43,
    "start_time": "2022-11-12T00:44:38.164Z"
   },
   {
    "duration": 28,
    "start_time": "2022-11-12T00:44:38.209Z"
   },
   {
    "duration": 5,
    "start_time": "2022-11-12T00:44:38.239Z"
   },
   {
    "duration": 30,
    "start_time": "2022-11-12T00:44:38.245Z"
   },
   {
    "duration": 14,
    "start_time": "2022-11-12T00:44:38.277Z"
   },
   {
    "duration": 3,
    "start_time": "2022-11-12T00:44:38.292Z"
   },
   {
    "duration": 5,
    "start_time": "2022-11-12T00:44:38.297Z"
   },
   {
    "duration": 3,
    "start_time": "2022-11-12T00:44:38.333Z"
   },
   {
    "duration": 5,
    "start_time": "2022-11-12T00:44:38.338Z"
   },
   {
    "duration": 6,
    "start_time": "2022-11-12T00:44:38.344Z"
   },
   {
    "duration": 5,
    "start_time": "2022-11-12T00:44:38.351Z"
   },
   {
    "duration": 25,
    "start_time": "2022-11-12T00:45:04.217Z"
   },
   {
    "duration": 44,
    "start_time": "2022-11-12T11:26:46.867Z"
   },
   {
    "duration": 336,
    "start_time": "2022-11-12T11:26:58.682Z"
   },
   {
    "duration": 686,
    "start_time": "2022-11-12T11:26:59.020Z"
   },
   {
    "duration": 2,
    "start_time": "2022-11-12T11:26:59.708Z"
   },
   {
    "duration": 22,
    "start_time": "2022-11-12T11:26:59.712Z"
   },
   {
    "duration": 15,
    "start_time": "2022-11-12T11:26:59.736Z"
   },
   {
    "duration": 114,
    "start_time": "2022-11-12T11:26:59.753Z"
   },
   {
    "duration": 0,
    "start_time": "2022-11-12T11:26:59.868Z"
   },
   {
    "duration": 0,
    "start_time": "2022-11-12T11:26:59.869Z"
   },
   {
    "duration": 0,
    "start_time": "2022-11-12T11:26:59.870Z"
   },
   {
    "duration": 0,
    "start_time": "2022-11-12T11:26:59.871Z"
   },
   {
    "duration": 0,
    "start_time": "2022-11-12T11:26:59.872Z"
   },
   {
    "duration": 0,
    "start_time": "2022-11-12T11:26:59.873Z"
   },
   {
    "duration": 0,
    "start_time": "2022-11-12T11:26:59.874Z"
   },
   {
    "duration": 0,
    "start_time": "2022-11-12T11:26:59.875Z"
   },
   {
    "duration": 0,
    "start_time": "2022-11-12T11:26:59.876Z"
   },
   {
    "duration": 0,
    "start_time": "2022-11-12T11:26:59.876Z"
   },
   {
    "duration": 0,
    "start_time": "2022-11-12T11:26:59.878Z"
   },
   {
    "duration": 0,
    "start_time": "2022-11-12T11:26:59.879Z"
   },
   {
    "duration": 0,
    "start_time": "2022-11-12T11:26:59.879Z"
   },
   {
    "duration": 0,
    "start_time": "2022-11-12T11:26:59.880Z"
   },
   {
    "duration": 0,
    "start_time": "2022-11-12T11:26:59.881Z"
   },
   {
    "duration": 0,
    "start_time": "2022-11-12T11:26:59.882Z"
   },
   {
    "duration": 45,
    "start_time": "2022-11-12T11:31:32.309Z"
   },
   {
    "duration": 9,
    "start_time": "2022-11-12T11:33:07.477Z"
   },
   {
    "duration": 4,
    "start_time": "2022-11-12T11:33:12.199Z"
   },
   {
    "duration": 5,
    "start_time": "2022-11-12T11:33:27.844Z"
   },
   {
    "duration": 14,
    "start_time": "2022-11-12T11:33:37.044Z"
   },
   {
    "duration": 4,
    "start_time": "2022-11-12T11:33:41.450Z"
   },
   {
    "duration": 34,
    "start_time": "2022-11-12T11:34:09.085Z"
   },
   {
    "duration": 11,
    "start_time": "2022-11-12T11:34:12.425Z"
   },
   {
    "duration": 3,
    "start_time": "2022-11-12T11:34:42.338Z"
   },
   {
    "duration": 29,
    "start_time": "2022-11-12T11:34:48.871Z"
   },
   {
    "duration": 31,
    "start_time": "2022-11-12T11:34:52.084Z"
   },
   {
    "duration": 34,
    "start_time": "2022-11-12T11:35:26.895Z"
   },
   {
    "duration": 4,
    "start_time": "2022-11-12T11:35:43.905Z"
   },
   {
    "duration": 8,
    "start_time": "2022-11-12T11:35:46.074Z"
   },
   {
    "duration": 389,
    "start_time": "2022-11-12T11:35:51.535Z"
   },
   {
    "duration": 73,
    "start_time": "2022-11-12T11:35:51.926Z"
   },
   {
    "duration": 2,
    "start_time": "2022-11-12T11:35:52.000Z"
   },
   {
    "duration": 25,
    "start_time": "2022-11-12T11:35:52.004Z"
   },
   {
    "duration": 13,
    "start_time": "2022-11-12T11:35:52.030Z"
   },
   {
    "duration": 45,
    "start_time": "2022-11-12T11:35:52.044Z"
   },
   {
    "duration": 3,
    "start_time": "2022-11-12T11:35:52.091Z"
   },
   {
    "duration": 12,
    "start_time": "2022-11-12T11:35:52.096Z"
   },
   {
    "duration": 20,
    "start_time": "2022-11-12T11:35:52.110Z"
   },
   {
    "duration": 11,
    "start_time": "2022-11-12T11:35:52.133Z"
   },
   {
    "duration": 3,
    "start_time": "2022-11-12T11:35:52.146Z"
   },
   {
    "duration": 39,
    "start_time": "2022-11-12T11:35:52.150Z"
   },
   {
    "duration": 9,
    "start_time": "2022-11-12T11:35:52.190Z"
   },
   {
    "duration": 11,
    "start_time": "2022-11-12T11:35:52.201Z"
   },
   {
    "duration": 24,
    "start_time": "2022-11-12T11:35:52.230Z"
   },
   {
    "duration": 23,
    "start_time": "2022-11-12T11:35:52.256Z"
   },
   {
    "duration": 2,
    "start_time": "2022-11-12T11:35:52.281Z"
   },
   {
    "duration": 5,
    "start_time": "2022-11-12T11:35:52.284Z"
   },
   {
    "duration": 7,
    "start_time": "2022-11-12T11:35:52.290Z"
   },
   {
    "duration": 5,
    "start_time": "2022-11-12T11:35:52.299Z"
   },
   {
    "duration": 25,
    "start_time": "2022-11-12T11:35:52.305Z"
   },
   {
    "duration": 2,
    "start_time": "2022-11-12T11:35:52.331Z"
   },
   {
    "duration": 59,
    "start_time": "2022-11-12T11:36:22.104Z"
   },
   {
    "duration": 39,
    "start_time": "2022-11-12T11:36:40.257Z"
   },
   {
    "duration": 30,
    "start_time": "2022-11-12T11:36:49.774Z"
   },
   {
    "duration": 90,
    "start_time": "2022-11-12T11:37:13.856Z"
   },
   {
    "duration": 93,
    "start_time": "2022-11-12T11:37:17.820Z"
   },
   {
    "duration": 11,
    "start_time": "2022-11-12T11:37:55.315Z"
   },
   {
    "duration": 34,
    "start_time": "2022-11-12T11:38:08.422Z"
   },
   {
    "duration": 11,
    "start_time": "2022-11-12T11:38:25.282Z"
   },
   {
    "duration": 53,
    "start_time": "2022-11-12T11:38:36.849Z"
   },
   {
    "duration": 26,
    "start_time": "2022-11-12T11:39:09.653Z"
   },
   {
    "duration": 4,
    "start_time": "2022-11-12T11:39:18.122Z"
   },
   {
    "duration": 32,
    "start_time": "2022-11-12T11:39:40.563Z"
   },
   {
    "duration": 25,
    "start_time": "2022-11-12T11:40:11.792Z"
   },
   {
    "duration": 23,
    "start_time": "2022-11-12T11:40:25.252Z"
   },
   {
    "duration": 362,
    "start_time": "2022-11-12T11:40:41.390Z"
   },
   {
    "duration": 75,
    "start_time": "2022-11-12T11:40:41.754Z"
   },
   {
    "duration": 2,
    "start_time": "2022-11-12T11:40:41.831Z"
   },
   {
    "duration": 17,
    "start_time": "2022-11-12T11:40:41.836Z"
   },
   {
    "duration": 13,
    "start_time": "2022-11-12T11:40:41.855Z"
   },
   {
    "duration": 35,
    "start_time": "2022-11-12T11:40:41.869Z"
   },
   {
    "duration": 24,
    "start_time": "2022-11-12T11:40:41.905Z"
   },
   {
    "duration": 7,
    "start_time": "2022-11-12T11:40:41.931Z"
   },
   {
    "duration": 4,
    "start_time": "2022-11-12T11:40:41.939Z"
   },
   {
    "duration": 23,
    "start_time": "2022-11-12T11:40:41.946Z"
   },
   {
    "duration": 4,
    "start_time": "2022-11-12T11:40:41.971Z"
   },
   {
    "duration": 35,
    "start_time": "2022-11-12T11:40:41.976Z"
   },
   {
    "duration": 20,
    "start_time": "2022-11-12T11:40:42.013Z"
   },
   {
    "duration": 12,
    "start_time": "2022-11-12T11:40:42.035Z"
   },
   {
    "duration": 27,
    "start_time": "2022-11-12T11:40:42.048Z"
   },
   {
    "duration": 33,
    "start_time": "2022-11-12T11:40:42.076Z"
   },
   {
    "duration": 18,
    "start_time": "2022-11-12T11:40:42.112Z"
   },
   {
    "duration": 7,
    "start_time": "2022-11-12T11:40:42.132Z"
   },
   {
    "duration": 5,
    "start_time": "2022-11-12T11:40:42.140Z"
   },
   {
    "duration": 11,
    "start_time": "2022-11-12T11:40:42.146Z"
   },
   {
    "duration": 13,
    "start_time": "2022-11-12T11:40:42.158Z"
   },
   {
    "duration": 5,
    "start_time": "2022-11-12T11:40:42.173Z"
   },
   {
    "duration": 30,
    "start_time": "2022-11-12T11:42:14.232Z"
   },
   {
    "duration": 5,
    "start_time": "2022-11-12T11:51:08.499Z"
   },
   {
    "duration": 5,
    "start_time": "2022-11-12T11:56:05.597Z"
   },
   {
    "duration": 5,
    "start_time": "2022-11-12T11:56:13.524Z"
   },
   {
    "duration": 4,
    "start_time": "2022-11-12T11:58:12.025Z"
   },
   {
    "duration": 5,
    "start_time": "2022-11-12T11:58:16.886Z"
   },
   {
    "duration": 17,
    "start_time": "2022-11-12T11:59:32.225Z"
   },
   {
    "duration": 4,
    "start_time": "2022-11-12T11:59:35.035Z"
   },
   {
    "duration": 392,
    "start_time": "2022-11-12T11:59:44.253Z"
   },
   {
    "duration": 77,
    "start_time": "2022-11-12T11:59:44.647Z"
   },
   {
    "duration": 3,
    "start_time": "2022-11-12T11:59:44.726Z"
   },
   {
    "duration": 20,
    "start_time": "2022-11-12T11:59:44.731Z"
   },
   {
    "duration": 14,
    "start_time": "2022-11-12T11:59:44.753Z"
   },
   {
    "duration": 64,
    "start_time": "2022-11-12T11:59:44.769Z"
   },
   {
    "duration": 5,
    "start_time": "2022-11-12T11:59:44.835Z"
   },
   {
    "duration": 40,
    "start_time": "2022-11-12T11:59:44.842Z"
   },
   {
    "duration": 5,
    "start_time": "2022-11-12T11:59:44.884Z"
   },
   {
    "duration": 8,
    "start_time": "2022-11-12T11:59:44.892Z"
   },
   {
    "duration": 6,
    "start_time": "2022-11-12T11:59:44.904Z"
   },
   {
    "duration": 79,
    "start_time": "2022-11-12T11:59:44.912Z"
   },
   {
    "duration": 14,
    "start_time": "2022-11-12T11:59:44.995Z"
   },
   {
    "duration": 19,
    "start_time": "2022-11-12T11:59:45.011Z"
   },
   {
    "duration": 78,
    "start_time": "2022-11-12T11:59:45.033Z"
   },
   {
    "duration": 40,
    "start_time": "2022-11-12T11:59:45.113Z"
   },
   {
    "duration": 4,
    "start_time": "2022-11-12T11:59:45.155Z"
   },
   {
    "duration": 46,
    "start_time": "2022-11-12T11:59:45.162Z"
   },
   {
    "duration": 13,
    "start_time": "2022-11-12T11:59:45.210Z"
   },
   {
    "duration": 8,
    "start_time": "2022-11-12T11:59:45.225Z"
   },
   {
    "duration": 30,
    "start_time": "2022-11-12T11:59:45.235Z"
   },
   {
    "duration": 15,
    "start_time": "2022-11-12T11:59:45.267Z"
   },
   {
    "duration": 7,
    "start_time": "2022-11-12T12:01:12.064Z"
   },
   {
    "duration": 4,
    "start_time": "2022-11-12T12:01:15.657Z"
   },
   {
    "duration": 411,
    "start_time": "2022-11-12T12:01:24.865Z"
   },
   {
    "duration": 70,
    "start_time": "2022-11-12T12:01:25.278Z"
   },
   {
    "duration": 2,
    "start_time": "2022-11-12T12:01:25.350Z"
   },
   {
    "duration": 48,
    "start_time": "2022-11-12T12:01:25.354Z"
   },
   {
    "duration": 33,
    "start_time": "2022-11-12T12:01:25.403Z"
   },
   {
    "duration": 36,
    "start_time": "2022-11-12T12:01:25.437Z"
   },
   {
    "duration": 4,
    "start_time": "2022-11-12T12:01:25.474Z"
   },
   {
    "duration": 30,
    "start_time": "2022-11-12T12:01:25.479Z"
   },
   {
    "duration": 22,
    "start_time": "2022-11-12T12:01:25.510Z"
   },
   {
    "duration": 19,
    "start_time": "2022-11-12T12:01:25.534Z"
   },
   {
    "duration": 36,
    "start_time": "2022-11-12T12:01:25.555Z"
   },
   {
    "duration": 45,
    "start_time": "2022-11-12T12:01:25.592Z"
   },
   {
    "duration": 43,
    "start_time": "2022-11-12T12:01:25.639Z"
   },
   {
    "duration": 21,
    "start_time": "2022-11-12T12:01:25.684Z"
   },
   {
    "duration": 44,
    "start_time": "2022-11-12T12:01:25.707Z"
   },
   {
    "duration": 28,
    "start_time": "2022-11-12T12:01:25.753Z"
   },
   {
    "duration": 3,
    "start_time": "2022-11-12T12:01:25.782Z"
   },
   {
    "duration": 6,
    "start_time": "2022-11-12T12:01:25.786Z"
   },
   {
    "duration": 7,
    "start_time": "2022-11-12T12:01:25.794Z"
   },
   {
    "duration": 6,
    "start_time": "2022-11-12T12:01:25.802Z"
   },
   {
    "duration": 21,
    "start_time": "2022-11-12T12:01:25.809Z"
   },
   {
    "duration": 12,
    "start_time": "2022-11-12T12:01:25.831Z"
   },
   {
    "duration": 24,
    "start_time": "2022-11-12T12:02:09.598Z"
   },
   {
    "duration": 359,
    "start_time": "2022-11-12T12:02:16.266Z"
   },
   {
    "duration": 76,
    "start_time": "2022-11-12T12:02:16.629Z"
   },
   {
    "duration": 2,
    "start_time": "2022-11-12T12:02:16.707Z"
   },
   {
    "duration": 17,
    "start_time": "2022-11-12T12:02:16.711Z"
   },
   {
    "duration": 14,
    "start_time": "2022-11-12T12:02:16.730Z"
   },
   {
    "duration": 36,
    "start_time": "2022-11-12T12:02:16.746Z"
   },
   {
    "duration": 4,
    "start_time": "2022-11-12T12:02:16.784Z"
   },
   {
    "duration": 15,
    "start_time": "2022-11-12T12:02:16.790Z"
   },
   {
    "duration": 24,
    "start_time": "2022-11-12T12:02:16.806Z"
   },
   {
    "duration": 7,
    "start_time": "2022-11-12T12:02:16.833Z"
   },
   {
    "duration": 10,
    "start_time": "2022-11-12T12:02:16.842Z"
   },
   {
    "duration": 33,
    "start_time": "2022-11-12T12:02:16.854Z"
   },
   {
    "duration": 9,
    "start_time": "2022-11-12T12:02:16.888Z"
   },
   {
    "duration": 7,
    "start_time": "2022-11-12T12:02:16.898Z"
   },
   {
    "duration": 26,
    "start_time": "2022-11-12T12:02:16.930Z"
   },
   {
    "duration": 16,
    "start_time": "2022-11-12T12:02:16.958Z"
   },
   {
    "duration": 3,
    "start_time": "2022-11-12T12:02:16.975Z"
   },
   {
    "duration": 9,
    "start_time": "2022-11-12T12:02:16.979Z"
   },
   {
    "duration": 5,
    "start_time": "2022-11-12T12:02:16.990Z"
   },
   {
    "duration": 12,
    "start_time": "2022-11-12T12:02:16.997Z"
   },
   {
    "duration": 18,
    "start_time": "2022-11-12T12:02:17.011Z"
   },
   {
    "duration": 6,
    "start_time": "2022-11-12T12:02:17.031Z"
   },
   {
    "duration": 17,
    "start_time": "2022-11-12T12:04:27.827Z"
   },
   {
    "duration": 73,
    "start_time": "2022-11-12T12:08:50.799Z"
   },
   {
    "duration": 19,
    "start_time": "2022-11-12T12:08:58.550Z"
   },
   {
    "duration": 429,
    "start_time": "2022-11-12T12:09:53.122Z"
   },
   {
    "duration": 70,
    "start_time": "2022-11-12T12:09:53.553Z"
   },
   {
    "duration": 2,
    "start_time": "2022-11-12T12:09:53.625Z"
   },
   {
    "duration": 39,
    "start_time": "2022-11-12T12:09:53.629Z"
   },
   {
    "duration": 14,
    "start_time": "2022-11-12T12:09:53.670Z"
   },
   {
    "duration": 43,
    "start_time": "2022-11-12T12:09:53.685Z"
   },
   {
    "duration": 8,
    "start_time": "2022-11-12T12:09:53.729Z"
   },
   {
    "duration": 27,
    "start_time": "2022-11-12T12:09:53.739Z"
   },
   {
    "duration": 13,
    "start_time": "2022-11-12T12:09:53.767Z"
   },
   {
    "duration": 10,
    "start_time": "2022-11-12T12:09:53.783Z"
   },
   {
    "duration": 11,
    "start_time": "2022-11-12T12:09:53.795Z"
   },
   {
    "duration": 44,
    "start_time": "2022-11-12T12:09:53.807Z"
   },
   {
    "duration": 16,
    "start_time": "2022-11-12T12:09:53.854Z"
   },
   {
    "duration": 28,
    "start_time": "2022-11-12T12:09:53.871Z"
   },
   {
    "duration": 24,
    "start_time": "2022-11-12T12:09:53.901Z"
   },
   {
    "duration": 37,
    "start_time": "2022-11-12T12:09:53.927Z"
   },
   {
    "duration": 17,
    "start_time": "2022-11-12T12:09:53.966Z"
   },
   {
    "duration": 2,
    "start_time": "2022-11-12T12:09:53.985Z"
   },
   {
    "duration": 10,
    "start_time": "2022-11-12T12:09:53.988Z"
   },
   {
    "duration": 19,
    "start_time": "2022-11-12T12:09:53.999Z"
   },
   {
    "duration": 32,
    "start_time": "2022-11-12T12:09:54.020Z"
   },
   {
    "duration": 12,
    "start_time": "2022-11-12T12:09:54.054Z"
   },
   {
    "duration": 431,
    "start_time": "2022-11-12T13:14:35.745Z"
   },
   {
    "duration": 81,
    "start_time": "2022-11-12T13:14:36.179Z"
   },
   {
    "duration": 2,
    "start_time": "2022-11-12T13:14:36.261Z"
   },
   {
    "duration": 41,
    "start_time": "2022-11-12T13:14:36.265Z"
   },
   {
    "duration": 28,
    "start_time": "2022-11-12T13:14:36.309Z"
   },
   {
    "duration": 56,
    "start_time": "2022-11-12T13:14:36.339Z"
   },
   {
    "duration": 14,
    "start_time": "2022-11-12T13:14:36.397Z"
   },
   {
    "duration": 33,
    "start_time": "2022-11-12T13:14:36.413Z"
   },
   {
    "duration": 16,
    "start_time": "2022-11-12T13:14:36.448Z"
   },
   {
    "duration": 38,
    "start_time": "2022-11-12T13:14:36.466Z"
   },
   {
    "duration": 12,
    "start_time": "2022-11-12T13:14:36.506Z"
   },
   {
    "duration": 56,
    "start_time": "2022-11-12T13:14:36.520Z"
   },
   {
    "duration": 11,
    "start_time": "2022-11-12T13:14:36.578Z"
   },
   {
    "duration": 17,
    "start_time": "2022-11-12T13:14:36.592Z"
   },
   {
    "duration": 19,
    "start_time": "2022-11-12T13:14:36.610Z"
   },
   {
    "duration": 53,
    "start_time": "2022-11-12T13:14:36.631Z"
   },
   {
    "duration": 18,
    "start_time": "2022-11-12T13:14:36.686Z"
   },
   {
    "duration": 9,
    "start_time": "2022-11-12T13:14:36.706Z"
   },
   {
    "duration": 0,
    "start_time": "2022-11-12T13:14:36.717Z"
   },
   {
    "duration": 0,
    "start_time": "2022-11-12T13:14:36.718Z"
   },
   {
    "duration": 0,
    "start_time": "2022-11-12T13:14:36.719Z"
   },
   {
    "duration": 0,
    "start_time": "2022-11-12T13:14:36.720Z"
   },
   {
    "duration": 4,
    "start_time": "2022-11-12T13:15:04.153Z"
   },
   {
    "duration": 759,
    "start_time": "2022-11-12T13:15:05.393Z"
   },
   {
    "duration": 686,
    "start_time": "2022-11-12T13:15:50.809Z"
   },
   {
    "duration": 13,
    "start_time": "2022-11-12T13:17:44.707Z"
   },
   {
    "duration": 6,
    "start_time": "2022-11-12T13:19:12.151Z"
   },
   {
    "duration": 3,
    "start_time": "2022-11-12T13:24:48.035Z"
   },
   {
    "duration": 7,
    "start_time": "2022-11-12T13:27:45.169Z"
   },
   {
    "duration": 3,
    "start_time": "2022-11-12T13:28:46.218Z"
   },
   {
    "duration": 3,
    "start_time": "2022-11-12T13:29:06.770Z"
   },
   {
    "duration": 10,
    "start_time": "2022-11-12T13:31:32.805Z"
   },
   {
    "duration": 4,
    "start_time": "2022-11-12T13:52:45.853Z"
   },
   {
    "duration": 8,
    "start_time": "2022-11-12T13:52:50.942Z"
   },
   {
    "duration": 9,
    "start_time": "2022-11-12T13:54:14.104Z"
   },
   {
    "duration": 416,
    "start_time": "2022-11-12T13:55:30.236Z"
   },
   {
    "duration": 87,
    "start_time": "2022-11-12T13:55:30.654Z"
   },
   {
    "duration": 3,
    "start_time": "2022-11-12T13:55:30.743Z"
   },
   {
    "duration": 54,
    "start_time": "2022-11-12T13:55:30.748Z"
   },
   {
    "duration": 25,
    "start_time": "2022-11-12T13:55:30.804Z"
   },
   {
    "duration": 61,
    "start_time": "2022-11-12T13:55:30.831Z"
   },
   {
    "duration": 4,
    "start_time": "2022-11-12T13:55:30.895Z"
   },
   {
    "duration": 52,
    "start_time": "2022-11-12T13:55:30.900Z"
   },
   {
    "duration": 23,
    "start_time": "2022-11-12T13:55:30.954Z"
   },
   {
    "duration": 18,
    "start_time": "2022-11-12T13:55:30.979Z"
   },
   {
    "duration": 39,
    "start_time": "2022-11-12T13:55:30.998Z"
   },
   {
    "duration": 46,
    "start_time": "2022-11-12T13:55:31.038Z"
   },
   {
    "duration": 39,
    "start_time": "2022-11-12T13:55:31.086Z"
   },
   {
    "duration": 24,
    "start_time": "2022-11-12T13:55:31.128Z"
   },
   {
    "duration": 22,
    "start_time": "2022-11-12T13:55:31.155Z"
   },
   {
    "duration": 59,
    "start_time": "2022-11-12T13:55:31.178Z"
   },
   {
    "duration": 17,
    "start_time": "2022-11-12T13:55:31.239Z"
   },
   {
    "duration": 11,
    "start_time": "2022-11-12T13:55:31.258Z"
   },
   {
    "duration": 45,
    "start_time": "2022-11-12T13:55:31.270Z"
   },
   {
    "duration": 18,
    "start_time": "2022-11-12T13:55:31.317Z"
   },
   {
    "duration": 3,
    "start_time": "2022-11-12T13:55:31.337Z"
   },
   {
    "duration": 87,
    "start_time": "2022-11-12T13:55:31.342Z"
   },
   {
    "duration": 10,
    "start_time": "2022-11-12T13:59:11.796Z"
   },
   {
    "duration": 2,
    "start_time": "2022-11-12T14:00:07.485Z"
   },
   {
    "duration": 7,
    "start_time": "2022-11-12T14:00:09.285Z"
   },
   {
    "duration": 335,
    "start_time": "2022-11-12T14:00:21.385Z"
   },
   {
    "duration": 72,
    "start_time": "2022-11-12T14:00:21.722Z"
   },
   {
    "duration": 2,
    "start_time": "2022-11-12T14:00:21.795Z"
   },
   {
    "duration": 18,
    "start_time": "2022-11-12T14:00:21.799Z"
   },
   {
    "duration": 13,
    "start_time": "2022-11-12T14:00:21.818Z"
   },
   {
    "duration": 42,
    "start_time": "2022-11-12T14:00:21.833Z"
   },
   {
    "duration": 4,
    "start_time": "2022-11-12T14:00:21.876Z"
   },
   {
    "duration": 11,
    "start_time": "2022-11-12T14:00:21.881Z"
   },
   {
    "duration": 8,
    "start_time": "2022-11-12T14:00:21.893Z"
   },
   {
    "duration": 7,
    "start_time": "2022-11-12T14:00:21.903Z"
   },
   {
    "duration": 6,
    "start_time": "2022-11-12T14:00:21.911Z"
   },
   {
    "duration": 41,
    "start_time": "2022-11-12T14:00:21.918Z"
   },
   {
    "duration": 44,
    "start_time": "2022-11-12T14:00:21.960Z"
   },
   {
    "duration": 0,
    "start_time": "2022-11-12T14:00:22.005Z"
   },
   {
    "duration": 0,
    "start_time": "2022-11-12T14:00:22.006Z"
   },
   {
    "duration": 0,
    "start_time": "2022-11-12T14:00:22.008Z"
   },
   {
    "duration": 0,
    "start_time": "2022-11-12T14:00:22.009Z"
   },
   {
    "duration": 0,
    "start_time": "2022-11-12T14:00:22.010Z"
   },
   {
    "duration": 0,
    "start_time": "2022-11-12T14:00:22.012Z"
   },
   {
    "duration": 0,
    "start_time": "2022-11-12T14:00:22.013Z"
   },
   {
    "duration": 0,
    "start_time": "2022-11-12T14:00:22.015Z"
   },
   {
    "duration": 0,
    "start_time": "2022-11-12T14:00:22.016Z"
   },
   {
    "duration": 57,
    "start_time": "2022-11-12T14:00:38.965Z"
   },
   {
    "duration": 3,
    "start_time": "2022-11-12T14:00:47.565Z"
   },
   {
    "duration": 8,
    "start_time": "2022-11-12T14:00:49.965Z"
   },
   {
    "duration": 10,
    "start_time": "2022-11-12T14:01:13.514Z"
   },
   {
    "duration": 384,
    "start_time": "2022-11-12T14:01:21.153Z"
   },
   {
    "duration": 75,
    "start_time": "2022-11-12T14:01:21.538Z"
   },
   {
    "duration": 2,
    "start_time": "2022-11-12T14:01:21.615Z"
   },
   {
    "duration": 18,
    "start_time": "2022-11-12T14:01:21.619Z"
   },
   {
    "duration": 13,
    "start_time": "2022-11-12T14:01:21.638Z"
   },
   {
    "duration": 31,
    "start_time": "2022-11-12T14:01:21.653Z"
   },
   {
    "duration": 3,
    "start_time": "2022-11-12T14:01:21.686Z"
   },
   {
    "duration": 36,
    "start_time": "2022-11-12T14:01:21.690Z"
   },
   {
    "duration": 12,
    "start_time": "2022-11-12T14:01:21.727Z"
   },
   {
    "duration": 7,
    "start_time": "2022-11-12T14:01:21.741Z"
   },
   {
    "duration": 3,
    "start_time": "2022-11-12T14:01:21.750Z"
   },
   {
    "duration": 31,
    "start_time": "2022-11-12T14:01:21.755Z"
   },
   {
    "duration": 8,
    "start_time": "2022-11-12T14:01:21.788Z"
   },
   {
    "duration": 3,
    "start_time": "2022-11-12T14:01:21.798Z"
   },
   {
    "duration": 11,
    "start_time": "2022-11-12T14:01:21.803Z"
   },
   {
    "duration": 29,
    "start_time": "2022-11-12T14:01:21.829Z"
   },
   {
    "duration": 14,
    "start_time": "2022-11-12T14:01:21.860Z"
   },
   {
    "duration": 4,
    "start_time": "2022-11-12T14:01:21.875Z"
   },
   {
    "duration": 16,
    "start_time": "2022-11-12T14:01:21.880Z"
   },
   {
    "duration": 26,
    "start_time": "2022-11-12T14:01:21.897Z"
   },
   {
    "duration": 5,
    "start_time": "2022-11-12T14:01:21.925Z"
   },
   {
    "duration": 19,
    "start_time": "2022-11-12T14:01:21.931Z"
   }
  ],
  "colab": {
   "provenance": []
  },
  "kernelspec": {
   "display_name": "Python 3 (ipykernel)",
   "language": "python",
   "name": "python3"
  },
  "language_info": {
   "codemirror_mode": {
    "name": "ipython",
    "version": 3
   },
   "file_extension": ".py",
   "mimetype": "text/x-python",
   "name": "python",
   "nbconvert_exporter": "python",
   "pygments_lexer": "ipython3",
   "version": "3.11.4"
  },
  "toc": {
   "base_numbering": 1,
   "nav_menu": {},
   "number_sections": true,
   "sideBar": true,
   "skip_h1_title": true,
   "title_cell": "Table of Contents",
   "title_sidebar": "Contents",
   "toc_cell": false,
   "toc_position": {},
   "toc_section_display": true,
   "toc_window_display": false
  }
 },
 "nbformat": 4,
 "nbformat_minor": 5
}
