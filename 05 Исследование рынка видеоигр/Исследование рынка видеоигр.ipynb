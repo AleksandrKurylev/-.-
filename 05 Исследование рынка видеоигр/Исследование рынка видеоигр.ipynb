{
 "cells": [
  {
   "cell_type": "markdown",
   "metadata": {},
   "source": [
    " #  Определение потенциально популярных компьютерных игр  с целью  планирования  рекламных кампаний ( выявление закономерностей, определяющих успешность игры )"
   ]
  },
  {
   "cell_type": "markdown",
   "metadata": {},
   "source": [
    "Описание проекта: Нам представлен набор данных, который несет в себе информацию из открытых источников. Доступны исторические данные о продажах игр, оценки пользователей и экспертов, жанры и платформы  до 2016 года."
   ]
  },
  {
   "cell_type": "markdown",
   "metadata": {},
   "source": [
    "Цель проекта: \n",
    "+ выявить определяющие успешность игры закономерности\n",
    "+ составить прогноз на 2017 год по наиболее  прибыльным играм\n",
    "+ проверить заданые гипотезы"
   ]
  },
  {
   "cell_type": "markdown",
   "metadata": {},
   "source": [
    "План анализа: Согласно инструкции в задании к проекту\n"
   ]
  },
  {
   "cell_type": "markdown",
   "metadata": {},
   "source": [
    "## Шаг. Общая информация о полученных данных"
   ]
  },
  {
   "cell_type": "code",
   "execution_count": 1,
   "metadata": {},
   "outputs": [],
   "source": [
    "import pandas as pd\n",
    "import numpy as np\n",
    "import matplotlib.pyplot as plt\n",
    "import seaborn as sb\n",
    "from scipy import stats as st\n",
    "from matplotlib.axes._axes import _log as matplotlib_axes_logger\n",
    "matplotlib_axes_logger.setLevel('ERROR')"
   ]
  },
  {
   "cell_type": "code",
   "execution_count": 2,
   "metadata": {},
   "outputs": [],
   "source": [
    "df = pd.read_csv('/datasets/games.csv')"
   ]
  },
  {
   "cell_type": "code",
   "execution_count": 3,
   "metadata": {},
   "outputs": [
    {
     "data": {
      "text/html": [
       "<div>\n",
       "<style scoped>\n",
       "    .dataframe tbody tr th:only-of-type {\n",
       "        vertical-align: middle;\n",
       "    }\n",
       "\n",
       "    .dataframe tbody tr th {\n",
       "        vertical-align: top;\n",
       "    }\n",
       "\n",
       "    .dataframe thead th {\n",
       "        text-align: right;\n",
       "    }\n",
       "</style>\n",
       "<table border=\"1\" class=\"dataframe\">\n",
       "  <thead>\n",
       "    <tr style=\"text-align: right;\">\n",
       "      <th></th>\n",
       "      <th>Name</th>\n",
       "      <th>Platform</th>\n",
       "      <th>Year_of_Release</th>\n",
       "      <th>Genre</th>\n",
       "      <th>NA_sales</th>\n",
       "      <th>EU_sales</th>\n",
       "      <th>JP_sales</th>\n",
       "      <th>Other_sales</th>\n",
       "      <th>Critic_Score</th>\n",
       "      <th>User_Score</th>\n",
       "      <th>Rating</th>\n",
       "    </tr>\n",
       "  </thead>\n",
       "  <tbody>\n",
       "    <tr>\n",
       "      <th>0</th>\n",
       "      <td>Wii Sports</td>\n",
       "      <td>Wii</td>\n",
       "      <td>2006.0</td>\n",
       "      <td>Sports</td>\n",
       "      <td>41.36</td>\n",
       "      <td>28.96</td>\n",
       "      <td>3.77</td>\n",
       "      <td>8.45</td>\n",
       "      <td>76.0</td>\n",
       "      <td>8</td>\n",
       "      <td>E</td>\n",
       "    </tr>\n",
       "    <tr>\n",
       "      <th>1</th>\n",
       "      <td>Super Mario Bros.</td>\n",
       "      <td>NES</td>\n",
       "      <td>1985.0</td>\n",
       "      <td>Platform</td>\n",
       "      <td>29.08</td>\n",
       "      <td>3.58</td>\n",
       "      <td>6.81</td>\n",
       "      <td>0.77</td>\n",
       "      <td>NaN</td>\n",
       "      <td>NaN</td>\n",
       "      <td>NaN</td>\n",
       "    </tr>\n",
       "    <tr>\n",
       "      <th>2</th>\n",
       "      <td>Mario Kart Wii</td>\n",
       "      <td>Wii</td>\n",
       "      <td>2008.0</td>\n",
       "      <td>Racing</td>\n",
       "      <td>15.68</td>\n",
       "      <td>12.76</td>\n",
       "      <td>3.79</td>\n",
       "      <td>3.29</td>\n",
       "      <td>82.0</td>\n",
       "      <td>8.3</td>\n",
       "      <td>E</td>\n",
       "    </tr>\n",
       "    <tr>\n",
       "      <th>3</th>\n",
       "      <td>Wii Sports Resort</td>\n",
       "      <td>Wii</td>\n",
       "      <td>2009.0</td>\n",
       "      <td>Sports</td>\n",
       "      <td>15.61</td>\n",
       "      <td>10.93</td>\n",
       "      <td>3.28</td>\n",
       "      <td>2.95</td>\n",
       "      <td>80.0</td>\n",
       "      <td>8</td>\n",
       "      <td>E</td>\n",
       "    </tr>\n",
       "    <tr>\n",
       "      <th>4</th>\n",
       "      <td>Pokemon Red/Pokemon Blue</td>\n",
       "      <td>GB</td>\n",
       "      <td>1996.0</td>\n",
       "      <td>Role-Playing</td>\n",
       "      <td>11.27</td>\n",
       "      <td>8.89</td>\n",
       "      <td>10.22</td>\n",
       "      <td>1.00</td>\n",
       "      <td>NaN</td>\n",
       "      <td>NaN</td>\n",
       "      <td>NaN</td>\n",
       "    </tr>\n",
       "  </tbody>\n",
       "</table>\n",
       "</div>"
      ],
      "text/plain": [
       "                       Name Platform  Year_of_Release         Genre  NA_sales  \\\n",
       "0                Wii Sports      Wii           2006.0        Sports     41.36   \n",
       "1         Super Mario Bros.      NES           1985.0      Platform     29.08   \n",
       "2            Mario Kart Wii      Wii           2008.0        Racing     15.68   \n",
       "3         Wii Sports Resort      Wii           2009.0        Sports     15.61   \n",
       "4  Pokemon Red/Pokemon Blue       GB           1996.0  Role-Playing     11.27   \n",
       "\n",
       "   EU_sales  JP_sales  Other_sales  Critic_Score User_Score Rating  \n",
       "0     28.96      3.77         8.45          76.0          8      E  \n",
       "1      3.58      6.81         0.77           NaN        NaN    NaN  \n",
       "2     12.76      3.79         3.29          82.0        8.3      E  \n",
       "3     10.93      3.28         2.95          80.0          8      E  \n",
       "4      8.89     10.22         1.00           NaN        NaN    NaN  "
      ]
     },
     "execution_count": 3,
     "metadata": {},
     "output_type": "execute_result"
    }
   ],
   "source": [
    "df.head()"
   ]
  },
  {
   "cell_type": "code",
   "execution_count": 4,
   "metadata": {},
   "outputs": [
    {
     "name": "stdout",
     "output_type": "stream",
     "text": [
      "<class 'pandas.core.frame.DataFrame'>\n",
      "RangeIndex: 16715 entries, 0 to 16714\n",
      "Data columns (total 11 columns):\n",
      " #   Column           Non-Null Count  Dtype  \n",
      "---  ------           --------------  -----  \n",
      " 0   Name             16713 non-null  object \n",
      " 1   Platform         16715 non-null  object \n",
      " 2   Year_of_Release  16446 non-null  float64\n",
      " 3   Genre            16713 non-null  object \n",
      " 4   NA_sales         16715 non-null  float64\n",
      " 5   EU_sales         16715 non-null  float64\n",
      " 6   JP_sales         16715 non-null  float64\n",
      " 7   Other_sales      16715 non-null  float64\n",
      " 8   Critic_Score     8137 non-null   float64\n",
      " 9   User_Score       10014 non-null  object \n",
      " 10  Rating           9949 non-null   object \n",
      "dtypes: float64(6), object(5)\n",
      "memory usage: 1.4+ MB\n"
     ]
    }
   ],
   "source": [
    "df.info()"
   ]
  },
  {
   "cell_type": "markdown",
   "metadata": {},
   "source": [
    "### Вывод:\n",
    "Представленные данные  имеют пропуски, неправильные названия столбцов и типы данных.Необходимо провести преподготовку данных."
   ]
  },
  {
   "cell_type": "markdown",
   "metadata": {},
   "source": [
    "## Шаг. Подготовка данных"
   ]
  },
  {
   "cell_type": "markdown",
   "metadata": {},
   "source": [
    "### Замените названия столбцов (приведите к нижнему регистру)"
   ]
  },
  {
   "cell_type": "code",
   "execution_count": 5,
   "metadata": {},
   "outputs": [],
   "source": [
    "df.columns = df.columns.str.lower()"
   ]
  },
  {
   "cell_type": "code",
   "execution_count": 6,
   "metadata": {},
   "outputs": [
    {
     "data": {
      "text/plain": [
       "['name',\n",
       " 'platform',\n",
       " 'year_of_release',\n",
       " 'genre',\n",
       " 'na_sales',\n",
       " 'eu_sales',\n",
       " 'jp_sales',\n",
       " 'other_sales',\n",
       " 'critic_score',\n",
       " 'user_score',\n",
       " 'rating']"
      ]
     },
     "execution_count": 6,
     "metadata": {},
     "output_type": "execute_result"
    }
   ],
   "source": [
    "df.columns.tolist()"
   ]
  },
  {
   "cell_type": "markdown",
   "metadata": {},
   "source": [
    "### Преобразуйте данные в нужные типы.\n",
    "Опишите, в каких столбцах заменили тип данных и почему;\n"
   ]
  },
  {
   "cell_type": "code",
   "execution_count": 7,
   "metadata": {},
   "outputs": [
    {
     "data": {
      "text/plain": [
       "0        2006\n",
       "1        1985\n",
       "2        2008\n",
       "3        2009\n",
       "4        1996\n",
       "         ... \n",
       "16710    2016\n",
       "16711    2006\n",
       "16712    2016\n",
       "16713    2003\n",
       "16714    2016\n",
       "Name: year_of_release, Length: 16446, dtype: int64"
      ]
     },
     "execution_count": 7,
     "metadata": {},
     "output_type": "execute_result"
    }
   ],
   "source": [
    "# Преобразуем данные в столбце дата релиза. \n",
    "#(прежде чем поменяем тип данных удалим игры с пустым годом релиза,\n",
    "# их небольшое количество, поэтому они не повлияют на результат)\n",
    "\n",
    "df.drop(df[df['year_of_release'].isnull()].index, inplace=True)\n",
    "df['year_of_release'] = df['year_of_release'].astype('int')\n",
    "df['year_of_release'] = pd.to_datetime(df['year_of_release'], format='%Y').dt.year\n",
    "df['year_of_release']"
   ]
  },
  {
   "cell_type": "code",
   "execution_count": 8,
   "metadata": {},
   "outputs": [
    {
     "data": {
      "text/plain": [
       "array(['8', nan, '8.3', '8.5', '6.6', '8.4', '8.6', '7.7', '6.3', '7.4',\n",
       "       '8.2', '9', '7.9', '8.1', '8.7', '7.1', '3.4', '5.3', '4.8', '3.2',\n",
       "       '8.9', '6.4', '7.8', '7.5', '2.6', '7.2', '9.2', '7', '7.3', '4.3',\n",
       "       '7.6', '5.7', '5', '9.1', '6.5', 'tbd', '8.8', '6.9', '9.4', '6.8',\n",
       "       '6.1', '6.7', '5.4', '4', '4.9', '4.5', '9.3', '6.2', '4.2', '6',\n",
       "       '3.7', '4.1', '5.8', '5.6', '5.5', '4.4', '4.6', '5.9', '3.9',\n",
       "       '3.1', '2.9', '5.2', '3.3', '4.7', '5.1', '3.5', '2.5', '1.9', '3',\n",
       "       '2.7', '2.2', '2', '9.5', '2.1', '3.6', '2.8', '1.8', '3.8', '0',\n",
       "       '1.6', '9.6', '2.4', '1.7', '1.1', '0.3', '1.5', '0.7', '1.2',\n",
       "       '2.3', '0.5', '1.3', '0.2', '0.6', '1.4', '0.9', '1', '9.7'],\n",
       "      dtype=object)"
      ]
     },
     "execution_count": 8,
     "metadata": {},
     "output_type": "execute_result"
    }
   ],
   "source": [
    "# Проверим данные в столбце  пользовательский рейтинг.\n",
    "df['user_score'].unique()"
   ]
  },
  {
   "cell_type": "code",
   "execution_count": 9,
   "metadata": {},
   "outputs": [
    {
     "name": "stdout",
     "output_type": "stream",
     "text": [
      "<class 'pandas.core.frame.DataFrame'>\n",
      "Int64Index: 16446 entries, 0 to 16714\n",
      "Data columns (total 11 columns):\n",
      " #   Column           Non-Null Count  Dtype  \n",
      "---  ------           --------------  -----  \n",
      " 0   name             16444 non-null  object \n",
      " 1   platform         16446 non-null  object \n",
      " 2   year_of_release  16446 non-null  int64  \n",
      " 3   genre            16444 non-null  object \n",
      " 4   na_sales         16446 non-null  float64\n",
      " 5   eu_sales         16446 non-null  float64\n",
      " 6   jp_sales         16446 non-null  float64\n",
      " 7   other_sales      16446 non-null  float64\n",
      " 8   critic_score     7983 non-null   float64\n",
      " 9   user_score       7463 non-null   float64\n",
      " 10  rating           9768 non-null   object \n",
      "dtypes: float64(6), int64(1), object(4)\n",
      "memory usage: 1.5+ MB\n"
     ]
    }
   ],
   "source": [
    "#tbd — сокращение от To Be Determined. Служит для отметки неясностей или пропусков, которые надо заполнить.\n",
    "df.loc[df['user_score'] == 'tbd','user_score'] = np.nan\n",
    "df['user_score'] = df['user_score'].astype('float')\n",
    "df.info()"
   ]
  },
  {
   "cell_type": "markdown",
   "metadata": {},
   "source": [
    "### Заполняем пропуски"
   ]
  },
  {
   "cell_type": "markdown",
   "metadata": {},
   "source": [
    "Объясните, почему заполнили пропуски определённым образом или почему не стали это делать;\n",
    "Опишите причины, которые могли привести к пропускам;\n",
    "Обратите внимание на аббревиатуру 'tbd' в столбце с оценкой пользователей. Отдельно разберите это значение и опишите, как его обработать;\n"
   ]
  },
  {
   "cell_type": "code",
   "execution_count": 10,
   "metadata": {},
   "outputs": [
    {
     "data": {
      "text/plain": [
       "name                0.012161\n",
       "platform            0.000000\n",
       "year_of_release     0.000000\n",
       "genre               0.012161\n",
       "na_sales            0.000000\n",
       "eu_sales            0.000000\n",
       "jp_sales            0.000000\n",
       "other_sales         0.000000\n",
       "critic_score       51.459321\n",
       "user_score         54.621184\n",
       "rating             40.605618\n",
       "dtype: float64"
      ]
     },
     "execution_count": 10,
     "metadata": {},
     "output_type": "execute_result"
    }
   ],
   "source": [
    "# Доля пропусков в %.\n",
    "df.isna().mean()*100"
   ]
  },
  {
   "cell_type": "code",
   "execution_count": 11,
   "metadata": {},
   "outputs": [
    {
     "data": {
      "text/plain": [
       "0"
      ]
     },
     "execution_count": 11,
     "metadata": {},
     "output_type": "execute_result"
    }
   ],
   "source": [
    "# В столбце названия пропуски критичны и при этом их всего около 1%. Поэтому удаляем.\n",
    "df.drop(df[df['name'].isnull()].index, inplace=True)\n",
    "df['name'].isna().sum()"
   ]
  },
  {
   "cell_type": "code",
   "execution_count": 12,
   "metadata": {
    "scrolled": true
   },
   "outputs": [],
   "source": [
    "# В столбце рейтинг от организации ESRB тип данных  строка, поэтому заменим пропуски на 'unknow'\n",
    "df['rating'] = df['rating'].fillna('unknow')\n",
    "#df.head()"
   ]
  },
  {
   "cell_type": "markdown",
   "metadata": {},
   "source": [
    "В столбцах оценка критиков и оценка пользователей:\n",
    "+ Во-первых, значительная доля пропусков, поэтому удалять нежелательно\n",
    "+ Во-вторых, замена их какими-либо значениями будет некорректна (может исказить результат анализа)"
   ]
  },
  {
   "cell_type": "code",
   "execution_count": 13,
   "metadata": {},
   "outputs": [
    {
     "data": {
      "text/html": [
       "<div>\n",
       "<style scoped>\n",
       "    .dataframe tbody tr th:only-of-type {\n",
       "        vertical-align: middle;\n",
       "    }\n",
       "\n",
       "    .dataframe tbody tr th {\n",
       "        vertical-align: top;\n",
       "    }\n",
       "\n",
       "    .dataframe thead th {\n",
       "        text-align: right;\n",
       "    }\n",
       "</style>\n",
       "<table border=\"1\" class=\"dataframe\">\n",
       "  <thead>\n",
       "    <tr style=\"text-align: right;\">\n",
       "      <th></th>\n",
       "      <th>name</th>\n",
       "      <th>platform</th>\n",
       "      <th>year_of_release</th>\n",
       "      <th>genre</th>\n",
       "      <th>na_sales</th>\n",
       "      <th>eu_sales</th>\n",
       "      <th>jp_sales</th>\n",
       "      <th>other_sales</th>\n",
       "      <th>critic_score</th>\n",
       "      <th>user_score</th>\n",
       "      <th>rating</th>\n",
       "    </tr>\n",
       "  </thead>\n",
       "  <tbody>\n",
       "    <tr>\n",
       "      <th>1</th>\n",
       "      <td>Super Mario Bros.</td>\n",
       "      <td>NES</td>\n",
       "      <td>1985</td>\n",
       "      <td>Platform</td>\n",
       "      <td>29.08</td>\n",
       "      <td>3.58</td>\n",
       "      <td>6.81</td>\n",
       "      <td>0.77</td>\n",
       "      <td>NaN</td>\n",
       "      <td>NaN</td>\n",
       "      <td>unknow</td>\n",
       "    </tr>\n",
       "    <tr>\n",
       "      <th>4</th>\n",
       "      <td>Pokemon Red/Pokemon Blue</td>\n",
       "      <td>GB</td>\n",
       "      <td>1996</td>\n",
       "      <td>Role-Playing</td>\n",
       "      <td>11.27</td>\n",
       "      <td>8.89</td>\n",
       "      <td>10.22</td>\n",
       "      <td>1.00</td>\n",
       "      <td>NaN</td>\n",
       "      <td>NaN</td>\n",
       "      <td>unknow</td>\n",
       "    </tr>\n",
       "    <tr>\n",
       "      <th>5</th>\n",
       "      <td>Tetris</td>\n",
       "      <td>GB</td>\n",
       "      <td>1989</td>\n",
       "      <td>Puzzle</td>\n",
       "      <td>23.20</td>\n",
       "      <td>2.26</td>\n",
       "      <td>4.22</td>\n",
       "      <td>0.58</td>\n",
       "      <td>NaN</td>\n",
       "      <td>NaN</td>\n",
       "      <td>unknow</td>\n",
       "    </tr>\n",
       "    <tr>\n",
       "      <th>9</th>\n",
       "      <td>Duck Hunt</td>\n",
       "      <td>NES</td>\n",
       "      <td>1984</td>\n",
       "      <td>Shooter</td>\n",
       "      <td>26.93</td>\n",
       "      <td>0.63</td>\n",
       "      <td>0.28</td>\n",
       "      <td>0.47</td>\n",
       "      <td>NaN</td>\n",
       "      <td>NaN</td>\n",
       "      <td>unknow</td>\n",
       "    </tr>\n",
       "    <tr>\n",
       "      <th>10</th>\n",
       "      <td>Nintendogs</td>\n",
       "      <td>DS</td>\n",
       "      <td>2005</td>\n",
       "      <td>Simulation</td>\n",
       "      <td>9.05</td>\n",
       "      <td>10.95</td>\n",
       "      <td>1.93</td>\n",
       "      <td>2.74</td>\n",
       "      <td>NaN</td>\n",
       "      <td>NaN</td>\n",
       "      <td>unknow</td>\n",
       "    </tr>\n",
       "    <tr>\n",
       "      <th>...</th>\n",
       "      <td>...</td>\n",
       "      <td>...</td>\n",
       "      <td>...</td>\n",
       "      <td>...</td>\n",
       "      <td>...</td>\n",
       "      <td>...</td>\n",
       "      <td>...</td>\n",
       "      <td>...</td>\n",
       "      <td>...</td>\n",
       "      <td>...</td>\n",
       "      <td>...</td>\n",
       "    </tr>\n",
       "    <tr>\n",
       "      <th>16710</th>\n",
       "      <td>Samurai Warriors: Sanada Maru</td>\n",
       "      <td>PS3</td>\n",
       "      <td>2016</td>\n",
       "      <td>Action</td>\n",
       "      <td>0.00</td>\n",
       "      <td>0.00</td>\n",
       "      <td>0.01</td>\n",
       "      <td>0.00</td>\n",
       "      <td>NaN</td>\n",
       "      <td>NaN</td>\n",
       "      <td>unknow</td>\n",
       "    </tr>\n",
       "    <tr>\n",
       "      <th>16711</th>\n",
       "      <td>LMA Manager 2007</td>\n",
       "      <td>X360</td>\n",
       "      <td>2006</td>\n",
       "      <td>Sports</td>\n",
       "      <td>0.00</td>\n",
       "      <td>0.01</td>\n",
       "      <td>0.00</td>\n",
       "      <td>0.00</td>\n",
       "      <td>NaN</td>\n",
       "      <td>NaN</td>\n",
       "      <td>unknow</td>\n",
       "    </tr>\n",
       "    <tr>\n",
       "      <th>16712</th>\n",
       "      <td>Haitaka no Psychedelica</td>\n",
       "      <td>PSV</td>\n",
       "      <td>2016</td>\n",
       "      <td>Adventure</td>\n",
       "      <td>0.00</td>\n",
       "      <td>0.00</td>\n",
       "      <td>0.01</td>\n",
       "      <td>0.00</td>\n",
       "      <td>NaN</td>\n",
       "      <td>NaN</td>\n",
       "      <td>unknow</td>\n",
       "    </tr>\n",
       "    <tr>\n",
       "      <th>16713</th>\n",
       "      <td>Spirits &amp; Spells</td>\n",
       "      <td>GBA</td>\n",
       "      <td>2003</td>\n",
       "      <td>Platform</td>\n",
       "      <td>0.01</td>\n",
       "      <td>0.00</td>\n",
       "      <td>0.00</td>\n",
       "      <td>0.00</td>\n",
       "      <td>NaN</td>\n",
       "      <td>NaN</td>\n",
       "      <td>unknow</td>\n",
       "    </tr>\n",
       "    <tr>\n",
       "      <th>16714</th>\n",
       "      <td>Winning Post 8 2016</td>\n",
       "      <td>PSV</td>\n",
       "      <td>2016</td>\n",
       "      <td>Simulation</td>\n",
       "      <td>0.00</td>\n",
       "      <td>0.00</td>\n",
       "      <td>0.01</td>\n",
       "      <td>0.00</td>\n",
       "      <td>NaN</td>\n",
       "      <td>NaN</td>\n",
       "      <td>unknow</td>\n",
       "    </tr>\n",
       "  </tbody>\n",
       "</table>\n",
       "<p>8461 rows × 11 columns</p>\n",
       "</div>"
      ],
      "text/plain": [
       "                                name platform  year_of_release         genre  \\\n",
       "1                  Super Mario Bros.      NES             1985      Platform   \n",
       "4           Pokemon Red/Pokemon Blue       GB             1996  Role-Playing   \n",
       "5                             Tetris       GB             1989        Puzzle   \n",
       "9                          Duck Hunt      NES             1984       Shooter   \n",
       "10                        Nintendogs       DS             2005    Simulation   \n",
       "...                              ...      ...              ...           ...   \n",
       "16710  Samurai Warriors: Sanada Maru      PS3             2016        Action   \n",
       "16711               LMA Manager 2007     X360             2006        Sports   \n",
       "16712        Haitaka no Psychedelica      PSV             2016     Adventure   \n",
       "16713               Spirits & Spells      GBA             2003      Platform   \n",
       "16714            Winning Post 8 2016      PSV             2016    Simulation   \n",
       "\n",
       "       na_sales  eu_sales  jp_sales  other_sales  critic_score  user_score  \\\n",
       "1         29.08      3.58      6.81         0.77           NaN         NaN   \n",
       "4         11.27      8.89     10.22         1.00           NaN         NaN   \n",
       "5         23.20      2.26      4.22         0.58           NaN         NaN   \n",
       "9         26.93      0.63      0.28         0.47           NaN         NaN   \n",
       "10         9.05     10.95      1.93         2.74           NaN         NaN   \n",
       "...         ...       ...       ...          ...           ...         ...   \n",
       "16710      0.00      0.00      0.01         0.00           NaN         NaN   \n",
       "16711      0.00      0.01      0.00         0.00           NaN         NaN   \n",
       "16712      0.00      0.00      0.01         0.00           NaN         NaN   \n",
       "16713      0.01      0.00      0.00         0.00           NaN         NaN   \n",
       "16714      0.00      0.00      0.01         0.00           NaN         NaN   \n",
       "\n",
       "       rating  \n",
       "1      unknow  \n",
       "4      unknow  \n",
       "5      unknow  \n",
       "9      unknow  \n",
       "10     unknow  \n",
       "...       ...  \n",
       "16710  unknow  \n",
       "16711  unknow  \n",
       "16712  unknow  \n",
       "16713  unknow  \n",
       "16714  unknow  \n",
       "\n",
       "[8461 rows x 11 columns]"
      ]
     },
     "execution_count": 13,
     "metadata": {},
     "output_type": "execute_result"
    }
   ],
   "source": [
    "df.loc[ df['critic_score'].isna()]"
   ]
  },
  {
   "cell_type": "markdown",
   "metadata": {},
   "source": [
    "Пропуски скорее всего связаны с алгоритмом сбора данных конкретными источниками, т.к. пропуски в одних и тех же строчках."
   ]
  },
  {
   "cell_type": "markdown",
   "metadata": {},
   "source": [
    "### Посчитайте суммарные продажи во всех регионах и запишите их в отдельный столбец."
   ]
  },
  {
   "cell_type": "code",
   "execution_count": 14,
   "metadata": {},
   "outputs": [
    {
     "data": {
      "text/html": [
       "<div>\n",
       "<style scoped>\n",
       "    .dataframe tbody tr th:only-of-type {\n",
       "        vertical-align: middle;\n",
       "    }\n",
       "\n",
       "    .dataframe tbody tr th {\n",
       "        vertical-align: top;\n",
       "    }\n",
       "\n",
       "    .dataframe thead th {\n",
       "        text-align: right;\n",
       "    }\n",
       "</style>\n",
       "<table border=\"1\" class=\"dataframe\">\n",
       "  <thead>\n",
       "    <tr style=\"text-align: right;\">\n",
       "      <th></th>\n",
       "      <th>name</th>\n",
       "      <th>platform</th>\n",
       "      <th>year_of_release</th>\n",
       "      <th>genre</th>\n",
       "      <th>na_sales</th>\n",
       "      <th>eu_sales</th>\n",
       "      <th>jp_sales</th>\n",
       "      <th>other_sales</th>\n",
       "      <th>critic_score</th>\n",
       "      <th>user_score</th>\n",
       "      <th>rating</th>\n",
       "      <th>total_sales</th>\n",
       "    </tr>\n",
       "  </thead>\n",
       "  <tbody>\n",
       "    <tr>\n",
       "      <th>0</th>\n",
       "      <td>Wii Sports</td>\n",
       "      <td>Wii</td>\n",
       "      <td>2006</td>\n",
       "      <td>Sports</td>\n",
       "      <td>41.36</td>\n",
       "      <td>28.96</td>\n",
       "      <td>3.77</td>\n",
       "      <td>8.45</td>\n",
       "      <td>76.0</td>\n",
       "      <td>8.0</td>\n",
       "      <td>E</td>\n",
       "      <td>82.54</td>\n",
       "    </tr>\n",
       "    <tr>\n",
       "      <th>1</th>\n",
       "      <td>Super Mario Bros.</td>\n",
       "      <td>NES</td>\n",
       "      <td>1985</td>\n",
       "      <td>Platform</td>\n",
       "      <td>29.08</td>\n",
       "      <td>3.58</td>\n",
       "      <td>6.81</td>\n",
       "      <td>0.77</td>\n",
       "      <td>NaN</td>\n",
       "      <td>NaN</td>\n",
       "      <td>unknow</td>\n",
       "      <td>40.24</td>\n",
       "    </tr>\n",
       "    <tr>\n",
       "      <th>2</th>\n",
       "      <td>Mario Kart Wii</td>\n",
       "      <td>Wii</td>\n",
       "      <td>2008</td>\n",
       "      <td>Racing</td>\n",
       "      <td>15.68</td>\n",
       "      <td>12.76</td>\n",
       "      <td>3.79</td>\n",
       "      <td>3.29</td>\n",
       "      <td>82.0</td>\n",
       "      <td>8.3</td>\n",
       "      <td>E</td>\n",
       "      <td>35.52</td>\n",
       "    </tr>\n",
       "    <tr>\n",
       "      <th>3</th>\n",
       "      <td>Wii Sports Resort</td>\n",
       "      <td>Wii</td>\n",
       "      <td>2009</td>\n",
       "      <td>Sports</td>\n",
       "      <td>15.61</td>\n",
       "      <td>10.93</td>\n",
       "      <td>3.28</td>\n",
       "      <td>2.95</td>\n",
       "      <td>80.0</td>\n",
       "      <td>8.0</td>\n",
       "      <td>E</td>\n",
       "      <td>32.77</td>\n",
       "    </tr>\n",
       "    <tr>\n",
       "      <th>4</th>\n",
       "      <td>Pokemon Red/Pokemon Blue</td>\n",
       "      <td>GB</td>\n",
       "      <td>1996</td>\n",
       "      <td>Role-Playing</td>\n",
       "      <td>11.27</td>\n",
       "      <td>8.89</td>\n",
       "      <td>10.22</td>\n",
       "      <td>1.00</td>\n",
       "      <td>NaN</td>\n",
       "      <td>NaN</td>\n",
       "      <td>unknow</td>\n",
       "      <td>31.38</td>\n",
       "    </tr>\n",
       "  </tbody>\n",
       "</table>\n",
       "</div>"
      ],
      "text/plain": [
       "                       name platform  year_of_release         genre  na_sales  \\\n",
       "0                Wii Sports      Wii             2006        Sports     41.36   \n",
       "1         Super Mario Bros.      NES             1985      Platform     29.08   \n",
       "2            Mario Kart Wii      Wii             2008        Racing     15.68   \n",
       "3         Wii Sports Resort      Wii             2009        Sports     15.61   \n",
       "4  Pokemon Red/Pokemon Blue       GB             1996  Role-Playing     11.27   \n",
       "\n",
       "   eu_sales  jp_sales  other_sales  critic_score  user_score  rating  \\\n",
       "0     28.96      3.77         8.45          76.0         8.0       E   \n",
       "1      3.58      6.81         0.77           NaN         NaN  unknow   \n",
       "2     12.76      3.79         3.29          82.0         8.3       E   \n",
       "3     10.93      3.28         2.95          80.0         8.0       E   \n",
       "4      8.89     10.22         1.00           NaN         NaN  unknow   \n",
       "\n",
       "   total_sales  \n",
       "0        82.54  \n",
       "1        40.24  \n",
       "2        35.52  \n",
       "3        32.77  \n",
       "4        31.38  "
      ]
     },
     "execution_count": 14,
     "metadata": {},
     "output_type": "execute_result"
    }
   ],
   "source": [
    "df['total_sales'] = df['na_sales'] + df['eu_sales'] + df['jp_sales'] + df['other_sales']\n",
    "df.head()"
   ]
  },
  {
   "cell_type": "markdown",
   "metadata": {},
   "source": [
    "### Вывод: \n",
    "при подготовке данных к анализу было сделано:\n",
    "+ заполненны пропуски\n",
    "+ во всех клонках установлен правильный тип данных\n",
    "+ заменено значение 'tbd' на Nan в колонке 'user_score'\n",
    "+ были посчитаны суммарные мировые продажи."
   ]
  },
  {
   "cell_type": "markdown",
   "metadata": {},
   "source": [
    "## Шаг. Исследовательский анализ данных"
   ]
  },
  {
   "cell_type": "markdown",
   "metadata": {},
   "source": [
    "### Количество игр выпускавшихся в разные годы."
   ]
  },
  {
   "cell_type": "code",
   "execution_count": 15,
   "metadata": {},
   "outputs": [
    {
     "data": {
      "image/png": "[encoded data removed]",
      "text/plain": [
       "<Figure size 1728x576 with 1 Axes>"
      ]
     },
     "metadata": {
      "needs_background": "light"
     },
     "output_type": "display_data"
    }
   ],
   "source": [
    "df.groupby('year_of_release')['year_of_release'].count().plot(kind='bar', figsize=(24,8))\n",
    "plt.title('Количество игр по годам релиза')\n",
    "plt.ylabel('Игр выпущено')\n",
    "plt.xlabel('Год релиза')\n",
    "plt.show()"
   ]
  },
  {
   "cell_type": "markdown",
   "metadata": {},
   "source": [
    "На графике распределения отчетливо видны периоды активности. Так с 2012 по 2016 устоновился однородный\n",
    "уровень. Поэтому правильно будет рассмотреть именно этот период. Но в силу динамичности рынка\n",
    "сократим его до трех лет\n",
    "+ Актуальный период 2014-2016 год"
   ]
  },
  {
   "cell_type": "markdown",
   "metadata": {},
   "source": [
    "### Продажи по платформам"
   ]
  },
  {
   "cell_type": "code",
   "execution_count": 16,
   "metadata": {},
   "outputs": [
    {
     "data": {
      "image/png": "[encoded data removed]",
      "text/plain": [
       "<Figure size 1728x576 with 1 Axes>"
      ]
     },
     "metadata": {
      "needs_background": "light"
     },
     "output_type": "display_data"
    }
   ],
   "source": [
    "platforms = (df.pivot_table(index='platform', values='total_sales', aggfunc='sum').sort_values(by='total_sales'))\n",
    "platforms.plot(kind='bar', figsize=(24,8))\n",
    "plt.title('Итого продаж по платформам')\n",
    "plt.ylabel('Продажи в млн. копий')\n",
    "plt.xlabel('Игровая платформа')\n",
    "plt.show()"
   ]
  },
  {
   "cell_type": "markdown",
   "metadata": {},
   "source": [
    "Платформы с наибольшими суммарными продажами. Выделяются шесть крайних правых платформ, их и будем анализировать"
   ]
  },
  {
   "cell_type": "code",
   "execution_count": 17,
   "metadata": {
    "scrolled": false
   },
   "outputs": [],
   "source": [
    "platf = platforms['total_sales'].sort_values( ascending=False)[0:6].index\n",
    "games_platforms = df.query('platform in @platf')\n",
    "#games_platforms.head()"
   ]
  },
  {
   "cell_type": "markdown",
   "metadata": {},
   "source": [
    "### Распределением продаж по платформам и по годам, \n"
   ]
  },
  {
   "cell_type": "code",
   "execution_count": 18,
   "metadata": {},
   "outputs": [],
   "source": [
    "b = games_platforms.pivot_table(index= 'year_of_release',\n",
    "                                columns='platform',\n",
    "                                values='total_sales',\n",
    "                                aggfunc='sum')"
   ]
  },
  {
   "cell_type": "code",
   "execution_count": 19,
   "metadata": {},
   "outputs": [
    {
     "data": {
      "image/png": "[encoded data removed]",
      "text/plain": [
       "<Figure size 432x288 with 1 Axes>"
      ]
     },
     "metadata": {
      "needs_background": "light"
     },
     "output_type": "display_data"
    },
    {
     "data": {
      "image/png": "[encoded data removed]",
      "text/plain": [
       "<Figure size 432x288 with 1 Axes>"
      ]
     },
     "metadata": {
      "needs_background": "light"
     },
     "output_type": "display_data"
    },
    {
     "data": {
      "image/png": "[encoded data removed]",
      "text/plain": [
       "<Figure size 432x288 with 1 Axes>"
      ]
     },
     "metadata": {
      "needs_background": "light"
     },
     "output_type": "display_data"
    },
    {
     "data": {
      "image/png": "[encoded data removed]",
      "text/plain": [
       "<Figure size 432x288 with 1 Axes>"
      ]
     },
     "metadata": {
      "needs_background": "light"
     },
     "output_type": "display_data"
    },
    {
     "data": {
      "image/png": "[encoded data removed]",
      "text/plain": [
       "<Figure size 432x288 with 1 Axes>"
      ]
     },
     "metadata": {
      "needs_background": "light"
     },
     "output_type": "display_data"
    },
    {
     "data": {
      "image/png": "[encoded data removed]",
      "text/plain": [
       "<Figure size 432x288 with 1 Axes>"
      ]
     },
     "metadata": {
      "needs_background": "light"
     },
     "output_type": "display_data"
    }
   ],
   "source": [
    "def grafic(i):\n",
    "    b.plot(y=i, kind='bar')\n",
    "    plt.show()\n",
    "    plt.close()\n",
    "for i in b.columns:\n",
    "    grafic(i)\n",
    "   "
   ]
  },
  {
   "cell_type": "markdown",
   "metadata": {},
   "source": [
    "Распределение активности нормальное(купол). Платформы постепенно повышали продажи, достигали своего пика и потом начинали угасать. Характерный срок(жизненый цикл), когда появляются новые и исчезают старые платформы 8-10 лет."
   ]
  },
  {
   "cell_type": "markdown",
   "metadata": {},
   "source": [
    "### Прогноз на 2017 год\n",
    "Ранее мы определили актуальный период : последние пять лет, 2012-2016 года.(Схожие характеристики активности)"
   ]
  },
  {
   "cell_type": "code",
   "execution_count": 20,
   "metadata": {},
   "outputs": [
    {
     "data": {
      "text/plain": [
       "platform\n",
       "PS4     288.15\n",
       "XOne    140.36\n",
       "3DS      86.68\n",
       "PS3      68.18\n",
       "X360     48.22\n",
       "WiiU     42.98\n",
       "PC       27.05\n",
       "PSV      22.40\n",
       "Wii       5.07\n",
       "PSP       0.36\n",
       "Name: total_sales, dtype: float64"
      ]
     },
     "execution_count": 20,
     "metadata": {},
     "output_type": "execute_result"
    }
   ],
   "source": [
    "# Выделяем актуальный период\n",
    "period = df.loc[(df['year_of_release'] <= 2016) &  (df['year_of_release'] >= 2014)]\n",
    "# Прибыль в этот период по платформам\n",
    "period.groupby('platform')['total_sales'].sum().sort_values(ascending=False)"
   ]
  },
  {
   "cell_type": "markdown",
   "metadata": {},
   "source": [
    "Изучим данные по 5 самым прибыльным платформам"
   ]
  },
  {
   "cell_type": "code",
   "execution_count": 21,
   "metadata": {},
   "outputs": [],
   "source": [
    "def platform_sales(data, my_list,n,m, ysize):\n",
    "    temp = period.pivot_table(index=['platform','year_of_release'], values='total_sales', aggfunc='sum')\n",
    "    plt.subplots(n,m,figsize=(15,ysize))\n",
    "    i = 1\n",
    "    for platform in my_list:\n",
    "        ax = plt.subplot(n,m,i)\n",
    "        l = list(temp.query('platform==@platform').index.get_level_values(1))\n",
    "        temp.query('platform==@platform').plot(kind='bar', ax=ax, label=platform)\n",
    "        plt.legend()\n",
    "        plt.xlabel(platform)\n",
    "        i+=1\n",
    "        ax.set_xticklabels(l)\n",
    "    plt.tight_layout()"
   ]
  },
  {
   "cell_type": "code",
   "execution_count": 22,
   "metadata": {},
   "outputs": [
    {
     "data": {
      "image/png": "[encoded data removed]",
      "text/plain": [
       "<Figure size 1080x432 with 5 Axes>"
      ]
     },
     "metadata": {
      "needs_background": "light"
     },
     "output_type": "display_data"
    }
   ],
   "source": [
    "top = period.groupby('platform')['total_sales'].sum().sort_values(ascending=False).index[0:5]\n",
    "top5 = period.query('platform in @top')\n",
    "platform_sales(top5, top, 1, 5, 6)"
   ]
  },
  {
   "cell_type": "markdown",
   "metadata": {},
   "source": [
    "На графиках прослеживается тенденция к снижениюю Особенно по старым платформам, который находятся на стадии завершения жизненого цикла. Потенциально прибыльными в 2017 году могут остаться: PS4, 3DS и XOne."
   ]
  },
  {
   "cell_type": "markdown",
   "metadata": {},
   "source": [
    "### Анализ продаж игр"
   ]
  },
  {
   "cell_type": "code",
   "execution_count": 23,
   "metadata": {},
   "outputs": [
    {
     "data": {
      "image/png": "[encoded data removed]",
      "text/plain": [
       "<Figure size 2160x1080 with 1 Axes>"
      ]
     },
     "metadata": {
      "needs_background": "light"
     },
     "output_type": "display_data"
    }
   ],
   "source": [
    "# Отберем 10 самых продоваемых игр, как наиболее показательные\n",
    "top_games = period.groupby('name')['total_sales'].sum().sort_values(ascending=False)[0:10]\n",
    "# Построем график «ящик с усами» по глобальным продажам игр\n",
    "plt.figure(figsize=(30,15))\n",
    "sb.boxplot(data=period.query('name in @top_games.index'), x='name', y='total_sales')\n",
    "plt.show()"
   ]
  },
  {
   "cell_type": "code",
   "execution_count": 24,
   "metadata": {},
   "outputs": [
    {
     "data": {
      "image/png": "[encoded data removed]",
      "text/plain": [
       "<Figure size 1080x576 with 10 Axes>"
      ]
     },
     "metadata": {
      "needs_background": "light"
     },
     "output_type": "display_data"
    }
   ],
   "source": [
    "# Продажи игр в разбивке по платформам\n",
    "plt.subplots(2,5,figsize=(15,8))\n",
    "i = 1\n",
    "for game in top_games.index:\n",
    "    ax=plt.subplot(2,5,i)\n",
    "    period.query('name==@game').plot(kind='bar', x='platform', y='total_sales', ax=ax)\n",
    "    ax.set_xlabel(game)\n",
    "    i += 1\n",
    "plt.tight_layout()\n"
   ]
  },
  {
   "cell_type": "markdown",
   "metadata": {},
   "source": [
    "Популярные игры имеют большие продажи на одних и тех же платформах"
   ]
  },
  {
   "cell_type": "markdown",
   "metadata": {},
   "source": [
    " Диаграмма размаха продажи популярных игр на популярных платформах"
   ]
  },
  {
   "cell_type": "code",
   "execution_count": 25,
   "metadata": {
    "scrolled": true
   },
   "outputs": [
    {
     "data": {
      "image/png": "[encoded data removed]",
      "text/plain": [
       "<Figure size 1080x360 with 1 Axes>"
      ]
     },
     "metadata": {
      "needs_background": "light"
     },
     "output_type": "display_data"
    }
   ],
   "source": [
    "# Исправлено\n",
    "\n",
    "#  все данные из актуального периода, без дополнительных фильтраций по платформам\n",
    "kk = period.sort_values('total_sales', ascending=False)\n",
    "plt.figure(figsize=(15,5))\n",
    "sb.boxplot(data= kk, x='platform', y='total_sales')\n",
    "plt.ylim(0,2)\n",
    "plt.show()"
   ]
  },
  {
   "cell_type": "code",
   "execution_count": 26,
   "metadata": {},
   "outputs": [],
   "source": [
    "# прежняя версия\n",
    "#plt.figure(figsize=(15,5))\n",
    "#sb.boxplot(data=top5, x='platform', y='total_sales')\n",
    "#plt.ylim(0,2.2)\n",
    "#plt.show()"
   ]
  },
  {
   "cell_type": "markdown",
   "metadata": {},
   "source": [
    "Вывод подтвердился: самые прибыльные платформы выпускают самые популярные игры. А так как это относительное более современные платформы, очивидно связь популярности с технических возможностями, которые они предоставляют."
   ]
  },
  {
   "cell_type": "markdown",
   "metadata": {},
   "source": [
    "### Влияние  отзывов пользователей и критиков на продажи внутри одной популярной платформы"
   ]
  },
  {
   "cell_type": "code",
   "execution_count": 27,
   "metadata": {},
   "outputs": [
    {
     "data": {
      "image/png": "[encoded data removed]",
      "text/plain": [
       "<Figure size 432x288 with 1 Axes>"
      ]
     },
     "metadata": {
      "needs_background": "light"
     },
     "output_type": "display_data"
    }
   ],
   "source": [
    "#  PS4\n",
    "# оценка критиков \n",
    "period.query('platform==\"PS4\"').plot(kind='scatter', x='critic_score', y='total_sales')\n",
    "plt.show()"
   ]
  },
  {
   "cell_type": "code",
   "execution_count": 28,
   "metadata": {},
   "outputs": [
    {
     "data": {
      "text/plain": [
       "0.40266141068104083"
      ]
     },
     "execution_count": 28,
     "metadata": {},
     "output_type": "execute_result"
    }
   ],
   "source": [
    "# коэффициент корреляции\n",
    "period.query('platform==\"PS4\"')['critic_score'].corr(period.query('platform==\"PS4\"')['total_sales'])"
   ]
  },
  {
   "cell_type": "code",
   "execution_count": 29,
   "metadata": {},
   "outputs": [
    {
     "data": {
      "image/png": "[encoded data removed]",
      "text/plain": [
       "<Figure size 432x288 with 1 Axes>"
      ]
     },
     "metadata": {
      "needs_background": "light"
     },
     "output_type": "display_data"
    }
   ],
   "source": [
    "#  оценка пользователей \n",
    "period.query('platform==\"PS4\"').plot(kind='scatter', x='user_score', y='total_sales')\n",
    "plt.show()"
   ]
  },
  {
   "cell_type": "code",
   "execution_count": 30,
   "metadata": {},
   "outputs": [
    {
     "data": {
      "text/plain": [
       "-0.040131589472697356"
      ]
     },
     "execution_count": 30,
     "metadata": {},
     "output_type": "execute_result"
    }
   ],
   "source": [
    "# коэффициент корреляции\n",
    "period.query('platform==\"PS4\"')['user_score'].corr(period.query('platform==\"PS4\"')['total_sales'])"
   ]
  },
  {
   "cell_type": "markdown",
   "metadata": {},
   "source": [
    "На популярность платформы оценки критиков оказывают слабое влияние, а оценки пользователей не влияют"
   ]
  },
  {
   "cell_type": "markdown",
   "metadata": {},
   "source": [
    "### Продажи игр на других платформах"
   ]
  },
  {
   "cell_type": "code",
   "execution_count": 31,
   "metadata": {},
   "outputs": [
    {
     "name": "stdout",
     "output_type": "stream",
     "text": [
      "PS4 = 0.40266141068104083\n",
      "3DS = 0.314117492869051\n",
      "XOne = 0.42867694370333226\n",
      "WiiU = 0.370201412480884\n",
      "PS3 = 0.44657460493190704\n",
      "X360 = 0.5257228356581523\n",
      "PC = 0.17463413769350036\n",
      "Wii = nan\n",
      "PSV = 0.04266490657009526\n",
      "PSP = nan\n"
     ]
    }
   ],
   "source": [
    "platforms = period['platform'].unique()\n",
    "for platform in platforms:\n",
    "    s = period.query('platform==@platform')\n",
    "    print(platform,'=',s['critic_score'].corr(s['total_sales']));"
   ]
  },
  {
   "cell_type": "code",
   "execution_count": 32,
   "metadata": {},
   "outputs": [
    {
     "name": "stdout",
     "output_type": "stream",
     "text": [
      "PS4 = -0.040131589472697356\n",
      "3DS = 0.2151932718527028\n",
      "XOne = -0.0703839280647581\n",
      "WiiU = 0.40792645792170773\n",
      "PS3 = -0.16676141347662118\n",
      "X360 = -0.138444570945665\n",
      "PC = -0.07159665703472451\n",
      "Wii = 1.0\n",
      "PSV = -0.16845504978064446\n",
      "PSP = nan\n"
     ]
    }
   ],
   "source": [
    "platforms = period['platform'].unique()\n",
    "for platform in platforms:\n",
    "    s = period.query('platform==@platform')\n",
    "    print(platform,'=',s['user_score'].corr(s['total_sales']));"
   ]
  },
  {
   "cell_type": "markdown",
   "metadata": {},
   "source": [
    "Вывод: \n",
    "+ Оценка критиков  слабо влияет на динамику продаж. \n",
    "+ Оценка пользователй в целом по всем платформам не оказывает влияния. \n",
    "Но в ситуации с платформой Wii ситуация абсолютной зависимости. Возможно, такой выбивающийся результат связан с ошибкой вводных данных."
   ]
  },
  {
   "cell_type": "markdown",
   "metadata": {},
   "source": [
    "### Распределение игр по жанрам"
   ]
  },
  {
   "cell_type": "code",
   "execution_count": 33,
   "metadata": {},
   "outputs": [
    {
     "data": {
      "image/png": "[encoded data removed]",
      "text/plain": [
       "<Figure size 432x288 with 1 Axes>"
      ]
     },
     "metadata": {
      "needs_background": "light"
     },
     "output_type": "display_data"
    }
   ],
   "source": [
    "# Количество выпущенных игр по жанрам\n",
    "period.groupby('genre')['name'].count().sort_values(ascending=False).plot(kind='bar', label='число игр', legend=True)\n",
    "plt.show()"
   ]
  },
  {
   "cell_type": "code",
   "execution_count": 34,
   "metadata": {},
   "outputs": [
    {
     "data": {
      "image/png": "[encoded data removed]",
      "text/plain": [
       "<Figure size 432x288 with 1 Axes>"
      ]
     },
     "metadata": {
      "needs_background": "light"
     },
     "output_type": "display_data"
    }
   ],
   "source": [
    "# Выручка от продаж\n",
    "period.groupby('genre')['total_sales'].sum().sort_values(ascending=False).plot(kind='bar', label='продажи', legend=True)\n",
    "plt.show()\n"
   ]
  },
  {
   "cell_type": "markdown",
   "metadata": {},
   "source": [
    "+ Жанр Action безусловный лидер как по количеству выпущеных игр так и по выручке от продаж.\n",
    "+ Жанр Shooter второй по продажам, но лишь пятый по кол-ву выпущеных игр.\n",
    "Это говорит о существовании нескольких супер продоваемых хитов.\n",
    "+ Популярность остальных жанров более равномерно распределена, как по кол-ву, так и выручке\n"
   ]
  },
  {
   "cell_type": "code",
   "execution_count": 35,
   "metadata": {},
   "outputs": [
    {
     "data": {
      "image/png": "[encoded data removed]",
      "text/plain": [
       "<Figure size 432x288 with 1 Axes>"
      ]
     },
     "metadata": {
      "needs_background": "light"
     },
     "output_type": "display_data"
    }
   ],
   "source": [
    "profit = period.groupby('genre')['total_sales'].sum() / period.groupby('genre')['name'].count()\n",
    "profit = profit.sort_values(ascending=False)\n",
    "profit.plot(kind='bar', label='доходность игр', legend=True)\n",
    "plt.show()"
   ]
  },
  {
   "cell_type": "markdown",
   "metadata": {},
   "source": [
    "Shoter - самых доходный жанр"
   ]
  },
  {
   "cell_type": "markdown",
   "metadata": {},
   "source": [
    "### Вывод:\n",
    "В процессе исследования были определены:\n",
    "+ актуальный период с 2014 по 2016 годы\n",
    "+ жизненый цикл платформ, около 10 лет\n",
    "+ три потенциально перспективные платформы\n",
    "+ самые продоваемые игры"
   ]
  },
  {
   "cell_type": "markdown",
   "metadata": {},
   "source": [
    "Изучили влияние:\n",
    "+ оценок критиков и пользователей на продажи"
   ]
  },
  {
   "cell_type": "markdown",
   "metadata": {},
   "source": [
    "Выявили:\n",
    "+ самые популярные жанры игр по количесту и продажам"
   ]
  },
  {
   "cell_type": "markdown",
   "metadata": {},
   "source": [
    "Результат:\n",
    "+ Самые доходные платформы PS4, 3DS и XOne\n",
    "+ Самый доходный жанр Shoter\n",
    "+ Самые популярные игры имеют реализацию на с"
   ]
  },
  {
   "cell_type": "markdown",
   "metadata": {},
   "source": [
    "## Шаг. Составьте портрет пользователя каждого региона"
   ]
  },
  {
   "cell_type": "markdown",
   "metadata": {},
   "source": [
    "### Самые популярные платформы (топ-5)"
   ]
  },
  {
   "cell_type": "code",
   "execution_count": 36,
   "metadata": {},
   "outputs": [
    {
     "data": {
      "text/plain": [
       "<AxesSubplot:xlabel='platform'>"
      ]
     },
     "execution_count": 36,
     "metadata": {},
     "output_type": "execute_result"
    },
    {
     "data": {
      "image/png": "[encoded data removed]",
      "text/plain": [
       "<Figure size 432x288 with 1 Axes>"
      ]
     },
     "metadata": {
      "needs_background": "light"
     },
     "output_type": "display_data"
    },
    {
     "data": {
      "image/png": "[encoded data removed]",
      "text/plain": [
       "<Figure size 432x288 with 1 Axes>"
      ]
     },
     "metadata": {
      "needs_background": "light"
     },
     "output_type": "display_data"
    },
    {
     "data": {
      "image/png": "[encoded data removed]",
      "text/plain": [
       "<Figure size 432x288 with 1 Axes>"
      ]
     },
     "metadata": {
      "needs_background": "light"
     },
     "output_type": "display_data"
    }
   ],
   "source": [
    "period.groupby(by='platform').agg({'na_sales':'sum'}).sort_values(by='na_sales', ascending=False).head(5).plot(kind='bar')\n",
    "period.groupby(by='platform').agg({'eu_sales':'sum'}).sort_values(by='eu_sales', ascending=False).head(5).plot(kind='bar')\n",
    "period.groupby(by='platform').agg({'jp_sales':'sum'}).sort_values(by='jp_sales', ascending=False).head(5).plot(kind='bar')"
   ]
  },
  {
   "cell_type": "markdown",
   "metadata": {},
   "source": [
    "+ Популярность платформ Европе и Америке схожа. Популярность PC в разы выше других. Неплохую позицию в Америке занимает XOne.\n",
    "+ в Японии в лидеры выходят другие платформы, особенно знаково лидерство DS. PC - лидер в других регионах, не входит даже в пятерку лидеров."
   ]
  },
  {
   "cell_type": "markdown",
   "metadata": {},
   "source": [
    "### Самые популярные жанры (топ-5)"
   ]
  },
  {
   "cell_type": "code",
   "execution_count": 37,
   "metadata": {},
   "outputs": [
    {
     "data": {
      "text/plain": [
       "<AxesSubplot:xlabel='genre'>"
      ]
     },
     "execution_count": 37,
     "metadata": {},
     "output_type": "execute_result"
    },
    {
     "data": {
      "image/png": "[encoded data removed]",
      "text/plain": [
       "<Figure size 432x288 with 1 Axes>"
      ]
     },
     "metadata": {
      "needs_background": "light"
     },
     "output_type": "display_data"
    },
    {
     "data": {
      "image/png": "[encoded data removed]",
      "text/plain": [
       "<Figure size 432x288 with 1 Axes>"
      ]
     },
     "metadata": {
      "needs_background": "light"
     },
     "output_type": "display_data"
    },
    {
     "data": {
      "image/png": "[encoded data removed]",
      "text/plain": [
       "<Figure size 432x288 with 1 Axes>"
      ]
     },
     "metadata": {
      "needs_background": "light"
     },
     "output_type": "display_data"
    }
   ],
   "source": [
    "period.groupby(by='genre').agg({'na_sales':'sum'}).sort_values(by='na_sales', ascending=False).head(5).plot(kind='bar')\n",
    "period.groupby(by='genre').agg({'eu_sales':'sum'}).sort_values(by='eu_sales', ascending=False).head(5).plot(kind='bar')\n",
    "period.groupby(by='genre').agg({'jp_sales':'sum'}).sort_values(by='jp_sales', ascending=False).head(5).plot(kind='bar')"
   ]
  },
  {
   "cell_type": "markdown",
   "metadata": {},
   "source": [
    "Рынок Европы и Америки схож по предпочтениям.\n",
    "Рынок Японии выделяется. Жанр ролевых игр, который в других странах не является популярным, здесь занимает доминирующие положение( более чем в два раза)"
   ]
  },
  {
   "cell_type": "markdown",
   "metadata": {},
   "source": [
    "### Влияение рейтинга ESRB на продажи в отдельном регионе"
   ]
  },
  {
   "cell_type": "code",
   "execution_count": 38,
   "metadata": {},
   "outputs": [
    {
     "data": {
      "text/plain": [
       "<AxesSubplot:xlabel='rating'>"
      ]
     },
     "execution_count": 38,
     "metadata": {},
     "output_type": "execute_result"
    },
    {
     "data": {
      "image/png": "[encoded data removed]",
      "text/plain": [
       "<Figure size 432x288 with 1 Axes>"
      ]
     },
     "metadata": {
      "needs_background": "light"
     },
     "output_type": "display_data"
    },
    {
     "data": {
      "image/png": "[encoded data removed]",
      "text/plain": [
       "<Figure size 432x288 with 1 Axes>"
      ]
     },
     "metadata": {
      "needs_background": "light"
     },
     "output_type": "display_data"
    },
    {
     "data": {
      "image/png": "[encoded data removed]",
      "text/plain": [
       "<Figure size 432x288 with 1 Axes>"
      ]
     },
     "metadata": {
      "needs_background": "light"
     },
     "output_type": "display_data"
    }
   ],
   "source": [
    "rating = df #df.loc[df['rating'] != 'unknow']\n",
    "rating.groupby(by='rating').agg({'na_sales':'sum'}).sort_values(by='na_sales', ascending=False).head(5).plot(kind='bar')\n",
    "rating.groupby(by='rating').agg({'eu_sales':'sum'}).sort_values(by='eu_sales', ascending=False).head(5).plot(kind='bar')\n",
    "rating.groupby(by='rating').agg({'jp_sales':'sum'}).sort_values(by='jp_sales', ascending=False).head(5).plot(kind='bar')"
   ]
  },
  {
   "cell_type": "markdown",
   "metadata": {},
   "source": [
    "+ Игры без ограничений по возрасту('E') занимают лидирующие положение во всех регионах.\n",
    "+ В целом распределение игр по ESRB не зависит от региона. \n",
    "+ Болшая доля отсутствующих значений, особенно в Японии, могли сильно поменять тренды\n"
   ]
  },
  {
   "cell_type": "markdown",
   "metadata": {},
   "source": [
    "### Вывод:\n"
   ]
  },
  {
   "cell_type": "markdown",
   "metadata": {},
   "source": [
    "Проведя сравнение пользователей по регионам, выявлена значительные особености рынка Японии от других стран.\n",
    "А вот по возрастым ограничениям популярность у игр без ограничений (по всем странам)."
   ]
  },
  {
   "cell_type": "markdown",
   "metadata": {},
   "source": [
    "## Шаг. Проверка гипотез"
   ]
  },
  {
   "cell_type": "markdown",
   "metadata": {},
   "source": [
    "+ Средние пользовательские рейтинги платформ Xbox One и PC одинаковые;\n",
    "+ Средние пользовательские рейтинги жанров Action (англ. «действие», экшен-игры) и Sports (англ. «спортивные соревнования») разные.\n",
    "+ Задайте самостоятельно пороговое значение alpha.\n",
    "+ Поясните:\n",
    "Как вы сформулировали нулевую и альтернативную гипотезы;\n",
    "Какой критерий применили для проверки гипотез и почему."
   ]
  },
  {
   "cell_type": "markdown",
   "metadata": {},
   "source": [
    "Гипотезы:\n",
    "\n",
    "+ H0: средний пользовательский рейтинг платформ Xbox One и PC одинаковый\n",
    "+ H1: средний пользовательский рейтинг платформ Xbox One и PC различается"
   ]
  },
  {
   "cell_type": "markdown",
   "metadata": {},
   "source": [
    "Так как сравниваемые выборки независимы между собой, используем t-критерий Стьюдента"
   ]
  },
  {
   "cell_type": "code",
   "execution_count": 39,
   "metadata": {},
   "outputs": [
    {
     "name": "stdout",
     "output_type": "stream",
     "text": [
      "1.8910066518847013\n",
      "2.901154315133451\n"
     ]
    }
   ],
   "source": [
    "# находим стандартное отклонение для каждого распределения\n",
    "xbox = period[(period['platform'] == 'XOne') & (period['user_score'] > 0)]['user_score']\n",
    "pc = period[(period['platform'] == 'PC') & (period['user_score'] > 0)]['user_score']\n",
    "print(xbox.var(ddof=1))\n",
    "print(pc.var(ddof=1))"
   ]
  },
  {
   "cell_type": "code",
   "execution_count": 40,
   "metadata": {},
   "outputs": [
    {
     "name": "stdout",
     "output_type": "stream",
     "text": [
      "p-значение: 0.11601398086668832\n"
     ]
    }
   ],
   "source": [
    "results = st.ttest_ind(xbox, pc, equal_var = False)\n",
    "print('p-значение:', results.pvalue)"
   ]
  },
  {
   "cell_type": "code",
   "execution_count": 41,
   "metadata": {},
   "outputs": [
    {
     "name": "stdout",
     "output_type": "stream",
     "text": [
      "Не получилось отвергнуть нулевую гипотезу\n"
     ]
    }
   ],
   "source": [
    "# Проверяем гипотизу\n",
    "alpha = 0.05\n",
    "\n",
    "if results.pvalue < alpha:\n",
    "    print(\"Отвергаем нулевую гипотезу\")\n",
    "else:\n",
    "    print(\"Не получилось отвергнуть нулевую гипотезу\")"
   ]
  },
  {
   "cell_type": "markdown",
   "metadata": {},
   "source": [
    "Статистический тест показал, что гипотезу о равенстве среднего пользовательского рейтинга для XOne и PC не получилось отвергнуть. Пользователи одинаково оценивают платформы XOne и PC "
   ]
  },
  {
   "cell_type": "markdown",
   "metadata": {},
   "source": [
    "Гипотезы:\n",
    "\n",
    "+ H0: средний пользовательский рейтинг жанров Action и Sports одинаковый\n",
    "+ H1: средний пользовательский рейтинг жанров Action и Sports различается"
   ]
  },
  {
   "cell_type": "code",
   "execution_count": 42,
   "metadata": {},
   "outputs": [
    {
     "name": "stdout",
     "output_type": "stream",
     "text": [
      "1.8984766584766581\n",
      "3.446979127609048\n"
     ]
    }
   ],
   "source": [
    "# находим стандартное отклонение для каждого распределения\n",
    "action = period[(period['genre'] == 'Action') & (period['user_score'] > 0)]['user_score']\n",
    "sports = period[(period['genre'] == 'Sports') & (period['user_score'] > 0)]['user_score']\n",
    "\n",
    "print(action.var(ddof=1))\n",
    "print(sports.var(ddof=1))\n"
   ]
  },
  {
   "cell_type": "code",
   "execution_count": 43,
   "metadata": {},
   "outputs": [
    {
     "name": "stdout",
     "output_type": "stream",
     "text": [
      "p-значение: 1.1825550382644557e-14\n"
     ]
    }
   ],
   "source": [
    "results = st.ttest_ind(action, sports, equal_var = False)\n",
    "print('p-значение:', results.pvalue)"
   ]
  },
  {
   "cell_type": "code",
   "execution_count": 44,
   "metadata": {},
   "outputs": [
    {
     "name": "stdout",
     "output_type": "stream",
     "text": [
      "Отвергаем нулевую гипотезу\n"
     ]
    }
   ],
   "source": [
    "# Проверяем гипотизу\n",
    "if results.pvalue < alpha:\n",
    "    print(\"Отвергаем нулевую гипотезу\")\n",
    "else:\n",
    "    print(\"Не получилось отвергнуть нулевую гипотезу\")"
   ]
  },
  {
   "cell_type": "markdown",
   "metadata": {},
   "source": [
    "Средние пользовательские рейтинги жанров Action и Sports  различается.\n"
   ]
  },
  {
   "cell_type": "markdown",
   "metadata": {},
   "source": [
    "### Вывод:\n"
   ]
  },
  {
   "cell_type": "markdown",
   "metadata": {},
   "source": [
    "Проверено две гипотезы:"
   ]
  },
  {
   "cell_type": "markdown",
   "metadata": {},
   "source": [
    "Средний пользовательский рейтинг платформ Xbox One и PC близки по значению. \n",
    "+ Пользователи одинаково хорошо оценивают эти платформы. И при продвижении  на это можно опереться, но только не на рынке Японии, где своя расстановка приоритетов."
   ]
  },
  {
   "cell_type": "markdown",
   "metadata": {},
   "source": [
    "Средние пользовательские рейтинги жанров Action и Sports  различается\n",
    "+ Исходная гипотеза не подтвердилась: можно утверждать с уверенностью, что средние пользовательские рейтинги для жанров Action и Sports различаются. При выборе между продвижением игр двух жанров, при прочих равных условиях лучше отдать предпочтение жанру Sports.\n"
   ]
  },
  {
   "cell_type": "markdown",
   "metadata": {},
   "source": [
    "Пояснения по проверке:\n",
    "+ Для проверки используем метод t-критерий Стьюдента - сравниваемые выборки независимы между собой\n",
    "+ Уровень значимость берем стандартный 5 %  -  иное не указано в условии и нет веских причин менять\n",
    "+ При формулировани гипотез за нулевую берем утвердение о равнстве и ищем опровержения"
   ]
  },
  {
   "cell_type": "markdown",
   "metadata": {},
   "source": [
    "## Шаг. Общий вывод"
   ]
  },
  {
   "cell_type": "markdown",
   "metadata": {},
   "source": [
    "#### Мы исследовали данные:"
   ]
  },
  {
   "cell_type": "markdown",
   "metadata": {},
   "source": [
    "Провели предобработку данных\n",
    "+ заменили названия столбцов\n",
    "+ преобразовали типы данных\n",
    "+ заполнили пропуски данных\n",
    "+ дополнили данные агрегированными показателями по продажам\n",
    "+ проверили гипотизы на вероятность"
   ]
  },
  {
   "cell_type": "markdown",
   "metadata": {},
   "source": [
    "Провели сравнительный анализ в разрезе влияния на продажи:\n",
    "+ разлиных игровых платформ\n",
    "+ жанров игр\n",
    "+ играм\n",
    "+ по влиянию оценок критиков и пользователей\n",
    "+ возрастного рейтинга ESRB\n",
    "+ а также рынков различных регионов\n"
   ]
  },
  {
   "cell_type": "markdown",
   "metadata": {},
   "source": [
    "Выявили:\n",
    "+ значимый период оценки (2012-2016)\n",
    "+ ожидаемо прибыльные платформы (в зависимости от региона)\n",
    "+ игры пользующиейся наибольшим спросом\n",
    "+ отличия региональных рынков (особенно рынка Японии) \n",
    "+ жизненый цикл платформы (10 лет)"
   ]
  },
  {
   "cell_type": "markdown",
   "metadata": {},
   "source": [
    "#### В результате мы можем сформулировать алгоритм для оценки перспективости товаров, это:\n",
    "+ название игровой платформы и год  выпуска\n",
    "+ жанр игры\n",
    "+ возрастные ограничения\n",
    "+ регион продажи\n",
    "+ Оценоки пользователей на продажи это не оказывает влияния(можно не учитывать)\n",
    "+ Отзывы критиков имеют слабое влияния и могут быть использованы для уточнения (при прочих равных)\n"
   ]
  },
  {
   "cell_type": "markdown",
   "metadata": {},
   "source": [
    "#### Прогноз на 2017:"
   ]
  },
  {
   "cell_type": "markdown",
   "metadata": {},
   "source": [
    "Игра должна быть разработана для платформ PS4 или XOne, если речь идет о западном рынке, и — для платформы 3DS, если игру планируется продавать в Японии.\n",
    "Жанр: Action или Shooter для Запада, Role-Playing — для Японии.\n",
    "Рейтинг ESRB: либо от 17 лет (для Америки и Европы) или от 13 лет (для Японии). Рейтинг от 6 лет и старше также будет хорошим выбором, но тогда набор жанров сужается.\n",
    "Ориентироваться на оценки пользователей нет смысла, на продажи это не оказывает существенного влияния. Однако отзывы критиков не стоит упускать из внимания, их отзывы имеют значение. Стоит также отметить, что если пользовательский рейтинг все-таки будет важен создателям игры, то необходимо знать, что в жанре Sports рейтинг пользователей, как правило, выше, чем в жанре Action."
   ]
  }
 ],
 "metadata": {
  "ExecuteTimeLog": [
   {
    "duration": 386,
    "start_time": "2022-12-12T03:04:24.842Z"
   },
   {
    "duration": 58,
    "start_time": "2022-12-12T03:04:26.760Z"
   },
   {
    "duration": 102,
    "start_time": "2022-12-12T03:04:45.070Z"
   },
   {
    "duration": 25,
    "start_time": "2022-12-12T03:04:50.000Z"
   },
   {
    "duration": 18,
    "start_time": "2022-12-12T03:05:18.068Z"
   },
   {
    "duration": 13,
    "start_time": "2022-12-12T03:09:58.040Z"
   },
   {
    "duration": 1127,
    "start_time": "2022-12-12T03:16:46.351Z"
   },
   {
    "duration": 50,
    "start_time": "2022-12-12T03:16:47.480Z"
   },
   {
    "duration": 18,
    "start_time": "2022-12-12T03:16:47.532Z"
   },
   {
    "duration": 13,
    "start_time": "2022-12-12T03:16:47.552Z"
   },
   {
    "duration": 3,
    "start_time": "2022-12-12T03:19:14.794Z"
   },
   {
    "duration": 4,
    "start_time": "2022-12-12T03:19:19.850Z"
   },
   {
    "duration": 5,
    "start_time": "2022-12-12T03:22:35.560Z"
   },
   {
    "duration": 2,
    "start_time": "2022-12-12T03:22:44.470Z"
   },
   {
    "duration": 5,
    "start_time": "2022-12-12T03:23:39.890Z"
   },
   {
    "duration": 106,
    "start_time": "2022-12-12T03:43:30.758Z"
   },
   {
    "duration": 1078,
    "start_time": "2022-12-12T03:44:07.681Z"
   },
   {
    "duration": 55,
    "start_time": "2022-12-12T03:44:08.761Z"
   },
   {
    "duration": 16,
    "start_time": "2022-12-12T03:44:08.818Z"
   },
   {
    "duration": 13,
    "start_time": "2022-12-12T03:44:08.835Z"
   },
   {
    "duration": 4,
    "start_time": "2022-12-12T03:44:08.850Z"
   },
   {
    "duration": 6,
    "start_time": "2022-12-12T03:44:08.855Z"
   },
   {
    "duration": 116,
    "start_time": "2022-12-12T03:44:08.862Z"
   },
   {
    "duration": 11,
    "start_time": "2022-12-12T03:44:34.881Z"
   },
   {
    "duration": 188,
    "start_time": "2022-12-12T03:44:53.454Z"
   },
   {
    "duration": 16,
    "start_time": "2022-12-12T03:45:30.720Z"
   },
   {
    "duration": 10,
    "start_time": "2022-12-12T03:45:36.800Z"
   },
   {
    "duration": 10,
    "start_time": "2022-12-12T03:46:39.581Z"
   },
   {
    "duration": 10,
    "start_time": "2022-12-12T03:46:48.630Z"
   },
   {
    "duration": 1156,
    "start_time": "2022-12-12T03:47:05.357Z"
   },
   {
    "duration": 53,
    "start_time": "2022-12-12T03:47:06.514Z"
   },
   {
    "duration": 17,
    "start_time": "2022-12-12T03:47:06.569Z"
   },
   {
    "duration": 14,
    "start_time": "2022-12-12T03:47:06.587Z"
   },
   {
    "duration": 3,
    "start_time": "2022-12-12T03:47:06.603Z"
   },
   {
    "duration": 7,
    "start_time": "2022-12-12T03:47:06.608Z"
   },
   {
    "duration": 294,
    "start_time": "2022-12-12T03:47:06.617Z"
   },
   {
    "duration": 15,
    "start_time": "2022-12-12T03:47:37.580Z"
   },
   {
    "duration": 14,
    "start_time": "2022-12-12T03:51:35.131Z"
   },
   {
    "duration": 1088,
    "start_time": "2022-12-12T03:51:42.838Z"
   },
   {
    "duration": 49,
    "start_time": "2022-12-12T03:51:43.928Z"
   },
   {
    "duration": 16,
    "start_time": "2022-12-12T03:51:43.979Z"
   },
   {
    "duration": 13,
    "start_time": "2022-12-12T03:51:43.996Z"
   },
   {
    "duration": 4,
    "start_time": "2022-12-12T03:51:44.011Z"
   },
   {
    "duration": 7,
    "start_time": "2022-12-12T03:51:44.017Z"
   },
   {
    "duration": 28,
    "start_time": "2022-12-12T03:51:44.025Z"
   },
   {
    "duration": 22,
    "start_time": "2022-12-12T03:52:14.062Z"
   },
   {
    "duration": 10,
    "start_time": "2022-12-12T03:52:30.602Z"
   },
   {
    "duration": 13,
    "start_time": "2022-12-12T03:52:40.700Z"
   },
   {
    "duration": 1101,
    "start_time": "2022-12-12T03:52:53.024Z"
   },
   {
    "duration": 53,
    "start_time": "2022-12-12T03:52:54.128Z"
   },
   {
    "duration": 25,
    "start_time": "2022-12-12T03:52:54.182Z"
   },
   {
    "duration": 18,
    "start_time": "2022-12-12T03:52:54.209Z"
   },
   {
    "duration": 3,
    "start_time": "2022-12-12T03:52:54.230Z"
   },
   {
    "duration": 6,
    "start_time": "2022-12-12T03:52:54.234Z"
   },
   {
    "duration": 15,
    "start_time": "2022-12-12T03:52:54.242Z"
   },
   {
    "duration": 17,
    "start_time": "2022-12-12T03:55:24.950Z"
   },
   {
    "duration": 12,
    "start_time": "2022-12-12T03:56:42.590Z"
   },
   {
    "duration": 471,
    "start_time": "2022-12-12T03:57:30.390Z"
   },
   {
    "duration": 1086,
    "start_time": "2022-12-12T03:57:38.391Z"
   },
   {
    "duration": 51,
    "start_time": "2022-12-12T03:57:39.479Z"
   },
   {
    "duration": 17,
    "start_time": "2022-12-12T03:57:39.532Z"
   },
   {
    "duration": 12,
    "start_time": "2022-12-12T03:57:39.551Z"
   },
   {
    "duration": 3,
    "start_time": "2022-12-12T03:57:39.565Z"
   },
   {
    "duration": 7,
    "start_time": "2022-12-12T03:57:39.570Z"
   },
   {
    "duration": 25,
    "start_time": "2022-12-12T03:57:39.578Z"
   },
   {
    "duration": 2,
    "start_time": "2022-12-12T03:57:39.605Z"
   },
   {
    "duration": 12,
    "start_time": "2022-12-12T03:57:52.790Z"
   },
   {
    "duration": 14,
    "start_time": "2022-12-12T03:58:01.920Z"
   },
   {
    "duration": 7,
    "start_time": "2022-12-12T04:41:10.431Z"
   },
   {
    "duration": 17,
    "start_time": "2022-12-12T04:44:42.320Z"
   },
   {
    "duration": 10,
    "start_time": "2022-12-12T04:49:49.814Z"
   },
   {
    "duration": 8,
    "start_time": "2022-12-12T04:50:01.432Z"
   },
   {
    "duration": 12,
    "start_time": "2022-12-12T04:50:24.911Z"
   },
   {
    "duration": 11,
    "start_time": "2022-12-12T04:50:54.283Z"
   },
   {
    "duration": 12,
    "start_time": "2022-12-12T04:59:20.367Z"
   },
   {
    "duration": 24,
    "start_time": "2022-12-12T05:06:21.091Z"
   },
   {
    "duration": 4,
    "start_time": "2022-12-12T05:06:36.351Z"
   },
   {
    "duration": 15,
    "start_time": "2022-12-12T05:20:06.911Z"
   },
   {
    "duration": 97,
    "start_time": "2022-12-12T05:26:20.881Z"
   },
   {
    "duration": 23,
    "start_time": "2022-12-12T05:26:26.983Z"
   },
   {
    "duration": 390,
    "start_time": "2022-12-12T05:47:00.048Z"
   },
   {
    "duration": 380,
    "start_time": "2022-12-12T05:47:39.123Z"
   },
   {
    "duration": 367,
    "start_time": "2022-12-12T05:47:46.920Z"
   },
   {
    "duration": 384,
    "start_time": "2022-12-12T05:49:23.196Z"
   },
   {
    "duration": 470,
    "start_time": "2022-12-12T05:49:39.820Z"
   },
   {
    "duration": 346,
    "start_time": "2022-12-12T05:49:51.350Z"
   },
   {
    "duration": 427,
    "start_time": "2022-12-12T05:50:00.350Z"
   },
   {
    "duration": 1078,
    "start_time": "2022-12-12T05:50:14.320Z"
   },
   {
    "duration": 57,
    "start_time": "2022-12-12T05:50:15.400Z"
   },
   {
    "duration": 18,
    "start_time": "2022-12-12T05:50:15.458Z"
   },
   {
    "duration": 16,
    "start_time": "2022-12-12T05:50:15.478Z"
   },
   {
    "duration": 3,
    "start_time": "2022-12-12T05:50:15.497Z"
   },
   {
    "duration": 7,
    "start_time": "2022-12-12T05:50:15.502Z"
   },
   {
    "duration": 16,
    "start_time": "2022-12-12T05:50:15.510Z"
   },
   {
    "duration": 6,
    "start_time": "2022-12-12T05:50:15.527Z"
   },
   {
    "duration": 18,
    "start_time": "2022-12-12T05:50:15.534Z"
   },
   {
    "duration": 43,
    "start_time": "2022-12-12T05:50:15.553Z"
   },
   {
    "duration": 11,
    "start_time": "2022-12-12T05:50:15.598Z"
   },
   {
    "duration": 4,
    "start_time": "2022-12-12T05:50:15.611Z"
   },
   {
    "duration": 20,
    "start_time": "2022-12-12T05:50:15.617Z"
   },
   {
    "duration": 15,
    "start_time": "2022-12-12T05:50:15.639Z"
   },
   {
    "duration": 388,
    "start_time": "2022-12-12T05:50:15.656Z"
   },
   {
    "duration": 341,
    "start_time": "2022-12-12T05:50:27.929Z"
   },
   {
    "duration": 342,
    "start_time": "2022-12-12T05:51:23.101Z"
   },
   {
    "duration": 395,
    "start_time": "2022-12-12T05:51:48.559Z"
   },
   {
    "duration": 487,
    "start_time": "2022-12-12T05:52:02.565Z"
   },
   {
    "duration": 401,
    "start_time": "2022-12-12T05:52:09.079Z"
   },
   {
    "duration": 402,
    "start_time": "2022-12-12T05:52:30.640Z"
   },
   {
    "duration": 1074,
    "start_time": "2022-12-12T05:52:41.818Z"
   },
   {
    "duration": 51,
    "start_time": "2022-12-12T05:52:42.895Z"
   },
   {
    "duration": 18,
    "start_time": "2022-12-12T05:52:42.948Z"
   },
   {
    "duration": 17,
    "start_time": "2022-12-12T05:52:42.968Z"
   },
   {
    "duration": 3,
    "start_time": "2022-12-12T05:52:42.987Z"
   },
   {
    "duration": 7,
    "start_time": "2022-12-12T05:52:42.992Z"
   },
   {
    "duration": 19,
    "start_time": "2022-12-12T05:52:43.001Z"
   },
   {
    "duration": 5,
    "start_time": "2022-12-12T05:52:43.022Z"
   },
   {
    "duration": 28,
    "start_time": "2022-12-12T05:52:43.029Z"
   },
   {
    "duration": 40,
    "start_time": "2022-12-12T05:52:43.059Z"
   },
   {
    "duration": 11,
    "start_time": "2022-12-12T05:52:43.101Z"
   },
   {
    "duration": 4,
    "start_time": "2022-12-12T05:52:43.113Z"
   },
   {
    "duration": 21,
    "start_time": "2022-12-12T05:52:43.119Z"
   },
   {
    "duration": 15,
    "start_time": "2022-12-12T05:52:43.142Z"
   },
   {
    "duration": 354,
    "start_time": "2022-12-12T05:52:43.159Z"
   },
   {
    "duration": 374,
    "start_time": "2022-12-12T06:05:24.849Z"
   },
   {
    "duration": 112,
    "start_time": "2022-12-12T06:14:34.160Z"
   },
   {
    "duration": 311,
    "start_time": "2022-12-12T06:14:57.161Z"
   },
   {
    "duration": 359,
    "start_time": "2022-12-12T06:15:10.093Z"
   },
   {
    "duration": 429,
    "start_time": "2022-12-12T06:15:32.081Z"
   },
   {
    "duration": 352,
    "start_time": "2022-12-12T06:15:48.060Z"
   },
   {
    "duration": 36,
    "start_time": "2022-12-12T06:22:02.041Z"
   },
   {
    "duration": 11,
    "start_time": "2022-12-12T06:22:23.520Z"
   },
   {
    "duration": 9,
    "start_time": "2022-12-12T06:22:35.160Z"
   },
   {
    "duration": 9,
    "start_time": "2022-12-12T06:23:30.990Z"
   },
   {
    "duration": 9,
    "start_time": "2022-12-12T06:24:21.979Z"
   },
   {
    "duration": 9,
    "start_time": "2022-12-12T06:25:19.591Z"
   },
   {
    "duration": 9,
    "start_time": "2022-12-12T06:25:39.511Z"
   },
   {
    "duration": 1142,
    "start_time": "2022-12-12T06:25:49.271Z"
   },
   {
    "duration": 55,
    "start_time": "2022-12-12T06:25:50.414Z"
   },
   {
    "duration": 18,
    "start_time": "2022-12-12T06:25:50.471Z"
   },
   {
    "duration": 18,
    "start_time": "2022-12-12T06:25:50.491Z"
   },
   {
    "duration": 8,
    "start_time": "2022-12-12T06:25:50.511Z"
   },
   {
    "duration": 28,
    "start_time": "2022-12-12T06:25:50.521Z"
   },
   {
    "duration": 34,
    "start_time": "2022-12-12T06:25:50.551Z"
   },
   {
    "duration": 5,
    "start_time": "2022-12-12T06:25:50.586Z"
   },
   {
    "duration": 19,
    "start_time": "2022-12-12T06:25:50.593Z"
   },
   {
    "duration": 11,
    "start_time": "2022-12-12T06:25:50.613Z"
   },
   {
    "duration": 10,
    "start_time": "2022-12-12T06:25:50.626Z"
   },
   {
    "duration": 5,
    "start_time": "2022-12-12T06:25:50.638Z"
   },
   {
    "duration": 22,
    "start_time": "2022-12-12T06:25:50.645Z"
   },
   {
    "duration": 17,
    "start_time": "2022-12-12T06:25:50.696Z"
   },
   {
    "duration": 388,
    "start_time": "2022-12-12T06:25:50.714Z"
   },
   {
    "duration": 359,
    "start_time": "2022-12-12T06:25:51.103Z"
   },
   {
    "duration": 117,
    "start_time": "2022-12-12T06:25:51.465Z"
   },
   {
    "duration": 9,
    "start_time": "2022-12-12T06:26:01.580Z"
   },
   {
    "duration": 17,
    "start_time": "2022-12-12T06:27:44.622Z"
   },
   {
    "duration": 346,
    "start_time": "2022-12-12T06:27:56.829Z"
   },
   {
    "duration": 347,
    "start_time": "2022-12-12T06:28:08.961Z"
   },
   {
    "duration": 3,
    "start_time": "2022-12-12T06:28:53.590Z"
   },
   {
    "duration": 11,
    "start_time": "2022-12-12T06:29:05.290Z"
   },
   {
    "duration": 9,
    "start_time": "2022-12-12T06:29:17.100Z"
   },
   {
    "duration": 9,
    "start_time": "2022-12-12T06:29:44.401Z"
   },
   {
    "duration": 404,
    "start_time": "2022-12-12T06:30:40.220Z"
   },
   {
    "duration": 5,
    "start_time": "2022-12-12T06:31:35.663Z"
   },
   {
    "duration": 12,
    "start_time": "2022-12-12T06:32:08.302Z"
   },
   {
    "duration": 26,
    "start_time": "2022-12-12T06:32:21.030Z"
   },
   {
    "duration": 554,
    "start_time": "2022-12-12T06:37:01.177Z"
   },
   {
    "duration": 98,
    "start_time": "2022-12-12T07:06:42.239Z"
   },
   {
    "duration": 356,
    "start_time": "2022-12-12T07:07:03.190Z"
   },
   {
    "duration": 182,
    "start_time": "2022-12-12T07:07:41.880Z"
   },
   {
    "duration": 327,
    "start_time": "2022-12-12T07:08:09.510Z"
   },
   {
    "duration": 419,
    "start_time": "2022-12-12T07:12:18.039Z"
   },
   {
    "duration": 10,
    "start_time": "2022-12-12T07:41:36.563Z"
   },
   {
    "duration": 18,
    "start_time": "2022-12-12T07:42:12.262Z"
   },
   {
    "duration": 4,
    "start_time": "2022-12-12T07:44:15.633Z"
   },
   {
    "duration": 375,
    "start_time": "2022-12-12T07:44:26.092Z"
   },
   {
    "duration": 6,
    "start_time": "2022-12-12T07:44:38.523Z"
   },
   {
    "duration": 2,
    "start_time": "2022-12-12T07:57:15.322Z"
   },
   {
    "duration": 2,
    "start_time": "2022-12-12T07:57:59.232Z"
   },
   {
    "duration": 14,
    "start_time": "2022-12-12T08:02:15.121Z"
   },
   {
    "duration": 32,
    "start_time": "2022-12-12T08:02:22.413Z"
   },
   {
    "duration": 35,
    "start_time": "2022-12-12T08:02:54.842Z"
   },
   {
    "duration": 10,
    "start_time": "2022-12-12T08:04:48.751Z"
   },
   {
    "duration": 9,
    "start_time": "2022-12-12T08:04:56.302Z"
   },
   {
    "duration": 8,
    "start_time": "2022-12-12T08:05:09.072Z"
   },
   {
    "duration": 9,
    "start_time": "2022-12-12T08:07:52.191Z"
   },
   {
    "duration": 9,
    "start_time": "2022-12-12T08:08:49.662Z"
   },
   {
    "duration": 9,
    "start_time": "2022-12-12T08:09:38.144Z"
   },
   {
    "duration": 9,
    "start_time": "2022-12-12T08:11:13.313Z"
   },
   {
    "duration": 20,
    "start_time": "2022-12-12T08:11:51.842Z"
   },
   {
    "duration": 145,
    "start_time": "2022-12-12T08:12:15.832Z"
   },
   {
    "duration": 20,
    "start_time": "2022-12-12T08:12:33.591Z"
   },
   {
    "duration": 350,
    "start_time": "2022-12-12T08:13:45.153Z"
   },
   {
    "duration": 358,
    "start_time": "2022-12-12T08:14:14.242Z"
   },
   {
    "duration": 1015,
    "start_time": "2022-12-12T08:16:56.831Z"
   },
   {
    "duration": 10,
    "start_time": "2022-12-12T08:19:35.652Z"
   },
   {
    "duration": 9,
    "start_time": "2022-12-12T08:19:46.102Z"
   },
   {
    "duration": 10,
    "start_time": "2022-12-12T08:19:58.817Z"
   },
   {
    "duration": 1454,
    "start_time": "2022-12-12T15:03:44.924Z"
   },
   {
    "duration": 122,
    "start_time": "2022-12-12T15:03:46.381Z"
   },
   {
    "duration": 26,
    "start_time": "2022-12-12T15:03:46.505Z"
   },
   {
    "duration": 28,
    "start_time": "2022-12-12T15:03:46.533Z"
   },
   {
    "duration": 4,
    "start_time": "2022-12-12T15:03:46.565Z"
   },
   {
    "duration": 21,
    "start_time": "2022-12-12T15:03:46.571Z"
   },
   {
    "duration": 19,
    "start_time": "2022-12-12T15:03:46.611Z"
   },
   {
    "duration": 7,
    "start_time": "2022-12-12T15:03:46.632Z"
   },
   {
    "duration": 39,
    "start_time": "2022-12-12T15:03:46.641Z"
   },
   {
    "duration": 34,
    "start_time": "2022-12-12T15:03:46.682Z"
   },
   {
    "duration": 12,
    "start_time": "2022-12-12T15:03:46.719Z"
   },
   {
    "duration": 6,
    "start_time": "2022-12-12T15:03:46.734Z"
   },
   {
    "duration": 42,
    "start_time": "2022-12-12T15:03:46.742Z"
   },
   {
    "duration": 33,
    "start_time": "2022-12-12T15:03:46.787Z"
   },
   {
    "duration": 409,
    "start_time": "2022-12-12T15:03:46.822Z"
   },
   {
    "duration": 369,
    "start_time": "2022-12-12T15:03:47.233Z"
   },
   {
    "duration": 28,
    "start_time": "2022-12-12T15:03:47.604Z"
   },
   {
    "duration": 117,
    "start_time": "2022-12-12T15:03:47.634Z"
   },
   {
    "duration": 1,
    "start_time": "2022-12-12T15:03:47.752Z"
   },
   {
    "duration": 0,
    "start_time": "2022-12-12T15:03:47.754Z"
   },
   {
    "duration": 5,
    "start_time": "2022-12-12T15:07:18.645Z"
   },
   {
    "duration": 14,
    "start_time": "2022-12-12T15:10:38.127Z"
   },
   {
    "duration": 109,
    "start_time": "2022-12-12T15:10:50.416Z"
   },
   {
    "duration": 32,
    "start_time": "2022-12-12T15:11:25.728Z"
   },
   {
    "duration": 31,
    "start_time": "2022-12-12T15:12:23.678Z"
   },
   {
    "duration": 34,
    "start_time": "2022-12-12T15:13:08.787Z"
   },
   {
    "duration": 915,
    "start_time": "2022-12-12T15:13:47.645Z"
   },
   {
    "duration": 359,
    "start_time": "2022-12-12T15:14:31.476Z"
   },
   {
    "duration": 1023,
    "start_time": "2022-12-12T15:14:41.375Z"
   },
   {
    "duration": 885,
    "start_time": "2022-12-12T15:15:33.735Z"
   },
   {
    "duration": 2040,
    "start_time": "2022-12-12T15:16:10.795Z"
   },
   {
    "duration": 1958,
    "start_time": "2022-12-12T15:16:38.576Z"
   },
   {
    "duration": 30,
    "start_time": "2022-12-12T15:18:16.094Z"
   },
   {
    "duration": 2239,
    "start_time": "2022-12-12T15:18:22.235Z"
   },
   {
    "duration": 35,
    "start_time": "2022-12-12T15:18:45.578Z"
   },
   {
    "duration": 488,
    "start_time": "2022-12-12T15:18:54.136Z"
   },
   {
    "duration": 1180,
    "start_time": "2022-12-12T15:22:01.945Z"
   },
   {
    "duration": 1322,
    "start_time": "2022-12-12T15:22:05.438Z"
   },
   {
    "duration": 1312,
    "start_time": "2022-12-12T15:22:44.364Z"
   },
   {
    "duration": 547,
    "start_time": "2022-12-12T15:23:18.215Z"
   },
   {
    "duration": 412,
    "start_time": "2022-12-12T15:23:43.179Z"
   },
   {
    "duration": 1213,
    "start_time": "2022-12-12T15:23:54.795Z"
   },
   {
    "duration": 9,
    "start_time": "2022-12-12T15:24:28.955Z"
   },
   {
    "duration": 9,
    "start_time": "2022-12-12T16:07:52.726Z"
   },
   {
    "duration": 9,
    "start_time": "2022-12-12T16:08:08.855Z"
   },
   {
    "duration": 15,
    "start_time": "2022-12-12T16:08:18.395Z"
   },
   {
    "duration": 27,
    "start_time": "2022-12-12T16:08:25.487Z"
   },
   {
    "duration": 495,
    "start_time": "2022-12-12T16:08:59.765Z"
   },
   {
    "duration": 621,
    "start_time": "2022-12-12T16:09:30.855Z"
   },
   {
    "duration": 10,
    "start_time": "2022-12-12T16:18:51.776Z"
   },
   {
    "duration": 27,
    "start_time": "2022-12-12T16:19:23.965Z"
   },
   {
    "duration": 40,
    "start_time": "2022-12-12T16:24:44.221Z"
   },
   {
    "duration": 27,
    "start_time": "2022-12-12T16:25:05.256Z"
   },
   {
    "duration": 18,
    "start_time": "2022-12-12T16:25:33.176Z"
   },
   {
    "duration": 20,
    "start_time": "2022-12-12T16:26:17.396Z"
   },
   {
    "duration": 45,
    "start_time": "2022-12-12T16:28:08.216Z"
   },
   {
    "duration": 28,
    "start_time": "2022-12-12T16:29:28.475Z"
   },
   {
    "duration": 4,
    "start_time": "2022-12-12T16:31:27.110Z"
   },
   {
    "duration": 722,
    "start_time": "2022-12-12T16:32:27.959Z"
   },
   {
    "duration": 50,
    "start_time": "2022-12-12T16:33:49.339Z"
   },
   {
    "duration": 74,
    "start_time": "2022-12-12T16:34:13.495Z"
   },
   {
    "duration": 47,
    "start_time": "2022-12-12T16:34:37.845Z"
   },
   {
    "duration": 558,
    "start_time": "2022-12-12T16:34:54.695Z"
   },
   {
    "duration": 394,
    "start_time": "2022-12-12T16:38:33.986Z"
   },
   {
    "duration": 770,
    "start_time": "2022-12-12T16:39:32.115Z"
   },
   {
    "duration": 115,
    "start_time": "2022-12-12T16:40:21.888Z"
   },
   {
    "duration": 126,
    "start_time": "2022-12-12T16:40:40.497Z"
   },
   {
    "duration": 118,
    "start_time": "2022-12-12T16:41:16.855Z"
   },
   {
    "duration": 130,
    "start_time": "2022-12-12T16:43:18.926Z"
   },
   {
    "duration": 398,
    "start_time": "2022-12-12T16:44:11.295Z"
   },
   {
    "duration": 406,
    "start_time": "2022-12-12T16:46:12.256Z"
   },
   {
    "duration": 665,
    "start_time": "2022-12-12T16:49:08.989Z"
   },
   {
    "duration": 10,
    "start_time": "2022-12-12T16:51:26.159Z"
   },
   {
    "duration": 1585,
    "start_time": "2022-12-12T16:51:36.235Z"
   },
   {
    "duration": 2317,
    "start_time": "2022-12-12T16:52:03.256Z"
   },
   {
    "duration": 19,
    "start_time": "2022-12-12T16:53:08.689Z"
   },
   {
    "duration": 45,
    "start_time": "2022-12-12T16:53:42.145Z"
   },
   {
    "duration": 2094,
    "start_time": "2022-12-12T16:53:51.739Z"
   },
   {
    "duration": 2435,
    "start_time": "2022-12-12T16:54:04.067Z"
   },
   {
    "duration": 47,
    "start_time": "2022-12-12T16:54:40.382Z"
   },
   {
    "duration": 17,
    "start_time": "2022-12-12T16:54:46.166Z"
   },
   {
    "duration": 578,
    "start_time": "2022-12-12T17:15:22.005Z"
   },
   {
    "duration": 13,
    "start_time": "2022-12-12T17:16:35.464Z"
   },
   {
    "duration": 127,
    "start_time": "2022-12-12T17:17:06.885Z"
   },
   {
    "duration": 9,
    "start_time": "2022-12-12T17:17:42.384Z"
   },
   {
    "duration": 112,
    "start_time": "2022-12-12T17:17:53.254Z"
   },
   {
    "duration": 133,
    "start_time": "2022-12-12T17:18:13.308Z"
   },
   {
    "duration": 15,
    "start_time": "2022-12-12T17:18:31.944Z"
   },
   {
    "duration": 641,
    "start_time": "2022-12-12T17:18:45.110Z"
   },
   {
    "duration": 17,
    "start_time": "2022-12-12T17:33:16.204Z"
   },
   {
    "duration": 17,
    "start_time": "2022-12-12T17:34:30.880Z"
   },
   {
    "duration": 21,
    "start_time": "2022-12-12T17:35:24.795Z"
   },
   {
    "duration": 17,
    "start_time": "2022-12-12T17:35:52.504Z"
   },
   {
    "duration": 1240,
    "start_time": "2022-12-12T17:36:31.375Z"
   },
   {
    "duration": 57,
    "start_time": "2022-12-12T17:36:32.617Z"
   },
   {
    "duration": 19,
    "start_time": "2022-12-12T17:36:32.676Z"
   },
   {
    "duration": 16,
    "start_time": "2022-12-12T17:36:32.697Z"
   },
   {
    "duration": 4,
    "start_time": "2022-12-12T17:36:32.715Z"
   },
   {
    "duration": 6,
    "start_time": "2022-12-12T17:36:32.721Z"
   },
   {
    "duration": 20,
    "start_time": "2022-12-12T17:36:32.729Z"
   },
   {
    "duration": 5,
    "start_time": "2022-12-12T17:36:32.751Z"
   },
   {
    "duration": 25,
    "start_time": "2022-12-12T17:36:32.758Z"
   },
   {
    "duration": 39,
    "start_time": "2022-12-12T17:36:32.785Z"
   },
   {
    "duration": 11,
    "start_time": "2022-12-12T17:36:32.826Z"
   },
   {
    "duration": 5,
    "start_time": "2022-12-12T17:36:32.839Z"
   },
   {
    "duration": 25,
    "start_time": "2022-12-12T17:36:32.845Z"
   },
   {
    "duration": 52,
    "start_time": "2022-12-12T17:36:32.873Z"
   },
   {
    "duration": 437,
    "start_time": "2022-12-12T17:36:32.926Z"
   },
   {
    "duration": 416,
    "start_time": "2022-12-12T17:36:33.365Z"
   },
   {
    "duration": 40,
    "start_time": "2022-12-12T17:36:33.783Z"
   },
   {
    "duration": 40,
    "start_time": "2022-12-12T17:36:33.825Z"
   },
   {
    "duration": 46,
    "start_time": "2022-12-12T17:36:33.867Z"
   },
   {
    "duration": 149,
    "start_time": "2022-12-12T17:36:33.915Z"
   },
   {
    "duration": 805,
    "start_time": "2022-12-12T17:36:34.066Z"
   },
   {
    "duration": 416,
    "start_time": "2022-12-12T17:36:34.874Z"
   },
   {
    "duration": 3,
    "start_time": "2022-12-12T17:36:35.292Z"
   },
   {
    "duration": 106,
    "start_time": "2022-12-12T17:39:18.684Z"
   },
   {
    "duration": 10,
    "start_time": "2022-12-12T17:39:34.102Z"
   },
   {
    "duration": 2,
    "start_time": "2022-12-12T17:41:19.177Z"
   },
   {
    "duration": 20,
    "start_time": "2022-12-12T17:41:54.294Z"
   },
   {
    "duration": 239,
    "start_time": "2022-12-12T17:42:47.273Z"
   },
   {
    "duration": 453,
    "start_time": "2022-12-12T17:44:35.730Z"
   },
   {
    "duration": 455,
    "start_time": "2022-12-12T17:45:09.844Z"
   },
   {
    "duration": 4,
    "start_time": "2022-12-12T17:47:41.314Z"
   },
   {
    "duration": 10,
    "start_time": "2022-12-12T17:48:25.473Z"
   },
   {
    "duration": 728,
    "start_time": "2022-12-12T17:48:45.957Z"
   },
   {
    "duration": 733,
    "start_time": "2022-12-12T17:49:00.415Z"
   },
   {
    "duration": 573,
    "start_time": "2022-12-12T17:49:22.210Z"
   },
   {
    "duration": 537,
    "start_time": "2022-12-12T17:49:47.503Z"
   },
   {
    "duration": 413,
    "start_time": "2022-12-12T17:50:34.394Z"
   },
   {
    "duration": 236,
    "start_time": "2022-12-12T17:51:11.997Z"
   },
   {
    "duration": 445,
    "start_time": "2022-12-12T17:51:30.562Z"
   },
   {
    "duration": 246,
    "start_time": "2022-12-12T17:54:43.003Z"
   },
   {
    "duration": 865,
    "start_time": "2022-12-12T17:54:56.271Z"
   },
   {
    "duration": 695,
    "start_time": "2022-12-12T17:55:15.364Z"
   },
   {
    "duration": 3,
    "start_time": "2022-12-12T17:55:49.834Z"
   },
   {
    "duration": 5,
    "start_time": "2022-12-12T17:56:09.235Z"
   },
   {
    "duration": 695,
    "start_time": "2022-12-12T17:56:46.894Z"
   },
   {
    "duration": 409,
    "start_time": "2022-12-12T18:10:34.756Z"
   },
   {
    "duration": 513,
    "start_time": "2022-12-12T18:11:13.042Z"
   },
   {
    "duration": 1304,
    "start_time": "2022-12-12T18:11:35.514Z"
   },
   {
    "duration": 72,
    "start_time": "2022-12-12T18:11:36.821Z"
   },
   {
    "duration": 24,
    "start_time": "2022-12-12T18:11:36.895Z"
   },
   {
    "duration": 24,
    "start_time": "2022-12-12T18:11:36.922Z"
   },
   {
    "duration": 13,
    "start_time": "2022-12-12T18:11:36.948Z"
   },
   {
    "duration": 22,
    "start_time": "2022-12-12T18:11:36.963Z"
   },
   {
    "duration": 26,
    "start_time": "2022-12-12T18:11:36.988Z"
   },
   {
    "duration": 8,
    "start_time": "2022-12-12T18:11:37.019Z"
   },
   {
    "duration": 45,
    "start_time": "2022-12-12T18:11:37.029Z"
   },
   {
    "duration": 15,
    "start_time": "2022-12-12T18:11:37.078Z"
   },
   {
    "duration": 25,
    "start_time": "2022-12-12T18:11:37.095Z"
   },
   {
    "duration": 5,
    "start_time": "2022-12-12T18:11:37.122Z"
   },
   {
    "duration": 53,
    "start_time": "2022-12-12T18:11:37.130Z"
   },
   {
    "duration": 28,
    "start_time": "2022-12-12T18:11:37.186Z"
   },
   {
    "duration": 435,
    "start_time": "2022-12-12T18:11:37.217Z"
   },
   {
    "duration": 382,
    "start_time": "2022-12-12T18:11:37.654Z"
   },
   {
    "duration": 30,
    "start_time": "2022-12-12T18:11:38.038Z"
   },
   {
    "duration": 68,
    "start_time": "2022-12-12T18:11:38.070Z"
   },
   {
    "duration": 28,
    "start_time": "2022-12-12T18:11:38.140Z"
   },
   {
    "duration": 9,
    "start_time": "2022-12-12T18:11:38.171Z"
   },
   {
    "duration": 32,
    "start_time": "2022-12-12T18:11:38.182Z"
   },
   {
    "duration": 734,
    "start_time": "2022-12-12T18:11:38.216Z"
   },
   {
    "duration": 292,
    "start_time": "2022-12-12T18:11:38.952Z"
   },
   {
    "duration": 3,
    "start_time": "2022-12-12T18:11:39.247Z"
   },
   {
    "duration": 624,
    "start_time": "2022-12-12T18:11:39.252Z"
   },
   {
    "duration": 0,
    "start_time": "2022-12-12T18:11:39.878Z"
   },
   {
    "duration": 380,
    "start_time": "2022-12-12T18:13:12.136Z"
   },
   {
    "duration": 237,
    "start_time": "2022-12-12T18:14:02.756Z"
   },
   {
    "duration": 383,
    "start_time": "2022-12-12T18:15:18.236Z"
   },
   {
    "duration": 383,
    "start_time": "2022-12-12T18:16:19.886Z"
   },
   {
    "duration": 369,
    "start_time": "2022-12-12T18:17:31.948Z"
   },
   {
    "duration": 501,
    "start_time": "2022-12-12T18:17:44.648Z"
   },
   {
    "duration": 393,
    "start_time": "2022-12-12T18:18:11.808Z"
   },
   {
    "duration": 645,
    "start_time": "2022-12-12T18:18:59.356Z"
   },
   {
    "duration": 385,
    "start_time": "2022-12-12T18:19:57.015Z"
   },
   {
    "duration": 696,
    "start_time": "2022-12-12T18:20:11.056Z"
   },
   {
    "duration": 874,
    "start_time": "2022-12-12T18:20:58.605Z"
   },
   {
    "duration": 361,
    "start_time": "2022-12-12T18:21:40.336Z"
   },
   {
    "duration": 392,
    "start_time": "2022-12-12T18:22:26.656Z"
   },
   {
    "duration": 372,
    "start_time": "2022-12-12T18:23:13.536Z"
   },
   {
    "duration": 7,
    "start_time": "2022-12-12T18:30:12.326Z"
   },
   {
    "duration": 524,
    "start_time": "2022-12-12T18:31:23.866Z"
   },
   {
    "duration": 6,
    "start_time": "2022-12-12T18:31:44.976Z"
   },
   {
    "duration": 263,
    "start_time": "2022-12-12T18:32:06.158Z"
   },
   {
    "duration": 139,
    "start_time": "2022-12-12T18:33:07.976Z"
   },
   {
    "duration": 141,
    "start_time": "2022-12-12T18:33:34.258Z"
   },
   {
    "duration": 493,
    "start_time": "2022-12-12T18:33:51.226Z"
   },
   {
    "duration": 16,
    "start_time": "2022-12-12T18:34:12.474Z"
   },
   {
    "duration": 492,
    "start_time": "2022-12-12T18:35:17.118Z"
   },
   {
    "duration": 243,
    "start_time": "2022-12-12T18:36:45.345Z"
   },
   {
    "duration": 3,
    "start_time": "2022-12-12T18:38:50.997Z"
   },
   {
    "duration": 446,
    "start_time": "2022-12-12T18:39:43.036Z"
   },
   {
    "duration": 27,
    "start_time": "2022-12-12T18:40:28.798Z"
   },
   {
    "duration": 678,
    "start_time": "2022-12-12T18:41:24.118Z"
   },
   {
    "duration": 636,
    "start_time": "2022-12-12T18:43:16.180Z"
   },
   {
    "duration": 260,
    "start_time": "2022-12-12T18:43:38.066Z"
   },
   {
    "duration": 379,
    "start_time": "2022-12-12T18:45:24.976Z"
   },
   {
    "duration": 486,
    "start_time": "2022-12-12T18:45:56.008Z"
   },
   {
    "duration": 444,
    "start_time": "2022-12-12T18:46:06.297Z"
   },
   {
    "duration": 611,
    "start_time": "2022-12-12T18:46:43.331Z"
   },
   {
    "duration": 615,
    "start_time": "2022-12-12T18:47:16.708Z"
   },
   {
    "duration": 380,
    "start_time": "2022-12-12T18:48:02.776Z"
   },
   {
    "duration": 46,
    "start_time": "2022-12-12T18:48:24.096Z"
   },
   {
    "duration": 46,
    "start_time": "2022-12-12T18:48:42.216Z"
   },
   {
    "duration": 47,
    "start_time": "2022-12-12T18:48:49.886Z"
   },
   {
    "duration": 511,
    "start_time": "2022-12-12T18:49:33.575Z"
   },
   {
    "duration": 605,
    "start_time": "2022-12-12T18:50:11.665Z"
   },
   {
    "duration": 363,
    "start_time": "2022-12-12T18:58:53.885Z"
   },
   {
    "duration": 385,
    "start_time": "2022-12-12T18:59:17.198Z"
   },
   {
    "duration": 372,
    "start_time": "2022-12-12T18:59:34.215Z"
   },
   {
    "duration": 510,
    "start_time": "2022-12-12T18:59:52.105Z"
   },
   {
    "duration": 3,
    "start_time": "2022-12-12T19:00:04.796Z"
   },
   {
    "duration": 379,
    "start_time": "2022-12-12T19:01:11.349Z"
   },
   {
    "duration": 365,
    "start_time": "2022-12-12T19:02:25.266Z"
   },
   {
    "duration": 348,
    "start_time": "2022-12-12T19:02:40.116Z"
   },
   {
    "duration": 373,
    "start_time": "2022-12-12T19:03:31.576Z"
   },
   {
    "duration": 802,
    "start_time": "2022-12-12T19:06:56.186Z"
   },
   {
    "duration": 250,
    "start_time": "2022-12-12T19:08:02.847Z"
   },
   {
    "duration": 2,
    "start_time": "2022-12-12T19:09:02.232Z"
   },
   {
    "duration": 63,
    "start_time": "2022-12-12T19:09:35.970Z"
   },
   {
    "duration": 55,
    "start_time": "2022-12-12T19:09:43.806Z"
   },
   {
    "duration": 252,
    "start_time": "2022-12-12T19:10:06.986Z"
   },
   {
    "duration": 3,
    "start_time": "2022-12-12T19:13:21.016Z"
   },
   {
    "duration": 3,
    "start_time": "2022-12-12T19:13:37.895Z"
   },
   {
    "duration": 5,
    "start_time": "2022-12-12T19:13:49.175Z"
   },
   {
    "duration": 10,
    "start_time": "2022-12-12T19:14:09.936Z"
   },
   {
    "duration": 1558,
    "start_time": "2022-12-12T19:14:27.995Z"
   },
   {
    "duration": 1459,
    "start_time": "2022-12-12T19:15:44.967Z"
   },
   {
    "duration": 1743,
    "start_time": "2022-12-12T19:16:35.215Z"
   },
   {
    "duration": 3,
    "start_time": "2022-12-12T19:19:11.963Z"
   },
   {
    "duration": 464,
    "start_time": "2022-12-12T19:20:02.970Z"
   },
   {
    "duration": 510,
    "start_time": "2022-12-12T19:20:18.375Z"
   },
   {
    "duration": 1710,
    "start_time": "2022-12-12T19:22:38.886Z"
   },
   {
    "duration": 13,
    "start_time": "2022-12-12T19:31:00.126Z"
   },
   {
    "duration": 11,
    "start_time": "2022-12-12T19:51:39.624Z"
   },
   {
    "duration": 10,
    "start_time": "2022-12-12T19:51:58.948Z"
   },
   {
    "duration": 10,
    "start_time": "2022-12-12T19:52:35.376Z"
   },
   {
    "duration": 27,
    "start_time": "2022-12-12T19:52:49.098Z"
   },
   {
    "duration": 23,
    "start_time": "2022-12-12T19:53:32.495Z"
   },
   {
    "duration": 1158,
    "start_time": "2022-12-12T19:54:17.597Z"
   },
   {
    "duration": 53,
    "start_time": "2022-12-12T19:54:18.757Z"
   },
   {
    "duration": 18,
    "start_time": "2022-12-12T19:54:18.812Z"
   },
   {
    "duration": 14,
    "start_time": "2022-12-12T19:54:18.831Z"
   },
   {
    "duration": 3,
    "start_time": "2022-12-12T19:54:18.847Z"
   },
   {
    "duration": 8,
    "start_time": "2022-12-12T19:54:18.851Z"
   },
   {
    "duration": 17,
    "start_time": "2022-12-12T19:54:18.861Z"
   },
   {
    "duration": 5,
    "start_time": "2022-12-12T19:54:18.880Z"
   },
   {
    "duration": 20,
    "start_time": "2022-12-12T19:54:18.912Z"
   },
   {
    "duration": 12,
    "start_time": "2022-12-12T19:54:18.934Z"
   },
   {
    "duration": 10,
    "start_time": "2022-12-12T19:54:18.948Z"
   },
   {
    "duration": 5,
    "start_time": "2022-12-12T19:54:18.960Z"
   },
   {
    "duration": 60,
    "start_time": "2022-12-12T19:54:18.967Z"
   },
   {
    "duration": 18,
    "start_time": "2022-12-12T19:54:19.030Z"
   },
   {
    "duration": 425,
    "start_time": "2022-12-12T19:54:19.050Z"
   },
   {
    "duration": 359,
    "start_time": "2022-12-12T19:54:19.477Z"
   },
   {
    "duration": 10,
    "start_time": "2022-12-12T19:54:19.838Z"
   },
   {
    "duration": 15,
    "start_time": "2022-12-12T19:54:19.849Z"
   },
   {
    "duration": 1536,
    "start_time": "2022-12-12T19:54:19.866Z"
   },
   {
    "duration": 16,
    "start_time": "2022-12-12T19:54:21.404Z"
   },
   {
    "duration": 5,
    "start_time": "2022-12-12T19:59:48.015Z"
   },
   {
    "duration": 5,
    "start_time": "2022-12-12T19:59:53.607Z"
   },
   {
    "duration": 4,
    "start_time": "2022-12-12T20:00:02.755Z"
   },
   {
    "duration": 7,
    "start_time": "2022-12-12T20:00:43.177Z"
   },
   {
    "duration": 111,
    "start_time": "2022-12-12T20:01:42.256Z"
   },
   {
    "duration": 15,
    "start_time": "2022-12-12T20:02:22.935Z"
   },
   {
    "duration": 3,
    "start_time": "2022-12-12T20:03:34.527Z"
   },
   {
    "duration": 15,
    "start_time": "2022-12-12T20:03:37.745Z"
   },
   {
    "duration": 372,
    "start_time": "2022-12-12T20:03:51.526Z"
   },
   {
    "duration": 4,
    "start_time": "2022-12-12T20:08:13.736Z"
   },
   {
    "duration": 1026,
    "start_time": "2022-12-12T20:08:18.825Z"
   },
   {
    "duration": 1164,
    "start_time": "2022-12-12T20:08:43.161Z"
   },
   {
    "duration": 53,
    "start_time": "2022-12-12T20:08:44.327Z"
   },
   {
    "duration": 22,
    "start_time": "2022-12-12T20:08:44.383Z"
   },
   {
    "duration": 18,
    "start_time": "2022-12-12T20:08:44.407Z"
   },
   {
    "duration": 3,
    "start_time": "2022-12-12T20:08:44.428Z"
   },
   {
    "duration": 9,
    "start_time": "2022-12-12T20:08:44.433Z"
   },
   {
    "duration": 26,
    "start_time": "2022-12-12T20:08:44.444Z"
   },
   {
    "duration": 5,
    "start_time": "2022-12-12T20:08:44.473Z"
   },
   {
    "duration": 34,
    "start_time": "2022-12-12T20:08:44.479Z"
   },
   {
    "duration": 10,
    "start_time": "2022-12-12T20:08:44.517Z"
   },
   {
    "duration": 12,
    "start_time": "2022-12-12T20:08:44.529Z"
   },
   {
    "duration": 4,
    "start_time": "2022-12-12T20:08:44.543Z"
   },
   {
    "duration": 22,
    "start_time": "2022-12-12T20:08:44.549Z"
   },
   {
    "duration": 54,
    "start_time": "2022-12-12T20:08:44.573Z"
   },
   {
    "duration": 424,
    "start_time": "2022-12-12T20:08:44.629Z"
   },
   {
    "duration": 368,
    "start_time": "2022-12-12T20:08:45.056Z"
   },
   {
    "duration": 9,
    "start_time": "2022-12-12T20:08:45.426Z"
   },
   {
    "duration": 14,
    "start_time": "2022-12-12T20:08:45.437Z"
   },
   {
    "duration": 1627,
    "start_time": "2022-12-12T20:08:45.452Z"
   },
   {
    "duration": 10,
    "start_time": "2022-12-12T20:08:47.082Z"
   },
   {
    "duration": 18,
    "start_time": "2022-12-12T20:08:47.094Z"
   },
   {
    "duration": 1035,
    "start_time": "2022-12-12T20:08:47.114Z"
   },
   {
    "duration": 124,
    "start_time": "2022-12-12T21:06:34.393Z"
   },
   {
    "duration": 285,
    "start_time": "2022-12-12T21:07:43.876Z"
   },
   {
    "duration": 328,
    "start_time": "2022-12-12T21:11:24.137Z"
   },
   {
    "duration": 445,
    "start_time": "2022-12-12T21:11:36.933Z"
   },
   {
    "duration": 375,
    "start_time": "2022-12-12T21:12:33.703Z"
   },
   {
    "duration": 357,
    "start_time": "2022-12-12T21:12:40.853Z"
   },
   {
    "duration": 1761,
    "start_time": "2022-12-12T21:15:20.361Z"
   },
   {
    "duration": 1655,
    "start_time": "2022-12-12T21:16:56.764Z"
   },
   {
    "duration": 14,
    "start_time": "2022-12-12T21:23:52.474Z"
   },
   {
    "duration": 163,
    "start_time": "2022-12-12T21:25:33.482Z"
   },
   {
    "duration": 281,
    "start_time": "2022-12-12T21:25:47.674Z"
   },
   {
    "duration": 157,
    "start_time": "2022-12-12T21:25:55.824Z"
   },
   {
    "duration": 8,
    "start_time": "2022-12-12T21:36:03.574Z"
   },
   {
    "duration": 147,
    "start_time": "2022-12-12T21:36:20.154Z"
   },
   {
    "duration": 9,
    "start_time": "2022-12-12T21:39:03.150Z"
   },
   {
    "duration": 148,
    "start_time": "2022-12-12T21:39:38.114Z"
   },
   {
    "duration": 10,
    "start_time": "2022-12-12T21:45:25.624Z"
   },
   {
    "duration": 36,
    "start_time": "2022-12-12T22:01:56.084Z"
   },
   {
    "duration": 36,
    "start_time": "2022-12-12T22:02:17.292Z"
   },
   {
    "duration": 33,
    "start_time": "2022-12-12T22:03:23.105Z"
   },
   {
    "duration": 35,
    "start_time": "2022-12-12T22:03:31.064Z"
   },
   {
    "duration": 43,
    "start_time": "2022-12-12T22:05:41.954Z"
   },
   {
    "duration": 43,
    "start_time": "2022-12-12T22:05:52.034Z"
   },
   {
    "duration": 30,
    "start_time": "2022-12-12T22:08:31.614Z"
   },
   {
    "duration": 39,
    "start_time": "2022-12-12T22:09:44.534Z"
   },
   {
    "duration": 44,
    "start_time": "2022-12-12T22:11:36.394Z"
   },
   {
    "duration": 43,
    "start_time": "2022-12-12T22:12:53.398Z"
   },
   {
    "duration": 50,
    "start_time": "2022-12-12T22:13:06.554Z"
   },
   {
    "duration": 44,
    "start_time": "2022-12-12T22:13:21.414Z"
   },
   {
    "duration": 47,
    "start_time": "2022-12-12T22:13:37.584Z"
   },
   {
    "duration": 42,
    "start_time": "2022-12-12T22:13:56.353Z"
   },
   {
    "duration": 50,
    "start_time": "2022-12-12T22:14:26.743Z"
   },
   {
    "duration": 13,
    "start_time": "2022-12-12T22:15:23.754Z"
   },
   {
    "duration": 18,
    "start_time": "2022-12-12T22:15:47.544Z"
   },
   {
    "duration": 11,
    "start_time": "2022-12-12T22:16:18.634Z"
   },
   {
    "duration": 12,
    "start_time": "2022-12-12T22:17:03.336Z"
   },
   {
    "duration": 14,
    "start_time": "2022-12-12T22:17:19.143Z"
   },
   {
    "duration": 6,
    "start_time": "2022-12-12T22:18:11.995Z"
   },
   {
    "duration": 24,
    "start_time": "2022-12-12T22:18:17.584Z"
   },
   {
    "duration": 10,
    "start_time": "2022-12-12T22:22:52.514Z"
   },
   {
    "duration": 10,
    "start_time": "2022-12-12T22:23:10.414Z"
   },
   {
    "duration": 11,
    "start_time": "2022-12-12T22:23:24.985Z"
   },
   {
    "duration": 29,
    "start_time": "2022-12-12T22:23:53.654Z"
   },
   {
    "duration": 30,
    "start_time": "2022-12-12T22:24:49.834Z"
   },
   {
    "duration": 31,
    "start_time": "2022-12-12T22:25:07.664Z"
   },
   {
    "duration": 36,
    "start_time": "2022-12-12T22:26:45.922Z"
   },
   {
    "duration": 33,
    "start_time": "2022-12-12T22:27:22.995Z"
   },
   {
    "duration": 32,
    "start_time": "2022-12-12T22:27:39.034Z"
   },
   {
    "duration": 32,
    "start_time": "2022-12-12T22:28:18.234Z"
   },
   {
    "duration": 27,
    "start_time": "2022-12-12T22:28:31.884Z"
   },
   {
    "duration": 33,
    "start_time": "2022-12-12T22:28:43.592Z"
   },
   {
    "duration": 34,
    "start_time": "2022-12-12T22:28:50.754Z"
   },
   {
    "duration": 34,
    "start_time": "2022-12-12T22:29:59.594Z"
   },
   {
    "duration": 36,
    "start_time": "2022-12-12T22:30:08.354Z"
   },
   {
    "duration": 33,
    "start_time": "2022-12-12T22:30:35.604Z"
   },
   {
    "duration": 32,
    "start_time": "2022-12-12T22:32:27.821Z"
   },
   {
    "duration": 12,
    "start_time": "2022-12-12T22:34:39.264Z"
   },
   {
    "duration": 176,
    "start_time": "2022-12-12T22:34:51.794Z"
   },
   {
    "duration": 174,
    "start_time": "2022-12-12T22:36:34.894Z"
   },
   {
    "duration": 178,
    "start_time": "2022-12-12T22:36:59.114Z"
   },
   {
    "duration": 50,
    "start_time": "2022-12-12T22:46:05.194Z"
   },
   {
    "duration": 48,
    "start_time": "2022-12-12T23:31:29.395Z"
   },
   {
    "duration": 3,
    "start_time": "2022-12-12T23:34:02.519Z"
   },
   {
    "duration": 2,
    "start_time": "2022-12-12T23:35:19.244Z"
   },
   {
    "duration": 409,
    "start_time": "2022-12-12T23:37:06.905Z"
   },
   {
    "duration": 47,
    "start_time": "2022-12-12T23:43:48.935Z"
   },
   {
    "duration": 484,
    "start_time": "2022-12-12T23:47:45.117Z"
   },
   {
    "duration": 10,
    "start_time": "2022-12-12T23:54:23.395Z"
   },
   {
    "duration": 385,
    "start_time": "2022-12-12T23:54:33.573Z"
   },
   {
    "duration": 390,
    "start_time": "2022-12-12T23:55:31.095Z"
   },
   {
    "duration": 405,
    "start_time": "2022-12-12T23:56:16.648Z"
   },
   {
    "duration": 401,
    "start_time": "2022-12-12T23:56:51.997Z"
   },
   {
    "duration": 43,
    "start_time": "2022-12-13T00:34:08.154Z"
   },
   {
    "duration": 11,
    "start_time": "2022-12-13T00:35:07.844Z"
   },
   {
    "duration": 10,
    "start_time": "2022-12-13T00:36:20.455Z"
   },
   {
    "duration": 4,
    "start_time": "2022-12-13T00:46:49.755Z"
   },
   {
    "duration": 5,
    "start_time": "2022-12-13T00:47:27.794Z"
   },
   {
    "duration": 4,
    "start_time": "2022-12-13T00:47:43.514Z"
   },
   {
    "duration": 11,
    "start_time": "2022-12-13T00:49:28.689Z"
   },
   {
    "duration": 5,
    "start_time": "2022-12-13T00:51:13.095Z"
   },
   {
    "duration": 4,
    "start_time": "2022-12-13T00:51:15.024Z"
   },
   {
    "duration": 58,
    "start_time": "2022-12-13T01:17:20.615Z"
   },
   {
    "duration": 56,
    "start_time": "2022-12-13T02:09:01.354Z"
   },
   {
    "duration": 1289,
    "start_time": "2022-12-13T13:31:57.713Z"
   },
   {
    "duration": 118,
    "start_time": "2022-12-13T13:31:59.004Z"
   },
   {
    "duration": 17,
    "start_time": "2022-12-13T13:31:59.124Z"
   },
   {
    "duration": 57,
    "start_time": "2022-12-13T13:31:59.143Z"
   },
   {
    "duration": 15,
    "start_time": "2022-12-13T13:31:59.202Z"
   },
   {
    "duration": 33,
    "start_time": "2022-12-13T13:31:59.219Z"
   },
   {
    "duration": 22,
    "start_time": "2022-12-13T13:31:59.254Z"
   },
   {
    "duration": 31,
    "start_time": "2022-12-13T13:31:59.278Z"
   },
   {
    "duration": 28,
    "start_time": "2022-12-13T13:31:59.310Z"
   },
   {
    "duration": 24,
    "start_time": "2022-12-13T13:31:59.341Z"
   },
   {
    "duration": 30,
    "start_time": "2022-12-13T13:31:59.367Z"
   },
   {
    "duration": 17,
    "start_time": "2022-12-13T13:31:59.399Z"
   },
   {
    "duration": 42,
    "start_time": "2022-12-13T13:31:59.417Z"
   },
   {
    "duration": 28,
    "start_time": "2022-12-13T13:31:59.461Z"
   },
   {
    "duration": 390,
    "start_time": "2022-12-13T13:31:59.491Z"
   },
   {
    "duration": 378,
    "start_time": "2022-12-13T13:31:59.883Z"
   },
   {
    "duration": 7,
    "start_time": "2022-12-13T13:32:00.263Z"
   },
   {
    "duration": 67,
    "start_time": "2022-12-13T13:32:00.271Z"
   },
   {
    "duration": 1453,
    "start_time": "2022-12-13T13:32:00.339Z"
   },
   {
    "duration": 9,
    "start_time": "2022-12-13T13:32:01.796Z"
   },
   {
    "duration": 57,
    "start_time": "2022-12-13T13:32:01.806Z"
   },
   {
    "duration": 1012,
    "start_time": "2022-12-13T13:32:01.864Z"
   },
   {
    "duration": 357,
    "start_time": "2022-12-13T13:32:02.877Z"
   },
   {
    "duration": 1708,
    "start_time": "2022-12-13T13:32:03.235Z"
   },
   {
    "duration": 174,
    "start_time": "2022-12-13T13:32:04.945Z"
   },
   {
    "duration": 146,
    "start_time": "2022-12-13T13:32:05.121Z"
   },
   {
    "duration": 9,
    "start_time": "2022-12-13T13:32:05.268Z"
   },
   {
    "duration": 146,
    "start_time": "2022-12-13T13:32:05.280Z"
   },
   {
    "duration": 8,
    "start_time": "2022-12-13T13:32:05.428Z"
   },
   {
    "duration": 41,
    "start_time": "2022-12-13T13:32:05.437Z"
   },
   {
    "duration": 162,
    "start_time": "2022-12-13T13:32:05.479Z"
   },
   {
    "duration": 168,
    "start_time": "2022-12-13T13:32:05.642Z"
   },
   {
    "duration": 374,
    "start_time": "2022-12-13T13:32:05.811Z"
   },
   {
    "duration": 466,
    "start_time": "2022-12-13T13:32:06.187Z"
   },
   {
    "duration": 372,
    "start_time": "2022-12-13T13:32:06.654Z"
   },
   {
    "duration": 9,
    "start_time": "2022-12-13T13:32:07.027Z"
   },
   {
    "duration": 103,
    "start_time": "2022-12-13T13:32:07.037Z"
   },
   {
    "duration": 0,
    "start_time": "2022-12-13T13:32:07.142Z"
   },
   {
    "duration": 0,
    "start_time": "2022-12-13T13:32:07.143Z"
   },
   {
    "duration": 0,
    "start_time": "2022-12-13T13:32:07.144Z"
   },
   {
    "duration": 0,
    "start_time": "2022-12-13T13:32:07.146Z"
   },
   {
    "duration": 1118,
    "start_time": "2022-12-13T13:55:10.973Z"
   },
   {
    "duration": 51,
    "start_time": "2022-12-13T13:55:12.093Z"
   },
   {
    "duration": 16,
    "start_time": "2022-12-13T13:55:12.146Z"
   },
   {
    "duration": 15,
    "start_time": "2022-12-13T13:55:12.164Z"
   },
   {
    "duration": 3,
    "start_time": "2022-12-13T13:55:12.181Z"
   },
   {
    "duration": 11,
    "start_time": "2022-12-13T13:55:12.185Z"
   },
   {
    "duration": 37,
    "start_time": "2022-12-13T13:55:12.198Z"
   },
   {
    "duration": 4,
    "start_time": "2022-12-13T13:55:12.236Z"
   },
   {
    "duration": 20,
    "start_time": "2022-12-13T13:55:12.242Z"
   },
   {
    "duration": 9,
    "start_time": "2022-12-13T13:55:12.264Z"
   },
   {
    "duration": 13,
    "start_time": "2022-12-13T13:55:12.275Z"
   },
   {
    "duration": 4,
    "start_time": "2022-12-13T13:55:12.289Z"
   },
   {
    "duration": 23,
    "start_time": "2022-12-13T13:55:12.294Z"
   },
   {
    "duration": 14,
    "start_time": "2022-12-13T13:55:12.318Z"
   },
   {
    "duration": 335,
    "start_time": "2022-12-13T13:55:12.334Z"
   },
   {
    "duration": 308,
    "start_time": "2022-12-13T13:55:12.670Z"
   },
   {
    "duration": 7,
    "start_time": "2022-12-13T13:55:12.980Z"
   },
   {
    "duration": 11,
    "start_time": "2022-12-13T13:55:12.997Z"
   },
   {
    "duration": 1337,
    "start_time": "2022-12-13T13:55:13.010Z"
   },
   {
    "duration": 8,
    "start_time": "2022-12-13T13:55:14.349Z"
   },
   {
    "duration": 6,
    "start_time": "2022-12-13T13:55:14.358Z"
   },
   {
    "duration": 995,
    "start_time": "2022-12-13T13:55:14.365Z"
   },
   {
    "duration": 346,
    "start_time": "2022-12-13T13:55:15.362Z"
   },
   {
    "duration": 1564,
    "start_time": "2022-12-13T13:55:15.710Z"
   },
   {
    "duration": 154,
    "start_time": "2022-12-13T13:55:17.276Z"
   },
   {
    "duration": 129,
    "start_time": "2022-12-13T13:55:17.432Z"
   },
   {
    "duration": 9,
    "start_time": "2022-12-13T13:55:17.563Z"
   },
   {
    "duration": 128,
    "start_time": "2022-12-13T13:55:17.574Z"
   },
   {
    "duration": 8,
    "start_time": "2022-12-13T13:55:17.703Z"
   },
   {
    "duration": 30,
    "start_time": "2022-12-13T13:55:17.713Z"
   },
   {
    "duration": 171,
    "start_time": "2022-12-13T13:55:17.744Z"
   },
   {
    "duration": 165,
    "start_time": "2022-12-13T13:55:17.917Z"
   },
   {
    "duration": 357,
    "start_time": "2022-12-13T13:55:18.084Z"
   },
   {
    "duration": 430,
    "start_time": "2022-12-13T13:55:18.442Z"
   },
   {
    "duration": 384,
    "start_time": "2022-12-13T13:55:18.874Z"
   },
   {
    "duration": 9,
    "start_time": "2022-12-13T13:55:19.260Z"
   },
   {
    "duration": 104,
    "start_time": "2022-12-13T13:55:19.270Z"
   },
   {
    "duration": 0,
    "start_time": "2022-12-13T13:55:19.376Z"
   },
   {
    "duration": 0,
    "start_time": "2022-12-13T13:55:19.377Z"
   },
   {
    "duration": 0,
    "start_time": "2022-12-13T13:55:19.378Z"
   },
   {
    "duration": 0,
    "start_time": "2022-12-13T13:55:19.379Z"
   },
   {
    "duration": 47,
    "start_time": "2022-12-13T14:16:20.947Z"
   },
   {
    "duration": 1363,
    "start_time": "2022-12-13T14:16:56.842Z"
   },
   {
    "duration": 101,
    "start_time": "2022-12-13T14:16:58.207Z"
   },
   {
    "duration": 25,
    "start_time": "2022-12-13T14:16:58.310Z"
   },
   {
    "duration": 34,
    "start_time": "2022-12-13T14:16:58.338Z"
   },
   {
    "duration": 3,
    "start_time": "2022-12-13T14:16:58.374Z"
   },
   {
    "duration": 8,
    "start_time": "2022-12-13T14:16:58.379Z"
   },
   {
    "duration": 14,
    "start_time": "2022-12-13T14:16:58.389Z"
   },
   {
    "duration": 4,
    "start_time": "2022-12-13T14:16:58.405Z"
   },
   {
    "duration": 35,
    "start_time": "2022-12-13T14:16:58.411Z"
   },
   {
    "duration": 28,
    "start_time": "2022-12-13T14:16:58.448Z"
   },
   {
    "duration": 48,
    "start_time": "2022-12-13T14:16:58.477Z"
   },
   {
    "duration": 37,
    "start_time": "2022-12-13T14:16:58.526Z"
   },
   {
    "duration": 36,
    "start_time": "2022-12-13T14:16:58.567Z"
   },
   {
    "duration": 80,
    "start_time": "2022-12-13T14:16:58.605Z"
   },
   {
    "duration": 375,
    "start_time": "2022-12-13T14:16:58.687Z"
   },
   {
    "duration": 354,
    "start_time": "2022-12-13T14:16:59.064Z"
   },
   {
    "duration": 14,
    "start_time": "2022-12-13T14:16:59.420Z"
   },
   {
    "duration": 26,
    "start_time": "2022-12-13T14:16:59.439Z"
   },
   {
    "duration": 1530,
    "start_time": "2022-12-13T14:16:59.467Z"
   },
   {
    "duration": 10,
    "start_time": "2022-12-13T14:17:00.999Z"
   },
   {
    "duration": 27,
    "start_time": "2022-12-13T14:17:01.021Z"
   },
   {
    "duration": 1154,
    "start_time": "2022-12-13T14:17:01.050Z"
   },
   {
    "duration": 386,
    "start_time": "2022-12-13T14:17:02.205Z"
   },
   {
    "duration": 1797,
    "start_time": "2022-12-13T14:17:02.593Z"
   },
   {
    "duration": 192,
    "start_time": "2022-12-13T14:17:04.391Z"
   },
   {
    "duration": 159,
    "start_time": "2022-12-13T14:17:04.585Z"
   },
   {
    "duration": 10,
    "start_time": "2022-12-13T14:17:04.746Z"
   },
   {
    "duration": 153,
    "start_time": "2022-12-13T14:17:04.759Z"
   },
   {
    "duration": 24,
    "start_time": "2022-12-13T14:17:04.914Z"
   },
   {
    "duration": 57,
    "start_time": "2022-12-13T14:17:04.940Z"
   },
   {
    "duration": 189,
    "start_time": "2022-12-13T14:17:04.998Z"
   },
   {
    "duration": 197,
    "start_time": "2022-12-13T14:17:05.189Z"
   },
   {
    "duration": 501,
    "start_time": "2022-12-13T14:17:05.388Z"
   },
   {
    "duration": 549,
    "start_time": "2022-12-13T14:17:05.892Z"
   },
   {
    "duration": 433,
    "start_time": "2022-12-13T14:17:06.444Z"
   },
   {
    "duration": 10,
    "start_time": "2022-12-13T14:17:06.880Z"
   },
   {
    "duration": 116,
    "start_time": "2022-12-13T14:17:06.891Z"
   },
   {
    "duration": 0,
    "start_time": "2022-12-13T14:17:07.009Z"
   },
   {
    "duration": 0,
    "start_time": "2022-12-13T14:17:07.010Z"
   },
   {
    "duration": 0,
    "start_time": "2022-12-13T14:17:07.012Z"
   },
   {
    "duration": 0,
    "start_time": "2022-12-13T14:17:07.022Z"
   },
   {
    "duration": 9,
    "start_time": "2022-12-13T14:17:19.555Z"
   },
   {
    "duration": 10,
    "start_time": "2022-12-13T14:17:43.145Z"
   },
   {
    "duration": 5,
    "start_time": "2022-12-13T14:17:46.445Z"
   },
   {
    "duration": 3,
    "start_time": "2022-12-13T14:17:49.415Z"
   },
   {
    "duration": 9,
    "start_time": "2022-12-13T14:19:13.950Z"
   },
   {
    "duration": 4,
    "start_time": "2022-12-13T14:19:28.365Z"
   },
   {
    "duration": 3,
    "start_time": "2022-12-13T14:19:51.411Z"
   },
   {
    "duration": 414,
    "start_time": "2022-12-13T14:23:02.236Z"
   },
   {
    "duration": 396,
    "start_time": "2022-12-13T14:23:24.798Z"
   },
   {
    "duration": 469,
    "start_time": "2022-12-13T14:23:44.198Z"
   },
   {
    "duration": 457,
    "start_time": "2022-12-13T14:25:04.797Z"
   },
   {
    "duration": 33,
    "start_time": "2022-12-13T14:42:55.851Z"
   },
   {
    "duration": 31,
    "start_time": "2022-12-13T14:43:17.805Z"
   },
   {
    "duration": 169,
    "start_time": "2022-12-13T14:48:16.633Z"
   },
   {
    "duration": 160,
    "start_time": "2022-12-13T14:48:34.842Z"
   },
   {
    "duration": 158,
    "start_time": "2022-12-13T14:48:44.605Z"
   },
   {
    "duration": 152,
    "start_time": "2022-12-13T14:48:55.674Z"
   },
   {
    "duration": 176,
    "start_time": "2022-12-13T14:49:16.704Z"
   },
   {
    "duration": 122,
    "start_time": "2022-12-13T14:50:03.246Z"
   },
   {
    "duration": 121,
    "start_time": "2022-12-13T14:52:59.807Z"
   },
   {
    "duration": 163,
    "start_time": "2022-12-13T14:53:06.534Z"
   },
   {
    "duration": 113,
    "start_time": "2022-12-13T14:53:21.645Z"
   },
   {
    "duration": 190,
    "start_time": "2022-12-13T14:53:55.333Z"
   },
   {
    "duration": 161,
    "start_time": "2022-12-13T14:54:05.897Z"
   },
   {
    "duration": 262,
    "start_time": "2022-12-13T14:54:13.524Z"
   },
   {
    "duration": 165,
    "start_time": "2022-12-13T14:54:37.145Z"
   },
   {
    "duration": 168,
    "start_time": "2022-12-13T14:59:27.645Z"
   },
   {
    "duration": 176,
    "start_time": "2022-12-13T14:59:35.843Z"
   },
   {
    "duration": 179,
    "start_time": "2022-12-13T14:59:45.659Z"
   },
   {
    "duration": 172,
    "start_time": "2022-12-13T15:00:12.504Z"
   },
   {
    "duration": 169,
    "start_time": "2022-12-13T15:04:50.276Z"
   },
   {
    "duration": 491,
    "start_time": "2022-12-13T15:05:17.425Z"
   },
   {
    "duration": 369,
    "start_time": "2022-12-13T15:07:02.435Z"
   },
   {
    "duration": 250,
    "start_time": "2022-12-13T15:07:45.508Z"
   },
   {
    "duration": 237,
    "start_time": "2022-12-13T15:12:48.745Z"
   },
   {
    "duration": 234,
    "start_time": "2022-12-13T15:13:41.174Z"
   },
   {
    "duration": 238,
    "start_time": "2022-12-13T15:18:47.094Z"
   },
   {
    "duration": 20,
    "start_time": "2022-12-13T15:19:52.015Z"
   },
   {
    "duration": 20,
    "start_time": "2022-12-13T15:20:39.554Z"
   },
   {
    "duration": 342,
    "start_time": "2022-12-13T15:21:00.614Z"
   },
   {
    "duration": 236,
    "start_time": "2022-12-13T15:22:02.302Z"
   },
   {
    "duration": 2,
    "start_time": "2022-12-13T17:03:58.990Z"
   },
   {
    "duration": 86,
    "start_time": "2022-12-13T17:08:54.044Z"
   },
   {
    "duration": 9,
    "start_time": "2022-12-13T17:14:14.290Z"
   },
   {
    "duration": 1142,
    "start_time": "2022-12-13T17:14:33.620Z"
   },
   {
    "duration": 52,
    "start_time": "2022-12-13T17:14:34.764Z"
   },
   {
    "duration": 18,
    "start_time": "2022-12-13T17:14:34.818Z"
   },
   {
    "duration": 16,
    "start_time": "2022-12-13T17:14:34.838Z"
   },
   {
    "duration": 3,
    "start_time": "2022-12-13T17:14:34.856Z"
   },
   {
    "duration": 11,
    "start_time": "2022-12-13T17:14:34.860Z"
   },
   {
    "duration": 16,
    "start_time": "2022-12-13T17:14:34.872Z"
   },
   {
    "duration": 5,
    "start_time": "2022-12-13T17:14:34.890Z"
   },
   {
    "duration": 20,
    "start_time": "2022-12-13T17:14:34.922Z"
   },
   {
    "duration": 12,
    "start_time": "2022-12-13T17:14:34.943Z"
   },
   {
    "duration": 14,
    "start_time": "2022-12-13T17:14:34.957Z"
   },
   {
    "duration": 5,
    "start_time": "2022-12-13T17:14:34.973Z"
   },
   {
    "duration": 63,
    "start_time": "2022-12-13T17:14:34.980Z"
   },
   {
    "duration": 22,
    "start_time": "2022-12-13T17:14:35.047Z"
   },
   {
    "duration": 469,
    "start_time": "2022-12-13T17:14:35.071Z"
   },
   {
    "duration": 365,
    "start_time": "2022-12-13T17:14:35.541Z"
   },
   {
    "duration": 16,
    "start_time": "2022-12-13T17:14:35.908Z"
   },
   {
    "duration": 17,
    "start_time": "2022-12-13T17:14:35.925Z"
   },
   {
    "duration": 1527,
    "start_time": "2022-12-13T17:14:35.944Z"
   },
   {
    "duration": 11,
    "start_time": "2022-12-13T17:14:37.473Z"
   },
   {
    "duration": 9,
    "start_time": "2022-12-13T17:14:37.486Z"
   },
   {
    "duration": 1175,
    "start_time": "2022-12-13T17:14:37.497Z"
   },
   {
    "duration": 404,
    "start_time": "2022-12-13T17:14:38.675Z"
   },
   {
    "duration": 1505,
    "start_time": "2022-12-13T17:14:39.081Z"
   },
   {
    "duration": 253,
    "start_time": "2022-12-13T17:14:40.588Z"
   },
   {
    "duration": 194,
    "start_time": "2022-12-13T17:14:40.843Z"
   },
   {
    "duration": 140,
    "start_time": "2022-12-13T17:14:41.039Z"
   },
   {
    "duration": 9,
    "start_time": "2022-12-13T17:14:41.181Z"
   },
   {
    "duration": 161,
    "start_time": "2022-12-13T17:14:41.192Z"
   },
   {
    "duration": 9,
    "start_time": "2022-12-13T17:14:41.355Z"
   },
   {
    "duration": 32,
    "start_time": "2022-12-13T17:14:41.366Z"
   },
   {
    "duration": 197,
    "start_time": "2022-12-13T17:14:41.400Z"
   },
   {
    "duration": 181,
    "start_time": "2022-12-13T17:14:41.599Z"
   },
   {
    "duration": 477,
    "start_time": "2022-12-13T17:14:41.782Z"
   },
   {
    "duration": 388,
    "start_time": "2022-12-13T17:14:42.260Z"
   },
   {
    "duration": 411,
    "start_time": "2022-12-13T17:14:42.650Z"
   },
   {
    "duration": 10,
    "start_time": "2022-12-13T17:14:43.063Z"
   },
   {
    "duration": 7,
    "start_time": "2022-12-13T17:14:43.074Z"
   },
   {
    "duration": 8,
    "start_time": "2022-12-13T17:14:43.083Z"
   },
   {
    "duration": 30,
    "start_time": "2022-12-13T17:14:43.092Z"
   },
   {
    "duration": 6,
    "start_time": "2022-12-13T17:14:43.126Z"
   },
   {
    "duration": 5,
    "start_time": "2022-12-13T17:14:43.133Z"
   },
   {
    "duration": 46,
    "start_time": "2022-12-13T17:22:57.514Z"
   },
   {
    "duration": 51,
    "start_time": "2022-12-13T17:23:06.598Z"
   },
   {
    "duration": 1078,
    "start_time": "2022-12-13T17:27:04.230Z"
   },
   {
    "duration": 756,
    "start_time": "2022-12-13T17:27:19.308Z"
   },
   {
    "duration": 27,
    "start_time": "2022-12-13T17:28:07.589Z"
   },
   {
    "duration": 327,
    "start_time": "2022-12-13T17:38:13.672Z"
   },
   {
    "duration": 27,
    "start_time": "2022-12-13T17:43:05.850Z"
   },
   {
    "duration": 13,
    "start_time": "2022-12-13T17:43:44.638Z"
   },
   {
    "duration": 6,
    "start_time": "2022-12-13T17:44:41.600Z"
   },
   {
    "duration": 6,
    "start_time": "2022-12-13T17:45:00.187Z"
   },
   {
    "duration": 39,
    "start_time": "2022-12-13T18:02:24.308Z"
   },
   {
    "duration": 22,
    "start_time": "2022-12-13T18:03:51.877Z"
   },
   {
    "duration": 19,
    "start_time": "2022-12-13T18:04:21.817Z"
   },
   {
    "duration": 17,
    "start_time": "2022-12-13T18:04:27.498Z"
   },
   {
    "duration": 7,
    "start_time": "2022-12-13T18:06:07.165Z"
   },
   {
    "duration": 7,
    "start_time": "2022-12-13T18:07:00.128Z"
   },
   {
    "duration": 7,
    "start_time": "2022-12-13T18:07:07.578Z"
   },
   {
    "duration": 4,
    "start_time": "2022-12-13T18:07:43.328Z"
   },
   {
    "duration": 3,
    "start_time": "2022-12-13T18:07:53.177Z"
   },
   {
    "duration": 7,
    "start_time": "2022-12-13T18:08:08.483Z"
   },
   {
    "duration": 4,
    "start_time": "2022-12-13T18:08:12.350Z"
   },
   {
    "duration": 3,
    "start_time": "2022-12-13T18:08:17.668Z"
   },
   {
    "duration": 7,
    "start_time": "2022-12-13T18:16:22.698Z"
   },
   {
    "duration": 6,
    "start_time": "2022-12-13T18:16:57.468Z"
   },
   {
    "duration": 9,
    "start_time": "2022-12-13T18:17:40.239Z"
   },
   {
    "duration": 7,
    "start_time": "2022-12-13T18:17:54.747Z"
   },
   {
    "duration": 10,
    "start_time": "2022-12-13T18:18:35.069Z"
   },
   {
    "duration": 6,
    "start_time": "2022-12-13T18:20:43.127Z"
   },
   {
    "duration": 8,
    "start_time": "2022-12-13T18:20:52.855Z"
   },
   {
    "duration": 9,
    "start_time": "2022-12-13T18:21:21.437Z"
   },
   {
    "duration": 165,
    "start_time": "2022-12-13T18:22:41.050Z"
   },
   {
    "duration": 1221,
    "start_time": "2022-12-14T14:14:39.906Z"
   },
   {
    "duration": 55,
    "start_time": "2022-12-14T14:14:41.129Z"
   },
   {
    "duration": 18,
    "start_time": "2022-12-14T14:14:41.186Z"
   },
   {
    "duration": 14,
    "start_time": "2022-12-14T14:14:41.206Z"
   },
   {
    "duration": 5,
    "start_time": "2022-12-14T14:14:41.222Z"
   },
   {
    "duration": 7,
    "start_time": "2022-12-14T14:14:41.228Z"
   },
   {
    "duration": 15,
    "start_time": "2022-12-14T14:14:41.236Z"
   },
   {
    "duration": 5,
    "start_time": "2022-12-14T14:14:41.252Z"
   },
   {
    "duration": 20,
    "start_time": "2022-12-14T14:14:41.259Z"
   },
   {
    "duration": 12,
    "start_time": "2022-12-14T14:14:41.311Z"
   },
   {
    "duration": 10,
    "start_time": "2022-12-14T14:14:41.324Z"
   },
   {
    "duration": 5,
    "start_time": "2022-12-14T14:14:41.335Z"
   },
   {
    "duration": 25,
    "start_time": "2022-12-14T14:14:41.341Z"
   },
   {
    "duration": 15,
    "start_time": "2022-12-14T14:14:41.368Z"
   },
   {
    "duration": 434,
    "start_time": "2022-12-14T14:14:41.385Z"
   },
   {
    "duration": 371,
    "start_time": "2022-12-14T14:14:41.821Z"
   },
   {
    "duration": 9,
    "start_time": "2022-12-14T14:14:42.194Z"
   },
   {
    "duration": 16,
    "start_time": "2022-12-14T14:14:42.212Z"
   },
   {
    "duration": 1601,
    "start_time": "2022-12-14T14:14:42.230Z"
   },
   {
    "duration": 10,
    "start_time": "2022-12-14T14:14:43.832Z"
   },
   {
    "duration": 18,
    "start_time": "2022-12-14T14:14:43.844Z"
   },
   {
    "duration": 1111,
    "start_time": "2022-12-14T14:14:43.863Z"
   },
   {
    "duration": 413,
    "start_time": "2022-12-14T14:14:44.975Z"
   },
   {
    "duration": 1588,
    "start_time": "2022-12-14T14:14:45.390Z"
   },
   {
    "duration": 256,
    "start_time": "2022-12-14T14:14:46.979Z"
   },
   {
    "duration": 205,
    "start_time": "2022-12-14T14:14:47.237Z"
   },
   {
    "duration": 152,
    "start_time": "2022-12-14T14:14:47.444Z"
   },
   {
    "duration": 16,
    "start_time": "2022-12-14T14:14:47.599Z"
   },
   {
    "duration": 143,
    "start_time": "2022-12-14T14:14:47.617Z"
   },
   {
    "duration": 10,
    "start_time": "2022-12-14T14:14:47.761Z"
   },
   {
    "duration": 52,
    "start_time": "2022-12-14T14:14:47.772Z"
   },
   {
    "duration": 36,
    "start_time": "2022-12-14T14:14:47.826Z"
   },
   {
    "duration": 199,
    "start_time": "2022-12-14T14:14:47.864Z"
   },
   {
    "duration": 210,
    "start_time": "2022-12-14T14:14:48.066Z"
   },
   {
    "duration": 289,
    "start_time": "2022-12-14T14:14:48.278Z"
   },
   {
    "duration": 430,
    "start_time": "2022-12-14T14:14:48.568Z"
   },
   {
    "duration": 467,
    "start_time": "2022-12-14T14:14:49.000Z"
   },
   {
    "duration": 465,
    "start_time": "2022-12-14T14:14:49.470Z"
   },
   {
    "duration": 9,
    "start_time": "2022-12-14T14:14:49.938Z"
   },
   {
    "duration": 8,
    "start_time": "2022-12-14T14:14:49.949Z"
   },
   {
    "duration": 5,
    "start_time": "2022-12-14T14:14:49.959Z"
   },
   {
    "duration": 12,
    "start_time": "2022-12-14T14:14:49.966Z"
   },
   {
    "duration": 33,
    "start_time": "2022-12-14T14:14:49.980Z"
   },
   {
    "duration": 7,
    "start_time": "2022-12-14T14:14:50.016Z"
   },
   {
    "duration": 1235,
    "start_time": "2022-12-14T14:30:47.918Z"
   },
   {
    "duration": 59,
    "start_time": "2022-12-14T14:30:49.155Z"
   },
   {
    "duration": 25,
    "start_time": "2022-12-14T14:30:49.217Z"
   },
   {
    "duration": 17,
    "start_time": "2022-12-14T14:30:49.244Z"
   },
   {
    "duration": 5,
    "start_time": "2022-12-14T14:30:49.263Z"
   },
   {
    "duration": 16,
    "start_time": "2022-12-14T14:30:49.270Z"
   },
   {
    "duration": 35,
    "start_time": "2022-12-14T14:30:49.290Z"
   },
   {
    "duration": 6,
    "start_time": "2022-12-14T14:30:49.327Z"
   },
   {
    "duration": 26,
    "start_time": "2022-12-14T14:30:49.336Z"
   },
   {
    "duration": 11,
    "start_time": "2022-12-14T14:30:49.365Z"
   },
   {
    "duration": 34,
    "start_time": "2022-12-14T14:30:49.378Z"
   },
   {
    "duration": 4,
    "start_time": "2022-12-14T14:30:49.414Z"
   },
   {
    "duration": 35,
    "start_time": "2022-12-14T14:30:49.420Z"
   },
   {
    "duration": 23,
    "start_time": "2022-12-14T14:30:49.457Z"
   },
   {
    "duration": 408,
    "start_time": "2022-12-14T14:30:49.481Z"
   },
   {
    "duration": 385,
    "start_time": "2022-12-14T14:30:49.890Z"
   },
   {
    "duration": 8,
    "start_time": "2022-12-14T14:30:50.278Z"
   },
   {
    "duration": 28,
    "start_time": "2022-12-14T14:30:50.288Z"
   },
   {
    "duration": 1665,
    "start_time": "2022-12-14T14:30:50.318Z"
   },
   {
    "duration": 11,
    "start_time": "2022-12-14T14:30:51.985Z"
   },
   {
    "duration": 16,
    "start_time": "2022-12-14T14:30:51.998Z"
   },
   {
    "duration": 1130,
    "start_time": "2022-12-14T14:30:52.016Z"
   },
   {
    "duration": 397,
    "start_time": "2022-12-14T14:30:53.147Z"
   },
   {
    "duration": 1583,
    "start_time": "2022-12-14T14:30:53.546Z"
   },
   {
    "duration": 280,
    "start_time": "2022-12-14T14:30:55.131Z"
   },
   {
    "duration": 210,
    "start_time": "2022-12-14T14:30:55.414Z"
   },
   {
    "duration": 166,
    "start_time": "2022-12-14T14:30:55.626Z"
   },
   {
    "duration": 20,
    "start_time": "2022-12-14T14:30:55.795Z"
   },
   {
    "duration": 154,
    "start_time": "2022-12-14T14:30:55.817Z"
   },
   {
    "duration": 14,
    "start_time": "2022-12-14T14:30:55.973Z"
   },
   {
    "duration": 58,
    "start_time": "2022-12-14T14:30:55.989Z"
   },
   {
    "duration": 67,
    "start_time": "2022-12-14T14:30:56.049Z"
   },
   {
    "duration": 237,
    "start_time": "2022-12-14T14:30:56.118Z"
   },
   {
    "duration": 257,
    "start_time": "2022-12-14T14:30:56.358Z"
   },
   {
    "duration": 299,
    "start_time": "2022-12-14T14:30:56.617Z"
   },
   {
    "duration": 402,
    "start_time": "2022-12-14T14:30:56.917Z"
   },
   {
    "duration": 405,
    "start_time": "2022-12-14T14:30:57.321Z"
   },
   {
    "duration": 435,
    "start_time": "2022-12-14T14:30:57.727Z"
   },
   {
    "duration": 12,
    "start_time": "2022-12-14T14:30:58.164Z"
   },
   {
    "duration": 12,
    "start_time": "2022-12-14T14:30:58.178Z"
   },
   {
    "duration": 24,
    "start_time": "2022-12-14T14:30:58.192Z"
   },
   {
    "duration": 11,
    "start_time": "2022-12-14T14:30:58.219Z"
   },
   {
    "duration": 15,
    "start_time": "2022-12-14T14:30:58.232Z"
   },
   {
    "duration": 8,
    "start_time": "2022-12-14T14:30:58.249Z"
   },
   {
    "duration": 10,
    "start_time": "2022-12-14T16:22:02.127Z"
   },
   {
    "duration": 53,
    "start_time": "2022-12-14T16:22:04.917Z"
   },
   {
    "duration": 4,
    "start_time": "2022-12-14T16:22:26.085Z"
   },
   {
    "duration": 6,
    "start_time": "2022-12-14T16:22:28.017Z"
   },
   {
    "duration": 4,
    "start_time": "2022-12-14T16:22:35.389Z"
   },
   {
    "duration": 7,
    "start_time": "2022-12-14T16:22:37.566Z"
   },
   {
    "duration": 1341,
    "start_time": "2022-12-14T16:23:12.687Z"
   },
   {
    "duration": 211,
    "start_time": "2022-12-14T16:23:14.031Z"
   },
   {
    "duration": 19,
    "start_time": "2022-12-14T16:23:14.245Z"
   },
   {
    "duration": 18,
    "start_time": "2022-12-14T16:23:14.266Z"
   },
   {
    "duration": 4,
    "start_time": "2022-12-14T16:23:14.287Z"
   },
   {
    "duration": 8,
    "start_time": "2022-12-14T16:23:14.293Z"
   },
   {
    "duration": 22,
    "start_time": "2022-12-14T16:23:14.303Z"
   },
   {
    "duration": 6,
    "start_time": "2022-12-14T16:23:14.327Z"
   },
   {
    "duration": 21,
    "start_time": "2022-12-14T16:23:14.335Z"
   },
   {
    "duration": 15,
    "start_time": "2022-12-14T16:23:14.379Z"
   },
   {
    "duration": 14,
    "start_time": "2022-12-14T16:23:14.396Z"
   },
   {
    "duration": 6,
    "start_time": "2022-12-14T16:23:14.412Z"
   },
   {
    "duration": 58,
    "start_time": "2022-12-14T16:23:14.420Z"
   },
   {
    "duration": 22,
    "start_time": "2022-12-14T16:23:14.481Z"
   },
   {
    "duration": 383,
    "start_time": "2022-12-14T16:23:14.504Z"
   },
   {
    "duration": 362,
    "start_time": "2022-12-14T16:23:14.888Z"
   },
   {
    "duration": 9,
    "start_time": "2022-12-14T16:23:15.252Z"
   },
   {
    "duration": 25,
    "start_time": "2022-12-14T16:23:15.264Z"
   },
   {
    "duration": 1624,
    "start_time": "2022-12-14T16:23:15.292Z"
   },
   {
    "duration": 12,
    "start_time": "2022-12-14T16:23:16.918Z"
   },
   {
    "duration": 8,
    "start_time": "2022-12-14T16:23:16.933Z"
   },
   {
    "duration": 1149,
    "start_time": "2022-12-14T16:23:16.943Z"
   },
   {
    "duration": 410,
    "start_time": "2022-12-14T16:23:18.095Z"
   },
   {
    "duration": 1480,
    "start_time": "2022-12-14T16:23:18.507Z"
   },
   {
    "duration": 262,
    "start_time": "2022-12-14T16:23:19.989Z"
   },
   {
    "duration": 199,
    "start_time": "2022-12-14T16:23:20.253Z"
   },
   {
    "duration": 163,
    "start_time": "2022-12-14T16:23:20.454Z"
   },
   {
    "duration": 12,
    "start_time": "2022-12-14T16:23:20.620Z"
   },
   {
    "duration": 162,
    "start_time": "2022-12-14T16:23:20.634Z"
   },
   {
    "duration": 16,
    "start_time": "2022-12-14T16:23:20.798Z"
   },
   {
    "duration": 47,
    "start_time": "2022-12-14T16:23:20.816Z"
   },
   {
    "duration": 55,
    "start_time": "2022-12-14T16:23:20.865Z"
   },
   {
    "duration": 218,
    "start_time": "2022-12-14T16:23:20.922Z"
   },
   {
    "duration": 238,
    "start_time": "2022-12-14T16:23:21.142Z"
   },
   {
    "duration": 315,
    "start_time": "2022-12-14T16:23:21.382Z"
   },
   {
    "duration": 391,
    "start_time": "2022-12-14T16:23:21.699Z"
   },
   {
    "duration": 390,
    "start_time": "2022-12-14T16:23:22.092Z"
   },
   {
    "duration": 407,
    "start_time": "2022-12-14T16:23:22.484Z"
   },
   {
    "duration": 8,
    "start_time": "2022-12-14T16:23:22.893Z"
   },
   {
    "duration": 31,
    "start_time": "2022-12-14T16:23:22.903Z"
   },
   {
    "duration": 23,
    "start_time": "2022-12-14T16:23:22.936Z"
   },
   {
    "duration": 25,
    "start_time": "2022-12-14T16:23:22.960Z"
   },
   {
    "duration": 36,
    "start_time": "2022-12-14T16:23:22.986Z"
   },
   {
    "duration": 17,
    "start_time": "2022-12-14T16:23:23.024Z"
   },
   {
    "duration": 6,
    "start_time": "2022-12-14T16:24:51.976Z"
   },
   {
    "duration": 762,
    "start_time": "2022-12-14T16:24:54.126Z"
   },
   {
    "duration": 4,
    "start_time": "2022-12-14T16:25:00.026Z"
   },
   {
    "duration": 890,
    "start_time": "2022-12-14T16:25:02.057Z"
   },
   {
    "duration": 1067,
    "start_time": "2022-12-14T16:26:08.823Z"
   },
   {
    "duration": 53,
    "start_time": "2022-12-14T16:26:09.892Z"
   },
   {
    "duration": 19,
    "start_time": "2022-12-14T16:26:09.947Z"
   },
   {
    "duration": 13,
    "start_time": "2022-12-14T16:26:09.968Z"
   },
   {
    "duration": 3,
    "start_time": "2022-12-14T16:26:09.983Z"
   },
   {
    "duration": 7,
    "start_time": "2022-12-14T16:26:09.988Z"
   },
   {
    "duration": 22,
    "start_time": "2022-12-14T16:26:09.996Z"
   },
   {
    "duration": 6,
    "start_time": "2022-12-14T16:26:10.019Z"
   },
   {
    "duration": 21,
    "start_time": "2022-12-14T16:26:10.026Z"
   },
   {
    "duration": 30,
    "start_time": "2022-12-14T16:26:10.048Z"
   },
   {
    "duration": 10,
    "start_time": "2022-12-14T16:26:10.080Z"
   },
   {
    "duration": 8,
    "start_time": "2022-12-14T16:26:10.092Z"
   },
   {
    "duration": 24,
    "start_time": "2022-12-14T16:26:10.101Z"
   },
   {
    "duration": 18,
    "start_time": "2022-12-14T16:26:10.129Z"
   },
   {
    "duration": 373,
    "start_time": "2022-12-14T16:26:10.149Z"
   },
   {
    "duration": 327,
    "start_time": "2022-12-14T16:26:10.524Z"
   },
   {
    "duration": 9,
    "start_time": "2022-12-14T16:26:10.853Z"
   },
   {
    "duration": 26,
    "start_time": "2022-12-14T16:26:10.864Z"
   },
   {
    "duration": 1757,
    "start_time": "2022-12-14T16:26:10.892Z"
   },
   {
    "duration": 9,
    "start_time": "2022-12-14T16:26:12.650Z"
   },
   {
    "duration": 4,
    "start_time": "2022-12-14T16:26:12.661Z"
   },
   {
    "duration": 765,
    "start_time": "2022-12-14T16:26:12.677Z"
   },
   {
    "duration": 369,
    "start_time": "2022-12-14T16:26:13.444Z"
   },
   {
    "duration": 1589,
    "start_time": "2022-12-14T16:26:13.815Z"
   },
   {
    "duration": 248,
    "start_time": "2022-12-14T16:26:15.406Z"
   },
   {
    "duration": 210,
    "start_time": "2022-12-14T16:26:15.656Z"
   },
   {
    "duration": 145,
    "start_time": "2022-12-14T16:26:15.867Z"
   },
   {
    "duration": 10,
    "start_time": "2022-12-14T16:26:16.014Z"
   },
   {
    "duration": 142,
    "start_time": "2022-12-14T16:26:16.026Z"
   },
   {
    "duration": 13,
    "start_time": "2022-12-14T16:26:16.170Z"
   },
   {
    "duration": 33,
    "start_time": "2022-12-14T16:26:16.185Z"
   },
   {
    "duration": 28,
    "start_time": "2022-12-14T16:26:16.220Z"
   },
   {
    "duration": 192,
    "start_time": "2022-12-14T16:26:16.250Z"
   },
   {
    "duration": 182,
    "start_time": "2022-12-14T16:26:16.443Z"
   },
   {
    "duration": 273,
    "start_time": "2022-12-14T16:26:16.626Z"
   },
   {
    "duration": 378,
    "start_time": "2022-12-14T16:26:16.901Z"
   },
   {
    "duration": 380,
    "start_time": "2022-12-14T16:26:17.281Z"
   },
   {
    "duration": 380,
    "start_time": "2022-12-14T16:26:17.663Z"
   },
   {
    "duration": 8,
    "start_time": "2022-12-14T16:26:18.045Z"
   },
   {
    "duration": 18,
    "start_time": "2022-12-14T16:26:18.054Z"
   },
   {
    "duration": 4,
    "start_time": "2022-12-14T16:26:18.079Z"
   },
   {
    "duration": 18,
    "start_time": "2022-12-14T16:26:18.084Z"
   },
   {
    "duration": 10,
    "start_time": "2022-12-14T16:26:18.103Z"
   },
   {
    "duration": 9,
    "start_time": "2022-12-14T16:26:18.115Z"
   },
   {
    "duration": 3,
    "start_time": "2022-12-14T16:29:30.446Z"
   },
   {
    "duration": 162,
    "start_time": "2022-12-14T16:30:47.587Z"
   },
   {
    "duration": 393,
    "start_time": "2022-12-14T16:34:21.487Z"
   },
   {
    "duration": 66,
    "start_time": "2022-12-14T16:34:43.086Z"
   },
   {
    "duration": 115,
    "start_time": "2022-12-14T16:40:21.236Z"
   },
   {
    "duration": 89,
    "start_time": "2022-12-14T16:48:49.730Z"
   },
   {
    "duration": 1202,
    "start_time": "2022-12-15T15:07:30.198Z"
   },
   {
    "duration": 56,
    "start_time": "2022-12-15T15:07:31.402Z"
   },
   {
    "duration": 18,
    "start_time": "2022-12-15T15:07:31.459Z"
   },
   {
    "duration": 14,
    "start_time": "2022-12-15T15:07:31.478Z"
   },
   {
    "duration": 2,
    "start_time": "2022-12-15T15:07:31.494Z"
   },
   {
    "duration": 6,
    "start_time": "2022-12-15T15:07:31.498Z"
   },
   {
    "duration": 39,
    "start_time": "2022-12-15T15:07:31.506Z"
   },
   {
    "duration": 6,
    "start_time": "2022-12-15T15:07:31.547Z"
   },
   {
    "duration": 20,
    "start_time": "2022-12-15T15:07:31.555Z"
   },
   {
    "duration": 12,
    "start_time": "2022-12-15T15:07:31.578Z"
   },
   {
    "duration": 47,
    "start_time": "2022-12-15T15:07:31.592Z"
   },
   {
    "duration": 5,
    "start_time": "2022-12-15T15:07:31.641Z"
   },
   {
    "duration": 22,
    "start_time": "2022-12-15T15:07:31.648Z"
   },
   {
    "duration": 16,
    "start_time": "2022-12-15T15:07:31.672Z"
   },
   {
    "duration": 420,
    "start_time": "2022-12-15T15:07:31.690Z"
   },
   {
    "duration": 384,
    "start_time": "2022-12-15T15:07:32.112Z"
   },
   {
    "duration": 9,
    "start_time": "2022-12-15T15:07:32.498Z"
   },
   {
    "duration": 31,
    "start_time": "2022-12-15T15:07:32.508Z"
   },
   {
    "duration": 1587,
    "start_time": "2022-12-15T15:07:32.541Z"
   },
   {
    "duration": 14,
    "start_time": "2022-12-15T15:07:34.136Z"
   },
   {
    "duration": 15,
    "start_time": "2022-12-15T15:07:34.151Z"
   },
   {
    "duration": 838,
    "start_time": "2022-12-15T15:07:34.168Z"
   },
   {
    "duration": 389,
    "start_time": "2022-12-15T15:07:35.007Z"
   },
   {
    "duration": 1529,
    "start_time": "2022-12-15T15:07:35.398Z"
   },
   {
    "duration": 268,
    "start_time": "2022-12-15T15:07:36.928Z"
   },
   {
    "duration": 3,
    "start_time": "2022-12-15T15:07:37.198Z"
   },
   {
    "duration": 166,
    "start_time": "2022-12-15T15:07:37.203Z"
   },
   {
    "duration": 10,
    "start_time": "2022-12-15T15:07:37.373Z"
   },
   {
    "duration": 155,
    "start_time": "2022-12-15T15:07:37.385Z"
   },
   {
    "duration": 9,
    "start_time": "2022-12-15T15:07:37.542Z"
   },
   {
    "duration": 30,
    "start_time": "2022-12-15T15:07:37.553Z"
   },
   {
    "duration": 57,
    "start_time": "2022-12-15T15:07:37.585Z"
   },
   {
    "duration": 193,
    "start_time": "2022-12-15T15:07:37.644Z"
   },
   {
    "duration": 210,
    "start_time": "2022-12-15T15:07:37.839Z"
   },
   {
    "duration": 193,
    "start_time": "2022-12-15T15:07:38.051Z"
   },
   {
    "duration": 481,
    "start_time": "2022-12-15T15:07:38.246Z"
   },
   {
    "duration": 537,
    "start_time": "2022-12-15T15:07:38.729Z"
   },
   {
    "duration": 435,
    "start_time": "2022-12-15T15:07:39.269Z"
   },
   {
    "duration": 9,
    "start_time": "2022-12-15T15:07:39.706Z"
   },
   {
    "duration": 22,
    "start_time": "2022-12-15T15:07:39.716Z"
   },
   {
    "duration": 4,
    "start_time": "2022-12-15T15:07:39.739Z"
   },
   {
    "duration": 11,
    "start_time": "2022-12-15T15:07:39.745Z"
   },
   {
    "duration": 6,
    "start_time": "2022-12-15T15:07:39.758Z"
   },
   {
    "duration": 5,
    "start_time": "2022-12-15T15:07:39.765Z"
   }
  ],
  "kernelspec": {
   "display_name": "Python 3 (ipykernel)",
   "language": "python",
   "name": "python3"
  },
  "language_info": {
   "codemirror_mode": {
    "name": "ipython",
    "version": 3
   },
   "file_extension": ".py",
   "mimetype": "text/x-python",
   "name": "python",
   "nbconvert_exporter": "python",
   "pygments_lexer": "ipython3",
   "version": "3.11.4"
  },
  "toc": {
   "base_numbering": 1,
   "nav_menu": {},
   "number_sections": true,
   "sideBar": true,
   "skip_h1_title": true,
   "title_cell": "Table of Contents",
   "title_sidebar": "Contents",
   "toc_cell": false,
   "toc_position": {
    "height": "363.636px",
    "left": "23px",
    "top": "140.051px",
    "width": "206.547px"
   },
   "toc_section_display": true,
   "toc_window_display": false
  }
 },
 "nbformat": 4,
 "nbformat_minor": 2
}
