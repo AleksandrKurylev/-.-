{
 "cells": [
  {
   "cell_type": "markdown",
   "metadata": {},
   "source": [
    "### ВВодная часть:"
   ]
  },
  {
   "cell_type": "markdown",
   "metadata": {},
   "source": [
    "Условия -  крупный интернет-магазин. Отделом маркетинга  подготовлен список гипотез для увеличения выручки."
   ]
  },
  {
   "cell_type": "markdown",
   "metadata": {},
   "source": [
    "Задача - Приоритизируйте гипотезы, запустите A/B-тест и проанализируйте результаты\n"
   ]
  },
  {
   "cell_type": "markdown",
   "metadata": {},
   "source": [
    "Данные — три датасета:\n",
    "+ \"hypothesis.csv\"  - характеристики предлагаемых гипотез\n",
    "+ \"orders.csv\" - информацию о заказах с разделением по тестируемым группам\n",
    "+ \"visitors.csv\" - информацией о посещениях сайта с разделением по тестируемым группам"
   ]
  },
  {
   "cell_type": "markdown",
   "metadata": {},
   "source": [
    "Предмет исследования - исследование влияния измененений на метрики и определение приоритета  самих изменений"
   ]
  },
  {
   "cell_type": "markdown",
   "metadata": {},
   "source": [
    "Методы исследования:\n",
    "+ фреймворк ICE для приоритизации гипотез\n",
    "+ фреймворк RICE для приоритизации гипотез\n",
    "+ методы А/В тестирования\n",
    "+ средства язык PYTHON"
   ]
  },
  {
   "cell_type": "markdown",
   "metadata": {},
   "source": [
    "План исследования: \n",
    "+ Загрузка данных и необходимых библиотек PYTHON\n",
    "+ Общая настройка среды\n",
    "+ Изучение входных данных\n",
    "+ Предобработка входных данных\n",
    "+ Определение наиболее приоритетных гипотез\n",
    "+ А/В тест 'сырых' данных\n",
    "+ Очистка от выбросов\n",
    "+ А/В тест 'очищенных' данных\n",
    "+ Подведение итогов - анализ результатов и подготовка рекомендаций"
   ]
  },
  {
   "cell_type": "markdown",
   "metadata": {},
   "source": [
    "#### Получение данных и импорт инструментов анализа"
   ]
  },
  {
   "cell_type": "code",
   "execution_count": 1,
   "metadata": {},
   "outputs": [],
   "source": [
    "# Импорт библиотек\n",
    "\n",
    "import pandas as pd\n",
    "import numpy as np\n",
    "import matplotlib.pyplot as plt\n",
    "import seaborn as sns\n",
    "import math\n",
    "import datetime as dt\n",
    "import scipy.stats as stats\n",
    "from scipy import stats as st\n",
    "import warnings"
   ]
  },
  {
   "cell_type": "code",
   "execution_count": 2,
   "metadata": {},
   "outputs": [],
   "source": [
    "# снимаем ограничение на количество столбцов\n",
    "pd.set_option('display.max_columns', None)\n",
    "# снимаем ограничение на ширину столбцов\n",
    "pd.set_option('display.max_colwidth', None)\n",
    "# задаем размер графика\n",
    "sns.set(rc={'figure.figsize':(9,5)})"
   ]
  },
  {
   "cell_type": "code",
   "execution_count": 3,
   "metadata": {},
   "outputs": [],
   "source": [
    "# чтение файлов с данными\n",
    "hypothesis, orders, visitors = (\n",
    "        pd.read_csv('/datasets/hypothesis.csv'),\n",
    "        pd.read_csv('/datasets/orders.csv'),\n",
    "        pd.read_csv('/datasets/visitors.csv')\n",
    "    ) "
   ]
  },
  {
   "cell_type": "markdown",
   "metadata": {},
   "source": [
    "#### Изучение данных"
   ]
  },
  {
   "cell_type": "code",
   "execution_count": 4,
   "metadata": {},
   "outputs": [
    {
     "name": "stdout",
     "output_type": "stream",
     "text": [
      "<class 'pandas.core.frame.DataFrame'>\n",
      "RangeIndex: 9 entries, 0 to 8\n",
      "Data columns (total 5 columns):\n",
      " #   Column      Non-Null Count  Dtype \n",
      "---  ------      --------------  ----- \n",
      " 0   Hypothesis  9 non-null      object\n",
      " 1   Reach       9 non-null      int64 \n",
      " 2   Impact      9 non-null      int64 \n",
      " 3   Confidence  9 non-null      int64 \n",
      " 4   Efforts     9 non-null      int64 \n",
      "dtypes: int64(4), object(1)\n",
      "memory usage: 488.0+ bytes\n"
     ]
    }
   ],
   "source": [
    "# обзор датафрейма hypothesis\n",
    "hypothesis.info() "
   ]
  },
  {
   "cell_type": "code",
   "execution_count": 5,
   "metadata": {},
   "outputs": [
    {
     "data": {
      "text/html": [
       "<div>\n",
       "<style scoped>\n",
       "    .dataframe tbody tr th:only-of-type {\n",
       "        vertical-align: middle;\n",
       "    }\n",
       "\n",
       "    .dataframe tbody tr th {\n",
       "        vertical-align: top;\n",
       "    }\n",
       "\n",
       "    .dataframe thead th {\n",
       "        text-align: right;\n",
       "    }\n",
       "</style>\n",
       "<table border=\"1\" class=\"dataframe\">\n",
       "  <thead>\n",
       "    <tr style=\"text-align: right;\">\n",
       "      <th></th>\n",
       "      <th>Hypothesis</th>\n",
       "      <th>Reach</th>\n",
       "      <th>Impact</th>\n",
       "      <th>Confidence</th>\n",
       "      <th>Efforts</th>\n",
       "    </tr>\n",
       "  </thead>\n",
       "  <tbody>\n",
       "    <tr>\n",
       "      <th>0</th>\n",
       "      <td>Добавить два новых канала привлечения трафика, что позволит привлекать на 30% больше пользователей</td>\n",
       "      <td>3</td>\n",
       "      <td>10</td>\n",
       "      <td>8</td>\n",
       "      <td>6</td>\n",
       "    </tr>\n",
       "    <tr>\n",
       "      <th>1</th>\n",
       "      <td>Запустить собственную службу доставки, что сократит срок доставки заказов</td>\n",
       "      <td>2</td>\n",
       "      <td>5</td>\n",
       "      <td>4</td>\n",
       "      <td>10</td>\n",
       "    </tr>\n",
       "    <tr>\n",
       "      <th>2</th>\n",
       "      <td>Добавить блоки рекомендаций товаров на сайт интернет магазина, чтобы повысить конверсию и средний чек заказа</td>\n",
       "      <td>8</td>\n",
       "      <td>3</td>\n",
       "      <td>7</td>\n",
       "      <td>3</td>\n",
       "    </tr>\n",
       "    <tr>\n",
       "      <th>3</th>\n",
       "      <td>Изменить структура категорий, что увеличит конверсию, т.к. пользователи быстрее найдут нужный товар</td>\n",
       "      <td>8</td>\n",
       "      <td>3</td>\n",
       "      <td>3</td>\n",
       "      <td>8</td>\n",
       "    </tr>\n",
       "    <tr>\n",
       "      <th>4</th>\n",
       "      <td>Изменить цвет фона главной страницы, чтобы увеличить вовлеченность пользователей</td>\n",
       "      <td>3</td>\n",
       "      <td>1</td>\n",
       "      <td>1</td>\n",
       "      <td>1</td>\n",
       "    </tr>\n",
       "    <tr>\n",
       "      <th>5</th>\n",
       "      <td>Добавить страницу отзывов клиентов о магазине, что позволит увеличить количество заказов</td>\n",
       "      <td>3</td>\n",
       "      <td>2</td>\n",
       "      <td>2</td>\n",
       "      <td>3</td>\n",
       "    </tr>\n",
       "    <tr>\n",
       "      <th>6</th>\n",
       "      <td>Показать на главной странице баннеры с актуальными акциями и распродажами, чтобы увеличить конверсию</td>\n",
       "      <td>5</td>\n",
       "      <td>3</td>\n",
       "      <td>8</td>\n",
       "      <td>3</td>\n",
       "    </tr>\n",
       "    <tr>\n",
       "      <th>7</th>\n",
       "      <td>Добавить форму подписки на все основные страницы, чтобы собрать базу клиентов для email-рассылок</td>\n",
       "      <td>10</td>\n",
       "      <td>7</td>\n",
       "      <td>8</td>\n",
       "      <td>5</td>\n",
       "    </tr>\n",
       "    <tr>\n",
       "      <th>8</th>\n",
       "      <td>Запустить акцию, дающую скидку на товар в день рождения</td>\n",
       "      <td>1</td>\n",
       "      <td>9</td>\n",
       "      <td>9</td>\n",
       "      <td>5</td>\n",
       "    </tr>\n",
       "  </tbody>\n",
       "</table>\n",
       "</div>"
      ],
      "text/plain": [
       "                                                                                                     Hypothesis  \\\n",
       "0            Добавить два новых канала привлечения трафика, что позволит привлекать на 30% больше пользователей   \n",
       "1                                     Запустить собственную службу доставки, что сократит срок доставки заказов   \n",
       "2  Добавить блоки рекомендаций товаров на сайт интернет магазина, чтобы повысить конверсию и средний чек заказа   \n",
       "3           Изменить структура категорий, что увеличит конверсию, т.к. пользователи быстрее найдут нужный товар   \n",
       "4                              Изменить цвет фона главной страницы, чтобы увеличить вовлеченность пользователей   \n",
       "5                      Добавить страницу отзывов клиентов о магазине, что позволит увеличить количество заказов   \n",
       "6          Показать на главной странице баннеры с актуальными акциями и распродажами, чтобы увеличить конверсию   \n",
       "7              Добавить форму подписки на все основные страницы, чтобы собрать базу клиентов для email-рассылок   \n",
       "8                                                       Запустить акцию, дающую скидку на товар в день рождения   \n",
       "\n",
       "   Reach  Impact  Confidence  Efforts  \n",
       "0      3      10           8        6  \n",
       "1      2       5           4       10  \n",
       "2      8       3           7        3  \n",
       "3      8       3           3        8  \n",
       "4      3       1           1        1  \n",
       "5      3       2           2        3  \n",
       "6      5       3           8        3  \n",
       "7     10       7           8        5  \n",
       "8      1       9           9        5  "
      ]
     },
     "execution_count": 5,
     "metadata": {},
     "output_type": "execute_result"
    }
   ],
   "source": [
    "# Снимок данных\n",
    "hypothesis"
   ]
  },
  {
   "cell_type": "code",
   "execution_count": 6,
   "metadata": {},
   "outputs": [
    {
     "name": "stdout",
     "output_type": "stream",
     "text": [
      "<class 'pandas.core.frame.DataFrame'>\n",
      "RangeIndex: 1197 entries, 0 to 1196\n",
      "Data columns (total 5 columns):\n",
      " #   Column         Non-Null Count  Dtype \n",
      "---  ------         --------------  ----- \n",
      " 0   transactionId  1197 non-null   int64 \n",
      " 1   visitorId      1197 non-null   int64 \n",
      " 2   date           1197 non-null   object\n",
      " 3   revenue        1197 non-null   int64 \n",
      " 4   group          1197 non-null   object\n",
      "dtypes: int64(3), object(2)\n",
      "memory usage: 46.9+ KB\n"
     ]
    }
   ],
   "source": [
    "# обзор датафрейма orders\n",
    "orders.info()"
   ]
  },
  {
   "cell_type": "code",
   "execution_count": 7,
   "metadata": {},
   "outputs": [
    {
     "data": {
      "text/plain": [
       "0"
      ]
     },
     "execution_count": 7,
     "metadata": {},
     "output_type": "execute_result"
    }
   ],
   "source": [
    "# Поиск дублей строк\n",
    "orders.duplicated().sum()"
   ]
  },
  {
   "cell_type": "code",
   "execution_count": 8,
   "metadata": {},
   "outputs": [
    {
     "data": {
      "text/html": [
       "<div>\n",
       "<style scoped>\n",
       "    .dataframe tbody tr th:only-of-type {\n",
       "        vertical-align: middle;\n",
       "    }\n",
       "\n",
       "    .dataframe tbody tr th {\n",
       "        vertical-align: top;\n",
       "    }\n",
       "\n",
       "    .dataframe thead th {\n",
       "        text-align: right;\n",
       "    }\n",
       "</style>\n",
       "<table border=\"1\" class=\"dataframe\">\n",
       "  <thead>\n",
       "    <tr style=\"text-align: right;\">\n",
       "      <th></th>\n",
       "      <th>transactionId</th>\n",
       "      <th>visitorId</th>\n",
       "      <th>date</th>\n",
       "      <th>revenue</th>\n",
       "      <th>group</th>\n",
       "    </tr>\n",
       "  </thead>\n",
       "  <tbody>\n",
       "    <tr>\n",
       "      <th>0</th>\n",
       "      <td>3667963787</td>\n",
       "      <td>3312258926</td>\n",
       "      <td>2019-08-15</td>\n",
       "      <td>1650</td>\n",
       "      <td>B</td>\n",
       "    </tr>\n",
       "    <tr>\n",
       "      <th>1</th>\n",
       "      <td>2804400009</td>\n",
       "      <td>3642806036</td>\n",
       "      <td>2019-08-15</td>\n",
       "      <td>730</td>\n",
       "      <td>B</td>\n",
       "    </tr>\n",
       "    <tr>\n",
       "      <th>2</th>\n",
       "      <td>2961555356</td>\n",
       "      <td>4069496402</td>\n",
       "      <td>2019-08-15</td>\n",
       "      <td>400</td>\n",
       "      <td>A</td>\n",
       "    </tr>\n",
       "    <tr>\n",
       "      <th>3</th>\n",
       "      <td>3797467345</td>\n",
       "      <td>1196621759</td>\n",
       "      <td>2019-08-15</td>\n",
       "      <td>9759</td>\n",
       "      <td>B</td>\n",
       "    </tr>\n",
       "    <tr>\n",
       "      <th>4</th>\n",
       "      <td>2282983706</td>\n",
       "      <td>2322279887</td>\n",
       "      <td>2019-08-15</td>\n",
       "      <td>2308</td>\n",
       "      <td>B</td>\n",
       "    </tr>\n",
       "    <tr>\n",
       "      <th>...</th>\n",
       "      <td>...</td>\n",
       "      <td>...</td>\n",
       "      <td>...</td>\n",
       "      <td>...</td>\n",
       "      <td>...</td>\n",
       "    </tr>\n",
       "    <tr>\n",
       "      <th>1192</th>\n",
       "      <td>2662137336</td>\n",
       "      <td>3733762160</td>\n",
       "      <td>2019-08-14</td>\n",
       "      <td>6490</td>\n",
       "      <td>B</td>\n",
       "    </tr>\n",
       "    <tr>\n",
       "      <th>1193</th>\n",
       "      <td>2203539145</td>\n",
       "      <td>370388673</td>\n",
       "      <td>2019-08-14</td>\n",
       "      <td>3190</td>\n",
       "      <td>A</td>\n",
       "    </tr>\n",
       "    <tr>\n",
       "      <th>1194</th>\n",
       "      <td>1807773912</td>\n",
       "      <td>573423106</td>\n",
       "      <td>2019-08-14</td>\n",
       "      <td>10550</td>\n",
       "      <td>A</td>\n",
       "    </tr>\n",
       "    <tr>\n",
       "      <th>1195</th>\n",
       "      <td>1947021204</td>\n",
       "      <td>1614305549</td>\n",
       "      <td>2019-08-14</td>\n",
       "      <td>100</td>\n",
       "      <td>A</td>\n",
       "    </tr>\n",
       "    <tr>\n",
       "      <th>1196</th>\n",
       "      <td>3936777065</td>\n",
       "      <td>2108080724</td>\n",
       "      <td>2019-08-15</td>\n",
       "      <td>202740</td>\n",
       "      <td>B</td>\n",
       "    </tr>\n",
       "  </tbody>\n",
       "</table>\n",
       "<p>1197 rows × 5 columns</p>\n",
       "</div>"
      ],
      "text/plain": [
       "      transactionId   visitorId        date  revenue group\n",
       "0        3667963787  3312258926  2019-08-15     1650     B\n",
       "1        2804400009  3642806036  2019-08-15      730     B\n",
       "2        2961555356  4069496402  2019-08-15      400     A\n",
       "3        3797467345  1196621759  2019-08-15     9759     B\n",
       "4        2282983706  2322279887  2019-08-15     2308     B\n",
       "...             ...         ...         ...      ...   ...\n",
       "1192     2662137336  3733762160  2019-08-14     6490     B\n",
       "1193     2203539145   370388673  2019-08-14     3190     A\n",
       "1194     1807773912   573423106  2019-08-14    10550     A\n",
       "1195     1947021204  1614305549  2019-08-14      100     A\n",
       "1196     3936777065  2108080724  2019-08-15   202740     B\n",
       "\n",
       "[1197 rows x 5 columns]"
      ]
     },
     "execution_count": 8,
     "metadata": {},
     "output_type": "execute_result"
    }
   ],
   "source": [
    "# Снимок данных\n",
    "orders"
   ]
  },
  {
   "cell_type": "code",
   "execution_count": 9,
   "metadata": {},
   "outputs": [
    {
     "data": {
      "text/plain": [
       "array(['B', 'A'], dtype=object)"
      ]
     },
     "execution_count": 9,
     "metadata": {},
     "output_type": "execute_result"
    }
   ],
   "source": [
    "#\n",
    "orders['group'].unique()"
   ]
  },
  {
   "cell_type": "code",
   "execution_count": 13,
   "metadata": {},
   "outputs": [
    {
     "name": "stdout",
     "output_type": "stream",
     "text": [
      "Количество пользователей в группе  А -  503\n",
      "Количество пользователей в группе  В -  586\n",
      "Количество пользователей попавших в обе группы -  58\n",
      "% пользователей попавших в обе группы -   5.63\n"
     ]
    }
   ],
   "source": [
    "#\n",
    "a = orders.loc[orders['group'] == 'A', 'visitor_id'].nunique()\n",
    "b = orders.loc[orders['group'] == 'B', 'visitor_id'].nunique()\n",
    "ab = orders['visitor_id'].nunique()\n",
    "c =round((a + b - ab)*100 / ab, 2)\n",
    "print(\"Количество пользователей в группе  А - \", a)\n",
    "print(\"Количество пользователей в группе  В - \", b)\n",
    "print(\"Количество пользователей попавших в обе группы - \", a + b - ab)\n",
    "print(\"% пользователей попавших в обе группы -  \", c )"
   ]
  },
  {
   "cell_type": "code",
   "execution_count": 14,
   "metadata": {},
   "outputs": [],
   "source": [
    "# Статистика данных\n",
    "# orders.describe()"
   ]
  },
  {
   "cell_type": "code",
   "execution_count": 15,
   "metadata": {},
   "outputs": [
    {
     "name": "stdout",
     "output_type": "stream",
     "text": [
      "<class 'pandas.core.frame.DataFrame'>\n",
      "RangeIndex: 62 entries, 0 to 61\n",
      "Data columns (total 3 columns):\n",
      " #   Column    Non-Null Count  Dtype         \n",
      "---  ------    --------------  -----         \n",
      " 0   date      62 non-null     datetime64[ns]\n",
      " 1   group     62 non-null     object        \n",
      " 2   visitors  62 non-null     int64         \n",
      "dtypes: datetime64[ns](1), int64(1), object(1)\n",
      "memory usage: 1.6+ KB\n"
     ]
    }
   ],
   "source": [
    "# обзор датафрейма visitors\n",
    "visitors.info()"
   ]
  },
  {
   "cell_type": "code",
   "execution_count": 16,
   "metadata": {},
   "outputs": [
    {
     "data": {
      "text/plain": [
       "0"
      ]
     },
     "execution_count": 16,
     "metadata": {},
     "output_type": "execute_result"
    }
   ],
   "source": [
    "# Поиск дублей строк\n",
    "visitors.duplicated().sum()"
   ]
  },
  {
   "cell_type": "code",
   "execution_count": 17,
   "metadata": {},
   "outputs": [
    {
     "data": {
      "text/html": [
       "<div>\n",
       "<style scoped>\n",
       "    .dataframe tbody tr th:only-of-type {\n",
       "        vertical-align: middle;\n",
       "    }\n",
       "\n",
       "    .dataframe tbody tr th {\n",
       "        vertical-align: top;\n",
       "    }\n",
       "\n",
       "    .dataframe thead th {\n",
       "        text-align: right;\n",
       "    }\n",
       "</style>\n",
       "<table border=\"1\" class=\"dataframe\">\n",
       "  <thead>\n",
       "    <tr style=\"text-align: right;\">\n",
       "      <th></th>\n",
       "      <th>date</th>\n",
       "      <th>group</th>\n",
       "      <th>visitors</th>\n",
       "    </tr>\n",
       "  </thead>\n",
       "  <tbody>\n",
       "    <tr>\n",
       "      <th>0</th>\n",
       "      <td>2019-08-01</td>\n",
       "      <td>A</td>\n",
       "      <td>719</td>\n",
       "    </tr>\n",
       "    <tr>\n",
       "      <th>1</th>\n",
       "      <td>2019-08-02</td>\n",
       "      <td>A</td>\n",
       "      <td>619</td>\n",
       "    </tr>\n",
       "    <tr>\n",
       "      <th>2</th>\n",
       "      <td>2019-08-03</td>\n",
       "      <td>A</td>\n",
       "      <td>507</td>\n",
       "    </tr>\n",
       "    <tr>\n",
       "      <th>3</th>\n",
       "      <td>2019-08-04</td>\n",
       "      <td>A</td>\n",
       "      <td>717</td>\n",
       "    </tr>\n",
       "    <tr>\n",
       "      <th>4</th>\n",
       "      <td>2019-08-05</td>\n",
       "      <td>A</td>\n",
       "      <td>756</td>\n",
       "    </tr>\n",
       "    <tr>\n",
       "      <th>...</th>\n",
       "      <td>...</td>\n",
       "      <td>...</td>\n",
       "      <td>...</td>\n",
       "    </tr>\n",
       "    <tr>\n",
       "      <th>57</th>\n",
       "      <td>2019-08-27</td>\n",
       "      <td>B</td>\n",
       "      <td>720</td>\n",
       "    </tr>\n",
       "    <tr>\n",
       "      <th>58</th>\n",
       "      <td>2019-08-28</td>\n",
       "      <td>B</td>\n",
       "      <td>654</td>\n",
       "    </tr>\n",
       "    <tr>\n",
       "      <th>59</th>\n",
       "      <td>2019-08-29</td>\n",
       "      <td>B</td>\n",
       "      <td>531</td>\n",
       "    </tr>\n",
       "    <tr>\n",
       "      <th>60</th>\n",
       "      <td>2019-08-30</td>\n",
       "      <td>B</td>\n",
       "      <td>490</td>\n",
       "    </tr>\n",
       "    <tr>\n",
       "      <th>61</th>\n",
       "      <td>2019-08-31</td>\n",
       "      <td>B</td>\n",
       "      <td>718</td>\n",
       "    </tr>\n",
       "  </tbody>\n",
       "</table>\n",
       "<p>62 rows × 3 columns</p>\n",
       "</div>"
      ],
      "text/plain": [
       "         date group  visitors\n",
       "0  2019-08-01     A       719\n",
       "1  2019-08-02     A       619\n",
       "2  2019-08-03     A       507\n",
       "3  2019-08-04     A       717\n",
       "4  2019-08-05     A       756\n",
       "..        ...   ...       ...\n",
       "57 2019-08-27     B       720\n",
       "58 2019-08-28     B       654\n",
       "59 2019-08-29     B       531\n",
       "60 2019-08-30     B       490\n",
       "61 2019-08-31     B       718\n",
       "\n",
       "[62 rows x 3 columns]"
      ]
     },
     "execution_count": 17,
     "metadata": {},
     "output_type": "execute_result"
    }
   ],
   "source": [
    "# Снимок данных\n",
    "visitors"
   ]
  },
  {
   "cell_type": "code",
   "execution_count": 18,
   "metadata": {
    "scrolled": true
   },
   "outputs": [
    {
     "data": {
      "image/png": "[encoded data removed]",
      "text/plain": [
       "<Figure size 648x360 with 1 Axes>"
      ]
     },
     "metadata": {},
     "output_type": "display_data"
    }
   ],
   "source": [
    "visitors['visitors'].plot()\n",
    "plt.title('График динамики посещений сайта')\n",
    "plt.ylabel(\"количество пользователей\")\n",
    "plt.xlabel('День исследования')\n",
    "plt.xticks(rotation=30)\n",
    "plt.legend()\n",
    "plt.show()"
   ]
  },
  {
   "cell_type": "code",
   "execution_count": 19,
   "metadata": {},
   "outputs": [
    {
     "data": {
      "text/plain": [
       "409"
      ]
     },
     "execution_count": 19,
     "metadata": {},
     "output_type": "execute_result"
    }
   ],
   "source": [
    "visitors['visitors'].max() - visitors['visitors'].min()"
   ]
  },
  {
   "cell_type": "code",
   "execution_count": 20,
   "metadata": {},
   "outputs": [
    {
     "data": {
      "text/plain": [
       "array(['A', 'B'], dtype=object)"
      ]
     },
     "execution_count": 20,
     "metadata": {},
     "output_type": "execute_result"
    }
   ],
   "source": [
    "visitors['group'].unique()"
   ]
  },
  {
   "cell_type": "code",
   "execution_count": 21,
   "metadata": {},
   "outputs": [],
   "source": [
    "# Статистика данных\n",
    "# visitors.describe()"
   ]
  },
  {
   "cell_type": "code",
   "execution_count": 22,
   "metadata": {},
   "outputs": [
    {
     "name": "stdout",
     "output_type": "stream",
     "text": [
      "начальная дата 2019-08-01 конечная дата 2019-08-31 в данных таблицы visitors\n",
      "начальная дата 2019-08-01 конечная дата 2019-08-31 в данных таблицы orders\n"
     ]
    }
   ],
   "source": [
    "print(f\"начальная дата {visitors['date'].min().date()} \\\n",
    "конечная дата {visitors['date'].max().date()} в данных таблицы visitors\" )\n",
    "\n",
    "print(f\"начальная дата {orders['date'].min().date()} \\\n",
    "конечная дата {orders['date'].max().date()} в данных таблицы orders\" )"
   ]
  },
  {
   "cell_type": "markdown",
   "metadata": {},
   "source": [
    "#####  Вывод. Результат изучения  данных:\n",
    "+ Пропуски не обнаружены\n",
    "+ Дубликаты не обнаружены\n",
    "+ Тип данных в столбцах некорректный, ---  требует иправления\n",
    "+ Наименования столбцов не соответствует змеиному стилю ---  требует иправления\n",
    "+ Временной интервал в таблицах совпадает\n",
    "+ Большой разброс в количестве посещений по дням\n",
    "+ Часть пользователей попадают в обе группы (58 человек). Что составдяет около 5%  \n"
   ]
  },
  {
   "cell_type": "markdown",
   "metadata": {},
   "source": [
    "#### Предобработка данных"
   ]
  },
  {
   "cell_type": "code",
   "execution_count": 11,
   "metadata": {},
   "outputs": [],
   "source": [
    "# Исправление наименования столбцов \n",
    "hypothesis.columns = hypothesis.columns.str.lower()\n",
    "orders.columns = [name.replace('Id', '_id') for name in orders.columns]"
   ]
  },
  {
   "cell_type": "code",
   "execution_count": 12,
   "metadata": {},
   "outputs": [],
   "source": [
    "# Исправление типа данных для столбцов с датами\n",
    "visitors['date'] = pd.to_datetime(visitors['date'])\n",
    "orders['date'] = pd.to_datetime(orders['date'])"
   ]
  },
  {
   "cell_type": "code",
   "execution_count": null,
   "metadata": {},
   "outputs": [],
   "source": []
  },
  {
   "cell_type": "markdown",
   "metadata": {},
   "source": [
    "##### Вывод: Данные  готовы для анализа"
   ]
  },
  {
   "cell_type": "markdown",
   "metadata": {},
   "source": [
    "## Часть 1. Приоритизация гипотез."
   ]
  },
  {
   "cell_type": "markdown",
   "metadata": {},
   "source": [
    "Задача\n",
    "+ Примените фреймворк ICE для приоритизации гипотез. Отсортируйте их по убыванию приоритета.\n",
    "+ Примените фреймворк RICE для приоритизации гипотез. Отсортируйте их по убыванию приоритета.\n",
    "+ Укажите, как изменилась приоритизация гипотез при применении RICE вместо ICE. Объясните, почему так произошло."
   ]
  },
  {
   "cell_type": "markdown",
   "metadata": {},
   "source": [
    "##### ICE (от. англ.: Impact, Confidence, Effort/ Влияние, Уверенность, Усилия)."
   ]
  },
  {
   "cell_type": "code",
   "execution_count": 23,
   "metadata": {},
   "outputs": [
    {
     "data": {
      "text/html": [
       "<div>\n",
       "<style scoped>\n",
       "    .dataframe tbody tr th:only-of-type {\n",
       "        vertical-align: middle;\n",
       "    }\n",
       "\n",
       "    .dataframe tbody tr th {\n",
       "        vertical-align: top;\n",
       "    }\n",
       "\n",
       "    .dataframe thead th {\n",
       "        text-align: right;\n",
       "    }\n",
       "</style>\n",
       "<table border=\"1\" class=\"dataframe\">\n",
       "  <thead>\n",
       "    <tr style=\"text-align: right;\">\n",
       "      <th></th>\n",
       "      <th>hypothesis</th>\n",
       "      <th>ice</th>\n",
       "    </tr>\n",
       "  </thead>\n",
       "  <tbody>\n",
       "    <tr>\n",
       "      <th>8</th>\n",
       "      <td>Запустить акцию, дающую скидку на товар в день рождения</td>\n",
       "      <td>16.20</td>\n",
       "    </tr>\n",
       "    <tr>\n",
       "      <th>0</th>\n",
       "      <td>Добавить два новых канала привлечения трафика, что позволит привлекать на 30% больше пользователей</td>\n",
       "      <td>13.33</td>\n",
       "    </tr>\n",
       "    <tr>\n",
       "      <th>7</th>\n",
       "      <td>Добавить форму подписки на все основные страницы, чтобы собрать базу клиентов для email-рассылок</td>\n",
       "      <td>11.20</td>\n",
       "    </tr>\n",
       "    <tr>\n",
       "      <th>6</th>\n",
       "      <td>Показать на главной странице баннеры с актуальными акциями и распродажами, чтобы увеличить конверсию</td>\n",
       "      <td>8.00</td>\n",
       "    </tr>\n",
       "    <tr>\n",
       "      <th>2</th>\n",
       "      <td>Добавить блоки рекомендаций товаров на сайт интернет магазина, чтобы повысить конверсию и средний чек заказа</td>\n",
       "      <td>7.00</td>\n",
       "    </tr>\n",
       "    <tr>\n",
       "      <th>1</th>\n",
       "      <td>Запустить собственную службу доставки, что сократит срок доставки заказов</td>\n",
       "      <td>2.00</td>\n",
       "    </tr>\n",
       "    <tr>\n",
       "      <th>5</th>\n",
       "      <td>Добавить страницу отзывов клиентов о магазине, что позволит увеличить количество заказов</td>\n",
       "      <td>1.33</td>\n",
       "    </tr>\n",
       "    <tr>\n",
       "      <th>3</th>\n",
       "      <td>Изменить структура категорий, что увеличит конверсию, т.к. пользователи быстрее найдут нужный товар</td>\n",
       "      <td>1.12</td>\n",
       "    </tr>\n",
       "    <tr>\n",
       "      <th>4</th>\n",
       "      <td>Изменить цвет фона главной страницы, чтобы увеличить вовлеченность пользователей</td>\n",
       "      <td>1.00</td>\n",
       "    </tr>\n",
       "  </tbody>\n",
       "</table>\n",
       "</div>"
      ],
      "text/plain": [
       "                                                                                                     hypothesis  \\\n",
       "8                                                       Запустить акцию, дающую скидку на товар в день рождения   \n",
       "0            Добавить два новых канала привлечения трафика, что позволит привлекать на 30% больше пользователей   \n",
       "7              Добавить форму подписки на все основные страницы, чтобы собрать базу клиентов для email-рассылок   \n",
       "6          Показать на главной странице баннеры с актуальными акциями и распродажами, чтобы увеличить конверсию   \n",
       "2  Добавить блоки рекомендаций товаров на сайт интернет магазина, чтобы повысить конверсию и средний чек заказа   \n",
       "1                                     Запустить собственную службу доставки, что сократит срок доставки заказов   \n",
       "5                      Добавить страницу отзывов клиентов о магазине, что позволит увеличить количество заказов   \n",
       "3           Изменить структура категорий, что увеличит конверсию, т.к. пользователи быстрее найдут нужный товар   \n",
       "4                              Изменить цвет фона главной страницы, чтобы увеличить вовлеченность пользователей   \n",
       "\n",
       "     ice  \n",
       "8  16.20  \n",
       "0  13.33  \n",
       "7  11.20  \n",
       "6   8.00  \n",
       "2   7.00  \n",
       "1   2.00  \n",
       "5   1.33  \n",
       "3   1.12  \n",
       "4   1.00  "
      ]
     },
     "execution_count": 23,
     "metadata": {},
     "output_type": "execute_result"
    }
   ],
   "source": [
    "hypothesis['ice'] = round(hypothesis['impact'] * hypothesis['confidence'] / hypothesis['efforts'], 2)\n",
    "hypothesis[['hypothesis', 'ice']].sort_values(by='ice', ascending=False)"
   ]
  },
  {
   "cell_type": "code",
   "execution_count": 24,
   "metadata": {},
   "outputs": [
    {
     "data": {
      "image/png": "[encoded data removed]",
      "text/plain": [
       "<Figure size 648x360 with 1 Axes>"
      ]
     },
     "metadata": {},
     "output_type": "display_data"
    }
   ],
   "source": [
    "grafic = (hypothesis[['hypothesis', 'ice']]\n",
    "      .set_index('hypothesis')\n",
    "      .sort_values('ice', ascending=True)\n",
    "      .plot(kind='barh', color='g', alpha=0.4)\n",
    "     )\n",
    "grafic.grid(True)\n",
    "grafic.set_xlabel('Приоритет')\n",
    "grafic.set_ylabel(' ')\n",
    "grafic.set_title('Приоритезация гипотез по методу ICE', loc='left')\n",
    "plt.show()"
   ]
  },
  {
   "cell_type": "markdown",
   "metadata": {},
   "source": [
    "В результате анализа по фреймворку ICE  явно выделяются 5 гипотез"
   ]
  },
  {
   "cell_type": "markdown",
   "metadata": {},
   "source": [
    "##### Фреймворк RICE.\n",
    "Добавим к расчету параметр Reach (англ.: Охват)"
   ]
  },
  {
   "cell_type": "code",
   "execution_count": 25,
   "metadata": {},
   "outputs": [
    {
     "data": {
      "text/html": [
       "<div>\n",
       "<style scoped>\n",
       "    .dataframe tbody tr th:only-of-type {\n",
       "        vertical-align: middle;\n",
       "    }\n",
       "\n",
       "    .dataframe tbody tr th {\n",
       "        vertical-align: top;\n",
       "    }\n",
       "\n",
       "    .dataframe thead th {\n",
       "        text-align: right;\n",
       "    }\n",
       "</style>\n",
       "<table border=\"1\" class=\"dataframe\">\n",
       "  <thead>\n",
       "    <tr style=\"text-align: right;\">\n",
       "      <th></th>\n",
       "      <th>hypothesis</th>\n",
       "      <th>rice</th>\n",
       "    </tr>\n",
       "  </thead>\n",
       "  <tbody>\n",
       "    <tr>\n",
       "      <th>7</th>\n",
       "      <td>Добавить форму подписки на все основные страницы, чтобы собрать базу клиентов для email-рассылок</td>\n",
       "      <td>112.0</td>\n",
       "    </tr>\n",
       "    <tr>\n",
       "      <th>2</th>\n",
       "      <td>Добавить блоки рекомендаций товаров на сайт интернет магазина, чтобы повысить конверсию и средний чек заказа</td>\n",
       "      <td>56.0</td>\n",
       "    </tr>\n",
       "    <tr>\n",
       "      <th>0</th>\n",
       "      <td>Добавить два новых канала привлечения трафика, что позволит привлекать на 30% больше пользователей</td>\n",
       "      <td>40.0</td>\n",
       "    </tr>\n",
       "    <tr>\n",
       "      <th>6</th>\n",
       "      <td>Показать на главной странице баннеры с актуальными акциями и распродажами, чтобы увеличить конверсию</td>\n",
       "      <td>40.0</td>\n",
       "    </tr>\n",
       "    <tr>\n",
       "      <th>8</th>\n",
       "      <td>Запустить акцию, дающую скидку на товар в день рождения</td>\n",
       "      <td>16.2</td>\n",
       "    </tr>\n",
       "    <tr>\n",
       "      <th>3</th>\n",
       "      <td>Изменить структура категорий, что увеличит конверсию, т.к. пользователи быстрее найдут нужный товар</td>\n",
       "      <td>9.0</td>\n",
       "    </tr>\n",
       "    <tr>\n",
       "      <th>1</th>\n",
       "      <td>Запустить собственную службу доставки, что сократит срок доставки заказов</td>\n",
       "      <td>4.0</td>\n",
       "    </tr>\n",
       "    <tr>\n",
       "      <th>5</th>\n",
       "      <td>Добавить страницу отзывов клиентов о магазине, что позволит увеличить количество заказов</td>\n",
       "      <td>4.0</td>\n",
       "    </tr>\n",
       "    <tr>\n",
       "      <th>4</th>\n",
       "      <td>Изменить цвет фона главной страницы, чтобы увеличить вовлеченность пользователей</td>\n",
       "      <td>3.0</td>\n",
       "    </tr>\n",
       "  </tbody>\n",
       "</table>\n",
       "</div>"
      ],
      "text/plain": [
       "                                                                                                     hypothesis  \\\n",
       "7              Добавить форму подписки на все основные страницы, чтобы собрать базу клиентов для email-рассылок   \n",
       "2  Добавить блоки рекомендаций товаров на сайт интернет магазина, чтобы повысить конверсию и средний чек заказа   \n",
       "0            Добавить два новых канала привлечения трафика, что позволит привлекать на 30% больше пользователей   \n",
       "6          Показать на главной странице баннеры с актуальными акциями и распродажами, чтобы увеличить конверсию   \n",
       "8                                                       Запустить акцию, дающую скидку на товар в день рождения   \n",
       "3           Изменить структура категорий, что увеличит конверсию, т.к. пользователи быстрее найдут нужный товар   \n",
       "1                                     Запустить собственную службу доставки, что сократит срок доставки заказов   \n",
       "5                      Добавить страницу отзывов клиентов о магазине, что позволит увеличить количество заказов   \n",
       "4                              Изменить цвет фона главной страницы, чтобы увеличить вовлеченность пользователей   \n",
       "\n",
       "    rice  \n",
       "7  112.0  \n",
       "2   56.0  \n",
       "0   40.0  \n",
       "6   40.0  \n",
       "8   16.2  \n",
       "3    9.0  \n",
       "1    4.0  \n",
       "5    4.0  \n",
       "4    3.0  "
      ]
     },
     "execution_count": 25,
     "metadata": {},
     "output_type": "execute_result"
    }
   ],
   "source": [
    "hypothesis['rice'] = hypothesis['reach'] * hypothesis['impact'] * hypothesis['confidence'] / hypothesis['efforts']\n",
    "hypothesis[['hypothesis', 'rice']].sort_values(by='rice', ascending=False)"
   ]
  },
  {
   "cell_type": "code",
   "execution_count": 26,
   "metadata": {},
   "outputs": [
    {
     "data": {
      "image/png": "[encoded data removed]",
      "text/plain": [
       "<Figure size 648x360 with 1 Axes>"
      ]
     },
     "metadata": {},
     "output_type": "display_data"
    }
   ],
   "source": [
    "\n",
    "grafic = (hypothesis[['hypothesis', 'rice']]\n",
    "      .set_index('hypothesis')\n",
    "      .sort_values('rice', ascending=True)\n",
    "      .plot(kind='barh', color='g', alpha=0.4)\n",
    "     )\n",
    "grafic.grid(True)\n",
    "grafic.set_xlabel('Приоритет')\n",
    "grafic.set_ylabel(' ')\n",
    "grafic.set_title('Приоритезация гипотез по методу RICE', loc='left')\n",
    "plt.show()"
   ]
  },
  {
   "cell_type": "markdown",
   "metadata": {},
   "source": [
    "Те же гипотезы, но в другой последовательности"
   ]
  },
  {
   "cell_type": "code",
   "execution_count": 27,
   "metadata": {},
   "outputs": [
    {
     "data": {
      "text/html": [
       "<div>\n",
       "<style scoped>\n",
       "    .dataframe tbody tr th:only-of-type {\n",
       "        vertical-align: middle;\n",
       "    }\n",
       "\n",
       "    .dataframe tbody tr th {\n",
       "        vertical-align: top;\n",
       "    }\n",
       "\n",
       "    .dataframe thead th {\n",
       "        text-align: right;\n",
       "    }\n",
       "</style>\n",
       "<table border=\"1\" class=\"dataframe\">\n",
       "  <thead>\n",
       "    <tr style=\"text-align: right;\">\n",
       "      <th></th>\n",
       "      <th>hypothesis</th>\n",
       "      <th>ice</th>\n",
       "      <th>rice</th>\n",
       "    </tr>\n",
       "  </thead>\n",
       "  <tbody>\n",
       "    <tr>\n",
       "      <th>7</th>\n",
       "      <td>Добавить форму подписки на все основные страницы, чтобы собрать базу клиентов для email-рассылок</td>\n",
       "      <td>11.20</td>\n",
       "      <td>112.0</td>\n",
       "    </tr>\n",
       "    <tr>\n",
       "      <th>2</th>\n",
       "      <td>Добавить блоки рекомендаций товаров на сайт интернет магазина, чтобы повысить конверсию и средний чек заказа</td>\n",
       "      <td>7.00</td>\n",
       "      <td>56.0</td>\n",
       "    </tr>\n",
       "    <tr>\n",
       "      <th>0</th>\n",
       "      <td>Добавить два новых канала привлечения трафика, что позволит привлекать на 30% больше пользователей</td>\n",
       "      <td>13.33</td>\n",
       "      <td>40.0</td>\n",
       "    </tr>\n",
       "    <tr>\n",
       "      <th>6</th>\n",
       "      <td>Показать на главной странице баннеры с актуальными акциями и распродажами, чтобы увеличить конверсию</td>\n",
       "      <td>8.00</td>\n",
       "      <td>40.0</td>\n",
       "    </tr>\n",
       "    <tr>\n",
       "      <th>8</th>\n",
       "      <td>Запустить акцию, дающую скидку на товар в день рождения</td>\n",
       "      <td>16.20</td>\n",
       "      <td>16.2</td>\n",
       "    </tr>\n",
       "  </tbody>\n",
       "</table>\n",
       "</div>"
      ],
      "text/plain": [
       "                                                                                                     hypothesis  \\\n",
       "7              Добавить форму подписки на все основные страницы, чтобы собрать базу клиентов для email-рассылок   \n",
       "2  Добавить блоки рекомендаций товаров на сайт интернет магазина, чтобы повысить конверсию и средний чек заказа   \n",
       "0            Добавить два новых канала привлечения трафика, что позволит привлекать на 30% больше пользователей   \n",
       "6          Показать на главной странице баннеры с актуальными акциями и распродажами, чтобы увеличить конверсию   \n",
       "8                                                       Запустить акцию, дающую скидку на товар в день рождения   \n",
       "\n",
       "     ice   rice  \n",
       "7  11.20  112.0  \n",
       "2   7.00   56.0  \n",
       "0  13.33   40.0  \n",
       "6   8.00   40.0  \n",
       "8  16.20   16.2  "
      ]
     },
     "execution_count": 27,
     "metadata": {},
     "output_type": "execute_result"
    }
   ],
   "source": [
    "hypothesis[['hypothesis','ice', 'rice']].sort_values(by='rice', ascending=False).head()"
   ]
  },
  {
   "cell_type": "markdown",
   "metadata": {},
   "source": [
    "##### Вывод: \n",
    "+ Пять гипотез остаюся лидерами при обоих методах расчета. \n",
    "+ Разница  в рангах связана с тем, что один метод учитывает кол-во пользователей, которых затронут изменения, а другой - нет."
   ]
  },
  {
   "cell_type": "markdown",
   "metadata": {},
   "source": [
    "Приоритизации гипотез:\n",
    "+ \"Запустить акцию, дающую скидку на товар в день рождения\",\n",
    "+ \"Добавить два новых канала привлечения трафика, что позволит привлекать на 30% больше пользователей\",\n",
    "+ \"Добавить форму подписки на все основные страницы, чтобы собрать базу клиентов для email-рассылок\";"
   ]
  },
  {
   "cell_type": "markdown",
   "metadata": {},
   "source": [
    "При необходимости включения параметра \"охват пользователей\":\n",
    "+ \"Добавить форму подписки на все основные страницы, чтобы собрать базу клиентов для email-рассылок\"\n",
    "+ \"Добавить блоки рекомендаций товаров на сайт интернет магазина, чтобы повысить конверсию и средний чек заказа\"\n",
    "+ \"Добавить два новых канала привлечения трафика, что позволит привлекать на 30% больше пользователей\""
   ]
  },
  {
   "cell_type": "markdown",
   "metadata": {},
   "source": [
    "В итоге наиболее правильным считаю выбрать гипотезу - \"Добавить форму подписки на все основные страницы, чтобы собрать базу клиентов для email-рассылок\""
   ]
  },
  {
   "cell_type": "markdown",
   "metadata": {},
   "source": [
    "## Часть. Анализ A/B-теста"
   ]
  },
  {
   "cell_type": "markdown",
   "metadata": {},
   "source": [
    "### Постройте график кумулятивной выручки по группам. Сделайте выводы и предположения."
   ]
  },
  {
   "cell_type": "markdown",
   "metadata": {},
   "source": [
    "Создание агрегированного датафрейма по группам (А или В), для построеня графиков кумулятивной выручки по группам."
   ]
  },
  {
   "cell_type": "code",
   "execution_count": 28,
   "metadata": {},
   "outputs": [],
   "source": [
    "# создаем массив уникальных пар  дат и групп A/B\n",
    "dates_grouped = orders[['date', 'group']].drop_duplicates()"
   ]
  },
  {
   "cell_type": "code",
   "execution_count": 29,
   "metadata": {},
   "outputs": [
    {
     "data": {
      "text/html": [
       "<div>\n",
       "<style scoped>\n",
       "    .dataframe tbody tr th:only-of-type {\n",
       "        vertical-align: middle;\n",
       "    }\n",
       "\n",
       "    .dataframe tbody tr th {\n",
       "        vertical-align: top;\n",
       "    }\n",
       "\n",
       "    .dataframe thead th {\n",
       "        text-align: right;\n",
       "    }\n",
       "</style>\n",
       "<table border=\"1\" class=\"dataframe\">\n",
       "  <thead>\n",
       "    <tr style=\"text-align: right;\">\n",
       "      <th></th>\n",
       "      <th>date</th>\n",
       "      <th>group</th>\n",
       "      <th>transaction_id</th>\n",
       "      <th>visitor_id</th>\n",
       "      <th>revenue</th>\n",
       "    </tr>\n",
       "  </thead>\n",
       "  <tbody>\n",
       "    <tr>\n",
       "      <th>55</th>\n",
       "      <td>2019-08-01</td>\n",
       "      <td>A</td>\n",
       "      <td>24</td>\n",
       "      <td>20</td>\n",
       "      <td>148579</td>\n",
       "    </tr>\n",
       "    <tr>\n",
       "      <th>66</th>\n",
       "      <td>2019-08-01</td>\n",
       "      <td>B</td>\n",
       "      <td>21</td>\n",
       "      <td>20</td>\n",
       "      <td>101217</td>\n",
       "    </tr>\n",
       "    <tr>\n",
       "      <th>175</th>\n",
       "      <td>2019-08-02</td>\n",
       "      <td>A</td>\n",
       "      <td>44</td>\n",
       "      <td>38</td>\n",
       "      <td>242401</td>\n",
       "    </tr>\n",
       "    <tr>\n",
       "      <th>173</th>\n",
       "      <td>2019-08-02</td>\n",
       "      <td>B</td>\n",
       "      <td>45</td>\n",
       "      <td>43</td>\n",
       "      <td>266748</td>\n",
       "    </tr>\n",
       "    <tr>\n",
       "      <th>291</th>\n",
       "      <td>2019-08-03</td>\n",
       "      <td>A</td>\n",
       "      <td>68</td>\n",
       "      <td>62</td>\n",
       "      <td>354874</td>\n",
       "    </tr>\n",
       "    <tr>\n",
       "      <th>...</th>\n",
       "      <td>...</td>\n",
       "      <td>...</td>\n",
       "      <td>...</td>\n",
       "      <td>...</td>\n",
       "      <td>...</td>\n",
       "    </tr>\n",
       "    <tr>\n",
       "      <th>496</th>\n",
       "      <td>2019-08-29</td>\n",
       "      <td>B</td>\n",
       "      <td>596</td>\n",
       "      <td>544</td>\n",
       "      <td>5559398</td>\n",
       "    </tr>\n",
       "    <tr>\n",
       "      <th>730</th>\n",
       "      <td>2019-08-30</td>\n",
       "      <td>A</td>\n",
       "      <td>545</td>\n",
       "      <td>493</td>\n",
       "      <td>4022970</td>\n",
       "    </tr>\n",
       "    <tr>\n",
       "      <th>690</th>\n",
       "      <td>2019-08-30</td>\n",
       "      <td>B</td>\n",
       "      <td>620</td>\n",
       "      <td>567</td>\n",
       "      <td>5774631</td>\n",
       "    </tr>\n",
       "    <tr>\n",
       "      <th>958</th>\n",
       "      <td>2019-08-31</td>\n",
       "      <td>A</td>\n",
       "      <td>557</td>\n",
       "      <td>503</td>\n",
       "      <td>4084803</td>\n",
       "    </tr>\n",
       "    <tr>\n",
       "      <th>930</th>\n",
       "      <td>2019-08-31</td>\n",
       "      <td>B</td>\n",
       "      <td>640</td>\n",
       "      <td>586</td>\n",
       "      <td>5907760</td>\n",
       "    </tr>\n",
       "  </tbody>\n",
       "</table>\n",
       "<p>62 rows × 5 columns</p>\n",
       "</div>"
      ],
      "text/plain": [
       "          date group  transaction_id  visitor_id  revenue\n",
       "55  2019-08-01     A              24          20   148579\n",
       "66  2019-08-01     B              21          20   101217\n",
       "175 2019-08-02     A              44          38   242401\n",
       "173 2019-08-02     B              45          43   266748\n",
       "291 2019-08-03     A              68          62   354874\n",
       "..         ...   ...             ...         ...      ...\n",
       "496 2019-08-29     B             596         544  5559398\n",
       "730 2019-08-30     A             545         493  4022970\n",
       "690 2019-08-30     B             620         567  5774631\n",
       "958 2019-08-31     A             557         503  4084803\n",
       "930 2019-08-31     B             640         586  5907760\n",
       "\n",
       "[62 rows x 5 columns]"
      ]
     },
     "execution_count": 29,
     "metadata": {},
     "output_type": "execute_result"
    }
   ],
   "source": [
    "# Агрегированные кумулятивные  данные о заказах по дням\n",
    "orders_grouped = (dates_grouped.apply(\n",
    "    lambda x: orders[\n",
    "        np.logical_and(orders['date'] <= x['date'], orders['group'] == x['group'])]\n",
    "        .agg({  'date': 'max', \n",
    "              'group': 'max',\n",
    "              'transaction_id': 'nunique',\n",
    "              'visitor_id': 'nunique',\n",
    "              'revenue': 'sum'}),\n",
    "            axis=1)\n",
    "        .sort_values(by=['date', 'group']))\n",
    "orders_grouped"
   ]
  },
  {
   "cell_type": "code",
   "execution_count": 30,
   "metadata": {},
   "outputs": [
    {
     "data": {
      "text/html": [
       "<div>\n",
       "<style scoped>\n",
       "    .dataframe tbody tr th:only-of-type {\n",
       "        vertical-align: middle;\n",
       "    }\n",
       "\n",
       "    .dataframe tbody tr th {\n",
       "        vertical-align: top;\n",
       "    }\n",
       "\n",
       "    .dataframe thead th {\n",
       "        text-align: right;\n",
       "    }\n",
       "</style>\n",
       "<table border=\"1\" class=\"dataframe\">\n",
       "  <thead>\n",
       "    <tr style=\"text-align: right;\">\n",
       "      <th></th>\n",
       "      <th>date</th>\n",
       "      <th>group</th>\n",
       "      <th>visitors</th>\n",
       "    </tr>\n",
       "  </thead>\n",
       "  <tbody>\n",
       "    <tr>\n",
       "      <th>55</th>\n",
       "      <td>2019-08-01</td>\n",
       "      <td>A</td>\n",
       "      <td>719</td>\n",
       "    </tr>\n",
       "    <tr>\n",
       "      <th>66</th>\n",
       "      <td>2019-08-01</td>\n",
       "      <td>B</td>\n",
       "      <td>713</td>\n",
       "    </tr>\n",
       "    <tr>\n",
       "      <th>175</th>\n",
       "      <td>2019-08-02</td>\n",
       "      <td>A</td>\n",
       "      <td>1338</td>\n",
       "    </tr>\n",
       "    <tr>\n",
       "      <th>173</th>\n",
       "      <td>2019-08-02</td>\n",
       "      <td>B</td>\n",
       "      <td>1294</td>\n",
       "    </tr>\n",
       "    <tr>\n",
       "      <th>291</th>\n",
       "      <td>2019-08-03</td>\n",
       "      <td>A</td>\n",
       "      <td>1845</td>\n",
       "    </tr>\n",
       "    <tr>\n",
       "      <th>...</th>\n",
       "      <td>...</td>\n",
       "      <td>...</td>\n",
       "      <td>...</td>\n",
       "    </tr>\n",
       "    <tr>\n",
       "      <th>496</th>\n",
       "      <td>2019-08-29</td>\n",
       "      <td>B</td>\n",
       "      <td>17708</td>\n",
       "    </tr>\n",
       "    <tr>\n",
       "      <th>730</th>\n",
       "      <td>2019-08-30</td>\n",
       "      <td>A</td>\n",
       "      <td>18037</td>\n",
       "    </tr>\n",
       "    <tr>\n",
       "      <th>690</th>\n",
       "      <td>2019-08-30</td>\n",
       "      <td>B</td>\n",
       "      <td>18198</td>\n",
       "    </tr>\n",
       "    <tr>\n",
       "      <th>958</th>\n",
       "      <td>2019-08-31</td>\n",
       "      <td>A</td>\n",
       "      <td>18736</td>\n",
       "    </tr>\n",
       "    <tr>\n",
       "      <th>930</th>\n",
       "      <td>2019-08-31</td>\n",
       "      <td>B</td>\n",
       "      <td>18916</td>\n",
       "    </tr>\n",
       "  </tbody>\n",
       "</table>\n",
       "<p>62 rows × 3 columns</p>\n",
       "</div>"
      ],
      "text/plain": [
       "          date group  visitors\n",
       "55  2019-08-01     A       719\n",
       "66  2019-08-01     B       713\n",
       "175 2019-08-02     A      1338\n",
       "173 2019-08-02     B      1294\n",
       "291 2019-08-03     A      1845\n",
       "..         ...   ...       ...\n",
       "496 2019-08-29     B     17708\n",
       "730 2019-08-30     A     18037\n",
       "690 2019-08-30     B     18198\n",
       "958 2019-08-31     A     18736\n",
       "930 2019-08-31     B     18916\n",
       "\n",
       "[62 rows x 3 columns]"
      ]
     },
     "execution_count": 30,
     "metadata": {},
     "output_type": "execute_result"
    }
   ],
   "source": [
    "# Агрегированные кумулятивные данные о посетителях интернет-магазина по дням\n",
    "\n",
    "visitors_grouped = (dates_grouped.apply(\n",
    "    lambda x: visitors[\n",
    "        np.logical_and(\n",
    "            visitors['date'] <= x['date'], visitors['group'] == x['group'] )]\n",
    "         .agg({'date': 'max', \n",
    "               'group': 'max', \n",
    "               'visitors': 'sum'}),\n",
    "            axis=1)\n",
    "        .sort_values(by=['date', 'group']))\n",
    "\n",
    "visitors_grouped"
   ]
  },
  {
   "cell_type": "code",
   "execution_count": 31,
   "metadata": {},
   "outputs": [],
   "source": [
    "# Таблица объединенных кумулятивных данных.\n",
    "\n",
    "cumulative_data = orders_grouped.merge(\n",
    "    visitors_grouped, \n",
    "    left_on=['date', 'group'], \n",
    "    right_on=['date', 'group']\n",
    ")\n",
    "\n",
    "cumulative_data.columns = ['date', 'group', 'orders', 'buyers', 'revenue', 'visitors']"
   ]
  },
  {
   "cell_type": "code",
   "execution_count": 32,
   "metadata": {},
   "outputs": [
    {
     "data": {
      "text/html": [
       "<div>\n",
       "<style scoped>\n",
       "    .dataframe tbody tr th:only-of-type {\n",
       "        vertical-align: middle;\n",
       "    }\n",
       "\n",
       "    .dataframe tbody tr th {\n",
       "        vertical-align: top;\n",
       "    }\n",
       "\n",
       "    .dataframe thead th {\n",
       "        text-align: right;\n",
       "    }\n",
       "</style>\n",
       "<table border=\"1\" class=\"dataframe\">\n",
       "  <thead>\n",
       "    <tr style=\"text-align: right;\">\n",
       "      <th></th>\n",
       "      <th>date</th>\n",
       "      <th>group</th>\n",
       "      <th>orders</th>\n",
       "      <th>buyers</th>\n",
       "      <th>revenue</th>\n",
       "      <th>visitors</th>\n",
       "      <th>conversion</th>\n",
       "    </tr>\n",
       "  </thead>\n",
       "  <tbody>\n",
       "    <tr>\n",
       "      <th>0</th>\n",
       "      <td>2019-08-01</td>\n",
       "      <td>A</td>\n",
       "      <td>24</td>\n",
       "      <td>20</td>\n",
       "      <td>148579</td>\n",
       "      <td>719</td>\n",
       "      <td>0.033380</td>\n",
       "    </tr>\n",
       "    <tr>\n",
       "      <th>1</th>\n",
       "      <td>2019-08-01</td>\n",
       "      <td>B</td>\n",
       "      <td>21</td>\n",
       "      <td>20</td>\n",
       "      <td>101217</td>\n",
       "      <td>713</td>\n",
       "      <td>0.029453</td>\n",
       "    </tr>\n",
       "    <tr>\n",
       "      <th>2</th>\n",
       "      <td>2019-08-02</td>\n",
       "      <td>A</td>\n",
       "      <td>44</td>\n",
       "      <td>38</td>\n",
       "      <td>242401</td>\n",
       "      <td>1338</td>\n",
       "      <td>0.032885</td>\n",
       "    </tr>\n",
       "    <tr>\n",
       "      <th>3</th>\n",
       "      <td>2019-08-02</td>\n",
       "      <td>B</td>\n",
       "      <td>45</td>\n",
       "      <td>43</td>\n",
       "      <td>266748</td>\n",
       "      <td>1294</td>\n",
       "      <td>0.034776</td>\n",
       "    </tr>\n",
       "    <tr>\n",
       "      <th>4</th>\n",
       "      <td>2019-08-03</td>\n",
       "      <td>A</td>\n",
       "      <td>68</td>\n",
       "      <td>62</td>\n",
       "      <td>354874</td>\n",
       "      <td>1845</td>\n",
       "      <td>0.036856</td>\n",
       "    </tr>\n",
       "    <tr>\n",
       "      <th>...</th>\n",
       "      <td>...</td>\n",
       "      <td>...</td>\n",
       "      <td>...</td>\n",
       "      <td>...</td>\n",
       "      <td>...</td>\n",
       "      <td>...</td>\n",
       "      <td>...</td>\n",
       "    </tr>\n",
       "    <tr>\n",
       "      <th>57</th>\n",
       "      <td>2019-08-29</td>\n",
       "      <td>B</td>\n",
       "      <td>596</td>\n",
       "      <td>544</td>\n",
       "      <td>5559398</td>\n",
       "      <td>17708</td>\n",
       "      <td>0.033657</td>\n",
       "    </tr>\n",
       "    <tr>\n",
       "      <th>58</th>\n",
       "      <td>2019-08-30</td>\n",
       "      <td>A</td>\n",
       "      <td>545</td>\n",
       "      <td>493</td>\n",
       "      <td>4022970</td>\n",
       "      <td>18037</td>\n",
       "      <td>0.030216</td>\n",
       "    </tr>\n",
       "    <tr>\n",
       "      <th>59</th>\n",
       "      <td>2019-08-30</td>\n",
       "      <td>B</td>\n",
       "      <td>620</td>\n",
       "      <td>567</td>\n",
       "      <td>5774631</td>\n",
       "      <td>18198</td>\n",
       "      <td>0.034070</td>\n",
       "    </tr>\n",
       "    <tr>\n",
       "      <th>60</th>\n",
       "      <td>2019-08-31</td>\n",
       "      <td>A</td>\n",
       "      <td>557</td>\n",
       "      <td>503</td>\n",
       "      <td>4084803</td>\n",
       "      <td>18736</td>\n",
       "      <td>0.029729</td>\n",
       "    </tr>\n",
       "    <tr>\n",
       "      <th>61</th>\n",
       "      <td>2019-08-31</td>\n",
       "      <td>B</td>\n",
       "      <td>640</td>\n",
       "      <td>586</td>\n",
       "      <td>5907760</td>\n",
       "      <td>18916</td>\n",
       "      <td>0.033834</td>\n",
       "    </tr>\n",
       "  </tbody>\n",
       "</table>\n",
       "<p>62 rows × 7 columns</p>\n",
       "</div>"
      ],
      "text/plain": [
       "         date group  orders  buyers  revenue  visitors  conversion\n",
       "0  2019-08-01     A      24      20   148579       719    0.033380\n",
       "1  2019-08-01     B      21      20   101217       713    0.029453\n",
       "2  2019-08-02     A      44      38   242401      1338    0.032885\n",
       "3  2019-08-02     B      45      43   266748      1294    0.034776\n",
       "4  2019-08-03     A      68      62   354874      1845    0.036856\n",
       "..        ...   ...     ...     ...      ...       ...         ...\n",
       "57 2019-08-29     B     596     544  5559398     17708    0.033657\n",
       "58 2019-08-30     A     545     493  4022970     18037    0.030216\n",
       "59 2019-08-30     B     620     567  5774631     18198    0.034070\n",
       "60 2019-08-31     A     557     503  4084803     18736    0.029729\n",
       "61 2019-08-31     B     640     586  5907760     18916    0.033834\n",
       "\n",
       "[62 rows x 7 columns]"
      ]
     },
     "execution_count": 32,
     "metadata": {},
     "output_type": "execute_result"
    }
   ],
   "source": [
    "# Дополнительный столбец - конверсия\n",
    "cumulative_data['conversion'] = cumulative_data['orders'] / cumulative_data['visitors']\n",
    "cumulative_data"
   ]
  },
  {
   "cell_type": "code",
   "execution_count": 33,
   "metadata": {},
   "outputs": [
    {
     "data": {
      "text/plain": [
       "(Timestamp('2019-08-01 00:00:00'), Timestamp('2019-08-31 00:00:00'))"
      ]
     },
     "execution_count": 33,
     "metadata": {},
     "output_type": "execute_result"
    }
   ],
   "source": [
    "cumulative_data['date'].min(), cumulative_data['date'].max()"
   ]
  },
  {
   "cell_type": "markdown",
   "metadata": {},
   "source": [
    "Временной период совпадает"
   ]
  },
  {
   "cell_type": "code",
   "execution_count": 34,
   "metadata": {},
   "outputs": [],
   "source": [
    "# Таблица с кумулятивным количеством заказов и кумулятивной выручкой по дням в группе А\n",
    "cumulative_revenue_a = cumulative_data[cumulative_data['group']=='A'][['date','revenue', 'orders']]"
   ]
  },
  {
   "cell_type": "code",
   "execution_count": 35,
   "metadata": {},
   "outputs": [],
   "source": [
    "# Таблица с кумулятивным количеством заказов и кумулятивной выручкой по дням в группе B\n",
    "cumulative_revenue_b = cumulative_data[cumulative_data['group']=='B'][['date','revenue', 'orders']]"
   ]
  },
  {
   "cell_type": "code",
   "execution_count": 36,
   "metadata": {},
   "outputs": [
    {
     "data": {
      "image/png": "[encoded data removed]",
      "text/plain": [
       "<Figure size 648x360 with 1 Axes>"
      ]
     },
     "metadata": {},
     "output_type": "display_data"
    }
   ],
   "source": [
    "# Построение графиков\n",
    "plt.plot(cumulative_revenue_a['date'], cumulative_revenue_a['revenue'], label='A')\n",
    "plt.plot(cumulative_revenue_b['date'], cumulative_revenue_b['revenue'], label='B')\n",
    "plt.title('График динамики кумулятивной выручки по группам А и В')\n",
    "plt.ylabel(\"Выручка, млн.\")\n",
    "plt.xticks(rotation=30)\n",
    "plt.legend()\n",
    "plt.show()"
   ]
  },
  {
   "cell_type": "markdown",
   "metadata": {},
   "source": [
    "##### Вывод:\n",
    "+ Кумулятивная выручка группы А растет линейно\n",
    "+ Кумулятивная выручка группы В имемеет резкий скачок, это может быть связано с увеличением заказов, либо с появлением анамально очень дорогих заказов в выборке(выбросы)\n",
    "+ В целом графики близки, если не учитывать скачок 18 августа, оказавший сильное влияние.\n",
    "+ Необходимо дополнительное исследование данных"
   ]
  },
  {
   "cell_type": "markdown",
   "metadata": {},
   "source": [
    "### Постройте график кумулятивного среднего чека по группам. Сделайте выводы и предположения."
   ]
  },
  {
   "cell_type": "code",
   "execution_count": 37,
   "metadata": {},
   "outputs": [
    {
     "data": {
      "image/png": "[encoded data removed]",
      "text/plain": [
       "<Figure size 648x360 with 1 Axes>"
      ]
     },
     "metadata": {},
     "output_type": "display_data"
    }
   ],
   "source": [
    "plt.plot(cumulative_revenue_a['date'], \n",
    "         cumulative_revenue_a['revenue'] / cumulative_revenue_a['orders'], label='A')\n",
    "\n",
    "plt.plot(cumulative_revenue_b['date'], \n",
    "         cumulative_revenue_b['revenue'] / cumulative_revenue_b['orders'], label='B')\n",
    "\n",
    "plt.title('График динамики кумулятивного среднего чека по группам А и В')\n",
    "plt.ylabel(\"Выручка, млн.\")\n",
    "plt.xticks(rotation=30)\n",
    "plt.legend()\n",
    "plt.show()"
   ]
  },
  {
   "cell_type": "markdown",
   "metadata": {},
   "source": [
    "##### Вывод:\n",
    "+ Средний кумулятивный чек в группе А во второй половине периода стабилизировался\n",
    "+ Средний кумулятивный чек в группе В сделал резкий скачок, а затем начал снижение. Что можно идентифицировать как выброс (случайный элемент в данных)"
   ]
  },
  {
   "cell_type": "markdown",
   "metadata": {},
   "source": [
    "### Постройте график относительного изменения кумулятивного среднего чека группы B к группе A. Сделайте выводы и предположения."
   ]
  },
  {
   "cell_type": "markdown",
   "metadata": {},
   "source": [
    "График относительного изменения кумулятивного среднего чека группы B к группе A."
   ]
  },
  {
   "cell_type": "code",
   "execution_count": 38,
   "metadata": {},
   "outputs": [],
   "source": [
    "# Создание таблицы данных\n",
    "cumulative_revenue_ab = cumulative_revenue_a.merge(\n",
    "    cumulative_revenue_b, \n",
    "    left_on='date', \n",
    "    right_on='date', \n",
    "    how='left', \n",
    "    suffixes=['_a', '_b'])"
   ]
  },
  {
   "cell_type": "code",
   "execution_count": 39,
   "metadata": {},
   "outputs": [
    {
     "data": {
      "image/png": "[encoded data removed]",
      "text/plain": [
       "<Figure size 648x360 with 1 Axes>"
      ]
     },
     "metadata": {},
     "output_type": "display_data"
    }
   ],
   "source": [
    "# График отношения средних чеков\n",
    "plt.plot(cumulative_revenue_ab['date'], \n",
    "         (cumulative_revenue_ab['revenue_b']/cumulative_revenue_ab['orders_b'])/\n",
    "         (cumulative_revenue_ab['revenue_a']/cumulative_revenue_ab['orders_a'])-1)\n",
    "plt.axhline(y=0, color='black', linestyle='--')\n",
    "plt.title('Изменения кумулятивного среднего чека группы B к группе A')\n",
    "plt.xticks(rotation=45)\n",
    "plt.show()"
   ]
  },
  {
   "cell_type": "markdown",
   "metadata": {},
   "source": [
    "##### Вывод:\n",
    "+ График в нескольких точках резко скачет\n",
    "+ Это говорит о присутвии не типичных элементов(Или  существующие выбросы или технический сбой при подготовке данных)\n",
    "+ Несмотря на то что график показывает преимущество группы В, вывод делать еще рано, возможно это икажение выбросами"
   ]
  },
  {
   "cell_type": "markdown",
   "metadata": {},
   "source": [
    "### Постройте график кумулятивного среднего количества заказов на посетителя по группам. Сделайте выводы и предположения."
   ]
  },
  {
   "cell_type": "markdown",
   "metadata": {},
   "source": [
    "Подготовка данных"
   ]
  },
  {
   "cell_type": "code",
   "execution_count": 40,
   "metadata": {},
   "outputs": [],
   "source": [
    "# Данные по группе A\n",
    "cumulative_data_a = cumulative_data[cumulative_data['group']=='A']"
   ]
  },
  {
   "cell_type": "code",
   "execution_count": 41,
   "metadata": {},
   "outputs": [],
   "source": [
    "# Данные по группе B\n",
    "cumulative_data_b = cumulative_data[cumulative_data['group']=='B']"
   ]
  },
  {
   "cell_type": "code",
   "execution_count": 42,
   "metadata": {},
   "outputs": [
    {
     "data": {
      "image/png": "[encoded data removed]",
      "text/plain": [
       "<Figure size 648x360 with 1 Axes>"
      ]
     },
     "metadata": {},
     "output_type": "display_data"
    }
   ],
   "source": [
    "# График кумулятивного среднего количества заказов на посетителя по группам.\n",
    "plt.plot(cumulative_data_a['date'], cumulative_data_a['conversion'], label='A')\n",
    "plt.plot(cumulative_data_b['date'], cumulative_data_b['conversion'], label='B')\n",
    "plt.legend()\n",
    "plt.title('Кумулятивная конверсия по группам')\n",
    "plt.xlabel(' ')\n",
    "plt.ylabel('Конверсия')\n",
    "plt.xticks(rotation=30)\n",
    "plt.show()"
   ]
  },
  {
   "cell_type": "markdown",
   "metadata": {},
   "source": [
    "##### Вывод:\n",
    "+ В начале периода были сильные колебания\n",
    "+ Далее графики стабилизировались\n",
    "+ Данные по группе В выглядят привлекательнее"
   ]
  },
  {
   "cell_type": "markdown",
   "metadata": {},
   "source": [
    "### Постройте график относительного изменения кумулятивного среднего количества заказов на посетителя группы B к группе A. Сделайте выводы и предположения"
   ]
  },
  {
   "cell_type": "markdown",
   "metadata": {},
   "source": [
    "Подготовка данных"
   ]
  },
  {
   "cell_type": "code",
   "execution_count": 43,
   "metadata": {},
   "outputs": [],
   "source": [
    "cumulative_conversions_ab = (\n",
    "    cumulative_data_a[['date','conversion']]\n",
    "    .merge(\n",
    "        cumulative_data_b[['date','conversion']], \n",
    "        left_on='date', \n",
    "        right_on='date', \n",
    "        how='left', \n",
    "        suffixes=['_a', '_b']))"
   ]
  },
  {
   "cell_type": "code",
   "execution_count": 44,
   "metadata": {},
   "outputs": [
    {
     "data": {
      "image/png": "[encoded data removed]",
      "text/plain": [
       "<Figure size 648x360 with 1 Axes>"
      ]
     },
     "metadata": {},
     "output_type": "display_data"
    }
   ],
   "source": [
    "# График относительного изменения кумулятивного среднего количества \n",
    "# заказов на посетителя группы B к группе A\n",
    "plt.plot(\n",
    "    cumulative_conversions_ab['date'], \n",
    "    cumulative_conversions_ab['conversion_b']/\n",
    "    cumulative_conversions_ab['conversion_a']-1\n",
    ")\n",
    "\n",
    "# добавляем ось X\n",
    "plt.axhline(y=0, color='black', linestyle='--')\n",
    "plt.axhline(y=0.15, color='grey', linestyle='--')\n",
    "plt.title('Относительный прирост конверсии группы B относительно группы A')\n",
    "plt.xticks(rotation=45)\n",
    "plt.show()"
   ]
  },
  {
   "cell_type": "markdown",
   "metadata": {},
   "source": [
    "##### Вывод:\n",
    "+ В начале периода группа В проигрывала группе А\n",
    "+ Затем резкий взлет\n",
    "+ Затем снова спуск\n",
    "+ Поведение этого грфика коррелирует с данными получеными ране по другим метрикам (предположение о выбросе)\n",
    "+ Данные необходимо проанализировать еще раз после чистки от выбросов "
   ]
  },
  {
   "cell_type": "markdown",
   "metadata": {},
   "source": [
    "### Постройте точечный график количества заказов по пользователям. Сделайте выводы и предположения."
   ]
  },
  {
   "cell_type": "markdown",
   "metadata": {},
   "source": [
    "Пользователи, совершившие много заказов влияют на числитель формулы конверсии (отношение количества заказов к количеству поситителей интернет-магазина за время теста).\n",
    "\"Обычный\" пользователь редко совершает более одного-двух заказов в короткий срок (если только речь не идет о сайтах с регулярным спросом (например, продуктовый интернет-магазин)). Посмотрим, что с количеством заказов происходит с участниками нашего тестирования."
   ]
  },
  {
   "cell_type": "code",
   "execution_count": 45,
   "metadata": {},
   "outputs": [
    {
     "data": {
      "text/plain": [
       "count    1031.000000\n",
       "mean        1.161009\n",
       "std         0.724919\n",
       "min         1.000000\n",
       "25%         1.000000\n",
       "50%         1.000000\n",
       "75%         1.000000\n",
       "max        11.000000\n",
       "Name: orders, dtype: float64"
      ]
     },
     "execution_count": 45,
     "metadata": {},
     "output_type": "execute_result"
    }
   ],
   "source": [
    "# Проверка описательных статистик\n",
    "orders_by_users = (\n",
    "    orders.groupby('visitor_id', as_index=False)\n",
    "    .agg({'transaction_id': 'nunique'}))\n",
    "orders_by_users.columns =  ['visitor_id', 'orders']\n",
    "orders_by_users['orders'].describe()"
   ]
  },
  {
   "cell_type": "code",
   "execution_count": 46,
   "metadata": {},
   "outputs": [
    {
     "data": {
      "image/png": "[encoded data removed]",
      "text/plain": [
       "<Figure size 648x360 with 1 Axes>"
      ]
     },
     "metadata": {},
     "output_type": "display_data"
    }
   ],
   "source": [
    "# Точечный график количества заказов по пользователям\n",
    "x_values = pd.Series(range(0,len(orders_by_users)))\n",
    "plt.scatter(x_values, orders_by_users['orders'], color='green', alpha=0.5)\n",
    "plt.title('Распределение количества заказов по пользователям')\n",
    "plt.show()"
   ]
  },
  {
   "cell_type": "markdown",
   "metadata": {},
   "source": [
    "##### Вывод:\n",
    "+ Большинство пользователей оформляли заказ один раз\n",
    "+ Много пользователей с 2-3 заказами.\n",
    "+ Есть те, кто успел сделать за месяц одиннадцать заказов\n",
    "+ Необходимо посчитать долю клиентов по кол-ву заказов, чтобы определить границу выбросов"
   ]
  },
  {
   "cell_type": "markdown",
   "metadata": {},
   "source": [
    "### Посчитайте 95-й и 99-й перцентили количества заказов на пользователя. Выберите границу для определения аномальных пользователей."
   ]
  },
  {
   "cell_type": "code",
   "execution_count": 47,
   "metadata": {},
   "outputs": [
    {
     "data": {
      "text/plain": [
       "array([2., 4.])"
      ]
     },
     "execution_count": 47,
     "metadata": {},
     "output_type": "execute_result"
    }
   ],
   "source": [
    "\n",
    "np.percentile(orders_by_users['orders'], [95, 99])"
   ]
  },
  {
   "cell_type": "markdown",
   "metadata": {},
   "source": [
    "##### Вывод:\n",
    "+ Не более 5% пользователей совершали больше 2-х покупок в течение тестирования.\n",
    "+ Только 1% - четыре и более.\n",
    "+ Выберем границу для определения аномальных пользователей 4 заказа"
   ]
  },
  {
   "cell_type": "markdown",
   "metadata": {},
   "source": [
    "### Постройте точечный график стоимостей заказов. Сделайте выводы и предположения."
   ]
  },
  {
   "cell_type": "code",
   "execution_count": 48,
   "metadata": {},
   "outputs": [
    {
     "data": {
      "text/plain": [
       "count    1.197000e+03\n",
       "mean     8.348006e+03\n",
       "std      3.919113e+04\n",
       "min      5.000000e+01\n",
       "25%      1.220000e+03\n",
       "50%      2.978000e+03\n",
       "75%      8.290000e+03\n",
       "max      1.294500e+06\n",
       "Name: revenue, dtype: float64"
      ]
     },
     "execution_count": 48,
     "metadata": {},
     "output_type": "execute_result"
    }
   ],
   "source": [
    "# Проверка описательных статистик\n",
    "orders['revenue'].describe()"
   ]
  },
  {
   "cell_type": "code",
   "execution_count": 49,
   "metadata": {},
   "outputs": [
    {
     "data": {
      "image/png": "[encoded data removed]",
      "text/plain": [
       "<Figure size 648x360 with 1 Axes>"
      ]
     },
     "metadata": {},
     "output_type": "display_data"
    }
   ],
   "source": [
    "# Точечный график стоимостей заказов\n",
    "x_values = pd.Series(range(0,len(orders['revenue'])))\n",
    "plt.scatter(x_values, orders['revenue'], color='green', alpha=0.5)\n",
    "plt.title('Распределение стоимости заказов по пользователям')\n",
    "plt.show()"
   ]
  },
  {
   "cell_type": "markdown",
   "metadata": {},
   "source": [
    "##### Вывод: \n",
    "Вот тот не типичный заказ , который вызвал всплеск на графиках кумулятивных метрик, а так же другие весомые заказы, которые могут повлиять на результат исследований."
   ]
  },
  {
   "cell_type": "code",
   "execution_count": 50,
   "metadata": {},
   "outputs": [
    {
     "data": {
      "image/png": "[encoded data removed]",
      "text/plain": [
       "<Figure size 648x360 with 1 Axes>"
      ]
     },
     "metadata": {},
     "output_type": "display_data"
    }
   ],
   "source": [
    "# Точечнуая диаграмма без двух крупных выбросов\n",
    "plt.ylim(0, 150000)\n",
    "plt.scatter(x_values, orders['revenue'], color='green', alpha=0.5)\n",
    "plt.title('Распределение стоимости заказов по пользователям')\n",
    "plt.show()"
   ]
  },
  {
   "cell_type": "markdown",
   "metadata": {},
   "source": [
    "##### Вывод: \n",
    "+ Основная масса заказов не привышает 20000."
   ]
  },
  {
   "cell_type": "markdown",
   "metadata": {},
   "source": [
    "### Посчитайте 95-й и 99-й перцентили стоимости заказов. Выберите границу для определения аномальных заказов."
   ]
  },
  {
   "cell_type": "code",
   "execution_count": 51,
   "metadata": {},
   "outputs": [
    {
     "name": "stdout",
     "output_type": "stream",
     "text": [
      "[28000.  58233.2]\n"
     ]
    }
   ],
   "source": [
    "print(np.percentile(orders['revenue'], [95, 99])) "
   ]
  },
  {
   "cell_type": "markdown",
   "metadata": {},
   "source": [
    "##### Вывод: \n",
    "Определяем границу по величине 99% перцентиля (58233)"
   ]
  },
  {
   "cell_type": "markdown",
   "metadata": {},
   "source": [
    "### Посчитайте статистическую значимость различий в среднем количестве заказов на посетителя между группами по «сырым» данным. Сделайте выводы и предположения"
   ]
  },
  {
   "cell_type": "markdown",
   "metadata": {},
   "source": [
    "Определим основную и альтернативные гипотезы:\n",
    "+ Н0 : различий в конверси имежду группами нет\n",
    "+ Н1 : различия в конверси имежду группами есть"
   ]
  },
  {
   "cell_type": "markdown",
   "metadata": {},
   "source": [
    "Уровень значимости: alpha = 0.05"
   ]
  },
  {
   "cell_type": "markdown",
   "metadata": {},
   "source": [
    "Так как данные о продажах и средних чеках редко бывают нормально распределены, для проверки гипотез будем использовать непараметрический тест Уилкоксона-Манна-Уитни."
   ]
  },
  {
   "cell_type": "code",
   "execution_count": 52,
   "metadata": {},
   "outputs": [
    {
     "data": {
      "text/html": [
       "<div>\n",
       "<style scoped>\n",
       "    .dataframe tbody tr th:only-of-type {\n",
       "        vertical-align: middle;\n",
       "    }\n",
       "\n",
       "    .dataframe tbody tr th {\n",
       "        vertical-align: top;\n",
       "    }\n",
       "\n",
       "    .dataframe thead th {\n",
       "        text-align: right;\n",
       "    }\n",
       "</style>\n",
       "<table border=\"1\" class=\"dataframe\">\n",
       "  <thead>\n",
       "    <tr style=\"text-align: right;\">\n",
       "      <th></th>\n",
       "      <th>date</th>\n",
       "      <th>orders_daily_a</th>\n",
       "      <th>revenue_per_date_a</th>\n",
       "      <th>orders_daily_b</th>\n",
       "      <th>revenue_per_date_b</th>\n",
       "      <th>orders_cummulative_a</th>\n",
       "      <th>revenue_cummulative_a</th>\n",
       "      <th>orders_cummulative_b</th>\n",
       "      <th>revenue_cummulative_b</th>\n",
       "      <th>visitors_per_date_a</th>\n",
       "      <th>visitors_per_date_b</th>\n",
       "      <th>visitors_cummulative_a</th>\n",
       "      <th>visitors_cummulative_b</th>\n",
       "    </tr>\n",
       "  </thead>\n",
       "  <tbody>\n",
       "    <tr>\n",
       "      <th>0</th>\n",
       "      <td>2019-08-01</td>\n",
       "      <td>24</td>\n",
       "      <td>148579</td>\n",
       "      <td>21</td>\n",
       "      <td>101217</td>\n",
       "      <td>24</td>\n",
       "      <td>148579</td>\n",
       "      <td>21</td>\n",
       "      <td>101217</td>\n",
       "      <td>719</td>\n",
       "      <td>713</td>\n",
       "      <td>719</td>\n",
       "      <td>713</td>\n",
       "    </tr>\n",
       "    <tr>\n",
       "      <th>1</th>\n",
       "      <td>2019-08-02</td>\n",
       "      <td>20</td>\n",
       "      <td>93822</td>\n",
       "      <td>24</td>\n",
       "      <td>165531</td>\n",
       "      <td>44</td>\n",
       "      <td>242401</td>\n",
       "      <td>45</td>\n",
       "      <td>266748</td>\n",
       "      <td>619</td>\n",
       "      <td>581</td>\n",
       "      <td>1338</td>\n",
       "      <td>1294</td>\n",
       "    </tr>\n",
       "    <tr>\n",
       "      <th>2</th>\n",
       "      <td>2019-08-03</td>\n",
       "      <td>24</td>\n",
       "      <td>112473</td>\n",
       "      <td>16</td>\n",
       "      <td>114248</td>\n",
       "      <td>68</td>\n",
       "      <td>354874</td>\n",
       "      <td>61</td>\n",
       "      <td>380996</td>\n",
       "      <td>507</td>\n",
       "      <td>509</td>\n",
       "      <td>1845</td>\n",
       "      <td>1803</td>\n",
       "    </tr>\n",
       "    <tr>\n",
       "      <th>3</th>\n",
       "      <td>2019-08-04</td>\n",
       "      <td>16</td>\n",
       "      <td>70825</td>\n",
       "      <td>17</td>\n",
       "      <td>108571</td>\n",
       "      <td>84</td>\n",
       "      <td>425699</td>\n",
       "      <td>78</td>\n",
       "      <td>489567</td>\n",
       "      <td>717</td>\n",
       "      <td>770</td>\n",
       "      <td>2562</td>\n",
       "      <td>2573</td>\n",
       "    </tr>\n",
       "    <tr>\n",
       "      <th>4</th>\n",
       "      <td>2019-08-05</td>\n",
       "      <td>25</td>\n",
       "      <td>124218</td>\n",
       "      <td>23</td>\n",
       "      <td>92428</td>\n",
       "      <td>109</td>\n",
       "      <td>549917</td>\n",
       "      <td>101</td>\n",
       "      <td>581995</td>\n",
       "      <td>756</td>\n",
       "      <td>707</td>\n",
       "      <td>3318</td>\n",
       "      <td>3280</td>\n",
       "    </tr>\n",
       "  </tbody>\n",
       "</table>\n",
       "</div>"
      ],
      "text/plain": [
       "        date  orders_daily_a  revenue_per_date_a  orders_daily_b  \\\n",
       "0 2019-08-01              24              148579              21   \n",
       "1 2019-08-02              20               93822              24   \n",
       "2 2019-08-03              24              112473              16   \n",
       "3 2019-08-04              16               70825              17   \n",
       "4 2019-08-05              25              124218              23   \n",
       "\n",
       "   revenue_per_date_b  orders_cummulative_a  revenue_cummulative_a  \\\n",
       "0              101217                    24                 148579   \n",
       "1              165531                    44                 242401   \n",
       "2              114248                    68                 354874   \n",
       "3              108571                    84                 425699   \n",
       "4               92428                   109                 549917   \n",
       "\n",
       "   orders_cummulative_b  revenue_cummulative_b  visitors_per_date_a  \\\n",
       "0                    21                 101217                  719   \n",
       "1                    45                 266748                  619   \n",
       "2                    61                 380996                  507   \n",
       "3                    78                 489567                  717   \n",
       "4                   101                 581995                  756   \n",
       "\n",
       "   visitors_per_date_b  visitors_cummulative_a  visitors_cummulative_b  \n",
       "0                  713                     719                     713  \n",
       "1                  581                    1338                    1294  \n",
       "2                  509                    1845                    1803  \n",
       "3                  770                    2562                    2573  \n",
       "4                  707                    3318                    3280  "
      ]
     },
     "execution_count": 52,
     "metadata": {},
     "output_type": "execute_result"
    }
   ],
   "source": [
    "visitors_daily_a = visitors[visitors['group'] == 'A'][['date', 'visitors']]\n",
    "visitors_daily_a.columns = ['date', 'visitors_per_date_a']\n",
    "\n",
    "visitors_cummulative_a = visitors_daily_a.apply(\n",
    "    lambda x: visitors_daily_a[visitors_daily_a['date'] <= x['date']].agg(\n",
    "        {'date': 'max', 'visitors_per_date_a': 'sum'}\n",
    "    ),\n",
    "    axis=1,\n",
    ")\n",
    "visitors_cummulative_a.columns = ['date', 'visitors_cummulative_a']\n",
    "\n",
    "visitors_daily_b = visitors[visitors['group'] == 'B'][['date', 'visitors']]\n",
    "visitors_daily_b.columns = ['date', 'visitors_per_date_b']\n",
    "\n",
    "visitors_cummulative_b = visitors_daily_b.apply(\n",
    "    lambda x: visitors_daily_b[visitors_daily_b['date'] <= x['date']].agg(\n",
    "        {'date': 'max', 'visitors_per_date_b': 'sum'}\n",
    "    ),\n",
    "    axis=1,\n",
    ")\n",
    "visitors_cummulative_b.columns = ['date', 'visitors_cummulative_b']\n",
    "\n",
    "orders_daily_a = (\n",
    "    orders[orders['group'] == 'A'][['date', 'transaction_id', 'visitor_id', 'revenue']]\n",
    "    .groupby('date', as_index=False)\n",
    "    .agg({'transaction_id': pd.Series.nunique, 'revenue': 'sum'})\n",
    ")\n",
    "orders_daily_a.columns = ['date', 'orders_daily_a', 'revenue_per_date_a']\n",
    "\n",
    "orders_cummulative_a = orders_daily_a.apply(\n",
    "    lambda x: orders_daily_a[orders_daily_a['date'] <= x['date']].agg(\n",
    "        {'date': 'max', 'orders_daily_a': 'sum', 'revenue_per_date_a': 'sum'}\n",
    "    ),\n",
    "    axis=1,\n",
    ").sort_values(by=['date'])\n",
    "\n",
    "orders_cummulative_a.columns = ['date','orders_cummulative_a','revenue_cummulative_a']\n",
    "\n",
    "orders_daily_b = (\n",
    "    orders[orders['group'] == 'B'][['date', 'transaction_id', 'visitor_id', 'revenue']]\n",
    "    .groupby('date', as_index=False)\n",
    "    .agg({'transaction_id': pd.Series.nunique, 'revenue': 'sum'})\n",
    ")\n",
    "orders_daily_b.columns = ['date', 'orders_daily_b', 'revenue_per_date_b']\n",
    "\n",
    "orders_cummulative_b = orders_daily_b.apply(\n",
    "    lambda x: orders_daily_b[orders_daily_b['date'] <= x['date']].agg(\n",
    "        {'date': 'max', 'orders_daily_b': 'sum', 'revenue_per_date_b': 'sum'}\n",
    "    ),\n",
    "    axis=1,\n",
    ").sort_values(by=['date'])\n",
    "\n",
    "orders_cummulative_b.columns = ['date','orders_cummulative_b','revenue_cummulative_b']\n",
    "\n",
    "\n",
    "df = (\n",
    "    orders_daily_a.merge(\n",
    "        orders_daily_b, left_on='date', right_on='date', how='left'\n",
    "    )\n",
    "    .merge(orders_cummulative_a, left_on='date', right_on='date', how='left')\n",
    "    .merge(orders_cummulative_b, left_on='date', right_on='date', how='left')\n",
    "    .merge(visitors_daily_a, left_on='date', right_on='date', how='left')\n",
    "    .merge(visitors_daily_b, left_on='date', right_on='date', how='left')\n",
    "    .merge(visitors_cummulative_a, left_on='date', right_on='date', how='left')\n",
    "    .merge(visitors_cummulative_b, left_on='date', right_on='date', how='left')\n",
    ")\n",
    "df.head()"
   ]
  },
  {
   "cell_type": "markdown",
   "metadata": {},
   "source": [
    "В переменных orders_by_users_a и orders_by_users_a для пользователей, которые заказывали хотя бы 1 раз, укажем число совершённых заказов."
   ]
  },
  {
   "cell_type": "code",
   "execution_count": 53,
   "metadata": {},
   "outputs": [],
   "source": [
    "orders_by_users_a = (\n",
    "    orders[orders['group'] == 'A']\n",
    "    .groupby('visitor_id', as_index=False)\n",
    "    .agg({'transaction_id': pd.Series.nunique})\n",
    ")\n",
    "orders_by_users_a.columns = ['visitor_id', 'orders']\n",
    "\n",
    "orders_by_users_b = (\n",
    "    orders[orders['group'] == 'B']\n",
    "    .groupby('visitor_id', as_index=False)\n",
    "    .agg({'transaction_id': pd.Series.nunique})\n",
    ")\n",
    "orders_by_users_b.columns = ['visitor_id', 'orders']"
   ]
  },
  {
   "cell_type": "markdown",
   "metadata": {},
   "source": [
    "Объявим переменные sample_a и sample_b количество заказов для пользователей из разных групп.\n",
    "Тем кто ничего не заказал, будут соответствовать нули."
   ]
  },
  {
   "cell_type": "code",
   "execution_count": 54,
   "metadata": {},
   "outputs": [],
   "source": [
    "sample_a = pd.concat([orders_by_users_a['orders'],\n",
    "                      pd.Series( 0, index=np.arange(df['visitors_per_date_a'].sum() - \n",
    "                                          len(orders_by_users_a['orders'])), \n",
    "                          name='orders')],axis=0)\n",
    "\n",
    "sample_b = pd.concat([orders_by_users_b['orders'],\n",
    "                      pd.Series(0, index=np.arange(df['visitors_per_date_b'].sum() - \n",
    "                                          len(orders_by_users_b['orders'])), \n",
    "                          name='orders')],axis=0)"
   ]
  },
  {
   "cell_type": "markdown",
   "metadata": {},
   "source": [
    "Решение с помощью критерия Манна-Уитни :"
   ]
  },
  {
   "cell_type": "code",
   "execution_count": 55,
   "metadata": {},
   "outputs": [],
   "source": [
    "# Функция для проверки гипотезы о равенстве групп  A и  B\n",
    "def stat_significance(a, b):\n",
    "    alpha = 0.05\n",
    "    p_value = stats.mannwhitneyu(a, b)[1]\n",
    "    print(\"P-value: {0:.3f}\".format(p_value))\n",
    "\n",
    "    if (p_value < alpha):\n",
    "        print(\"Отвергаем нулевую гипотезу: между группами есть разница\")\n",
    "    else:\n",
    "        print(\"Не получилось отвергнуть нулевую гипотезу, нет оснований считать группы разными\")\n",
    "    \n",
    "    print(\"Относительный прирост В к А: {0:.3%}\".format(b.mean() / a.mean()-1))"
   ]
  },
  {
   "cell_type": "code",
   "execution_count": 56,
   "metadata": {},
   "outputs": [
    {
     "name": "stdout",
     "output_type": "stream",
     "text": [
      "P-value: 0.017\n",
      "Отвергаем нулевую гипотезу: между группами есть разница\n",
      "Относительный прирост В к А: 13.808%\n"
     ]
    }
   ],
   "source": [
    "stat_significance(sample_a, sample_b)"
   ]
  },
  {
   "cell_type": "markdown",
   "metadata": {},
   "source": [
    "##### Вывод:\n",
    "+ По неочищенным данным различия в конверсии между группами есть\n",
    "+ P-value = 0.017 меньше 0.05. Значит, "
   ]
  },
  {
   "cell_type": "markdown",
   "metadata": {},
   "source": [
    "### Посчитайте статистическую значимость различий в среднем чеке заказа между группами по «сырым» данным. Сделайте выводы и предположения."
   ]
  },
  {
   "cell_type": "markdown",
   "metadata": {},
   "source": [
    "Определим основную и альтернативные гипотезы:\n",
    "+ Н0 : Различий в среднем чеке между группами нет\n",
    "+ Н1 : Различия в среднем чеке между группами есть    "
   ]
  },
  {
   "cell_type": "markdown",
   "metadata": {},
   "source": [
    "Уровень значимости: alpha = 0.05"
   ]
  },
  {
   "cell_type": "markdown",
   "metadata": {},
   "source": [
    "Передадим критерию mannwhitneyu() данные о выручке с заказов"
   ]
  },
  {
   "cell_type": "code",
   "execution_count": 57,
   "metadata": {},
   "outputs": [
    {
     "name": "stdout",
     "output_type": "stream",
     "text": [
      "P-value: 0.729\n",
      "Не получилось отвергнуть нулевую гипотезу, нет оснований считать группы разными\n",
      "Относительный прирост В к А: 25.871%\n"
     ]
    }
   ],
   "source": [
    "stat_significance(orders[orders['group']=='A']['revenue'], orders[orders['group']=='B']['revenue'])"
   ]
  },
  {
   "cell_type": "markdown",
   "metadata": {},
   "source": [
    "##### Вывод:\n",
    "+ P-value значительно больше 0.05.\n",
    "+ Отвергать нулевую гипотезу и считать, что в среднем чеке есть различия, нет оснований"
   ]
  },
  {
   "cell_type": "markdown",
   "metadata": {},
   "source": [
    "### Посчитайте статистическую значимость различий в среднем количестве заказов на посетителя между группами по «очищенным» данным. Сделайте выводы и предположения."
   ]
  },
  {
   "cell_type": "markdown",
   "metadata": {},
   "source": [
    "Определение границ анамальных значений (по ранее произведеным рассчетам) :\n",
    "+ Аномальные пользователи тех, кто совершил от 5 заказов или совершил заказ дороже 58233.\n",
    "+ Это не более 1 % пользователей\n",
    "+ Скоректируем  users_with_many_orders (кол-во заказов)\n",
    "+ Скоректируем users_with_expensive_orders (сумма заказа)\n",
    "+ Кол-во всего аномальных пользователей рассчитаем методом shape()"
   ]
  },
  {
   "cell_type": "code",
   "execution_count": 58,
   "metadata": {},
   "outputs": [],
   "source": [
    "many_orders = np.percentile(orders_by_users['orders'], 99)\n",
    "expensive_orders = np.percentile(orders['revenue'], 99)"
   ]
  },
  {
   "cell_type": "code",
   "execution_count": 59,
   "metadata": {},
   "outputs": [
    {
     "data": {
      "text/plain": [
       "15"
      ]
     },
     "execution_count": 59,
     "metadata": {},
     "output_type": "execute_result"
    }
   ],
   "source": [
    "users_with_many_orders = pd.concat(\n",
    "    [orders_by_users_a[orders_by_users_a['orders'] > many_orders]['visitor_id'],\n",
    "        orders_by_users_b[orders_by_users_b['orders'] > many_orders]['visitor_id']],\n",
    "    axis=0,)\n",
    "\n",
    "users_with_expensive_orders = orders[orders['revenue'] > expensive_orders]['visitor_id']\n",
    "abnormal_users = (\n",
    "    pd.concat([users_with_many_orders, users_with_expensive_orders], axis=0)\n",
    "    .drop_duplicates()\n",
    "    .sort_values())\n",
    "abnormal_users.shape[0]"
   ]
  },
  {
   "cell_type": "code",
   "execution_count": 60,
   "metadata": {},
   "outputs": [
    {
     "data": {
      "text/plain": [
       "1099     148427295\n",
       "949      887908475\n",
       "744      888512513\n",
       "1103    1164614297\n",
       "1136    1307669133\n",
       "Name: visitor_id, dtype: int64"
      ]
     },
     "execution_count": 60,
     "metadata": {},
     "output_type": "execute_result"
    }
   ],
   "source": [
    "abnormal_users.head(5)"
   ]
  },
  {
   "cell_type": "markdown",
   "metadata": {},
   "source": [
    "Всего 15 аномальных пользователей."
   ]
  },
  {
   "cell_type": "markdown",
   "metadata": {},
   "source": [
    "Статистическая значимость различий в конверсии между группами теста по очищенным данным."
   ]
  },
  {
   "cell_type": "markdown",
   "metadata": {},
   "source": [
    "Выборки количества заказов по пользователям по группам теста:"
   ]
  },
  {
   "cell_type": "code",
   "execution_count": 61,
   "metadata": {},
   "outputs": [],
   "source": [
    "sample_a_filtered = pd.concat(\n",
    "    [ orders_by_users_a[\n",
    "            np.logical_not(orders_by_users_a['visitor_id'].isin(abnormal_users))]['orders'],\n",
    "        pd.Series( 0, \n",
    "                  index=np.arange(df['visitors_per_date_a'].sum() - len(orders_by_users_a['orders'])\n",
    "            ),\n",
    "            name='orders')], axis=0)\n",
    "\n",
    "sample_b_filtered = pd.concat([\n",
    "        orders_by_users_b[np.logical_not(orders_by_users_b['visitor_id'].isin(abnormal_users))\n",
    "        ]['orders'],\n",
    "        pd.Series(0, index=np.arange(\n",
    "                df['visitors_per_date_b'].sum() - len(orders_by_users_b['orders'])),\n",
    "            name='orders')], axis=0)"
   ]
  },
  {
   "cell_type": "code",
   "execution_count": 62,
   "metadata": {},
   "outputs": [
    {
     "name": "stdout",
     "output_type": "stream",
     "text": [
      "P-value: 0.014\n",
      "Отвергаем нулевую гипотезу: между группами есть разница\n",
      "Относительный прирост В к А: 15.331%\n"
     ]
    }
   ],
   "source": [
    "stat_significance(sample_a_filtered, sample_b_filtered)"
   ]
  },
  {
   "cell_type": "markdown",
   "metadata": {},
   "source": [
    "##### Вывод:\n",
    "+ На очищенных данных разница в конверсии между группами есть\n",
    "+ Относительный прирост конверсии группы В отнистельно группы А увеличился на 15.3%"
   ]
  },
  {
   "cell_type": "markdown",
   "metadata": {},
   "source": [
    "### Посчитайте статистическую значимость различий в среднем чеке заказа между группами по «очищенным» данным. Сделайте выводы и предположения."
   ]
  },
  {
   "cell_type": "code",
   "execution_count": 63,
   "metadata": {},
   "outputs": [
    {
     "name": "stdout",
     "output_type": "stream",
     "text": [
      "P-value: 0.851\n",
      "Не получилось отвергнуть нулевую гипотезу, нет оснований считать группы разными\n",
      "Относительный прирост В к А: -0.575%\n"
     ]
    }
   ],
   "source": [
    "stat_significance(\n",
    "    orders[(orders['group']=='A') & np.logical_not(orders['visitor_id'].isin(abnormal_users))]['revenue'], \n",
    "    orders[(orders['group']=='B') & np.logical_not(orders['visitor_id'].isin(abnormal_users))]['revenue']\n",
    "                  )"
   ]
  },
  {
   "cell_type": "markdown",
   "metadata": {},
   "source": [
    "##### Вывод:\n",
    "+ P-value значительно больше 0.05. \n",
    "+ Причин отвергать нулевую гипотезу нет.\n",
    "+ В среднем чеке групп различий практически нет."
   ]
  },
  {
   "cell_type": "markdown",
   "metadata": {},
   "source": [
    "###  Примите решение по результатам теста и объясните его. Варианты решений:\n",
    "1. Остановить тест, зафиксировать победу одной из групп.\n",
    "2. Остановить тест, зафиксировать отсутствие различий между группами.\n",
    "3. Продолжить тест."
   ]
  },
  {
   "cell_type": "markdown",
   "metadata": {},
   "source": [
    "+ По конверсии между группами как по «сырым», так и по данным после фильтрации аномалий получено статистически значимое различие"
   ]
  },
  {
   "cell_type": "markdown",
   "metadata": {},
   "source": [
    "+ По среднему чеку между группами по «сырым» и по данным после фильтрации, аномалий нет статистически значимого различия\n",
    "+ Средний чек группы В выше (на \"очищенных\" данных - на ~2%)"
   ]
  },
  {
   "cell_type": "markdown",
   "metadata": {},
   "source": [
    "+ График относительного изменения кумулятивной конверсии группы B к группе A показывает, что результаты группы В стабильно лучше группы А"
   ]
  },
  {
   "cell_type": "markdown",
   "metadata": {},
   "source": [
    "#### Общий вывод:\n"
   ]
  },
  {
   "cell_type": "markdown",
   "metadata": {},
   "source": [
    "+ Рекомендуем остановить тест\n",
    "+ Определяем победу группы B (по метрике конверсия результат значимо лучше, чем у группы А)."
   ]
  }
 ],
 "metadata": {
  "ExecuteTimeLog": [
   {
    "duration": 1690,
    "start_time": "2023-03-22T14:49:06.930Z"
   },
   {
    "duration": 118,
    "start_time": "2023-03-22T14:50:54.427Z"
   },
   {
    "duration": 94,
    "start_time": "2023-03-22T14:51:33.265Z"
   },
   {
    "duration": 203,
    "start_time": "2023-03-22T14:51:39.668Z"
   },
   {
    "duration": 336,
    "start_time": "2023-03-22T14:52:47.423Z"
   },
   {
    "duration": 104,
    "start_time": "2023-03-22T14:52:57.136Z"
   },
   {
    "duration": 87,
    "start_time": "2023-03-22T14:53:15.515Z"
   },
   {
    "duration": 14,
    "start_time": "2023-03-22T14:54:59.154Z"
   },
   {
    "duration": 30,
    "start_time": "2023-03-22T14:55:45.915Z"
   },
   {
    "duration": 11,
    "start_time": "2023-03-22T14:56:03.360Z"
   },
   {
    "duration": 10,
    "start_time": "2023-03-22T14:56:03.959Z"
   },
   {
    "duration": 11,
    "start_time": "2023-03-22T14:57:42.384Z"
   },
   {
    "duration": 15,
    "start_time": "2023-03-22T14:57:55.331Z"
   },
   {
    "duration": 12,
    "start_time": "2023-03-22T14:58:08.169Z"
   },
   {
    "duration": 4,
    "start_time": "2023-03-22T14:59:25.326Z"
   },
   {
    "duration": 3,
    "start_time": "2023-03-22T15:00:19.328Z"
   },
   {
    "duration": 77,
    "start_time": "2023-03-22T15:00:21.632Z"
   },
   {
    "duration": 10,
    "start_time": "2023-03-22T15:00:27.014Z"
   },
   {
    "duration": 27,
    "start_time": "2023-03-22T15:00:51.914Z"
   },
   {
    "duration": 11,
    "start_time": "2023-03-22T15:00:56.849Z"
   },
   {
    "duration": 11,
    "start_time": "2023-03-22T15:13:49.884Z"
   },
   {
    "duration": 7,
    "start_time": "2023-03-22T15:17:28.443Z"
   },
   {
    "duration": 9,
    "start_time": "2023-03-22T15:17:42.426Z"
   },
   {
    "duration": 9,
    "start_time": "2023-03-22T15:18:09.864Z"
   },
   {
    "duration": 7,
    "start_time": "2023-03-22T15:18:38.547Z"
   },
   {
    "duration": 5,
    "start_time": "2023-03-22T15:18:57.864Z"
   },
   {
    "duration": 7,
    "start_time": "2023-03-22T15:19:49.557Z"
   },
   {
    "duration": 5,
    "start_time": "2023-03-22T15:20:02.274Z"
   },
   {
    "duration": 10,
    "start_time": "2023-03-22T15:21:31.155Z"
   },
   {
    "duration": 13,
    "start_time": "2023-03-22T15:21:37.098Z"
   },
   {
    "duration": 20,
    "start_time": "2023-03-22T15:24:07.922Z"
   },
   {
    "duration": 12,
    "start_time": "2023-03-22T15:25:11.084Z"
   },
   {
    "duration": 2,
    "start_time": "2023-03-22T15:26:26.784Z"
   },
   {
    "duration": 3,
    "start_time": "2023-03-22T15:26:39.349Z"
   },
   {
    "duration": 7,
    "start_time": "2023-03-22T15:28:16.727Z"
   },
   {
    "duration": 5,
    "start_time": "2023-03-22T15:32:25.827Z"
   },
   {
    "duration": 7,
    "start_time": "2023-03-22T15:34:08.541Z"
   },
   {
    "duration": 14,
    "start_time": "2023-03-22T15:58:12.195Z"
   },
   {
    "duration": 11,
    "start_time": "2023-03-22T15:58:33.651Z"
   },
   {
    "duration": 361,
    "start_time": "2023-03-22T15:59:13.494Z"
   },
   {
    "duration": 323,
    "start_time": "2023-03-22T16:00:38.937Z"
   },
   {
    "duration": 349,
    "start_time": "2023-03-22T16:01:09.604Z"
   },
   {
    "duration": 13,
    "start_time": "2023-03-22T16:06:30.858Z"
   },
   {
    "duration": 12,
    "start_time": "2023-03-22T16:06:41.640Z"
   },
   {
    "duration": 290,
    "start_time": "2023-03-22T16:07:26.068Z"
   },
   {
    "duration": 283,
    "start_time": "2023-03-22T16:07:37.220Z"
   },
   {
    "duration": 10,
    "start_time": "2023-03-22T16:09:08.177Z"
   },
   {
    "duration": 8,
    "start_time": "2023-03-22T16:20:32.421Z"
   },
   {
    "duration": 212,
    "start_time": "2023-03-22T16:21:01.260Z"
   },
   {
    "duration": 163,
    "start_time": "2023-03-22T16:21:41.810Z"
   },
   {
    "duration": 10,
    "start_time": "2023-03-22T16:22:02.037Z"
   },
   {
    "duration": 15,
    "start_time": "2023-03-22T16:22:21.150Z"
   },
   {
    "duration": 6,
    "start_time": "2023-03-22T16:22:45.444Z"
   },
   {
    "duration": 11,
    "start_time": "2023-03-22T16:23:10.416Z"
   },
   {
    "duration": 298,
    "start_time": "2023-03-22T16:23:21.818Z"
   },
   {
    "duration": 4,
    "start_time": "2023-03-22T16:29:08.467Z"
   },
   {
    "duration": 327,
    "start_time": "2023-03-22T16:29:15.820Z"
   },
   {
    "duration": 96,
    "start_time": "2023-03-22T17:36:30.878Z"
   },
   {
    "duration": 383,
    "start_time": "2023-03-22T17:37:28.278Z"
   },
   {
    "duration": 238,
    "start_time": "2023-03-22T17:37:53.180Z"
   },
   {
    "duration": 239,
    "start_time": "2023-03-22T17:38:03.885Z"
   },
   {
    "duration": 175,
    "start_time": "2023-03-22T17:39:29.369Z"
   },
   {
    "duration": 92,
    "start_time": "2023-03-22T17:41:18.726Z"
   },
   {
    "duration": 158,
    "start_time": "2023-03-22T17:41:33.012Z"
   },
   {
    "duration": 363,
    "start_time": "2023-03-22T17:44:45.695Z"
   },
   {
    "duration": 527,
    "start_time": "2023-03-22T17:44:51.700Z"
   },
   {
    "duration": 434,
    "start_time": "2023-03-22T17:45:41.095Z"
   },
   {
    "duration": 1734,
    "start_time": "2023-03-22T17:46:53.403Z"
   },
   {
    "duration": 5,
    "start_time": "2023-03-22T17:46:55.139Z"
   },
   {
    "duration": 121,
    "start_time": "2023-03-22T17:46:55.146Z"
   },
   {
    "duration": 18,
    "start_time": "2023-03-22T17:46:55.270Z"
   },
   {
    "duration": 64,
    "start_time": "2023-03-22T17:46:55.291Z"
   },
   {
    "duration": 27,
    "start_time": "2023-03-22T17:46:55.357Z"
   },
   {
    "duration": 71,
    "start_time": "2023-03-22T17:46:55.387Z"
   },
   {
    "duration": 29,
    "start_time": "2023-03-22T17:46:55.460Z"
   },
   {
    "duration": 53,
    "start_time": "2023-03-22T17:46:55.491Z"
   },
   {
    "duration": 35,
    "start_time": "2023-03-22T17:46:55.549Z"
   },
   {
    "duration": 24,
    "start_time": "2023-03-22T17:46:55.586Z"
   },
   {
    "duration": 57,
    "start_time": "2023-03-22T17:46:55.613Z"
   },
   {
    "duration": 14,
    "start_time": "2023-03-22T17:46:55.673Z"
   },
   {
    "duration": 48,
    "start_time": "2023-03-22T17:46:55.689Z"
   },
   {
    "duration": 25,
    "start_time": "2023-03-22T17:46:55.742Z"
   },
   {
    "duration": 26,
    "start_time": "2023-03-22T17:46:55.769Z"
   },
   {
    "duration": 509,
    "start_time": "2023-03-22T17:46:55.810Z"
   },
   {
    "duration": 21,
    "start_time": "2023-03-22T17:46:56.321Z"
   },
   {
    "duration": 404,
    "start_time": "2023-03-22T17:46:56.346Z"
   },
   {
    "duration": 15,
    "start_time": "2023-03-22T17:46:56.752Z"
   },
   {
    "duration": 16,
    "start_time": "2023-03-22T17:46:56.770Z"
   },
   {
    "duration": 277,
    "start_time": "2023-03-22T17:46:56.798Z"
   },
   {
    "duration": 211,
    "start_time": "2023-03-22T17:46:57.077Z"
   },
   {
    "duration": 542,
    "start_time": "2023-03-22T17:46:57.297Z"
   },
   {
    "duration": 0,
    "start_time": "2023-03-22T17:46:57.845Z"
   },
   {
    "duration": 0,
    "start_time": "2023-03-22T17:46:57.847Z"
   },
   {
    "duration": 0,
    "start_time": "2023-03-22T17:46:57.849Z"
   },
   {
    "duration": 0,
    "start_time": "2023-03-22T17:46:57.851Z"
   },
   {
    "duration": 259,
    "start_time": "2023-03-22T17:49:18.749Z"
   },
   {
    "duration": 192,
    "start_time": "2023-03-22T17:49:34.792Z"
   },
   {
    "duration": 317,
    "start_time": "2023-03-22T17:50:15.041Z"
   },
   {
    "duration": 200,
    "start_time": "2023-03-22T17:50:39.983Z"
   },
   {
    "duration": 211,
    "start_time": "2023-03-22T17:51:22.050Z"
   },
   {
    "duration": 12,
    "start_time": "2023-03-22T17:51:37.632Z"
   },
   {
    "duration": 27,
    "start_time": "2023-03-22T17:51:43.831Z"
   },
   {
    "duration": 16,
    "start_time": "2023-03-22T17:51:52.725Z"
   },
   {
    "duration": 7,
    "start_time": "2023-03-22T17:56:01.329Z"
   },
   {
    "duration": 6,
    "start_time": "2023-03-22T17:56:05.572Z"
   },
   {
    "duration": 542,
    "start_time": "2023-03-22T17:56:08.187Z"
   },
   {
    "duration": 525,
    "start_time": "2023-03-22T18:09:24.689Z"
   },
   {
    "duration": 9,
    "start_time": "2023-03-22T19:21:51.825Z"
   },
   {
    "duration": 8,
    "start_time": "2023-03-22T19:21:59.528Z"
   },
   {
    "duration": 292,
    "start_time": "2023-03-22T19:23:05.251Z"
   },
   {
    "duration": 336,
    "start_time": "2023-03-22T19:23:55.471Z"
   },
   {
    "duration": 427,
    "start_time": "2023-03-22T19:24:24.782Z"
   },
   {
    "duration": 408,
    "start_time": "2023-03-22T19:24:55.270Z"
   },
   {
    "duration": 380,
    "start_time": "2023-03-22T19:25:24.640Z"
   },
   {
    "duration": 374,
    "start_time": "2023-03-22T19:25:46.864Z"
   },
   {
    "duration": 4,
    "start_time": "2023-03-22T19:31:19.235Z"
   },
   {
    "duration": 4,
    "start_time": "2023-03-22T19:33:08.683Z"
   },
   {
    "duration": 350,
    "start_time": "2023-03-22T19:33:11.173Z"
   },
   {
    "duration": 11,
    "start_time": "2023-03-22T19:43:37.701Z"
   },
   {
    "duration": 442,
    "start_time": "2023-03-22T19:46:02.176Z"
   },
   {
    "duration": 405,
    "start_time": "2023-03-22T19:46:25.640Z"
   },
   {
    "duration": 3,
    "start_time": "2023-03-22T19:52:22.064Z"
   },
   {
    "duration": 202,
    "start_time": "2023-03-22T19:54:11.447Z"
   },
   {
    "duration": 21,
    "start_time": "2023-03-22T19:55:13.596Z"
   },
   {
    "duration": 190,
    "start_time": "2023-03-22T19:55:16.027Z"
   },
   {
    "duration": 182,
    "start_time": "2023-03-22T19:59:41.066Z"
   },
   {
    "duration": 6,
    "start_time": "2023-03-22T20:05:27.655Z"
   },
   {
    "duration": 9,
    "start_time": "2023-03-22T20:09:27.943Z"
   },
   {
    "duration": 9,
    "start_time": "2023-03-22T20:09:54.733Z"
   },
   {
    "duration": 170,
    "start_time": "2023-03-22T20:11:03.908Z"
   },
   {
    "duration": 197,
    "start_time": "2023-03-22T20:15:43.360Z"
   },
   {
    "duration": 5,
    "start_time": "2023-03-22T20:18:05.743Z"
   },
   {
    "duration": 335,
    "start_time": "2023-03-22T21:19:39.984Z"
   },
   {
    "duration": 245,
    "start_time": "2023-03-22T21:19:49.712Z"
   },
   {
    "duration": 222,
    "start_time": "2023-03-22T21:20:15.094Z"
   },
   {
    "duration": 152,
    "start_time": "2023-03-22T21:22:50.236Z"
   },
   {
    "duration": 13,
    "start_time": "2023-03-22T21:27:29.087Z"
   },
   {
    "duration": 7,
    "start_time": "2023-03-22T21:27:54.683Z"
   },
   {
    "duration": 170,
    "start_time": "2023-03-22T21:30:15.032Z"
   },
   {
    "duration": 7,
    "start_time": "2023-03-22T21:30:18.869Z"
   },
   {
    "duration": 4,
    "start_time": "2023-03-22T21:31:14.936Z"
   },
   {
    "duration": 4,
    "start_time": "2023-03-22T21:32:07.948Z"
   },
   {
    "duration": 6,
    "start_time": "2023-03-22T21:32:30.423Z"
   },
   {
    "duration": 23,
    "start_time": "2023-03-22T21:32:47.068Z"
   },
   {
    "duration": 95,
    "start_time": "2023-03-22T21:40:34.894Z"
   },
   {
    "duration": 10,
    "start_time": "2023-03-22T21:42:29.893Z"
   },
   {
    "duration": 4,
    "start_time": "2023-03-22T21:54:00.790Z"
   },
   {
    "duration": 6,
    "start_time": "2023-03-22T21:54:13.847Z"
   },
   {
    "duration": 10,
    "start_time": "2023-03-22T21:55:40.816Z"
   },
   {
    "duration": 5,
    "start_time": "2023-03-22T21:55:44.214Z"
   },
   {
    "duration": 14,
    "start_time": "2023-03-22T22:09:32.220Z"
   },
   {
    "duration": 90,
    "start_time": "2023-03-22T22:10:28.223Z"
   },
   {
    "duration": 9,
    "start_time": "2023-03-22T22:10:39.856Z"
   },
   {
    "duration": 9,
    "start_time": "2023-03-22T22:10:42.428Z"
   },
   {
    "duration": 8,
    "start_time": "2023-03-22T22:10:53.158Z"
   },
   {
    "duration": 8,
    "start_time": "2023-03-22T22:11:20.795Z"
   },
   {
    "duration": 27,
    "start_time": "2023-03-22T22:11:22.308Z"
   },
   {
    "duration": 11,
    "start_time": "2023-03-22T22:13:14.131Z"
   },
   {
    "duration": 1194,
    "start_time": "2023-03-22T23:32:04.120Z"
   },
   {
    "duration": 4,
    "start_time": "2023-03-22T23:32:05.316Z"
   },
   {
    "duration": 86,
    "start_time": "2023-03-22T23:32:05.322Z"
   },
   {
    "duration": 11,
    "start_time": "2023-03-22T23:32:05.410Z"
   },
   {
    "duration": 15,
    "start_time": "2023-03-22T23:32:05.423Z"
   },
   {
    "duration": 19,
    "start_time": "2023-03-22T23:32:05.439Z"
   },
   {
    "duration": 11,
    "start_time": "2023-03-22T23:32:05.460Z"
   },
   {
    "duration": 12,
    "start_time": "2023-03-22T23:32:05.473Z"
   },
   {
    "duration": 13,
    "start_time": "2023-03-22T23:32:05.487Z"
   },
   {
    "duration": 15,
    "start_time": "2023-03-22T23:32:05.502Z"
   },
   {
    "duration": 10,
    "start_time": "2023-03-22T23:32:05.519Z"
   },
   {
    "duration": 16,
    "start_time": "2023-03-22T23:32:05.531Z"
   },
   {
    "duration": 10,
    "start_time": "2023-03-22T23:32:05.549Z"
   },
   {
    "duration": 12,
    "start_time": "2023-03-22T23:32:05.561Z"
   },
   {
    "duration": 19,
    "start_time": "2023-03-22T23:32:05.574Z"
   },
   {
    "duration": 17,
    "start_time": "2023-03-22T23:32:05.595Z"
   },
   {
    "duration": 373,
    "start_time": "2023-03-22T23:32:05.614Z"
   },
   {
    "duration": 13,
    "start_time": "2023-03-22T23:32:05.989Z"
   },
   {
    "duration": 318,
    "start_time": "2023-03-22T23:32:06.003Z"
   },
   {
    "duration": 11,
    "start_time": "2023-03-22T23:32:06.324Z"
   },
   {
    "duration": 14,
    "start_time": "2023-03-22T23:32:06.336Z"
   },
   {
    "duration": 184,
    "start_time": "2023-03-22T23:32:06.352Z"
   },
   {
    "duration": 140,
    "start_time": "2023-03-22T23:32:06.537Z"
   },
   {
    "duration": 21,
    "start_time": "2023-03-22T23:32:06.679Z"
   },
   {
    "duration": 28,
    "start_time": "2023-03-22T23:32:06.702Z"
   },
   {
    "duration": 27,
    "start_time": "2023-03-22T23:32:06.732Z"
   },
   {
    "duration": 28,
    "start_time": "2023-03-22T23:32:06.761Z"
   },
   {
    "duration": 412,
    "start_time": "2023-03-22T23:32:06.794Z"
   },
   {
    "duration": 280,
    "start_time": "2023-03-22T23:32:07.208Z"
   },
   {
    "duration": 7,
    "start_time": "2023-03-22T23:32:07.490Z"
   },
   {
    "duration": 392,
    "start_time": "2023-03-22T23:32:07.498Z"
   },
   {
    "duration": 7,
    "start_time": "2023-03-22T23:32:07.892Z"
   },
   {
    "duration": 13,
    "start_time": "2023-03-22T23:32:07.901Z"
   },
   {
    "duration": 302,
    "start_time": "2023-03-22T23:32:07.916Z"
   },
   {
    "duration": 8,
    "start_time": "2023-03-22T23:32:08.220Z"
   },
   {
    "duration": 351,
    "start_time": "2023-03-22T23:32:08.229Z"
   },
   {
    "duration": 19,
    "start_time": "2023-03-22T23:32:08.581Z"
   },
   {
    "duration": 236,
    "start_time": "2023-03-22T23:32:08.602Z"
   },
   {
    "duration": 5,
    "start_time": "2023-03-22T23:32:08.840Z"
   },
   {
    "duration": 22,
    "start_time": "2023-03-22T23:32:08.846Z"
   },
   {
    "duration": 186,
    "start_time": "2023-03-22T23:32:08.869Z"
   },
   {
    "duration": 193,
    "start_time": "2023-03-22T23:32:09.057Z"
   },
   {
    "duration": 4,
    "start_time": "2023-03-22T23:32:09.252Z"
   },
   {
    "duration": 249,
    "start_time": "2023-03-22T23:32:09.257Z"
   },
   {
    "duration": 166,
    "start_time": "2023-03-22T23:32:09.507Z"
   },
   {
    "duration": 6,
    "start_time": "2023-03-22T23:32:09.675Z"
   },
   {
    "duration": 16,
    "start_time": "2023-03-22T23:32:09.683Z"
   },
   {
    "duration": 31,
    "start_time": "2023-03-22T23:32:09.701Z"
   },
   {
    "duration": 8,
    "start_time": "2023-03-22T23:32:09.734Z"
   },
   {
    "duration": 4,
    "start_time": "2023-03-22T23:32:09.744Z"
   },
   {
    "duration": 14,
    "start_time": "2023-03-22T23:32:09.750Z"
   },
   {
    "duration": 32,
    "start_time": "2023-03-22T23:32:09.766Z"
   },
   {
    "duration": 17,
    "start_time": "2023-03-22T23:32:09.800Z"
   },
   {
    "duration": 26,
    "start_time": "2023-03-22T23:32:09.819Z"
   },
   {
    "duration": 9,
    "start_time": "2023-03-22T23:32:09.847Z"
   },
   {
    "duration": 1396,
    "start_time": "2023-03-23T07:46:58.234Z"
   },
   {
    "duration": 4,
    "start_time": "2023-03-23T07:46:59.632Z"
   },
   {
    "duration": 220,
    "start_time": "2023-03-23T07:46:59.637Z"
   },
   {
    "duration": 12,
    "start_time": "2023-03-23T07:46:59.859Z"
   },
   {
    "duration": 11,
    "start_time": "2023-03-23T07:46:59.873Z"
   },
   {
    "duration": 10,
    "start_time": "2023-03-23T07:46:59.886Z"
   },
   {
    "duration": 7,
    "start_time": "2023-03-23T07:46:59.897Z"
   },
   {
    "duration": 14,
    "start_time": "2023-03-23T07:46:59.906Z"
   },
   {
    "duration": 2,
    "start_time": "2023-03-23T07:46:59.939Z"
   },
   {
    "duration": 9,
    "start_time": "2023-03-23T07:46:59.958Z"
   },
   {
    "duration": 5,
    "start_time": "2023-03-23T07:47:00.438Z"
   },
   {
    "duration": 29,
    "start_time": "2023-03-23T07:47:00.454Z"
   },
   {
    "duration": 3,
    "start_time": "2023-03-23T07:47:00.540Z"
   },
   {
    "duration": 4,
    "start_time": "2023-03-23T07:47:00.656Z"
   },
   {
    "duration": 6,
    "start_time": "2023-03-23T07:47:00.763Z"
   },
   {
    "duration": 12,
    "start_time": "2023-03-23T07:47:00.826Z"
   },
   {
    "duration": 353,
    "start_time": "2023-03-23T07:47:01.059Z"
   },
   {
    "duration": 13,
    "start_time": "2023-03-23T07:47:01.414Z"
   },
   {
    "duration": 325,
    "start_time": "2023-03-23T07:47:01.428Z"
   },
   {
    "duration": 11,
    "start_time": "2023-03-23T07:47:01.755Z"
   },
   {
    "duration": 33,
    "start_time": "2023-03-23T07:47:01.767Z"
   },
   {
    "duration": 202,
    "start_time": "2023-03-23T07:47:01.802Z"
   },
   {
    "duration": 138,
    "start_time": "2023-03-23T07:47:02.006Z"
   },
   {
    "duration": 7,
    "start_time": "2023-03-23T07:47:02.146Z"
   },
   {
    "duration": 26,
    "start_time": "2023-03-23T07:47:02.154Z"
   },
   {
    "duration": 30,
    "start_time": "2023-03-23T07:47:02.190Z"
   },
   {
    "duration": 26,
    "start_time": "2023-03-23T07:47:02.221Z"
   },
   {
    "duration": 398,
    "start_time": "2023-03-23T07:47:02.249Z"
   },
   {
    "duration": 343,
    "start_time": "2023-03-23T07:47:02.651Z"
   },
   {
    "duration": 7,
    "start_time": "2023-03-23T07:47:02.995Z"
   },
   {
    "duration": 454,
    "start_time": "2023-03-23T07:47:03.003Z"
   },
   {
    "duration": 4,
    "start_time": "2023-03-23T07:47:03.458Z"
   },
   {
    "duration": 20,
    "start_time": "2023-03-23T07:47:03.464Z"
   },
   {
    "duration": 311,
    "start_time": "2023-03-23T07:47:03.486Z"
   },
   {
    "duration": 8,
    "start_time": "2023-03-23T07:47:03.801Z"
   },
   {
    "duration": 378,
    "start_time": "2023-03-23T07:47:03.811Z"
   },
   {
    "duration": 12,
    "start_time": "2023-03-23T07:47:04.191Z"
   },
   {
    "duration": 245,
    "start_time": "2023-03-23T07:47:04.205Z"
   },
   {
    "duration": 5,
    "start_time": "2023-03-23T07:47:04.453Z"
   },
   {
    "duration": 9,
    "start_time": "2023-03-23T07:47:04.459Z"
   },
   {
    "duration": 190,
    "start_time": "2023-03-23T07:47:04.470Z"
   },
   {
    "duration": 208,
    "start_time": "2023-03-23T07:47:04.662Z"
   },
   {
    "duration": 17,
    "start_time": "2023-03-23T07:47:04.872Z"
   },
   {
    "duration": 277,
    "start_time": "2023-03-23T07:47:04.892Z"
   },
   {
    "duration": 168,
    "start_time": "2023-03-23T07:47:05.170Z"
   },
   {
    "duration": 6,
    "start_time": "2023-03-23T07:47:05.340Z"
   },
   {
    "duration": 5,
    "start_time": "2023-03-23T07:47:05.347Z"
   },
   {
    "duration": 51,
    "start_time": "2023-03-23T07:47:05.353Z"
   },
   {
    "duration": 10,
    "start_time": "2023-03-23T07:47:05.406Z"
   },
   {
    "duration": 5,
    "start_time": "2023-03-23T07:47:05.418Z"
   },
   {
    "duration": 13,
    "start_time": "2023-03-23T07:47:05.424Z"
   },
   {
    "duration": 5,
    "start_time": "2023-03-23T07:47:05.439Z"
   },
   {
    "duration": 8,
    "start_time": "2023-03-23T07:47:05.446Z"
   },
   {
    "duration": 53,
    "start_time": "2023-03-23T07:47:05.456Z"
   },
   {
    "duration": 9,
    "start_time": "2023-03-23T07:47:05.511Z"
   },
   {
    "duration": 52,
    "start_time": "2023-03-23T11:10:36.063Z"
   },
   {
    "duration": 6,
    "start_time": "2023-03-23T11:10:52.645Z"
   },
   {
    "duration": 1335,
    "start_time": "2023-03-23T11:11:07.272Z"
   },
   {
    "duration": 3,
    "start_time": "2023-03-23T11:11:08.609Z"
   },
   {
    "duration": 227,
    "start_time": "2023-03-23T11:11:08.614Z"
   },
   {
    "duration": 11,
    "start_time": "2023-03-23T11:11:08.843Z"
   },
   {
    "duration": 13,
    "start_time": "2023-03-23T11:11:08.856Z"
   },
   {
    "duration": 15,
    "start_time": "2023-03-23T11:11:08.870Z"
   },
   {
    "duration": 27,
    "start_time": "2023-03-23T11:11:08.886Z"
   },
   {
    "duration": 12,
    "start_time": "2023-03-23T11:11:08.915Z"
   },
   {
    "duration": 18,
    "start_time": "2023-03-23T11:11:08.929Z"
   },
   {
    "duration": 13,
    "start_time": "2023-03-23T11:11:08.950Z"
   },
   {
    "duration": 9,
    "start_time": "2023-03-23T11:11:08.965Z"
   },
   {
    "duration": 14,
    "start_time": "2023-03-23T11:11:08.976Z"
   },
   {
    "duration": 8,
    "start_time": "2023-03-23T11:11:08.992Z"
   },
   {
    "duration": 6,
    "start_time": "2023-03-23T11:11:09.002Z"
   },
   {
    "duration": 11,
    "start_time": "2023-03-23T11:11:09.009Z"
   },
   {
    "duration": 15,
    "start_time": "2023-03-23T11:11:09.022Z"
   },
   {
    "duration": 368,
    "start_time": "2023-03-23T11:11:09.038Z"
   },
   {
    "duration": 12,
    "start_time": "2023-03-23T11:11:09.408Z"
   },
   {
    "duration": 302,
    "start_time": "2023-03-23T11:11:09.421Z"
   },
   {
    "duration": 10,
    "start_time": "2023-03-23T11:11:09.725Z"
   },
   {
    "duration": 7,
    "start_time": "2023-03-23T11:11:09.737Z"
   },
   {
    "duration": 186,
    "start_time": "2023-03-23T11:11:09.745Z"
   },
   {
    "duration": 141,
    "start_time": "2023-03-23T11:11:09.932Z"
   },
   {
    "duration": 13,
    "start_time": "2023-03-23T11:11:10.075Z"
   },
   {
    "duration": 17,
    "start_time": "2023-03-23T11:11:10.090Z"
   },
   {
    "duration": 9,
    "start_time": "2023-03-23T11:11:10.108Z"
   },
   {
    "duration": 9,
    "start_time": "2023-03-23T11:11:10.119Z"
   },
   {
    "duration": 338,
    "start_time": "2023-03-23T11:11:10.132Z"
   },
   {
    "duration": 270,
    "start_time": "2023-03-23T11:11:10.471Z"
   },
   {
    "duration": 5,
    "start_time": "2023-03-23T11:11:10.743Z"
   },
   {
    "duration": 445,
    "start_time": "2023-03-23T11:11:10.750Z"
   },
   {
    "duration": 3,
    "start_time": "2023-03-23T11:11:11.197Z"
   },
   {
    "duration": 8,
    "start_time": "2023-03-23T11:11:11.202Z"
   },
   {
    "duration": 281,
    "start_time": "2023-03-23T11:11:11.212Z"
   },
   {
    "duration": 9,
    "start_time": "2023-03-23T11:11:11.494Z"
   },
   {
    "duration": 375,
    "start_time": "2023-03-23T11:11:11.504Z"
   },
   {
    "duration": 11,
    "start_time": "2023-03-23T11:11:11.888Z"
   },
   {
    "duration": 230,
    "start_time": "2023-03-23T11:11:11.901Z"
   },
   {
    "duration": 5,
    "start_time": "2023-03-23T11:11:12.133Z"
   },
   {
    "duration": 11,
    "start_time": "2023-03-23T11:11:12.139Z"
   },
   {
    "duration": 178,
    "start_time": "2023-03-23T11:11:12.152Z"
   },
   {
    "duration": 182,
    "start_time": "2023-03-23T11:11:12.332Z"
   },
   {
    "duration": 4,
    "start_time": "2023-03-23T11:11:12.516Z"
   },
   {
    "duration": 244,
    "start_time": "2023-03-23T11:11:12.522Z"
   },
   {
    "duration": 156,
    "start_time": "2023-03-23T11:11:12.768Z"
   },
   {
    "duration": 6,
    "start_time": "2023-03-23T11:11:12.925Z"
   },
   {
    "duration": 15,
    "start_time": "2023-03-23T11:11:12.933Z"
   },
   {
    "duration": 25,
    "start_time": "2023-03-23T11:11:12.950Z"
   },
   {
    "duration": 8,
    "start_time": "2023-03-23T11:11:12.989Z"
   },
   {
    "duration": 8,
    "start_time": "2023-03-23T11:11:12.999Z"
   },
   {
    "duration": 31,
    "start_time": "2023-03-23T11:11:13.009Z"
   },
   {
    "duration": 6,
    "start_time": "2023-03-23T11:11:13.041Z"
   },
   {
    "duration": 9,
    "start_time": "2023-03-23T11:11:13.048Z"
   },
   {
    "duration": 36,
    "start_time": "2023-03-23T11:11:13.059Z"
   },
   {
    "duration": 9,
    "start_time": "2023-03-23T11:11:13.096Z"
   },
   {
    "duration": 10,
    "start_time": "2023-03-23T11:11:35.849Z"
   },
   {
    "duration": 10,
    "start_time": "2023-03-23T11:11:49.167Z"
   },
   {
    "duration": 11,
    "start_time": "2023-03-23T11:12:01.772Z"
   },
   {
    "duration": 12,
    "start_time": "2023-03-23T11:12:43.247Z"
   },
   {
    "duration": 99,
    "start_time": "2023-03-23T11:17:41.111Z"
   },
   {
    "duration": 4,
    "start_time": "2023-03-23T11:18:09.307Z"
   },
   {
    "duration": 4,
    "start_time": "2023-03-23T11:19:38.757Z"
   },
   {
    "duration": 5,
    "start_time": "2023-03-23T11:20:56.330Z"
   },
   {
    "duration": 4,
    "start_time": "2023-03-23T11:21:31.090Z"
   },
   {
    "duration": 54,
    "start_time": "2023-03-23T11:25:34.964Z"
   },
   {
    "duration": 51,
    "start_time": "2023-03-23T11:26:19.372Z"
   },
   {
    "duration": 52,
    "start_time": "2023-03-23T11:26:48.950Z"
   },
   {
    "duration": 7,
    "start_time": "2023-03-23T11:27:36.638Z"
   },
   {
    "duration": 60,
    "start_time": "2023-03-23T11:27:38.295Z"
   },
   {
    "duration": 5,
    "start_time": "2023-03-23T11:30:12.934Z"
   },
   {
    "duration": 4,
    "start_time": "2023-03-23T11:31:15.294Z"
   },
   {
    "duration": 4,
    "start_time": "2023-03-23T11:31:53.981Z"
   },
   {
    "duration": 4,
    "start_time": "2023-03-23T11:32:15.305Z"
   },
   {
    "duration": 4,
    "start_time": "2023-03-23T11:32:25.820Z"
   },
   {
    "duration": 11,
    "start_time": "2023-03-23T11:32:48.225Z"
   },
   {
    "duration": 10,
    "start_time": "2023-03-23T11:33:16.795Z"
   },
   {
    "duration": 6,
    "start_time": "2023-03-23T11:33:43.495Z"
   },
   {
    "duration": 5,
    "start_time": "2023-03-23T11:34:24.925Z"
   },
   {
    "duration": 5,
    "start_time": "2023-03-23T11:34:52.264Z"
   },
   {
    "duration": 6,
    "start_time": "2023-03-23T11:35:05.884Z"
   },
   {
    "duration": 799,
    "start_time": "2023-03-23T11:41:40.061Z"
   },
   {
    "duration": 702,
    "start_time": "2023-03-23T11:42:13.354Z"
   },
   {
    "duration": 16,
    "start_time": "2023-03-23T11:42:32.953Z"
   },
   {
    "duration": 8,
    "start_time": "2023-03-23T11:43:13.123Z"
   },
   {
    "duration": 7,
    "start_time": "2023-03-23T11:43:19.043Z"
   },
   {
    "duration": 47,
    "start_time": "2023-03-23T11:45:18.962Z"
   },
   {
    "duration": 70,
    "start_time": "2023-03-23T11:47:33.332Z"
   },
   {
    "duration": 382,
    "start_time": "2023-03-23T11:47:50.664Z"
   },
   {
    "duration": 7,
    "start_time": "2023-03-23T11:48:24.396Z"
   },
   {
    "duration": 7,
    "start_time": "2023-03-23T11:48:48.107Z"
   },
   {
    "duration": 7,
    "start_time": "2023-03-23T11:49:40.556Z"
   },
   {
    "duration": 10,
    "start_time": "2023-03-23T11:50:00.126Z"
   },
   {
    "duration": 7,
    "start_time": "2023-03-23T11:50:08.867Z"
   },
   {
    "duration": 7,
    "start_time": "2023-03-23T11:51:10.558Z"
   },
   {
    "duration": 8,
    "start_time": "2023-03-23T11:53:06.274Z"
   },
   {
    "duration": 6,
    "start_time": "2023-03-23T11:53:35.619Z"
   },
   {
    "duration": 21,
    "start_time": "2023-03-23T11:54:17.437Z"
   },
   {
    "duration": 8,
    "start_time": "2023-03-23T11:54:35.376Z"
   },
   {
    "duration": 17,
    "start_time": "2023-03-23T11:55:28.768Z"
   },
   {
    "duration": 5,
    "start_time": "2023-03-23T11:55:51.146Z"
   },
   {
    "duration": 5,
    "start_time": "2023-03-23T11:56:27.366Z"
   },
   {
    "duration": 7,
    "start_time": "2023-03-23T11:59:01.106Z"
   },
   {
    "duration": 7,
    "start_time": "2023-03-23T11:59:10.865Z"
   },
   {
    "duration": 7,
    "start_time": "2023-03-23T11:59:58.154Z"
   },
   {
    "duration": 7,
    "start_time": "2023-03-23T12:00:42.348Z"
   },
   {
    "duration": 9,
    "start_time": "2023-03-23T12:04:18.163Z"
   },
   {
    "duration": 8,
    "start_time": "2023-03-23T12:11:29.940Z"
   },
   {
    "duration": 7,
    "start_time": "2023-03-23T12:13:10.300Z"
   },
   {
    "duration": 8,
    "start_time": "2023-03-23T12:14:45.592Z"
   },
   {
    "duration": 8,
    "start_time": "2023-03-23T12:16:50.941Z"
   },
   {
    "duration": 10,
    "start_time": "2023-03-23T12:17:57.566Z"
   },
   {
    "duration": 8,
    "start_time": "2023-03-23T12:18:32.397Z"
   },
   {
    "duration": 206,
    "start_time": "2023-03-23T12:20:18.308Z"
   },
   {
    "duration": 199,
    "start_time": "2023-03-23T12:22:49.021Z"
   },
   {
    "duration": 211,
    "start_time": "2023-03-23T12:24:42.463Z"
   },
   {
    "duration": 6,
    "start_time": "2023-03-23T12:35:14.869Z"
   },
   {
    "duration": 6,
    "start_time": "2023-03-23T12:42:09.142Z"
   },
   {
    "duration": 6,
    "start_time": "2023-03-23T12:42:32.139Z"
   },
   {
    "duration": 7,
    "start_time": "2023-03-23T12:45:12.866Z"
   }
  ],
  "kernelspec": {
   "display_name": "Python 3 (ipykernel)",
   "language": "python",
   "name": "python3"
  },
  "language_info": {
   "codemirror_mode": {
    "name": "ipython",
    "version": 3
   },
   "file_extension": ".py",
   "mimetype": "text/x-python",
   "name": "python",
   "nbconvert_exporter": "python",
   "pygments_lexer": "ipython3",
   "version": "3.11.4"
  },
  "toc": {
   "base_numbering": 1,
   "nav_menu": {},
   "number_sections": true,
   "sideBar": true,
   "skip_h1_title": true,
   "title_cell": "Table of Contents",
   "title_sidebar": "Contents",
   "toc_cell": false,
   "toc_position": {
    "height": "calc(100% - 180px)",
    "left": "10px",
    "top": "150px",
    "width": "252.797px"
   },
   "toc_section_display": true,
   "toc_window_display": false
  }
 },
 "nbformat": 4,
 "nbformat_minor": 2
}
